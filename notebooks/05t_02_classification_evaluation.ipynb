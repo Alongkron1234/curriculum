{
 "cells": [
  {
   "cell_type": "markdown",
   "metadata": {
    "id": "o4faVDbQ0ElF"
   },
   "source": [
    "# บทที่ 5t (2/2) - Classification การประเมินความแม่นยำของโมเดล\n",
    "\n",
    "อ.ดร.ธนชาตย์ ฤทธิ์บำรุง (อ.เชค)\n",
    "\n",
    "[![Open In Colab](https://colab.research.google.com/assets/colab-badge.svg)](https://colab.research.google.com/github/ai-builders/curriculum/blob/main/notebooks/05t_02_classification_evaluation.ipynb)"
   ]
  },
  {
   "cell_type": "markdown",
   "metadata": {
    "id": "n2sfKeldEzA9"
   },
   "source": [
    "**เป้าหมายการเรียนรู้**\n",
    "1. เข้าใจถึงเลือกใช้ Metric ในการประเมินความแม่นยำของโมเดล\n",
    "2. เข้าใจถึงปัญหา Imbalanced Dataset\n",
    "3. สามารถแก้ไขปัญหา Imbalanced Dataset เบื้องต้นได้"
   ]
  },
  {
   "cell_type": "markdown",
   "metadata": {
    "id": "pQdutBS6rqJO"
   },
   "source": [
    "# Confusion Matrix"
   ]
  },
  {
   "cell_type": "markdown",
   "metadata": {
    "id": "5A2t2TDMgDy-"
   },
   "source": [
    "**การกำหนด Positive Case**\n",
    "\n",
    "*   เป็นเหตุการณ์ที่เราสนใจ\n",
    "*   เป็นเหตุการณ์ที่แตกต่างจากสภาพปัจจุบัน\n",
    "\n",
    "ตัวอย่างเช่น\n",
    "\n",
    "*   ติดโควิด\n",
    "*   ตอบรับ SMS Campaign\n",
    "*   ยกเลิกสมาชิก\n",
    "*   โดน Hack\n",
    "\n",
    "\n",
    "\n"
   ]
  },
  {
   "cell_type": "markdown",
   "metadata": {
    "id": "Hup3U9d3aa_c"
   },
   "source": [
    "<img src=https://github.com/ai-builders/curriculum/raw/main/images/tabular_images/36.png width=\"750px\">"
   ]
  },
  {
   "cell_type": "markdown",
   "metadata": {
    "id": "Yg1FSKtQgw2o"
   },
   "source": [
    "*   T นำหน้าแปลว่า ทำนายถูก\n",
    "*   F นำหน้าแปลว่า ทำนายผิด"
   ]
  },
  {
   "cell_type": "markdown",
   "metadata": {
    "id": "LuHLxI7AbxpB"
   },
   "source": [
    "<img src=https://github.com/ai-builders/curriculum/raw/main/images/tabular_images/37.PNG width=\"750px\">"
   ]
  },
  {
   "cell_type": "markdown",
   "metadata": {
    "id": "0boayuLGg7XD"
   },
   "source": [
    "*   TN = 2\n",
    "*   FN = 1\n",
    "*   FP = 2\n",
    "*   TP = 1\n"
   ]
  },
  {
   "cell_type": "markdown",
   "metadata": {
    "id": "6JPiJztIb28U"
   },
   "source": [
    "<img src=https://github.com/ai-builders/curriculum/raw/main/images/tabular_images/38.PNG width=\"750px\">"
   ]
  },
  {
   "cell_type": "markdown",
   "metadata": {
    "id": "PyPnu0qRhJXz"
   },
   "source": [
    "*   TN = 1\n",
    "*   FN = 2\n",
    "*   FP = 1\n",
    "*   TP = 2"
   ]
  },
  {
   "cell_type": "markdown",
   "metadata": {
    "id": "T4-TxQfcb4pJ"
   },
   "source": [
    "<img src=https://github.com/ai-builders/curriculum/raw/main/images/tabular_images/39.PNG width=\"750px\">"
   ]
  },
  {
   "cell_type": "markdown",
   "metadata": {
    "id": "dV42msHphOkP"
   },
   "source": [
    "*   TN = 8\n",
    "*   FN = 2\n",
    "*   FP = 2\n",
    "*   TP = 8\n",
    "*   Accuracy = 16/20 = 0.80"
   ]
  },
  {
   "cell_type": "markdown",
   "metadata": {
    "id": "NtZX923mcA88"
   },
   "source": [
    "<img src=https://github.com/ai-builders/curriculum/raw/main/images/tabular_images/40.PNG width=\"750px\">"
   ]
  },
  {
   "cell_type": "markdown",
   "metadata": {
    "id": "62yjuHv8hbak"
   },
   "source": [
    "*   TN = 18\n",
    "*   FN = 2\n",
    "*   FP = 0\n",
    "*   TP = 0\n",
    "*   Accuracy = 18/20 = 0.80"
   ]
  },
  {
   "cell_type": "code",
   "execution_count": 1,
   "metadata": {
    "id": "FVDy8PvTNKFz"
   },
   "outputs": [],
   "source": [
    "## run code นี้ก่อนที่จะใช้ command เกี่ยวกับ confusion matrix และ recall precision F1\n",
    "\n",
    "import pandas as pd\n",
    "from sklearn.model_selection import train_test_split\n",
    "from sklearn.linear_model import LogisticRegression\n",
    "\n",
    "url = 'https://github.com/ai-builders/curriculum/raw/main/data/marketing_campaign.csv'\n",
    "df = pd.read_csv(url, parse_dates=['Dt_Customer'])\n",
    "\n",
    "df = df.dropna(how='any',axis=0) \n",
    "\n",
    "X = df.drop(['ID', 'Response', 'Year_Birth', 'Dt_Customer', 'Education','Marital_Status', 'Z_CostContact', 'Z_Revenue'], axis=1)\n",
    "y = df['Response']\n",
    "\n",
    "X_train, X_test, y_train, y_test = train_test_split(X, y, test_size=0.2, random_state=0)\n",
    "\n",
    "logreg = LogisticRegression(solver='liblinear', class_weight='balanced')"
   ]
  },
  {
   "cell_type": "code",
   "execution_count": 2,
   "metadata": {
    "colab": {
     "base_uri": "https://localhost:8080/"
    },
    "id": "jIUz9fw1sPqi",
    "outputId": "92672cc8-908a-416b-bf5b-8fbcd06bd2eb"
   },
   "outputs": [
    {
     "data": {
      "text/plain": [
       "array([[223,  45],\n",
       "       [ 54, 210]])"
      ]
     },
     "execution_count": 2,
     "metadata": {},
     "output_type": "execute_result"
    }
   ],
   "source": [
    "# สร้าง confusion matrix\n",
    "\n",
    "from sklearn.metrics import confusion_matrix\n",
    "\n",
    "clf_model = logreg.fit(X_train, y_train)\n",
    "y_hat_train = clf_model.predict(X_train)\n",
    "\n",
    "confusion_matrix(y_train, y_hat_train)"
   ]
  },
  {
   "cell_type": "code",
   "execution_count": 3,
   "metadata": {
    "colab": {
     "base_uri": "https://localhost:8080/"
    },
    "id": "BkScm8TYs8S5",
    "outputId": "0a2a814b-66d2-4793-8d92-b6491987ca60"
   },
   "outputs": [
    {
     "data": {
      "text/plain": [
       "(223, 45, 54, 210)"
      ]
     },
     "execution_count": 3,
     "metadata": {},
     "output_type": "execute_result"
    }
   ],
   "source": [
    "# แยก tn, fp, fn, tp\n",
    "\n",
    "tn, fp, fn, tp = confusion_matrix(y_train, y_hat_train).ravel()\n",
    "\n",
    "(tn, fp, fn, tp)"
   ]
  },
  {
   "cell_type": "markdown",
   "metadata": {
    "id": "PFk248a0rvWR"
   },
   "source": [
    "## Recall, Precision, and F1 Score"
   ]
  },
  {
   "cell_type": "markdown",
   "metadata": {
    "id": "ecm9SKujdd3V"
   },
   "source": [
    "$$ Recall = \\frac{TP}{Total \\, P} = \\frac{TP}{FN+TP} $$"
   ]
  },
  {
   "cell_type": "markdown",
   "metadata": {
    "id": "UAE5r36hcDSP"
   },
   "source": [
    "<img src=https://github.com/ai-builders/curriculum/raw/main/images/tabular_images/41.PNG width=\"750px\">"
   ]
  },
  {
   "cell_type": "markdown",
   "metadata": {
    "id": "6yNRpXXAhjKC"
   },
   "source": [
    "*   TN = 2\n",
    "*   FN = 1\n",
    "*   FP = 2\n",
    "*   TP = 1\n",
    "*   Recall = 1/2 = 0.50"
   ]
  },
  {
   "cell_type": "markdown",
   "metadata": {
    "id": "FbzMy39gd19T"
   },
   "source": [
    "$$ Precision = \\frac{TP}{Total \\, Y} = \\frac{TP}{FP+TP} $$"
   ]
  },
  {
   "cell_type": "markdown",
   "metadata": {
    "id": "cOwNyRXBcFEK"
   },
   "source": [
    "<img src=https://github.com/ai-builders/curriculum/raw/main/images/tabular_images/42.PNG width=\"750px\">"
   ]
  },
  {
   "cell_type": "markdown",
   "metadata": {
    "id": "eWymdJOthp73"
   },
   "source": [
    "*   TN = 2\n",
    "*   FN = 1\n",
    "*   FP = 2\n",
    "*   TP = 1\n",
    "*   Precision = 1/3 = 0.33"
   ]
  },
  {
   "cell_type": "markdown",
   "metadata": {
    "id": "gFa4kOiFcKLf"
   },
   "source": [
    "\n",
    "\n",
    "$$ F1 = \\frac{2 × Recall × Precision}{Recall + Precision} $$"
   ]
  },
  {
   "cell_type": "markdown",
   "metadata": {
    "id": "fCVG_9jkhxPs"
   },
   "source": [
    "F1 = (2 x 0.5 x 0.33) / (0.5 + 0.33) = 0.40"
   ]
  },
  {
   "cell_type": "code",
   "execution_count": 4,
   "metadata": {
    "colab": {
     "base_uri": "https://localhost:8080/"
    },
    "id": "rDO_euuvtWGb",
    "outputId": "7571c2a8-21e1-45ce-cca9-b9c9f1ab262b"
   },
   "outputs": [
    {
     "name": "stdout",
     "output_type": "stream",
     "text": [
      "recall : 0.7954545454545454\n",
      "precision : 0.8235294117647058\n",
      "f1 : 0.8092485549132947\n"
     ]
    }
   ],
   "source": [
    "# คำนวณ recall, precision, f1\n",
    "\n",
    "from sklearn.metrics import recall_score, precision_score, f1_score\n",
    "\n",
    "recall = recall_score(y_train, y_hat_train)\n",
    "precision = precision_score(y_train, y_hat_train)\n",
    "f1 = f1_score(y_train, y_hat_train)\n",
    "\n",
    "print(f\"recall : {recall}\")\n",
    "print(f\"precision : {precision}\")\n",
    "print(f\"f1 : {f1}\")"
   ]
  },
  {
   "cell_type": "markdown",
   "metadata": {
    "id": "A__wDRDnrzgR"
   },
   "source": [
    "# ROC Curve and AUC"
   ]
  },
  {
   "cell_type": "markdown",
   "metadata": {
    "id": "6e5ZAEGle5Db"
   },
   "source": [
    "<img src=https://github.com/ai-builders/curriculum/raw/main/images/tabular_images/44.png width=\"750px\">"
   ]
  },
  {
   "cell_type": "markdown",
   "metadata": {
    "id": "eLqd4eZie6Ct"
   },
   "source": [
    "<img src=https://github.com/ai-builders/curriculum/raw/main/images/tabular_images/45.png width=\"750px\">"
   ]
  },
  {
   "cell_type": "code",
   "execution_count": 5,
   "metadata": {
    "colab": {
     "base_uri": "https://localhost:8080/",
     "height": 265
    },
    "id": "5M3U6LQZhi1Y",
    "outputId": "d4cc1fc7-769e-4d5d-92d3-7e474e6a7569"
   },
   "outputs": [
    {
     "data": {
      "image/png": "[encoded data removed]",
      "text/plain": [
       "<Figure size 432x288 with 1 Axes>"
      ]
     },
     "metadata": {
      "needs_background": "light"
     },
     "output_type": "display_data"
    }
   ],
   "source": [
    "# สร้าง ROC Curve\n",
    "\n",
    "from sklearn.metrics import roc_curve, auc, roc_auc_score\n",
    "import matplotlib.pyplot as plt\n",
    " \n",
    "clf_model = logreg.fit(X_train, y_train)\n",
    "y_score_train = clf_model.predict_proba(X_train)\n",
    "fpr_train, tpr_train, _ = roc_curve(y_train,  y_score_train[:,1])\n",
    "auc_train = roc_auc_score(y_train, y_score_train[:,1])\n",
    "plt.plot(fpr_train,tpr_train, color='red', label='train , auc='+str(auc_train))\n",
    "\n",
    "y_score_test = clf_model.predict_proba(X_test)\n",
    "fpr_test, tpr_test, _ = roc_curve(y_test,  y_score_test[:,1])\n",
    "auc_test = roc_auc_score(y_test, y_score_test[:,1])\n",
    "plt.plot(fpr_test,tpr_test, color='Blue', label='test , auc='+str(auc_test))\n",
    "\n",
    "plt.plot([0, 1], [0, 1], color='navy', lw=2, linestyle='--')\n",
    "plt.legend(loc=4)\n",
    "plt.show()"
   ]
  },
  {
   "cell_type": "code",
   "execution_count": 6,
   "metadata": {
    "id": "5pvcwA-HnP2P"
   },
   "outputs": [],
   "source": [
    "def plot_roc(clf, X_train, y_train, X_test, y_test):\n",
    "  \n",
    "  from sklearn.metrics import roc_curve, auc, roc_auc_score\n",
    "  import matplotlib.pyplot as plt\n",
    "\n",
    "  clf_model = clf.fit(X_train, y_train)\n",
    "  y_score_train = clf_model.predict_proba(X_train)\n",
    "  fpr_train, tpr_train, _ = roc_curve(y_train,  y_score_train[:,1])\n",
    "  auc_train = roc_auc_score(y_train, y_score_train[:,1])\n",
    "  plt.plot(fpr_train,tpr_train, color='red', label='train , auc='+str(auc_train))\n",
    "\n",
    "  y_score_test = clf_model.predict_proba(X_test)\n",
    "  fpr_test, tpr_test, _ = roc_curve(y_test,  y_score_test[:,1])\n",
    "  auc_test = roc_auc_score(y_test, y_score_test[:,1])\n",
    "  plt.plot(fpr_test,tpr_test, color='Blue', label='test , auc='+str(auc_test))\n",
    "\n",
    "  plt.plot([0, 1], [0, 1], color='navy', lw=2, linestyle='--')\n",
    "  plt.legend(loc=4)\n",
    "  plt.show()"
   ]
  },
  {
   "cell_type": "code",
   "execution_count": 7,
   "metadata": {
    "colab": {
     "base_uri": "https://localhost:8080/",
     "height": 265
    },
    "id": "EwZfee3RneFu",
    "outputId": "4b08ed4b-d660-49f8-e4e1-8b45b6052a6c"
   },
   "outputs": [
    {
     "data": {
      "image/png": "[encoded data removed]",
      "text/plain": [
       "<Figure size 432x288 with 1 Axes>"
      ]
     },
     "metadata": {
      "needs_background": "light"
     },
     "output_type": "display_data"
    }
   ],
   "source": [
    "plot_roc(logreg, X_train, y_train, X_test, y_test)"
   ]
  },
  {
   "cell_type": "markdown",
   "metadata": {
    "id": "jb04PMOIiaQm"
   },
   "source": [
    "## กรณีที่ Positive และ Negative มีจำนวนไม่ต่างกันมาก (ฺBalanced)"
   ]
  },
  {
   "cell_type": "code",
   "execution_count": 8,
   "metadata": {
    "id": "adVG2V1ejnUI"
   },
   "outputs": [],
   "source": [
    "# Load module ที่เราต้องการใช้ทั้งหมด\n",
    "\n",
    "import pandas as pd\n",
    "from sklearn.model_selection import train_test_split\n",
    "from sklearn.preprocessing import StandardScaler\n",
    "from sklearn.linear_model import LogisticRegression\n",
    "from sklearn.metrics import classification_report"
   ]
  },
  {
   "cell_type": "code",
   "execution_count": 9,
   "metadata": {
    "id": "MTZ5ov-qjmfD"
   },
   "outputs": [],
   "source": [
    "# อ่านไฟล์ข้อมูลที่ต้องการวิเคราะห์\n",
    "\n",
    "url = 'https://github.com/ai-builders/curriculum/raw/main/data/marketing_campaign.csv'\n",
    "df = pd.read_csv(url, parse_dates=['Dt_Customer'])"
   ]
  },
  {
   "cell_type": "code",
   "execution_count": 10,
   "metadata": {
    "colab": {
     "base_uri": "https://localhost:8080/"
    },
    "id": "27v7eq5FmeZf",
    "outputId": "a21cbe9d-ab0f-40dd-b953-ceeffdde403f"
   },
   "outputs": [
    {
     "name": "stdout",
     "output_type": "stream",
     "text": [
      "   Response   ID  Percentage\n",
      "0         0  334         0.5\n",
      "1         1  334         0.5\n"
     ]
    }
   ],
   "source": [
    "df_summary = df[['ID', 'Response']].groupby(by=['Response']).count().reset_index()\n",
    "df_summary['Percentage'] = df_summary['ID']/df_summary['ID'].sum()\n",
    "print(df_summary)"
   ]
  },
  {
   "cell_type": "markdown",
   "metadata": {
    "id": "M512w6aZMupT"
   },
   "source": [
    "<img src=https://github.com/ai-builders/curriculum/raw/main/images/tabular_images/46.png width=\"750px\">"
   ]
  },
  {
   "cell_type": "markdown",
   "metadata": {
    "id": "qj64dy3QjIIT"
   },
   "source": [
    "## กรณีที่ Positive และ Negative มีจำนวนต่างกันมาก (ฺImbalanced)"
   ]
  },
  {
   "cell_type": "markdown",
   "metadata": {
    "id": "RCHsr0_Se2Io"
   },
   "source": [
    "ข้อมูลโดยทั่วไปที่เจอในการทำงานจริงนั้น จะมีจำนวน Positive และ Negative ที่ต่างกันค่อนข้างมาก"
   ]
  },
  {
   "cell_type": "code",
   "execution_count": 11,
   "metadata": {
    "id": "8HLUCbaRmkxo"
   },
   "outputs": [],
   "source": [
    "# อ่านไฟล์ข้อมูลที่ต้องการวิเคราะห์\n",
    "\n",
    "url = 'https://github.com/ai-builders/curriculum/raw/main/data/marketing_campaign_full.csv'\n",
    "df = pd.read_csv(url, parse_dates=['Dt_Customer'])"
   ]
  },
  {
   "cell_type": "code",
   "execution_count": 12,
   "metadata": {
    "colab": {
     "base_uri": "https://localhost:8080/"
    },
    "id": "5g0198gOmolw",
    "outputId": "89cd9ccd-aa85-474e-dbb4-042a94af836b"
   },
   "outputs": [
    {
     "name": "stdout",
     "output_type": "stream",
     "text": [
      "   Response    ID  Percentage\n",
      "0         0  1906    0.850893\n",
      "1         1   334    0.149107\n"
     ]
    }
   ],
   "source": [
    "df_summary = df[['ID', 'Response']].groupby(by=['Response']).count().reset_index()\n",
    "df_summary['Percentage'] = df_summary['ID']/df_summary['ID'].sum()\n",
    "print(df_summary)"
   ]
  },
  {
   "cell_type": "code",
   "execution_count": 13,
   "metadata": {
    "id": "9BUhiPS1j1wo"
   },
   "outputs": [],
   "source": [
    "# ลบ row ที่มี missing value\n",
    "\n",
    "df = df.dropna(how='any',axis=0) "
   ]
  },
  {
   "cell_type": "code",
   "execution_count": 15,
   "metadata": {
    "id": "3EemPM5Lj8lv"
   },
   "outputs": [],
   "source": [
    "# จัดการ Time-related column\n",
    "\n",
    "cut_off_year = 2016\n",
    "df['Age'] = cut_off_year - df['Year_Birth']\n",
    "df['Member_Age'] = cut_off_year - df['Dt_Customer'].dt.year"
   ]
  },
  {
   "cell_type": "code",
   "execution_count": 22,
   "metadata": {
    "id": "3O3YqVnPkD_L"
   },
   "outputs": [],
   "source": [
    "# feature engineering\n",
    "\n",
    "df['Total_Spend'] = df[['MntWines', 'MntFruits', 'MntMeatProducts', 'MntFishProducts', 'MntSweetProducts', 'MntGoldProds']].sum(axis=1)\n",
    "df['Total_Purchases'] = df[['NumWebPurchases', 'NumCatalogPurchases', 'NumStorePurchases']].sum(axis=1)\n",
    "for i in ['MntWines', 'MntFruits', 'MntMeatProducts', 'MntFishProducts', 'MntSweetProducts', 'MntGoldProds']:\n",
    "  col_name = 'PCT_' + i\n",
    "  df[col_name] = df[i]/df['Total_Spend']\n",
    "for i in ['NumWebPurchases', 'NumCatalogPurchases', 'NumStorePurchases']:\n",
    "  col_name = 'PCT_' + i\n",
    "  df[col_name] = df[i]/ (df['Total_Purchases']+1e-6) #prevent dividing by zero\n",
    "df['PCT_DealsPurchases'] = df['NumDealsPurchases']/(df['Total_Purchases']+1e-6) #prevent dividing by zero\n",
    "df['PCT_Campaigns'] = df[['AcceptedCmp3', 'AcceptedCmp4', 'AcceptedCmp5', 'AcceptedCmp1', 'AcceptedCmp2']].sum(axis=1) / 5"
   ]
  },
  {
   "cell_type": "code",
   "execution_count": 23,
   "metadata": {
    "id": "jm9svKbLkOaB"
   },
   "outputs": [],
   "source": [
    "# one-hot encoding\n",
    "\n",
    "df_dummmies = pd.get_dummies(df[['Education','Marital_Status']])\n",
    "df = df.merge(df_dummmies, left_index=True, right_index=True, how='inner')"
   ]
  },
  {
   "cell_type": "code",
   "execution_count": 25,
   "metadata": {
    "id": "Jq65rlJ1kVtW"
   },
   "outputs": [],
   "source": [
    "# สร้าง X และ y\n",
    "\n",
    "X = df.drop(['ID', 'Response', 'Year_Birth', 'Dt_Customer', 'Education','Marital_Status', 'Z_CostContact', 'Z_Revenue'], axis=1)\n",
    "y = df['Response']"
   ]
  },
  {
   "cell_type": "code",
   "execution_count": 26,
   "metadata": {
    "id": "EPM6IKwRksBj"
   },
   "outputs": [],
   "source": [
    "# rescale X\n",
    "\n",
    "scaler = StandardScaler()\n",
    "\n",
    "x_scaled_array = scaler.fit_transform(X)\n",
    "X_scaled = pd.DataFrame(x_scaled_array)\n",
    "X_scaled.columns = X.columns"
   ]
  },
  {
   "cell_type": "code",
   "execution_count": 27,
   "metadata": {
    "id": "1iswCMQLkbJC"
   },
   "outputs": [],
   "source": [
    "# สร้าง Train-Test Dataset\n",
    "\n",
    "X_train, X_test, y_train, y_test = train_test_split(X_scaled, y, test_size=0.2, random_state=0)"
   ]
  },
  {
   "cell_type": "code",
   "execution_count": 28,
   "metadata": {
    "id": "goNxmau4jdrY"
   },
   "outputs": [],
   "source": [
    "def classification_model(clf, X_train, y_train, X_test, y_test, show_feature_importance=True):\n",
    "  ls_y_hat_train = []\n",
    "  ls_y_train = []\n",
    "\n",
    "  clf_model = clf.fit(X_train, y_train)\n",
    "  y_hat_train = clf_model.predict(X_train)\n",
    "  ls_y_hat_train.extend(y_hat_train)\n",
    "  ls_y_train.extend(y_train)\n",
    "  report_train = classification_report(ls_y_train, ls_y_hat_train)\n",
    "  print('training set')\n",
    "  print(report_train) \n",
    "  print('\\n')\n",
    "  ls_y_hat_test = []\n",
    "  ls_y_test = []\n",
    "  y_hat_test = clf_model.predict(X_test)\n",
    "  ls_y_hat_test.extend(y_hat_test)\n",
    "  ls_y_test.extend(y_test)\n",
    "  report_test = classification_report(ls_y_test, ls_y_hat_test)\n",
    "  print('test set')\n",
    "  print(report_test) \n",
    "  print('\\n')\n",
    "\n",
    "  if show_feature_importance:\n",
    "    try:\n",
    "      print('Standardized Coeff.')\n",
    "      print(pd.DataFrame({\"Feature\":X_train.columns.tolist(),\"Coefficients\":clf_model.coef_[0]}).to_string())\n",
    "    except:\n",
    "      try:\n",
    "        print(pd.DataFrame({\"Feature\":X_train.columns.tolist(),\"Coefficients\":clf_model.feature_importances_}).to_string())\n",
    "      except:\n",
    "        print(\"No Standardized Coeff.\")"
   ]
  },
  {
   "cell_type": "code",
   "execution_count": 29,
   "metadata": {
    "colab": {
     "base_uri": "https://localhost:8080/"
    },
    "id": "ZXLO9Id-kcyv",
    "outputId": "ded92790-c48b-453d-99b3-13b34a7d3355"
   },
   "outputs": [
    {
     "name": "stdout",
     "output_type": "stream",
     "text": [
      "training set\n",
      "              precision    recall  f1-score   support\n",
      "\n",
      "           0       0.97      0.84      0.90      1512\n",
      "           1       0.48      0.85      0.61       260\n",
      "\n",
      "    accuracy                           0.84      1772\n",
      "   macro avg       0.72      0.84      0.75      1772\n",
      "weighted avg       0.90      0.84      0.86      1772\n",
      "\n",
      "\n",
      "\n",
      "test set\n",
      "              precision    recall  f1-score   support\n",
      "\n",
      "           0       0.97      0.83      0.89       371\n",
      "           1       0.50      0.85      0.63        73\n",
      "\n",
      "    accuracy                           0.83       444\n",
      "   macro avg       0.73      0.84      0.76       444\n",
      "weighted avg       0.89      0.83      0.85       444\n",
      "\n",
      "\n",
      "\n"
     ]
    }
   ],
   "source": [
    "# run model\n",
    "\n",
    "logreg = LogisticRegression(solver='liblinear', class_weight='balanced')\n",
    "classification_model(logreg, X_train, y_train, X_test, y_test, show_feature_importance=False)"
   ]
  },
  {
   "cell_type": "markdown",
   "metadata": {
    "id": "ENxboUwTsAM4"
   },
   "source": [
    "# Fixing imbalanced with resampling"
   ]
  },
  {
   "cell_type": "markdown",
   "metadata": {
    "id": "0LplS_z00cIW"
   },
   "source": [
    "## Undersampling"
   ]
  },
  {
   "cell_type": "markdown",
   "metadata": {
    "id": "jnXMQp17icap"
   },
   "source": [
    "เป็นการทำให้จำนวน Positive และ Negative เท่ากัน โดยลดฝั่งที่มีจำนวนเยอะกว่า"
   ]
  },
  {
   "cell_type": "code",
   "execution_count": 30,
   "metadata": {
    "id": "vmQ9OQoIWIeS"
   },
   "outputs": [],
   "source": [
    "from imblearn.under_sampling import RandomUnderSampler\n",
    "\n",
    "rus = RandomUnderSampler(random_state=0)\n",
    "X_train_undersampled, y_train_undersampled = rus.fit_resample(X_train, y_train)"
   ]
  },
  {
   "cell_type": "code",
   "execution_count": 31,
   "metadata": {
    "colab": {
     "base_uri": "https://localhost:8080/"
    },
    "id": "tnbMufIVWJzl",
    "outputId": "9dd729a3-f324-4a69-a3f6-278c10eefa34"
   },
   "outputs": [
    {
     "name": "stdout",
     "output_type": "stream",
     "text": [
      "training set\n",
      "              precision    recall  f1-score   support\n",
      "\n",
      "           0       0.86      0.87      0.87       260\n",
      "           1       0.87      0.86      0.87       260\n",
      "\n",
      "    accuracy                           0.87       520\n",
      "   macro avg       0.87      0.87      0.87       520\n",
      "weighted avg       0.87      0.87      0.87       520\n",
      "\n",
      "\n",
      "\n",
      "test set\n",
      "              precision    recall  f1-score   support\n",
      "\n",
      "           0       0.98      0.78      0.87       371\n",
      "           1       0.46      0.93      0.61        73\n",
      "\n",
      "    accuracy                           0.81       444\n",
      "   macro avg       0.72      0.86      0.74       444\n",
      "weighted avg       0.90      0.81      0.83       444\n",
      "\n",
      "\n",
      "\n"
     ]
    }
   ],
   "source": [
    "# run model\n",
    "\n",
    "logreg = LogisticRegression(solver='liblinear', class_weight='balanced')\n",
    "classification_model(logreg, X_train_undersampled, y_train_undersampled, X_test, y_test, show_feature_importance=False)"
   ]
  },
  {
   "cell_type": "code",
   "execution_count": 32,
   "metadata": {
    "colab": {
     "base_uri": "https://localhost:8080/",
     "height": 265
    },
    "id": "2NcOVpnon_qh",
    "outputId": "18b63f0f-7e3b-41e5-e9c5-86ad4b5ef3ff"
   },
   "outputs": [
    {
     "data": {
      "image/png": "[encoded data removed]",
      "text/plain": [
       "<Figure size 432x288 with 1 Axes>"
      ]
     },
     "metadata": {
      "needs_background": "light"
     },
     "output_type": "display_data"
    }
   ],
   "source": [
    "plot_roc(logreg, X_train_undersampled, y_train_undersampled, X_test, y_test)"
   ]
  },
  {
   "cell_type": "markdown",
   "metadata": {
    "id": "_n5SZlHv0ffJ"
   },
   "source": [
    "## Oversampling"
   ]
  },
  {
   "cell_type": "markdown",
   "metadata": {
    "id": "XAKjq4MHimJY"
   },
   "source": [
    "เป็นการทำให้จำนวน Positive และ Negative เท่ากัน โดยเพิ่งฝั่งที่มีจำนวนน้อยกว่า"
   ]
  },
  {
   "cell_type": "code",
   "execution_count": 33,
   "metadata": {
    "id": "fF7dqSROrDRF"
   },
   "outputs": [],
   "source": [
    "from imblearn.over_sampling import RandomOverSampler\n",
    "\n",
    "ros = RandomOverSampler(random_state=0)\n",
    "X_train_oversampled, y_train_oversampled = ros.fit_resample(X_train, y_train)"
   ]
  },
  {
   "cell_type": "code",
   "execution_count": 34,
   "metadata": {
    "colab": {
     "base_uri": "https://localhost:8080/"
    },
    "id": "bDHe0teCrOnh",
    "outputId": "e6065ab2-bbcb-42fa-d27b-6c1a525c40f7"
   },
   "outputs": [
    {
     "name": "stdout",
     "output_type": "stream",
     "text": [
      "training set\n",
      "              precision    recall  f1-score   support\n",
      "\n",
      "           0       0.85      0.84      0.85      1512\n",
      "           1       0.84      0.85      0.85      1512\n",
      "\n",
      "    accuracy                           0.85      3024\n",
      "   macro avg       0.85      0.85      0.85      3024\n",
      "weighted avg       0.85      0.85      0.85      3024\n",
      "\n",
      "\n",
      "\n",
      "test set\n",
      "              precision    recall  f1-score   support\n",
      "\n",
      "           0       0.97      0.82      0.89       371\n",
      "           1       0.48      0.85      0.61        73\n",
      "\n",
      "    accuracy                           0.82       444\n",
      "   macro avg       0.72      0.83      0.75       444\n",
      "weighted avg       0.89      0.82      0.84       444\n",
      "\n",
      "\n",
      "\n"
     ]
    }
   ],
   "source": [
    "# run model\n",
    "\n",
    "logreg = LogisticRegression(solver='liblinear', class_weight='balanced')\n",
    "classification_model(logreg, X_train_oversampled, y_train_oversampled, X_test, y_test, show_feature_importance=False)"
   ]
  },
  {
   "cell_type": "code",
   "execution_count": 35,
   "metadata": {
    "colab": {
     "base_uri": "https://localhost:8080/",
     "height": 265
    },
    "id": "FjAeCT6coIQ0",
    "outputId": "a883afb2-9c06-494e-c907-124e946680ec"
   },
   "outputs": [
    {
     "data": {
      "image/png": "[encoded data removed]",
      "text/plain": [
       "<Figure size 432x288 with 1 Axes>"
      ]
     },
     "metadata": {
      "needs_background": "light"
     },
     "output_type": "display_data"
    }
   ],
   "source": [
    "plot_roc(logreg, X_train_oversampled, y_train_oversampled, X_test, y_test)"
   ]
  },
  {
   "cell_type": "markdown",
   "metadata": {
    "id": "gUIUMyOn0jAC"
   },
   "source": [
    "## SMOTE - Synthetic Minority Oversampling Technique"
   ]
  },
  {
   "cell_type": "markdown",
   "metadata": {
    "id": "ILwtKltujImR"
   },
   "source": [
    "เป็นการทำให้จำนวน Positive และ Negative เท่ากัน โดยเพิ่งฝั่งที่มีจำนวนน้อยกว่า จากการสร้าง data จำลองขึ้นมาบนเส้นที่ขีดเชื้่อมกันระหว่างจุดข้อมูลเดิม"
   ]
  },
  {
   "cell_type": "markdown",
   "metadata": {
    "id": "WoFl1o9tjD9d"
   },
   "source": [
    "<img src=https://github.com/ai-builders/curriculum/raw/main/images/tabular_images/47.png width=\"750px\">"
   ]
  },
  {
   "cell_type": "code",
   "execution_count": 36,
   "metadata": {
    "id": "ZO1EdATorFbI"
   },
   "outputs": [],
   "source": [
    "from imblearn.over_sampling import SMOTE\n",
    "\n",
    "sm = SMOTE(random_state=0)\n",
    "X_train_sm, y_train_sm = sm.fit_resample(X_train, y_train)"
   ]
  },
  {
   "cell_type": "code",
   "execution_count": 37,
   "metadata": {
    "colab": {
     "base_uri": "https://localhost:8080/"
    },
    "id": "ofJ8TiqfrfBx",
    "outputId": "8b2103a3-c9e1-4d60-bf1b-9dba114e5ab8"
   },
   "outputs": [
    {
     "name": "stdout",
     "output_type": "stream",
     "text": [
      "training set\n",
      "              precision    recall  f1-score   support\n",
      "\n",
      "           0       0.87      0.83      0.85      1512\n",
      "           1       0.84      0.88      0.86      1512\n",
      "\n",
      "    accuracy                           0.85      3024\n",
      "   macro avg       0.85      0.85      0.85      3024\n",
      "weighted avg       0.85      0.85      0.85      3024\n",
      "\n",
      "\n",
      "\n",
      "test set\n",
      "              precision    recall  f1-score   support\n",
      "\n",
      "           0       0.97      0.83      0.90       371\n",
      "           1       0.51      0.88      0.64        73\n",
      "\n",
      "    accuracy                           0.84       444\n",
      "   macro avg       0.74      0.85      0.77       444\n",
      "weighted avg       0.90      0.84      0.86       444\n",
      "\n",
      "\n",
      "\n"
     ]
    }
   ],
   "source": [
    "# run model\n",
    "\n",
    "logreg = LogisticRegression(solver='liblinear', class_weight='balanced')\n",
    "classification_model(logreg, X_train_sm, y_train_sm, X_test, y_test, show_feature_importance=False)"
   ]
  },
  {
   "cell_type": "code",
   "execution_count": 38,
   "metadata": {
    "colab": {
     "base_uri": "https://localhost:8080/",
     "height": 265
    },
    "id": "tCwr6QGaoRNJ",
    "outputId": "a3eb1b56-b348-4114-d975-762f43a2751c"
   },
   "outputs": [
    {
     "data": {
      "image/png": "[encoded data removed]",
      "text/plain": [
       "<Figure size 432x288 with 1 Axes>"
      ]
     },
     "metadata": {
      "needs_background": "light"
     },
     "output_type": "display_data"
    }
   ],
   "source": [
    "plot_roc(logreg, X_train_sm, y_train_sm, X_test, y_test)"
   ]
  },
  {
   "cell_type": "markdown",
   "metadata": {
    "id": "oZe0JToGFHpb"
   },
   "source": [
    "# Checkpoint ท้ายบท"
   ]
  },
  {
   "cell_type": "markdown",
   "metadata": {
    "id": "ai_C4wMwFGo3"
   },
   "source": [
    "*   ☑️ เข้าใจถึงเลือกใช้ Metric ในการประเมินความแม่นยำของโมเดล\n",
    "*   ☑️ เข้าใจถึงปัญหา Imbalanced Dataset\n",
    "*   ☑️ สามารถแก้ไขปัญหา Imbalanced Dataset เบื้องต้นได้"
   ]
  }
 ],
 "metadata": {
  "colab": {
   "collapsed_sections": [],
   "name": "04t_05_classification_evaluation.ipynb",
   "provenance": []
  },
  "kernelspec": {
   "display_name": "default:Python",
   "language": "python",
   "name": "conda-env-default-py"
  },
  "language_info": {
   "codemirror_mode": {
    "name": "ipython",
    "version": 3
   },
   "file_extension": ".py",
   "mimetype": "text/x-python",
   "name": "python",
   "nbconvert_exporter": "python",
   "pygments_lexer": "ipython3",
   "version": "3.9.7"
  }
 },
 "nbformat": 4,
 "nbformat_minor": 4
}
