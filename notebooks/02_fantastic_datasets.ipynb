{
  "cells": [
    {
      "cell_type": "markdown",
      "metadata": {
        "id": "OjJ7qBLsdWq5"
      },
      "source": [
        "# บทที่ 2 - ชุดข้อมูลมหัศจรรย์และถิ่นที่อยู่"
      ]
    },
    {
      "cell_type": "markdown",
      "metadata": {
        "id": "EdhweOfHROfi"
      },
      "source": [
        "[![Open In Colab](https://colab.research.google.com/assets/colab-badge.svg)](https://colab.research.google.com/github/ai-builders/curriculum/blob/main/notebooks/02_fantastic_datasets.ipynb)"
      ]
    },
    {
      "cell_type": "markdown",
      "metadata": {
        "id": "udDyKuYVRS0Y"
      },
      "source": [
        "ในปัจจุบันชุดข้อมูลที่มีพร้อมทั้งปริมาณและคุณภาพเป็นส่วนสำคัญในการสร้าง ML models ในบทเรียนนี้เราจะเรียนรู้วิธีการหาข้อมูลมาเทรนโมเดลของเราทั้งจากชุดข้อมูล open data, web scraping, หรือสร้างขึ้นมาเองจากโมเดลและโค้ด open source ทั้งนี้การหาข้อมูลมาเทรนโมเดลจากแหล่งข้อมูลสาธารณะที่กล่าวมานั้นเราต้องให้ความสำคัญเรื่องลิขสิทธิ์และจริยธรรม (แม้แต่โมเดลเองก็สร้างข้อมูลที่ผิดลิขสิทธิ์-จริยธรรมได้; เรียนเพิ่มเติมในบทที่ 7)"
      ]
    },
    {
      "cell_type": "markdown",
      "metadata": {
        "id": "Lfp5-j71dLJ2"
      },
      "source": [
        "## ติดตั้ง Package ที่ต้องใช้งาน"
      ]
    },
    {
      "cell_type": "code",
      "execution_count": 1,
      "metadata": {
        "colab": {
          "base_uri": "https://localhost:8080/"
        },
        "id": "JVfe2zgZdNaE",
        "outputId": "99823eef-c953-4741-f28e-a6ab778c3c20"
      },
      "outputs": [
        {
          "output_type": "stream",
          "name": "stdout",
          "text": [
            "\u001b[K     |████████████████████████████████| 720 kB 14.2 MB/s \n",
            "\u001b[K     |████████████████████████████████| 1.2 MB 63.6 MB/s \n",
            "\u001b[K     |████████████████████████████████| 188 kB 69.6 MB/s \n",
            "\u001b[K     |████████████████████████████████| 60 kB 7.5 MB/s \n",
            "\u001b[?25hCollecting selenium\n",
            "  Downloading selenium-4.1.3-py3-none-any.whl (968 kB)\n",
            "\u001b[K     |████████████████████████████████| 968 kB 10.5 MB/s \n",
            "\u001b[?25hCollecting trio-websocket~=0.9\n",
            "  Downloading trio_websocket-0.9.2-py3-none-any.whl (16 kB)\n",
            "Collecting trio~=0.17\n",
            "  Downloading trio-0.20.0-py3-none-any.whl (359 kB)\n",
            "\u001b[K     |████████████████████████████████| 359 kB 50.5 MB/s \n",
            "\u001b[?25hCollecting urllib3[secure,socks]~=1.26\n",
            "  Downloading urllib3-1.26.9-py2.py3-none-any.whl (138 kB)\n",
            "\u001b[K     |████████████████████████████████| 138 kB 48.9 MB/s \n",
            "\u001b[?25hRequirement already satisfied: attrs>=19.2.0 in /usr/local/lib/python3.7/dist-packages (from trio~=0.17->selenium) (21.4.0)\n",
            "Requirement already satisfied: sortedcontainers in /usr/local/lib/python3.7/dist-packages (from trio~=0.17->selenium) (2.4.0)\n",
            "Collecting outcome\n",
            "  Downloading outcome-1.1.0-py2.py3-none-any.whl (9.7 kB)\n",
            "Requirement already satisfied: idna in /usr/local/lib/python3.7/dist-packages (from trio~=0.17->selenium) (2.10)\n",
            "Collecting async-generator>=1.9\n",
            "  Downloading async_generator-1.10-py3-none-any.whl (18 kB)\n",
            "Collecting sniffio\n",
            "  Downloading sniffio-1.2.0-py3-none-any.whl (10 kB)\n",
            "Collecting wsproto>=0.14\n",
            "  Downloading wsproto-1.1.0-py3-none-any.whl (24 kB)\n",
            "Requirement already satisfied: certifi in /usr/local/lib/python3.7/dist-packages (from urllib3[secure,socks]~=1.26->selenium) (2021.10.8)\n",
            "Collecting cryptography>=1.3.4\n",
            "  Downloading cryptography-36.0.2-cp36-abi3-manylinux_2_24_x86_64.whl (3.6 MB)\n",
            "\u001b[K     |████████████████████████████████| 3.6 MB 46.4 MB/s \n",
            "\u001b[?25hCollecting pyOpenSSL>=0.14\n",
            "  Downloading pyOpenSSL-22.0.0-py2.py3-none-any.whl (55 kB)\n",
            "\u001b[K     |████████████████████████████████| 55 kB 1.5 MB/s \n",
            "\u001b[?25hRequirement already satisfied: PySocks!=1.5.7,<2.0,>=1.5.6 in /usr/local/lib/python3.7/dist-packages (from urllib3[secure,socks]~=1.26->selenium) (1.7.1)\n",
            "Requirement already satisfied: cffi>=1.12 in /usr/local/lib/python3.7/dist-packages (from cryptography>=1.3.4->urllib3[secure,socks]~=1.26->selenium) (1.15.0)\n",
            "Requirement already satisfied: pycparser in /usr/local/lib/python3.7/dist-packages (from cffi>=1.12->cryptography>=1.3.4->urllib3[secure,socks]~=1.26->selenium) (2.21)\n",
            "Collecting h11<1,>=0.9.0\n",
            "  Downloading h11-0.13.0-py3-none-any.whl (58 kB)\n",
            "\u001b[K     |████████████████████████████████| 58 kB 6.3 MB/s \n",
            "\u001b[?25hRequirement already satisfied: typing-extensions in /usr/local/lib/python3.7/dist-packages (from h11<1,>=0.9.0->wsproto>=0.14->trio-websocket~=0.9->selenium) (4.1.1)\n",
            "Installing collected packages: sniffio, outcome, h11, cryptography, async-generator, wsproto, urllib3, trio, pyOpenSSL, trio-websocket, selenium\n",
            "  Attempting uninstall: urllib3\n",
            "    Found existing installation: urllib3 1.24.3\n",
            "    Uninstalling urllib3-1.24.3:\n",
            "      Successfully uninstalled urllib3-1.24.3\n",
            "\u001b[31mERROR: pip's dependency resolver does not currently take into account all the packages that are installed. This behaviour is the source of the following dependency conflicts.\n",
            "requests 2.23.0 requires urllib3!=1.25.0,!=1.25.1,<1.26,>=1.21.1, but you have urllib3 1.26.9 which is incompatible.\n",
            "datascience 0.10.6 requires folium==0.2.1, but you have folium 0.8.3 which is incompatible.\u001b[0m\n",
            "Successfully installed async-generator-1.10 cryptography-36.0.2 h11-0.13.0 outcome-1.1.0 pyOpenSSL-22.0.0 selenium-4.1.3 sniffio-1.2.0 trio-0.20.0 trio-websocket-0.9.2 urllib3-1.26.9 wsproto-1.1.0\n",
            "Get:1 http://ppa.launchpad.net/c2d4u.team/c2d4u4.0+/ubuntu bionic InRelease [15.9 kB]\n",
            "Get:2 https://cloud.r-project.org/bin/linux/ubuntu bionic-cran40/ InRelease [3,626 B]\n",
            "Hit:3 http://ppa.launchpad.net/cran/libgit2/ubuntu bionic InRelease\n",
            "Get:4 http://ppa.launchpad.net/deadsnakes/ppa/ubuntu bionic InRelease [15.9 kB]\n",
            "Hit:5 http://ppa.launchpad.net/graphics-drivers/ppa/ubuntu bionic InRelease\n",
            "Get:6 http://security.ubuntu.com/ubuntu bionic-security InRelease [88.7 kB]\n",
            "Hit:7 http://archive.ubuntu.com/ubuntu bionic InRelease\n",
            "Ign:8 https://developer.download.nvidia.com/compute/cuda/repos/ubuntu1804/x86_64  InRelease\n",
            "Get:9 http://archive.ubuntu.com/ubuntu bionic-updates InRelease [88.7 kB]\n",
            "Ign:10 https://developer.download.nvidia.com/compute/machine-learning/repos/ubuntu1804/x86_64  InRelease\n",
            "Hit:11 https://developer.download.nvidia.com/compute/cuda/repos/ubuntu1804/x86_64  Release\n",
            "Hit:12 https://developer.download.nvidia.com/compute/machine-learning/repos/ubuntu1804/x86_64  Release\n",
            "Get:13 http://archive.ubuntu.com/ubuntu bionic-backports InRelease [74.6 kB]\n",
            "Get:14 http://ppa.launchpad.net/c2d4u.team/c2d4u4.0+/ubuntu bionic/main Sources [1,950 kB]\n",
            "Get:15 http://ppa.launchpad.net/c2d4u.team/c2d4u4.0+/ubuntu bionic/main amd64 Packages [999 kB]\n",
            "Get:16 http://ppa.launchpad.net/deadsnakes/ppa/ubuntu bionic/main amd64 Packages [45.3 kB]\n",
            "Get:18 http://security.ubuntu.com/ubuntu bionic-security/universe amd64 Packages [1,496 kB]\n",
            "Get:20 http://security.ubuntu.com/ubuntu bionic-security/restricted amd64 Packages [907 kB]\n",
            "Get:21 http://security.ubuntu.com/ubuntu bionic-security/main amd64 Packages [2,728 kB]\n",
            "Get:22 http://archive.ubuntu.com/ubuntu bionic-updates/main amd64 Packages [3,165 kB]\n",
            "Get:23 http://archive.ubuntu.com/ubuntu bionic-updates/restricted amd64 Packages [941 kB]\n",
            "Get:24 http://archive.ubuntu.com/ubuntu bionic-updates/universe amd64 Packages [2,272 kB]\n",
            "Fetched 14.8 MB in 7s (2,197 kB/s)\n",
            "Reading package lists... Done\n",
            "Reading package lists... Done\n",
            "Building dependency tree       \n",
            "Reading state information... Done\n",
            "The following additional packages will be installed:\n",
            "  chromium-browser chromium-browser-l10n chromium-codecs-ffmpeg-extra\n",
            "Suggested packages:\n",
            "  webaccounts-chromium-extension unity-chromium-extension\n",
            "The following NEW packages will be installed:\n",
            "  chromium-browser chromium-browser-l10n chromium-chromedriver\n",
            "  chromium-codecs-ffmpeg-extra\n",
            "0 upgraded, 4 newly installed, 0 to remove and 56 not upgraded.\n",
            "Need to get 88.3 MB of archives.\n",
            "After this operation, 294 MB of additional disk space will be used.\n",
            "Get:1 http://archive.ubuntu.com/ubuntu bionic-updates/universe amd64 chromium-codecs-ffmpeg-extra amd64 99.0.4844.84-0ubuntu0.18.04.1 [1,142 kB]\n",
            "Get:2 http://archive.ubuntu.com/ubuntu bionic-updates/universe amd64 chromium-browser amd64 99.0.4844.84-0ubuntu0.18.04.1 [77.7 MB]\n",
            "Get:3 http://archive.ubuntu.com/ubuntu bionic-updates/universe amd64 chromium-browser-l10n all 99.0.4844.84-0ubuntu0.18.04.1 [4,397 kB]\n",
            "Get:4 http://archive.ubuntu.com/ubuntu bionic-updates/universe amd64 chromium-chromedriver amd64 99.0.4844.84-0ubuntu0.18.04.1 [5,092 kB]\n",
            "Fetched 88.3 MB in 3s (25.7 MB/s)\n",
            "Selecting previously unselected package chromium-codecs-ffmpeg-extra.\n",
            "(Reading database ... 155501 files and directories currently installed.)\n",
            "Preparing to unpack .../chromium-codecs-ffmpeg-extra_99.0.4844.84-0ubuntu0.18.04.1_amd64.deb ...\n",
            "Unpacking chromium-codecs-ffmpeg-extra (99.0.4844.84-0ubuntu0.18.04.1) ...\n",
            "Selecting previously unselected package chromium-browser.\n",
            "Preparing to unpack .../chromium-browser_99.0.4844.84-0ubuntu0.18.04.1_amd64.deb ...\n",
            "Unpacking chromium-browser (99.0.4844.84-0ubuntu0.18.04.1) ...\n",
            "Selecting previously unselected package chromium-browser-l10n.\n",
            "Preparing to unpack .../chromium-browser-l10n_99.0.4844.84-0ubuntu0.18.04.1_all.deb ...\n",
            "Unpacking chromium-browser-l10n (99.0.4844.84-0ubuntu0.18.04.1) ...\n",
            "Selecting previously unselected package chromium-chromedriver.\n",
            "Preparing to unpack .../chromium-chromedriver_99.0.4844.84-0ubuntu0.18.04.1_amd64.deb ...\n",
            "Unpacking chromium-chromedriver (99.0.4844.84-0ubuntu0.18.04.1) ...\n",
            "Setting up chromium-codecs-ffmpeg-extra (99.0.4844.84-0ubuntu0.18.04.1) ...\n",
            "Setting up chromium-browser (99.0.4844.84-0ubuntu0.18.04.1) ...\n",
            "update-alternatives: using /usr/bin/chromium-browser to provide /usr/bin/x-www-browser (x-www-browser) in auto mode\n",
            "update-alternatives: using /usr/bin/chromium-browser to provide /usr/bin/gnome-www-browser (gnome-www-browser) in auto mode\n",
            "Setting up chromium-chromedriver (99.0.4844.84-0ubuntu0.18.04.1) ...\n",
            "Setting up chromium-browser-l10n (99.0.4844.84-0ubuntu0.18.04.1) ...\n",
            "Processing triggers for man-db (2.8.3-2ubuntu0.1) ...\n",
            "Processing triggers for hicolor-icon-theme (0.17-2) ...\n",
            "Processing triggers for mime-support (3.60ubuntu1) ...\n",
            "Processing triggers for libc-bin (2.27-3ubuntu1.3) ...\n",
            "/sbin/ldconfig.real: /usr/local/lib/python3.7/dist-packages/ideep4py/lib/libmkldnn.so.0 is not a symbolic link\n",
            "\n",
            "cp: '/usr/lib/chromium-browser/chromedriver' and '/usr/bin/chromedriver' are the same file\n",
            "\u001b[K     |████████████████████████████████| 101 kB 7.8 MB/s \n",
            "\u001b[K     |████████████████████████████████| 52 kB 1.7 MB/s \n",
            "\u001b[K     |████████████████████████████████| 46 kB 5.0 MB/s \n",
            "\u001b[K     |████████████████████████████████| 97 kB 7.4 MB/s \n",
            "\u001b[K     |████████████████████████████████| 45 kB 3.5 MB/s \n",
            "\u001b[K     |████████████████████████████████| 1.2 MB 72.5 MB/s \n",
            "\u001b[K     |████████████████████████████████| 38.1 MB 1.1 MB/s \n",
            "\u001b[K     |████████████████████████████████| 11.2 MB 61.7 MB/s \n",
            "\u001b[K     |████████████████████████████████| 930 kB 51.8 MB/s \n",
            "\u001b[K     |████████████████████████████████| 636 kB 65.2 MB/s \n",
            "\u001b[K     |████████████████████████████████| 280 kB 63.4 MB/s \n",
            "\u001b[K     |████████████████████████████████| 2.5 MB 54.9 MB/s \n",
            "\u001b[31mERROR: pip's dependency resolver does not currently take into account all the packages that are installed. This behaviour is the source of the following dependency conflicts.\n",
            "albumentations 0.1.12 requires imgaug<0.2.7,>=0.2.5, but you have imgaug 0.2.9 which is incompatible.\u001b[0m\n",
            "\u001b[K     |████████████████████████████████| 4.0 MB 14.2 MB/s \n",
            "\u001b[K     |████████████████████████████████| 77 kB 7.0 MB/s \n",
            "\u001b[K     |████████████████████████████████| 895 kB 62.9 MB/s \n",
            "\u001b[K     |████████████████████████████████| 6.6 MB 59.8 MB/s \n",
            "\u001b[K     |████████████████████████████████| 127 kB 71.4 MB/s \n",
            "\u001b[31mERROR: pip's dependency resolver does not currently take into account all the packages that are installed. This behaviour is the source of the following dependency conflicts.\n",
            "selenium 4.1.3 requires urllib3[secure,socks]~=1.26, but you have urllib3 1.25.11 which is incompatible.\n",
            "datascience 0.10.6 requires folium==0.2.1, but you have folium 0.8.3 which is incompatible.\u001b[0m\n",
            "\u001b[K     |████████████████████████████████| 11.5 MB 15.2 MB/s \n",
            "\u001b[K     |████████████████████████████████| 485 kB 58.5 MB/s \n",
            "\u001b[K     |████████████████████████████████| 1.7 MB 48.9 MB/s \n",
            "\u001b[K     |████████████████████████████████| 90 kB 10.3 MB/s \n",
            "\u001b[K     |████████████████████████████████| 147 kB 76.6 MB/s \n",
            "\u001b[K     |████████████████████████████████| 74 kB 3.5 MB/s \n",
            "\u001b[K     |████████████████████████████████| 112 kB 77.5 MB/s \n",
            "\u001b[?25h  Building wheel for sklearn-pycrfsuite (setup.py) ... \u001b[?25l\u001b[?25hdone\n",
            "  Building wheel for antlr4-python3-runtime (setup.py) ... \u001b[?25l\u001b[?25hdone\n",
            "  Building wheel for python-crfsuite-extension (setup.py) ... \u001b[?25l\u001b[?25hdone\n"
          ]
        }
      ],
      "source": [
        "#fastai\n",
        "!pip install -q fastbook\n",
        "\n",
        "# วิธีลง selenium บน colab จาก [Chalach Monkhontirapat](https://medium.com/equinox-blog/%E0%B8%81%E0%B8%B2%E0%B8%A3%E0%B9%83%E0%B8%8A%E0%B9%89-selenium-%E0%B8%9A%E0%B8%99-google-colaboratory-984739ed44e5)\n",
        "!pip install selenium\n",
        "!apt-get update # to update ubuntu to correctly run apt install\n",
        "!apt install chromium-chromedriver\n",
        "!cp /usr/lib/chromium-browser/chromedriver /usr/bin\n",
        "import sys\n",
        "sys.path.insert(0,'/usr/lib/chromium-browser/chromedriver')\n",
        "\n",
        "#ctgan\n",
        "!pip install -q sdv\n",
        "\n",
        "#review generation\n",
        "!pip install -q transformers\n",
        "\n",
        "#machine translation\n",
        "!pip install -q pythainlp[translate] sentencepiece sklearn-pycrfsuite\n",
        "\n",
        "#reset runtime เพื่อให้แน่ใจว่า package ต่างๆใช้งานได้\n",
        "exit()"
      ]
    },
    {
      "cell_type": "markdown",
      "metadata": {
        "id": "MElLEVboe23U"
      },
      "source": [
        "## Data-centric AI เมื่อปริมาณ-คุณภาพข้อมูลสำคัญเท่ากับหรือมากกว่าคุณภาพโมเดล"
      ]
    },
    {
      "cell_type": "markdown",
      "metadata": {
        "id": "GA9SWMpwTTsI"
      },
      "source": [
        "ในปัจจุบันเรามีสถาปัตยกรรมประสิทธิภาพสูงมากมายให้เลือกใช้ทำ ML models (images - ResNet/EfficientNet, texts - BERT family, tabular data - gradient boosted trees) ปริมาณและคุณภาพของชุดข้อมูลจึงเริ่มมีความสำคัญมากยิ่งขึ้นในการทำให้ประสิทธิภาพของโมเดลของเราดีขึ้น\n",
        "\n",
        "แนวคิด Data-centric AI ถูกทำให้เป็นที่รู้จักโดย [Andrew Ng และ Landing AI](https://landing.ai/data-centric-ai/) กล่าวคือแทนที่เราจะพยามสร้างโมเดลที่มีประสิทธิภาพยิ่งขึ้น (และโดยส่วนใหญ่แล้วซับซ้อน ใหญ่ และใช้งานยากขึ้น)ให้เรามาใช้เวลาในการ 1) เพิ่มปริมาณข้อมูลและ 2) พัฒนาคุณภาพข้อมูลแทน\n",
        "\n",
        "ยกตัวอย่าง Data-centric AI ในการตัดคำภาษาไทยด้วยโมเดลโดย [@kornwtp](https://medium.com/@kornwtp/) ในบทความ [Data-Centric ML for Thai Word Segmentation](https://medium.com/@kornwtp/data-centric-for-thai-word-segmentation-e31a79db650d) พวกเขาทำการทดลองตัดคำภาษาไทยด้วยชุดข้อมูล [VISTEC-TP-TH-2021](https://github.com/mrpeerat/OSKut/tree/main/VISTEC-TP-TH-2021) (ประมาณ 5 หมื่นประโยค) ด้วยโมเดล [deepcut](https://github.com/rkcosmos/deepcut) อย่างที่เห็นในตารางรายงานผล การเพิ่มขนาดโมเดลถึง 1 เท่าตัวมีผลให้ความแม่นยำเพิ่มขึ้นเพียงแค่ 1.37% กลับกันการเพิ่มข้อมูลเพียงแค่ 1,500 ตัวอย่างทำให้ความแม่นยำเพิ่มขึ้นถึง 4.90% ยิ่งถ้าข้อมูลที่เพิ่มถูกทำความสะอาดแล้วจะทำให้เพิ่มขึ้นถึง 7.48% (แน่นอนว่าถ้ายิ่งโมเดลใหญ่และข้อมูลเยอะก็ยิ่งดี)\n",
        "\n",
        "<img src=https://miro.medium.com/max/1400/0*J2vA5iRnIMfuDDAc width=\"500px\">"
      ]
    },
    {
      "cell_type": "markdown",
      "metadata": {
        "id": "HvbSBbhneGbF"
      },
      "source": [
        "## ชุดข้อมูลสาธารณะ - Open Data and Open Source"
      ]
    },
    {
      "cell_type": "markdown",
      "metadata": {
        "id": "B58a6xs9YFtM"
      },
      "source": [
        "ชุดข้อมูล open data และโค้ด open source ถือเป็นสาธารณูปโภคขั้นพื้นฐานของการทำ ML และโชคดีที่น่าจะเป็นสาธารณูปโภคขั้นพื้นฐานไม่กี่อย่างที่เราในฐานะบุคคลสามารถช่วยกันสร้างได้ด้วยการนำไปใช้-เผยแพร่ชุดข้อมูลและโค้ด\n",
        "\n",
        "โดยทั่วไปแล้ว ชุดข้อมูลจะถูกเผยแพร่ภายใต้ [Creative Commons Licenses](https://creativecommons.org/) ที่นิยมดังต่อไปนี้\n",
        "\n",
        "* `CC` - Creative Commons\n",
        "* `BY` (Attribution) - ใช้ทำซ้ำ แจกจ่าย ดัดแปลงได้ แต่ต้องอ้างอิงเจ้าของผลงาน\n",
        "* `SA` (ShareAlike) - ใช้ทำซ้ำ แจกจ่าย ดัดแปลงได้ แต่ต้องคง License เดิมไว้\n",
        "* `NC` (NonCommercial) - ใช้ทำซ้ำ แจกจ่าย ดัดแปลงได้ แต่ห้ามใช้เพื่อการค้า\n",
        "* `ND` (NoDerivatives) - ใช้ทำซ้ำ แจกจ่ายได้ แต่ห้ามดัดแปลง\n",
        "\n",
        "เราแนะนำให้คุณแบ่งปันผลงานเป็น `CC-BY-SA` เพื่อให้ชุมชนนักพัฒนาสามารถนำไปต่อยอดได้ เหมือนเช่นที่เรานำงานของชุมชนมาต่อยอด\n",
        "\n",
        "คุณสามารถเลือก License ที่คุณต้องการได้[ที่นี่](https://creativecommons.org/choose/)"
      ]
    },
    {
      "cell_type": "markdown",
      "metadata": {
        "id": "fd0xJTVItcjm"
      },
      "source": [
        "### แหล่งค้นหาชุดข้อมูล"
      ]
    },
    {
      "cell_type": "markdown",
      "metadata": {
        "id": "SifTEta5aiFK"
      },
      "source": [
        "ต่อไปนี้คือแหล่งข้อมูลหลักๆที่คุณสามารถพบเจอชุดข้อมูล open data"
      ]
    },
    {
      "cell_type": "markdown",
      "metadata": {
        "id": "x41zHq7lvDcm"
      },
      "source": [
        "แหล่งค้นหาชุดข้อมูลทั่วไป\n",
        "* [Kaggle](https://www.kaggle.com/datasets)\n",
        "* [Google Dataset Search](https://datasetsearch.research.google.com/)\n",
        "* [Papers with Code](https://paperswithcode.com/datasets)\n",
        "* [Tensorflow Datasets](https://www.tensorflow.org/datasets)\n",
        "\n",
        "แหล่งค้นหาชุดข้อมูล Images\n",
        "* [Open Images Dataset](https://storage.googleapis.com/openimages/web/index.html)\n",
        "* [torchvision.datasets](https://pytorch.org/vision/stable/datasets.html)\n",
        "\n",
        "แหล่งค้นหาชุดข้อมูล NLP และ Speech\n",
        "* [Hugging Face Datasets](https://huggingface.co/datasets)\n",
        "* [torchtext.datasets](https://pytorch.org/text/stable/datasets.html)\n",
        "* [torchaudio.datasets](https://pytorch.org/audio/stable/datasets.html)\n",
        "* [NLP for Thai](https://nlpforthai.com/)\n",
        "\n",
        "\n",
        "แหล่งค้นหาชุดข้อมูล Tabular Data\n",
        "* [UCI Machine Learning Repository](https://archive.ics.uci.edu/ml/index.php)"
      ]
    },
    {
      "cell_type": "markdown",
      "metadata": {
        "id": "w7dRu-mGtsOt"
      },
      "source": [
        "### ชื่อ Task ไว้ใช้ค้นหาชุดข้อมูล"
      ]
    },
    {
      "cell_type": "markdown",
      "metadata": {
        "id": "npLBrq4Aatej"
      },
      "source": [
        "อีกแนวทางการค้นหาข้อมูลคือค้นหา \"[ชื่อ task] datasets\" ใน search engine"
      ]
    },
    {
      "cell_type": "markdown",
      "metadata": {
        "id": "8IVRY-Gjtx94"
      },
      "source": [
        "Images\n",
        "* Image classification; จำแนกรูปภาพ\n",
        "* Object detection; จับวัตถุในรูปภาพ\n",
        "* Image segmentation; จำแนก pixel ในรูปภาพ\n",
        "* Image information retrieval (search); ค้นหารูปภาพด้วยรูปภาพ\n",
        "* Image captioning; ใส่คำบรรยายให้รูปภาพ\n",
        "* Visual question answering; ตอบคำถามจากรูปภาพ\n",
        "* Image generation; สร้างรูปภาพ\n",
        "* Image reconstruction; ซ่อมแซมรูปภาพ (รูปเก่า, เซนเซอร์ ฯลฯ)\n",
        "* Style transfer; เปลี่ยนสไตล์ของรูปภาพ\n",
        "\n",
        "NLP\n",
        "* Sequence classification; จำแนกข้อความ\n",
        "* Token classification; จำแนกหน่วยคำในข้อความ\n",
        "* Extractive question answering; ตอบคำถามจากบทความ\n",
        "* Machine translation; แปลภาษา\n",
        "* Summarization; ย่อความ\n",
        "* Paraphrasing; ถอดความ\n",
        "* Optical character recognition; เปลี่ยนตัวอักษรในภาพเป็นข้อความ\n",
        "* Text information retrieval (search); ค้นหาข้อความด้วยข้อความ\n",
        "* Text generation; สร้างข้อความ\n",
        "* Dialogue; สร้างบทสนทนาตอบโต้\n",
        "\n",
        "Speech\n",
        "* Speech classification; จำแนกเสียง\n",
        "* Automatic speech recognition; ถอดเสียงเป็นข้อความ\n",
        "* Speech synthesis; สร้างเสียง (จากข้อความ)\n",
        "* Speaker recognition; จำแนกผู้พูด\n",
        "\n",
        "Tabular Data\n",
        "* Multi-class classification; จำแนกตัวอย่าง (1 ตัวอย่าง = 1 ประเภท)\n",
        "* Multi-label classification; จำแนกตัวอย่าง (1 ตัวอย่าง = มากกว่า 1 ประเภท)\n",
        "* Regression; ทำนายจำนวนจริง\n",
        "* Time series forecasting; ทำนายตัวเลขในเชิงเวลา\n",
        "* Recommendation; แนะนำสิ่งของ"
      ]
    },
    {
      "cell_type": "markdown",
      "metadata": {
        "id": "VFjggxS9jTU2"
      },
      "source": [
        "## หารูปภาพจาก DuckDuckGo Image Search API"
      ]
    },
    {
      "cell_type": "markdown",
      "metadata": {
        "id": "TXlc2pNnHeR7"
      },
      "source": [
        "เทคนิคแนะนำโดย [fastai v4 part1 lesson 2](https://github.com/fastai/fastbook/blob/master/02_production.ipynb) ผู้ที่สนใจสามารถไปติดตามบทเรียนต้นทางได้ที่ [course.fast.ai](https://course.fast.ai/) สามารถใช้ search engine อื่นๆ เช่น Google, Bing เป็นต้น เราเลือกใช้ DuckDuckGo เนื่องจากความสะดวกที่สามารถส่งคำขอค้นหารูปภาพได้โดยไม่ต้องใช้ API key"
      ]
    },
    {
      "cell_type": "code",
      "execution_count": 1,
      "metadata": {
        "id": "2G1YaxhTjUC8"
      },
      "outputs": [],
      "source": [
        "from fastbook import *\n",
        "from fastai.vision.widgets import *\n",
        "from tqdm.auto import tqdm\n",
        "\n",
        "#download from duckduckgo\n",
        "def search_images_ddg(key, max_n=200):\n",
        "     \"\"\"Search for 'key' with DuckDuckGo and return a unique urls of 'max_n' images\n",
        "        (Adopted from https://github.com/deepanprabhu/duckduckgo-images-api)\n",
        "     \"\"\"\n",
        "     url        = 'https://duckduckgo.com/'\n",
        "     params     = {'q':key}\n",
        "     res        = requests.post(url,data=params)\n",
        "     searchObj  = re.search(r'vqd=([\\d-]+)\\&',res.text)\n",
        "     if not searchObj: print('Token Parsing Failed !'); return\n",
        "     requestUrl = url + 'i.js'\n",
        "     headers    = {'User-Agent': 'Mozilla/5.0 (X11; Ubuntu; Linux x86_64; rv:71.0) Gecko/20100101 Firefox/71.0'}\n",
        "     params     = (('l','us-en'),('o','json'),('q',key),('vqd',searchObj.group(1)),('f',',,,'),('p','1'),('v7exp','a'))\n",
        "     urls       = []\n",
        "     while True:\n",
        "         try:\n",
        "             res  = requests.get(requestUrl,headers=headers,params=params)\n",
        "             data = json.loads(res.text)\n",
        "             for obj in data['results']:\n",
        "                 urls.append(obj['image'])\n",
        "                 max_n = max_n - 1\n",
        "                 if max_n < 1: return L(set(urls))     # dedupe\n",
        "             if 'next' not in data: return L(set(urls))\n",
        "             requestUrl = url + data['next']\n",
        "         except:\n",
        "             pass"
      ]
    },
    {
      "cell_type": "code",
      "execution_count": 2,
      "metadata": {
        "id": "N0lSJEF5nJVw",
        "outputId": "3240d40a-f32b-4019-c494-3952a63cc0b8",
        "colab": {
          "base_uri": "https://localhost:8080/",
          "height": 49,
          "referenced_widgets": [
            "8b9431a0496b4e2e99d6828cbbd383d5",
            "32cd964512824d7296be1ee145acaee5",
            "7c972004e19a4b4d97e5424bdc2024f1",
            "9df8ac08c66a44d08e56fb666c51ce87",
            "2162941054fb42a5a7fdfe03a37cfe4a",
            "15c409c9b0dd4a6fae447492595a5b89",
            "34550dd723b1428d95a901f5fbf30680",
            "fc8939c1b7374f4997cfe79595aac46a",
            "b443b1344073480b8a77e77323174bec",
            "9dce7ab3ee3643eeac9a1125d799e6b4",
            "05a9447bb5374cc59e1dc6ba0c620952"
          ]
        }
      },
      "outputs": [
        {
          "output_type": "display_data",
          "data": {
            "text/plain": [
              "  0%|          | 0/2 [00:00<?, ?it/s]"
            ],
            "application/vnd.jupyter.widget-view+json": {
              "version_major": 2,
              "version_minor": 0,
              "model_id": "8b9431a0496b4e2e99d6828cbbd383d5"
            }
          },
          "metadata": {}
        }
      ],
      "source": [
        "#save ไว้ที่ไหน\n",
        "path = Path('images')\n",
        "#เอารูปอะไรบ้าง (labels)\n",
        "labels = ['chocolate chip cookies','raisin cookies']\n",
        "#เอา label ละกี่รูป\n",
        "MAX_N = 100\n",
        "\n",
        "if not path.exists():\n",
        "    path.mkdir()\n",
        "    for l in tqdm(labels):\n",
        "        dest = (path/l)\n",
        "        dest.mkdir(exist_ok=True)\n",
        "        results = search_images_ddg(l, max_n=MAX_N)\n",
        "        download_images(dest, urls=results)"
      ]
    },
    {
      "cell_type": "code",
      "execution_count": 3,
      "metadata": {
        "colab": {
          "base_uri": "https://localhost:8080/"
        },
        "id": "Dd81V-kOFVMv",
        "outputId": "3983b63c-9267-4539-9d97-7e1f935f7df9"
      },
      "outputs": [
        {
          "output_type": "execute_result",
          "data": {
            "text/plain": [
              "(#191) [Path('images/raisin cookies/00000011.jpg'),Path('images/raisin cookies/00000083.jpg'),Path('images/raisin cookies/00000053.jpg'),Path('images/raisin cookies/00000014.jpg'),Path('images/raisin cookies/00000006.jpg'),Path('images/raisin cookies/00000081.jpg'),Path('images/raisin cookies/00000096.jpg'),Path('images/raisin cookies/00000087.jpg'),Path('images/raisin cookies/00000089.jpg'),Path('images/raisin cookies/00000042.JPG')...]"
            ]
          },
          "metadata": {},
          "execution_count": 3
        }
      ],
      "source": [
        "#เช็คว่าได้รูปอะไรบ้าง\n",
        "fns = get_image_files(path)\n",
        "fns"
      ]
    },
    {
      "cell_type": "code",
      "execution_count": 4,
      "metadata": {
        "colab": {
          "base_uri": "https://localhost:8080/"
        },
        "id": "nkkKMcdZFbFz",
        "outputId": "eeb6da45-ce81-409f-8cbc-e6480506d492"
      },
      "outputs": [
        {
          "output_type": "execute_result",
          "data": {
            "text/plain": [
              "(#1) [Path('images/raisin cookies/00000053.jpg')]"
            ]
          },
          "metadata": {},
          "execution_count": 4
        }
      ],
      "source": [
        "#ดูว่าหารูปไหนไม่เจอบ้าง\n",
        "failed = verify_images(fns)\n",
        "failed"
      ]
    },
    {
      "cell_type": "code",
      "execution_count": 5,
      "metadata": {
        "colab": {
          "base_uri": "https://localhost:8080/"
        },
        "id": "Dru0L1cdFbIr",
        "outputId": "68b6352e-946e-4723-8599-65f9e0c3f287"
      },
      "outputs": [
        {
          "output_type": "execute_result",
          "data": {
            "text/plain": [
              "(#1) [None]"
            ]
          },
          "metadata": {},
          "execution_count": 5
        }
      ],
      "source": [
        "#นำรูปที่หาไม่เจอออก\n",
        "failed.map(Path.unlink)"
      ]
    },
    {
      "cell_type": "markdown",
      "metadata": {
        "id": "1Y_208ZQj6lZ"
      },
      "source": [
        "## Web Scraping ดึงข้อมูลจากเว็บไซต์สาธารณะ"
      ]
    },
    {
      "cell_type": "markdown",
      "metadata": {
        "id": "ymkPelcdGVTD"
      },
      "source": [
        "Web Scraping คือการเขียนโปรแกรมดึงข้อมูลจากเว็บไซต์สาธารณะ ข้อควรระวังคือแม้โดยความเป็นจริงแล้วข้อมูลเหล่านั้นจะถูกเปิดเผยให้ใครเข้าไปดูก็ได้ แต่ไม่ได้หมายความว่าเจ้าของเว็บไซต์จะอยากให้เราดึงข้อมูลจำนวนมากจากเว็บไซต์ของพวกเขา ไม่ว่าจะด้วยเหตุผลด้านลิขสิทธิ์การใช้งานหรือการเพิ่มภาระให้เซิร์ฟเวอร์ของเว็บไซต์นั้นๆ ยกตัวอย่างเช่น Facebook หรือ Twitter ที่ข้อตกลงการใช้งานของพวกเขาไม่อนุญาตให้เราดึงข้อมูลด้วย Web Scraping แต่อนุญาตให้ดึงข้อมูลผ่าน API อย่างเป็นทางการแทน \n",
        "\n",
        "หากไม่แน่ใจในนโยบายการใช้งาน ทางที่ดีควรติดต่อขออนุญาตจากเจ้าของเว็บไซต์ก่อน นี่คือตัวอย่างที่ทางทีมงานติดต่อไปยัง [soccersuck.com](https://www.soccersuck.com) เพื่อขออนุญาตนำมาใช้สอน\n",
        "\n",
        "> ทีมงาน AI Builders: สวัสดีครับ ผมทำโครงการสอนเด็กมัธยมทำ AI ชื่อ AI Builders (https://www.facebook.com/aibuildersx) อยู่ครับ พอดีครั้งนี้เราจะจัดสอนช่วงหลังสงกรานต์ และมีหัวข้อหนึ่งคือ web scraping หรือการเขียนโปรแกรมดึงเนื้อหาจากเว็บไซต์ อยากขออนุญาตใช้ https://www.soccersuck.com/boards/oldnews เป็นตัวอย่างในการฝึกสอนครับ โดนสอนให้น้องๆเขียนโปรแกรมดึงพาดหัวข่าว, url ข่าว, และเนื้อข่าวเฉพาะกระทู้ที่อยู่ใน old news 3 หน้าเท่านั้น โปรแกรมทั้งหมดใช้เพื่อสาธิตในการศึกษาครับ นักเรียนมีจำนวน 50 คน คิดว่าไม่มีปัญหา traffic แม้จะกดรันโค้ดพร้อมกันทุกคนครับ\n",
        "\n",
        "> Soccersuck: ได้ครับไม่มีปัญหา\n",
        "\n"
      ]
    },
    {
      "cell_type": "markdown",
      "metadata": {
        "id": "9d5NDzNrGQjw"
      },
      "source": [
        "### Static Web"
      ]
    },
    {
      "cell_type": "markdown",
      "metadata": {
        "id": "bd0Q6VKNteI0"
      },
      "source": [
        "สมมุติว่าเราอยากทำโมเดล \"เขียนพาดหัวข่าวฟุตบอลจากเนื้อข่าวในเว็บ [soccersuck.com](https://www.soccersuck.com/boards/oldnews)\""
      ]
    },
    {
      "cell_type": "code",
      "execution_count": 6,
      "metadata": {
        "id": "DIbJQ1B3j7St"
      },
      "outputs": [],
      "source": [
        "import requests\n",
        "from bs4 import BeautifulSoup\n",
        "import pandas as pd"
      ]
    },
    {
      "cell_type": "markdown",
      "metadata": {
        "id": "g1oRwKwurXS8"
      },
      "source": [
        "#### ดึง HTML มาเปลี่ยนเป็น Soup"
      ]
    },
    {
      "cell_type": "code",
      "execution_count": 7,
      "metadata": {
        "id": "N1imBwROfwPh"
      },
      "outputs": [],
      "source": [
        "#package สำหรับจัดการ html เรียกว่า BeautifulSoup\n",
        "def get_soup(url):\n",
        "    with requests.get(url) as r:\n",
        "        soup = BeautifulSoup(r.text, features='html.parser')\n",
        "    return soup"
      ]
    },
    {
      "cell_type": "code",
      "execution_count": 8,
      "metadata": {
        "colab": {
          "base_uri": "https://localhost:8080/"
        },
        "id": "N9QLFWVeqrY_",
        "outputId": "4b8a7842-b9df-4acd-d43c-57f817d99458"
      },
      "outputs": [
        {
          "output_type": "execute_result",
          "data": {
            "text/plain": [
              "﻿<!DOCTYPE HTML>\n",
              "\n",
              "<html xmlns=\"http://www.w3.org/1999/xhtml\" xmlns:fb=\"https://www.facebook.com/2008/fbml\" xmlns:og=\"http://opengraphprotocol.org/schema/\">\n",
              "<head>\n",
              "<meta content=\"text/html; charset=utf-8\" http-equiv=\"Content-Type\"/> <title>\n",
              "\t\t#### ได้รู้ความจริง ได้ยิ่งกว่าฟุตบอล อ่าน soccersuck.com####\t</title>\n",
              "<link href=\"/img/web/ss_logo_f_16.ico\" rel=\"shortcut icon\"/>\n",
              "<meta content=\"app-id=1042191005\" name=\"apple-itunes-app\"/>\n",
              "<meta content=\"app-id=com.soccersuck.devtab.com.soccersuck\" name=\"google-play-app\"/>\n",
              "<link href=\"https://www.soccersuck.com/css/jquery.smartbanner.css\" media=\"screen\" rel=\"stylesheet\" type=\"text/css\"/>\n",
              "<meta content=\"ข่าวฟุตบอล ข่าวบอล นักฟุตบอล ผลการแข่งขัน ข่าวลือ ข่าวการย้ายทีม บอลอังกฤษ บอลเยอรมัน บอลอิตาลี บอลสเปน ฟุตบอล บอบทีมชาติ บอลไทย บอลทีมชติไทย เว็บบอร์ด วาไรตี้ ภาพเซ็กซี่ 18+ โปรแกรมการแข่งขัน โปรแกรมถ่ายทอดสด\" name=\"description\">\n",
              "<meta content=\"ข่าวฟุตบอล,ข่าวบอล,ผลการแข่งขัน,นักฟุตบอล,บอลอังกฤษ,บอลเยอรมัน,บอลอิตาลี,บอลสเปน,ฟุตบอล,ข่าวการย้ายทีม,ภาพเซ็กซี่,18+\" name=\"keyword\">\n",
              "<meta content=\"NTViMzdjNWMyNzBlNWQ4NGM3OTNlNDg2ZDc5OGMwMWQ=\" name=\"thstats-verify\"/>\n",
              "<meta content=\"SoccerSuck\" property=\"og:title\"/>\n",
              "<meta content=\"https://www.soccersuck.com/img/web/ss_main_h_logo_ss.png\" property=\"og:image\"/>\n",
              "<meta content=\"ได้รู้ความจริงยิ่งกว่าฟุตบอล\" property=\"og:description\"/>\n",
              "<meta content=\"https://www.soccersuck.com/\" property=\"og:url\"/>\n",
              "<link href=\"https://www.soccersuck.com/img/web/ss_main_h_logo_ss.png\" rel=\"image_src\">\n",
              "<link href=\"https://fonts.googleapis.com/css?family=Prompt:400,400i,500,500i\" rel=\"stylesheet\"/><link href=\"/css/cake.generic.css\" rel=\"stylesheet\" type=\"text/css\"><link href=\"/css/header.css\" rel=\"stylesheet\" type=\"text/css\"/><link href=\"/css/home.css?v3.33\" rel=\"stylesheet\" type=\"text/css\"/><script src=\"/js/jquery.js\" type=\"text/javascript\"></script>\n",
              "<script>\n",
              "  (function(i,s,o,g,r,a,m){i['GoogleAnalyticsObject']=r;i[r]=i[r]||function(){\n",
              "  (i[r].q=i[r].q||[]).push(arguments)},i[r].l=1*new Date();a=s.createElement(o),\n",
              "  m=s.getElementsByTagName(o)[0];a.async=1;a.src=g;m.parentNode.insertBefore(a,m)\n",
              "  })(window,document,'script','//www.google-analytics.com/analytics.js','ga');\n",
              "\n",
              "  ga('create', 'UA-65318217-1', 'auto');\n",
              "  ga('send', 'pageview');\n",
              "\n",
              "</script>\n",
              "<!-- Global site tag (gtag.js) - Google Analytics -->\n",
              "<script async=\"\" src=\"https://www.googletagmanager.com/gtag/js?id=UA-65318217-1\"></script>\n",
              "<script>\n",
              "  window.dataLayer = window.dataLayer || [];\n",
              "  function gtag(){dataLayer.push(arguments);}\n",
              "  gtag('js', new Date());\n",
              "\n",
              "  gtag('config', 'UA-65318217-1');\n",
              "</script>\n",
              "<!-- DFP -->\n",
              "<script async=\"async\" src=\"https://www.googletagservices.com/tag/js/gpt.js\"></script>\n",
              "<script>\n",
              "  var googletag = googletag || {};\n",
              "  googletag.cmd = googletag.cmd || [];\n",
              "</script>\n",
              "<script>\n",
              "  googletag.cmd.push(function() {\n",
              "    googletag.defineSlot('/16403602/soccersuck_web_xc', [420, 300], 'div-gpt-ad-1488813165691-0').addService(googletag.pubads());\n",
              "    googletag.pubads().enableSingleRequest();\n",
              "    googletag.enableServices();\n",
              "  });\n",
              "</script>\n",
              "<!-- OneSignal -->\n",
              "<script async=\"async\" src=\"https://cdn.onesignal.com/sdks/OneSignalSDK.js\"></script>\n",
              "<script>\n",
              "    var OneSignal = window.OneSignal || [];\n",
              "    OneSignal.push([\"init\", {\n",
              "      appId: \"0a2d7f58-8864-4b03-a081-194606aeee94\",\n",
              "      autoRegister: true, /* Set to true to automatically prompt visitors */\n",
              "      subdomainName: 'soccersuck',\n",
              "      /*\n",
              "      subdomainName: Use the value you entered in step 1.4: http://imgur.com/a/f6hqN\n",
              "      */\n",
              "      httpPermissionRequest: {\n",
              "        enable: true\n",
              "      },\n",
              "      notifyButton: {\n",
              "          enable: false /* Set to false to hide */\n",
              "      },\n",
              "      safari_web_id: 'web.onesignal.auto.4ed01e00-f557-41b7-a4bd-c51172d553fd',\n",
              "      welcomeNotification: {\n",
              "        disable: true\n",
              "    }\n",
              "    }]);\n",
              "  </script>\n",
              "<!-- update 9 Feb 59 -->\n",
              "<script type=\"text/javascript\">\n",
              "  var googletag = googletag || {};\n",
              "  googletag.cmd = googletag.cmd || [];\n",
              "  (function() {\n",
              "    var gads = document.createElement('script');\n",
              "    gads.async = true;\n",
              "    gads.type = 'text/javascript';\n",
              "    var useSSL = 'https:' == document.location.protocol;\n",
              "    gads.src = (useSSL ? 'https:' : 'http:') +\n",
              "      '//www.googletagservices.com/tag/js/gpt.js';\n",
              "    var node = document.getElementsByTagName('script')[0];\n",
              "    node.parentNode.insertBefore(gads, node);\n",
              "  })();\n",
              "</script>\n",
              "<script type=\"text/javascript\">\n",
              "  googletag.cmd.push(function() {\n",
              "    googletag.defineSlot('/16403602/ss_cover', [1000, 500], 'div-gpt-ad-1455029775949-0').addService(googletag.pubads());\n",
              "    googletag.pubads().enableSingleRequest();\n",
              "    googletag.enableServices();\n",
              "  });\n",
              "</script>\n",
              "<!-- update 9 Feb 59 -->\n",
              "<!-- Google Tag Manager -->\n",
              "<script>(function(w,d,s,l,i){w[l]=w[l]||[];w[l].push({'gtm.start':\n",
              "new Date().getTime(),event:'gtm.js'});var f=d.getElementsByTagName(s)[0],\n",
              "j=d.createElement(s),dl=l!='dataLayer'?'&l='+l:'';j.async=true;j.src=\n",
              "'https://www.googletagmanager.com/gtm.js?id='+i+dl;f.parentNode.insertBefore(j,f);\n",
              "})(window,document,'script','dataLayer','GTM-MW9THLS');</script>\n",
              "<!-- End Google Tag Manager -->\n",
              "<script async=\"\" data-ad-client=\"ca-pub-6459522510239433\" src=\"https://pagead2.googlesyndication.com/pagead/js/adsbygoogle.js\"></script>\n",
              "</link></link></meta></meta></head>\n",
              "<body>\n",
              "<div id=\"fb-root\"></div>\n",
              "<script src=\"https://connect.facebook.net/en_US/all.js\" type=\"text/javascript\"></script> <script src=\"/js/fb_init.js\" type=\"text/javascript\"></script> <div id=\"header\">\n",
              "<div class=\"header_layout\">\n",
              "<a href=\"https://www.soccersuck.com/\" style=\"color:#000;\"><div class=\"logo\"></div></a>\n",
              "<div class=\"header_offline\">\n",
              "<div style=\"float: right;\">\n",
              "<a href=\"https://www.soccersuck.com/users/register/\" style=\"text-decoration: none;\">\n",
              "<div class=\"header_register\">Register</div>\n",
              "</a>\n",
              "</div>\n",
              "<div style=\"float: right;\">\n",
              "<div class=\"header_login\">Login</div>\n",
              "</div>\n",
              "<div style=\"float:right;\">\n",
              "<div style=\"float: left;margin: 3px 10px 0px 0px; \">\n",
              "<div class=\"header_label\">Username</div>\n",
              "<div class=\"header_input\"><input id=\"header_email\" type=\"text\"/></div>\n",
              "</div>\n",
              "<div style=\"float: left;margin: 3px 10px 0px 0px;\">\n",
              "<div class=\"header_label\">Password</div>\n",
              "<div class=\"header_input\"><input id=\"header_pass\" type=\"password\"/></div>\n",
              "</div>\n",
              "<div class=\"clear\"></div>\n",
              "<div style=\"float: left;margin: 0px 10px 0px 0px;\">\n",
              "<div class=\"header_label\"><input checked=\"\" id=\"header_ckemail\" style=\"\" type=\"checkbox\"/> จำรหัสผ่าน</div>\n",
              "</div>\n",
              "<div style=\"float: left;margin: 0px 0px 0px 11px;\">\n",
              "<a href=\"https://www.soccersuck.com/users/forgotpassword\" style=\"color:#000;text-decoration: none;\">\n",
              "<div class=\"header_label\">ลืมรหัสผ่าน?</div>\n",
              "</a>\n",
              "</div>\n",
              "<div class=\"clear\"></div>\n",
              "</div>\n",
              "<div style=\"float: right;\">\n",
              "<div style=\"margin:  9px 10px 0px 0px;float: left;\"><a href=\"https://www.soccersuck.com/boards/topic/875245\" style=\"text-decoration: none;color: #FFF;\" target=\"_blank\"><div class=\"bthowto\"></div></a></div>\n",
              "<div style=\"margin: 15px 5px 0px 5px;float: left;\"><a href=\"https://www.soccersuck.com/users/jail\" style=\"text-decoration: none;color: #FFF;\" target=\"_blank\"><div class=\"btprisoner\"></div></a></div>\n",
              "<div class=\"clear\"></div>\n",
              "</div>\n",
              "<div class=\"clear\"></div>\n",
              "</div>\n",
              "<div class=\"clear\"></div>\n",
              "</div>\n",
              "<div class=\"loaddingHeader\" style=\"display: none;background: #FFF;position: fixed;padding: 20px;top: 50%;left: 50%;margin:-45px 0px 0px -45px;box-shadow: 4px 4px 4px #888;\"><img src=\"/img/web/loading_50.gif\"/></div>\n",
              "<script src=\"/js/login.js\" type=\"text/javascript\"></script> </div>\n",
              "<div id=\"container\">\n",
              "<div class=\"content_left\">\n",
              "<div style=\"margin: 0px 0px 2px 10px;\">\n",
              "</div>\n",
              "<ul class=\"menu_left\">\n",
              "<a href=\"https://www.soccersuck.com/shop\" style=\"color: #FFF;text-decoration: none;\" target=\"_blank\">\n",
              "<li>\n",
              "<img alt=\"\" src=\"/img/web/top_item.png?1\" style=\"width: 90px;margin: 4px 21px;\"/>\n",
              "</li>\n",
              "</a>\n",
              "<a href=\"https://www.soccersuck.com/\" style=\"color: #FFF;text-decoration: none;\" target=\"_blank\">\n",
              "<li>\n",
              "<img alt=\"\" src=\"/img/web/ss_main_icon_menu_29.png\" style=\"width:25px;margin: 8px -2px -7px 2px;\"> <span>หน้าแรก</span>\n",
              "</img></li>\n",
              "</a>\n",
              "<!--  <a target=\"_blank\" href=\"http://www.goal168tv.com/\" style=\"color: #FFF;text-decoration: none;\">\n",
              "                            <li>\n",
              "                                <img src=\"/images/Aug-05-2560%2020-20-28.gif\" style=\"width:139px;\" alt=\"\" />                                \n",
              "                            </li>\n",
              "                             </a> -->\n",
              "<a href=\"https://www.soccersuck.com/boards/oldnews/\" style=\"color: #FFF;text-decoration: none;\" target=\"_blank\">\n",
              "<li>\n",
              "<img alt=\"\" src=\"/img/web/ss_main_icon_menu_33.png\" style=\"width:25px;margin: 9px 0px -4px 1px;\"/> <span>ข่าวเก่า</span>\n",
              "</li>\n",
              "</a>\n",
              "<a href=\"https://www.soccersuck.com/boards/matchreport/\" style=\"color: #FFF;text-decoration: none;\" target=\"_blank\">\n",
              "<li>\n",
              "<img alt=\"\" src=\"/img/web/ss_main_icon_menu_55.png\" style=\"width:25px;margin: 6px -4px -7px 4px;\"/> <span>ผลบอลย้อนหลัง</span>\n",
              "</li>\n",
              "</a>\n",
              "<!--     <a target=\"_blank\" href=\"http://www.polballss.com/\" style=\"color: #FFF;text-decoration: none;\">\n",
              "                            <li>\n",
              "                               \n",
              "                                <img src=\"/img/web/ss_main_icon_menu_38.png\" style=\"width:25px;margin: 7px -4px -5px 1px;\" alt=\"\" />                                <span>ทีเด็ด เบนฟรีคิก</span>\n",
              "                                \n",
              "                            </li>\n",
              "                            </a>-->\n",
              "<!--<a target=\"_blank\" href=\"http://www.guideball.com/\" style=\"color: #FFF;text-decoration: none;\">\n",
              "                            <li>\n",
              "                                \n",
              "                                <img src=\"/img/web/ss_main_icon_menu_41.png\" style=\"width:25px;margin: 9px -4px -6px 1px;\" alt=\"\" />                                <span>รายงานสดผลบอล</span>\n",
              "                                \n",
              "                            </li>\n",
              "                            </a>-->\n",
              "<a href=\"https://www.soccersuck.com/boards/topic/1938391\" style=\"color: #FFF;text-decoration: none;\" target=\"_blank\">\n",
              "<li>\n",
              "<img alt=\"\" src=\"/img/web/ss_main_icon_menu_43.png\" style=\"width:25px;margin: 12px -4px -3px 2px;\"/> <span style=\"font-size: 11px;\">โปรแกรมถ่ายทอดสด</span>\n",
              "</li>\n",
              "</a>\n",
              "<a href=\"https://www.soccersuck.com/boards/topic/1938391\" style=\"color: #FFF;text-decoration: none;\" target=\"_blank\">\n",
              "<li>\n",
              "<img alt=\"\" src=\"/img/web/ss_main_icon_menu_45.png\" style=\"width:25px;margin: 10px -4px -4px 2px;\"/> <span style=\"font-size: 11px;\">โปรแกรมบอลล่วงหน้า</span>\n",
              "</li>\n",
              "</a>\n",
              "<a href=\"https://www.soccersuck.com/boards/topic/994224\" style=\"color: #FFF;text-decoration: none;\" target=\"_blank\">\n",
              "<li>\n",
              "<img alt=\"\" src=\"/img/web/ss_main_icon_menu_49.png\" style=\"width:25px;margin: 8px -3px -6px 2px;\"/> <span>สรุปผลย้อนหลัง</span>\n",
              "</li>\n",
              "</a>\n",
              "<a href=\"https://www.soccersuck.com/menu/column\" style=\"color: #FFF;text-decoration: none;\" target=\"_blank\">\n",
              "<li>\n",
              "<img alt=\"\" src=\"/img/web/ss_main_icon_menu_55.png\" style=\"width:25px;margin: 6px -4px -7px 5px;\"/> <span>คอลัมน์+สกู๊ป</span>\n",
              "</li>\n",
              "</a>\n",
              "<a href=\"https://www.soccersuck.com/boards\" style=\"color: #FFF;text-decoration: none;\" target=\"_blank\">\n",
              "<li>\n",
              "<img alt=\"\" src=\"/img/web/ss_main_icon_menu_66.png\" style=\"margin: 7px -1px -7px 5px;\"/> <span>เว็บบอร์ด</span>\n",
              "</li>\n",
              "</a>\n",
              "<a href=\"https://www.soccersuck.com/menu/history\" style=\"color: #FFF;text-decoration: none;\" target=\"_blank\">\n",
              "<li>\n",
              "<img alt=\"\" src=\"/img/web/ss_main_icon_menu_68.png\" style=\"width:25px;margin: 4px -1px -11px 5px;\"/> <span>ประวัติ soccersuck</span>\n",
              "</li>\n",
              "</a>\n",
              "<!-- <a target=\"_blank\" href=\"https://www.soccersuck.com/boards/topic/0\" style=\"color: #FFF;text-decoration: none;\">\n",
              "                            <li>\n",
              "                                <img src=\"/img/web/ss_main_icon_menu_71.png\" style=\"width:25px;margin: 9px -1px -7px 5px;\" alt=\"\" />                                <span>พาร์ทเนอร์</span>\n",
              "                            </li>\n",
              "                            </a>-->\n",
              "<a href=\"https://www.soccersuck.com/users/contact\" style=\"color: #FFF;text-decoration: none;\" target=\"_blank\">\n",
              "<li>\n",
              "<img alt=\"\" src=\"/img/web/ss_main_icon_menu_w.png\" style=\"width:25px;margin: 9px 0px -4px 5px;\"/> <span>ติดต่อโฆษณา</span>\n",
              "</li>\n",
              "</a>\n",
              "</ul>\n",
              "<script type=\"text/javascript\">\n",
              "    $('.menu_left li').click(function(){\n",
              "\n",
              "        $('.menu_left li').removeClass('menu_left_selected');\n",
              "        $(this).addClass('menu_left_selected');\n",
              "        var inxmenu = $(this).index();\n",
              "        $('.sub_menu_left_pate').hide();\n",
              "        if(!$('.menu_left li:eq('+(inxmenu+1)+')').is(':visible')){\n",
              "            $('.menu_left li:eq('+(inxmenu+1)+')').show();\n",
              "        }\n",
              "    });\n",
              "</script>\n",
              "</div>\n",
              "<div class=\"content_main\">\n",
              "<div class=\"adv_A\">\n",
              "<div style=\"margin:2px 0px 0px 2px;\">\n",
              "<!-- Composite Start -->\n",
              "<div id=\"M664411ScriptRootC1256745\"></div>\n",
              "<script async=\"\" src=\"https://jsc.mgid.com/s/o/soccersuck.com.1256745.js\"></script>\n",
              "<!-- Composite End -->\n",
              "</div>\n",
              "</div>\n",
              "<div class=\"headline_head\">\n",
              "                ได้รู้ความจริงยิ่งกว่าฟุตบอล อ่านซ๊อกเกอร์ซัค\n",
              "            </div>\n",
              "<div style=\"border-top: 3px solid #f36523;width: 727px;margin: 0px 0px 0px 2px;\"></div>\n",
              "<div class=\"headline\" style=\"padding:1px 0px;\">\n",
              "<div class=\"oldnew_p_thead\">\n",
              "<img alt=\"\" src=\"/img/web/ss_latest_new_icon_ca.png\" style=\"margin:5px 5px -6px 5px;\"/>22/04/22                    </div>\n",
              "<div class=\"oldnew_p_tr\" style=\"background: #C4E29B;\">\n",
              "<img alt=\"\" src=\"https://www.soccersuck.com/images/eng.gif\" style=\"margin: 0px 5px -1px 2px;width: 20px;\"/> <a href=\"https://www.soccersuck.com/boards/topic/2141328\" target=\"_blank\">\n",
              "                    สื่อตี 'ทุนโบห์ลี่' มั่นใจเทคโอเวอร์สิงห์สำเร็จ                    </a>\n",
              "</div>\n",
              "<div class=\"oldnew_p_tr\" style=\"background: #99C45F;\">\n",
              "<img alt=\"\" src=\"https://www.soccersuck.com/images/eng.gif\" style=\"margin: 0px 5px -1px 2px;width: 20px;\"/> <a href=\"https://www.soccersuck.com/boards/topic/2141323\" target=\"_blank\">\n",
              "                    JK ยอมรับคงคิดถึง 'เมอร์ซี่ไซค์ดาร์บี้' ถ้าทอฟฟี่ต...                    </a>\n",
              "</div>\n",
              "<div class=\"oldnew_p_tr\" style=\"background: #C4E29B;\">\n",
              "<img alt=\"\" src=\"https://www.soccersuck.com/images/eng.gif\" style=\"margin: 0px 5px -1px 2px;width: 20px;\"/> <a href=\"https://www.soccersuck.com/boards/topic/2141320\" target=\"_blank\">\n",
              "                    'เสี่ยหมู' ปัดโอกาสกลับผีร่วมงาน 'เทน ฮาก\u0003...                    </a>\n",
              "</div>\n",
              "<div class=\"oldnew_p_tr\" style=\"background: #99C45F;\">\n",
              "<img alt=\"\" src=\"https://www.soccersuck.com/images/eng.gif\" style=\"margin: 0px 5px -1px 2px;width: 20px;\"/> <a href=\"https://www.soccersuck.com/boards/topic/2141316\" target=\"_blank\">\n",
              "                    ทุกคะแนนมีค่า! 'แลมพ์' บอกท๊อฟฟี่เยือนหงส์แต้มเดีย...                    </a>\n",
              "</div>\n",
              "<div class=\"oldnew_p_tr\" style=\"background: #C4E29B;\">\n",
              "<img alt=\"\" src=\"https://www.soccersuck.com/images/thailand.gif\" style=\"margin: 0px 5px -1px 2px;width: 20px;\"/> <a href=\"https://www.soccersuck.com/boards/topic/2141315\" target=\"_blank\">\n",
              "                    ต้านไม่ไหว! \"เชียงราย\" ยังไร้แต้มโดน \"วิสเซล ...                    </a>\n",
              "</div>\n",
              "<div class=\"oldnew_p_tr\" style=\"background: #99C45F;\">\n",
              "<img alt=\"\" src=\"https://www.soccersuck.com/images/eng.gif\" style=\"margin: 0px 5px -1px 2px;width: 20px;\"/> <a href=\"https://www.soccersuck.com/boards/topic/2141309\" target=\"_blank\">\n",
              "                    เผยผีเตรียมดร็อป 'แมกไกวร์' เยือนปืน                    </a>\n",
              "</div>\n",
              "<div class=\"oldnew_p_tr\" style=\"background: #C4E29B;\">\n",
              "<img alt=\"\" src=\"https://www.soccersuck.com/images/thailand.gif\" style=\"margin: 0px 5px -1px 2px;width: 20px;\"/> <a href=\"https://www.soccersuck.com/boards/topic/2141308\" target=\"_blank\">\n",
              "                    วันออสการ์กีฬาไทย! \"มาดามแป้ง\" ขึ้นรับทีมยอดเยี่ยม...                    </a>\n",
              "</div>\n",
              "<div class=\"oldnew_p_tr\" style=\"background: #99C45F;\">\n",
              "<img alt=\"\" src=\"https://www.soccersuck.com/images/eng.gif\" style=\"margin: 0px 5px -1px 2px;width: 20px;\"/> <a href=\"https://www.soccersuck.com/boards/topic/2141304\" target=\"_blank\">\n",
              "                    'ทูเคิ่ล' รับฟอร์มเกมเหย้าสิงห์น่ากังวล                    </a>\n",
              "</div>\n",
              "<div class=\"oldnew_p_tr\" style=\"background: #C4E29B;\">\n",
              "<img alt=\"\" src=\"https://www.soccersuck.com/images/eng.gif\" style=\"margin: 0px 5px -1px 2px;width: 20px;\"/> <a href=\"https://www.soccersuck.com/boards/topic/2141290\" target=\"_blank\">\n",
              "                    วิจารณ์ได้วิจารณ์ไป! JK ไม่เคยกังขา 'ธิอาโก้' ไม่เ...                    </a>\n",
              "</div>\n",
              "<div class=\"oldnew_p_tr\" style=\"background: #99C45F;\">\n",
              "<img alt=\"\" src=\"https://www.soccersuck.com/images/eng.gif\" style=\"margin: 0px 5px -1px 2px;width: 20px;\"/> <a href=\"https://www.soccersuck.com/boards/topic/2141278\" target=\"_blank\">\n",
              "                    'โทมิยาสุ' มีลุ้นคุมแบ็คช่วย 'ปืน' บูีผี                    </a>\n",
              "</div>\n",
              "<div class=\"oldnew_p_tr\" style=\"background: #C4E29B;\">\n",
              "<img alt=\"\" src=\"https://www.soccersuck.com/images/eng.gif\" style=\"margin: 0px 5px -1px 2px;width: 20px;\"/> <a href=\"https://www.soccersuck.com/boards/topic/2141266\" target=\"_blank\">\n",
              "                    'รังนิค' รับ 'ป็อกบา' คงพักยาวจนจบซีซั่น                    </a>\n",
              "</div>\n",
              "<div class=\"oldnew_p_tr\" style=\"background: #99C45F;\">\n",
              "<img alt=\"\" src=\"https://www.soccersuck.com/images/eng.gif\" style=\"margin: 0px 5px -1px 2px;width: 20px;\"/> <a href=\"https://www.soccersuck.com/boards/topic/2141197\" target=\"_blank\">\n",
              "                    ดีกว่าที่ปรึกษา!ริโอเชียร์ผีดัน 'รังนิค' นั่ง ผอ.ฟ...                    </a>\n",
              "</div>\n",
              "<div class=\"oldnew_p_tr\" style=\"background: #C4E29B;\">\n",
              "<img alt=\"\" src=\"https://www.soccersuck.com/images/eng.gif\" style=\"margin: 0px 5px -1px 2px;width: 20px;\"/> <a href=\"https://www.soccersuck.com/boards/topic/2141192\" target=\"_blank\">\n",
              "                    หนักแน่!'โอเดการ์ด' เตือนปืนห้ามประมาทผี                    </a>\n",
              "</div>\n",
              "<div class=\"oldnew_p_tr\" style=\"background: #99C45F;\">\n",
              "<img alt=\"\" src=\"https://www.soccersuck.com/images/eng.gif\" style=\"margin: 0px 5px -1px 2px;width: 20px;\"/> <a href=\"https://www.soccersuck.com/boards/topic/2141178\" target=\"_blank\">\n",
              "                    รอไม่ไหว...'โด๊ก' เฟิร์มเองเซ็นซบหงส์ 600k                    </a>\n",
              "</div>\n",
              "<div class=\"oldnew_p_tr\" style=\"background: #C4E29B;\">\n",
              "<img alt=\"\" src=\"https://www.soccersuck.com/images/eng.gif\" style=\"margin: 0px 5px -1px 2px;width: 20px;\"/> <a href=\"https://www.soccersuck.com/boards/topic/2141173\" target=\"_blank\">\n",
              "                    'พอช' เซอร์ไพรส์ผีตั้ง 'เทน ฮาก' ไม่แจ้ง...                    </a>\n",
              "</div>\n",
              "<div class=\"oldnew_p_tr\" style=\"background: #99C45F;\">\n",
              "<img alt=\"\" src=\"https://www.soccersuck.com/images/fra.gif\" style=\"margin: 0px 5px -1px 2px;width: 20px;\"/> <a href=\"https://www.soccersuck.com/boards/topic/2141168\" target=\"_blank\">\n",
              "                    ...เลี่ยมทอง! 'น้องเป้' แจ้ง P$G ขอค่าเหนื่อย 100 ...                    </a>\n",
              "</div>\n",
              "<div class=\"oldnew_p_tr\" style=\"background: #C4E29B;\">\n",
              "<img alt=\"\" src=\"https://www.soccersuck.com/images/eng.gif\" style=\"margin: 0px 5px -1px 2px;width: 20px;\"/> <a href=\"https://www.soccersuck.com/boards/topic/2141161\" target=\"_blank\">\n",
              "                    แชมป์จ้า...'ผี' หัวตารางนักช้อป 10 ปีหลัง                    </a>\n",
              "</div>\n",
              "<div class=\"oldnew_p_tr\" style=\"background: #99C45F;\">\n",
              "<img alt=\"\" src=\"https://www.soccersuck.com/images/eng.gif\" style=\"margin: 0px 5px -1px 2px;width: 20px;\"/> <a href=\"https://www.soccersuck.com/boards/topic/2141156\" target=\"_blank\">\n",
              "                    แฟนๆ รู้ดี?! 'บังโม' อ้างคุยสัญญาใหม่ไม่เกี่ยวเรื่...                    </a>\n",
              "</div>\n",
              "<div class=\"oldnew_p_tr\" style=\"background: #C4E29B;\">\n",
              "<img alt=\"\" src=\"https://www.soccersuck.com/images/eng.gif\" style=\"margin: 0px 5px -1px 2px;width: 20px;\"/> <a href=\"https://www.soccersuck.com/boards/topic/2141154\" target=\"_blank\">\n",
              "                    'ซูม่า' เตรียมขึ้นศาลคดีเตะแมว 24 พ.ค.                    </a>\n",
              "</div>\n",
              "<div class=\"oldnew_p_tr\" style=\"background: #99C45F;\">\n",
              "<img alt=\"\" src=\"https://www.soccersuck.com/images/eng.gif\" style=\"margin: 0px 5px -1px 2px;width: 20px;\"/> <a href=\"https://www.soccersuck.com/boards/topic/2141151\" target=\"_blank\">\n",
              "                    แทนใคร?...'ไบญี่' วอนขอสตาร์ตตัวจริงผี                    </a>\n",
              "</div>\n",
              "<div class=\"oldnew_p_tr\" style=\"background: #C4E29B;\">\n",
              "<img alt=\"\" src=\"https://www.soccersuck.com/images/eng.gif\" style=\"margin: 0px 5px -1px 2px;width: 20px;\"/> <a href=\"https://www.soccersuck.com/boards/topic/2141138\" target=\"_blank\">\n",
              "                    ปูดค้อนร่วมวงล่า \"ลัง\" เติมแนวรุก                    </a>\n",
              "</div>\n",
              "<div class=\"oldnew_p_tr\" style=\"background: #99C45F;\">\n",
              "<img alt=\"\" src=\"https://www.soccersuck.com/images/eng.gif\" style=\"margin: 0px 5px -1px 2px;width: 20px;\"/> <a href=\"https://www.soccersuck.com/boards/topic/2141133\" target=\"_blank\">\n",
              "                    หึ่งปืนเชื่อยังมีหวังรั้ง \"เอ็นเคเทียห์\"                    </a>\n",
              "</div>\n",
              "<div class=\"oldnew_p_tr\" style=\"background: #C4E29B;\">\n",
              "<img alt=\"\" src=\"https://www.soccersuck.com/images/eng.gif\" style=\"margin: 0px 5px -1px 2px;width: 20px;\"/> <a href=\"https://www.soccersuck.com/boards/topic/2141126\" target=\"_blank\">\n",
              "                    เผยเทน ฮากหวังรั้ง \"หนูแรช\"-ให้โอกาส VDB พลิกชะตา                    </a>\n",
              "</div>\n",
              "<div class=\"oldnew_p_tr\" style=\"background: #99C45F;\">\n",
              "<img alt=\"\" src=\"https://www.soccersuck.com/images/thailand.gif\" style=\"margin: 0px 5px -1px 2px;width: 20px;\"/> <a href=\"https://www.soccersuck.com/boards/topic/2141121\" target=\"_blank\">\n",
              "                    ปลดล็อคชัยชนะ! \"โค้ชอ้น\" รับเทโรยังไม่อยู่รอดต้องเ...                    </a>\n",
              "</div>\n",
              "<div class=\"oldnew_p_tr\" style=\"background: #C4E29B;\">\n",
              "<img alt=\"\" src=\"https://www.soccersuck.com/images/thailand.gif\" style=\"margin: 0px 5px -1px 2px;width: 20px;\"/> <a href=\"https://www.soccersuck.com/boards/topic/2141119\" target=\"_blank\">\n",
              "                    ลุ้นอยู่รอด! \"อิสสระ\" กำชับแข้งต่อพิฆาตต้องมีสมาธิ...                    </a>\n",
              "</div>\n",
              "<div class=\"oldnew_p_tr\" style=\"background: #99C45F;\">\n",
              "<img alt=\"\" src=\"https://www.soccersuck.com/images/eng.gif\" style=\"margin: 0px 5px -1px 2px;width: 20px;\"/> <a href=\"https://www.soccersuck.com/boards/topic/2141118\" target=\"_blank\">\n",
              "                    เบิร์นลี่ย์แอบเหล่ \"คาร์วัลฮาล\" นั่งแท่นกุนซือ                    </a>\n",
              "</div>\n",
              "<div class=\"oldnew_p_tr\" style=\"background: #C4E29B;\">\n",
              "<img alt=\"\" src=\"https://www.soccersuck.com/images/eng.gif\" style=\"margin: 0px 5px -1px 2px;width: 20px;\"/> <a href=\"https://www.soccersuck.com/boards/topic/2141113\" target=\"_blank\">\n",
              "                    ตามเฟร็ดมาติด ๆ... 'ลามะ' แผล่บ ETH ยอดกุนซือ รอร่...                    </a>\n",
              "</div>\n",
              "<div class=\"oldnew_p_tr\" style=\"background: #99C45F;\">\n",
              "<img alt=\"\" src=\"https://www.soccersuck.com/images/eng.gif\" style=\"margin: 0px 5px -1px 2px;width: 20px;\"/> <a href=\"https://www.soccersuck.com/boards/topic/2141112\" target=\"_blank\">\n",
              "                    บิลด์ตีปืนสนเซ้ง \"ซาบิตเซอร์\" จากเสือใต้                    </a>\n",
              "</div>\n",
              "<div class=\"oldnew_p_tr\" style=\"background: #C4E29B;\">\n",
              "<img alt=\"\" src=\"https://www.soccersuck.com/images/esp.gif\" style=\"margin: 0px 5px -1px 2px;width: 20px;\"/> <a href=\"https://www.soccersuck.com/boards/topic/2141101\" target=\"_blank\">\n",
              "                    อยู่ต่อเถอะ! เผยชาบียก \"เดมเบเล่\" เป็นตัวอย่างเรื่...                    </a>\n",
              "</div>\n",
              "<div class=\"oldnew_p_tr\" style=\"background: #99C45F;\">\n",
              "<img alt=\"\" src=\"https://www.soccersuck.com/images/eng.gif\" style=\"margin: 0px 5px -1px 2px;width: 20px;\"/> <a href=\"https://www.soccersuck.com/boards/topic/2141094\" target=\"_blank\">\n",
              "                    เนฟชี้ \"พอช\" พลาดงานคุมผีเพราะผลงานกับ P$G ไม่เข้า...                    </a>\n",
              "</div>\n",
              "<div class=\"oldnew_p_tr\" style=\"background: #C4E29B;\">\n",
              "<img alt=\"\" src=\"https://www.soccersuck.com/images/eng.gif\" style=\"margin: 0px 5px -1px 2px;width: 20px;\"/> <a href=\"https://www.soccersuck.com/boards/topic/2141089\" target=\"_blank\">\n",
              "                    เผย \"เทน ฮาก\" จ่อทุบสถิติกุนซือดัตช์ค่าจ้างแพงสุดใ...                    </a>\n",
              "</div>\n",
              "<div class=\"oldnew_p_tr\" style=\"background: #99C45F;\">\n",
              "<img alt=\"\" src=\"https://www.soccersuck.com/images/eng.gif\" style=\"margin: 0px 5px -1px 2px;width: 20px;\"/> <a href=\"https://www.soccersuck.com/boards/topic/2141086\" target=\"_blank\">\n",
              "                    หึ่งบอร์ดผีไม่พอใจหลัง \"รังนิค\" บอกตามหลังหงส์ 6 ป...                    </a>\n",
              "</div>\n",
              "<div class=\"oldnew_p_tr\" style=\"background: #C4E29B;\">\n",
              "<img alt=\"\" src=\"https://www.soccersuck.com/images/ita.gif\" style=\"margin: 0px 5px -1px 2px;width: 20px;\"/> <a href=\"https://www.soccersuck.com/boards/topic/2141083\" target=\"_blank\">\n",
              "                    ยูเว่ทาบทามคว้า \"ดิ มาเรีย\" แบบฟรีเอเยนต์ซัมเมอร์น...                    </a>\n",
              "</div>\n",
              "<div class=\"oldnew_p_tr\" style=\"background: #99C45F;\">\n",
              "<img alt=\"\" src=\"https://www.soccersuck.com/images/eng.gif\" style=\"margin: 0px 5px -1px 2px;width: 20px;\"/> <a href=\"https://www.soccersuck.com/boards/topic/2141079\" target=\"_blank\">\n",
              "                    ผึ้งนัดคุยตัวแทน \"อีริคเซ่น\" หลังจบซีซั่นหวังจับต่...                    </a>\n",
              "</div>\n",
              "<div class=\"oldnew_p_tr\" style=\"background: #C4E29B;\">\n",
              "<img alt=\"\" src=\"https://www.soccersuck.com/images/eng.gif\" style=\"margin: 0px 5px -1px 2px;width: 20px;\"/> <a href=\"https://www.soccersuck.com/boards/topic/2141068\" target=\"_blank\">\n",
              "                    \"ลิฟราเมนโต้\" มั่นคิดถูกแล้วเลือกลาทัพสิงห์                    </a>\n",
              "</div>\n",
              "<div class=\"oldnew_p_tr\" style=\"background: #99C45F;\">\n",
              "<img alt=\"\" src=\"https://www.soccersuck.com/images/eng.gif\" style=\"margin: 0px 5px -1px 2px;width: 20px;\"/> <a href=\"https://www.soccersuck.com/boards/topic/2141067\" target=\"_blank\">\n",
              "                    ช่วยกันเซฟ! \"ริโอ\" วอนแฟนผีให้เวลา \"เทน ฮาก&amp;q...                    </a>\n",
              "</div>\n",
              "<div class=\"oldnew_p_tr\" style=\"background: #C4E29B;\">\n",
              "<img alt=\"\" src=\"https://www.soccersuck.com/images/eng.gif\" style=\"margin: 0px 5px -1px 2px;width: 20px;\"/> <a href=\"https://www.soccersuck.com/boards/topic/2141063\" target=\"_blank\">\n",
              "                    \"แม็กไกวร์\" ไม่ยอมถูกบีบให้ย้าย แม้โดน \"แฟนบอ...                    </a>\n",
              "</div>\n",
              "<div class=\"oldnew_p_tr\" style=\"background: #99C45F;\">\n",
              "<img alt=\"\" src=\"https://www.soccersuck.com/images/eng.gif\" style=\"margin: 0px 5px -1px 2px;width: 20px;\"/> <a href=\"https://www.soccersuck.com/boards/topic/2141053\" target=\"_blank\">\n",
              "                    สุดหล่อแนะ \"เทน ฮาก\" คว้าตัว \"เคน,ไรซ์\" ...                    </a>\n",
              "</div>\n",
              "<div class=\"oldnew_p_tr\" style=\"background: #C4E29B;\">\n",
              "<img alt=\"\" src=\"https://www.soccersuck.com/images/eng.gif\" style=\"margin: 0px 5px -1px 2px;width: 20px;\"/> <a href=\"https://www.soccersuck.com/boards/topic/2141045\" target=\"_blank\">\n",
              "                    อบอุ่น...\"พี่โด้\" โพสต์ภาพครอบครัวต้อนรับสมาชิกใหม...                    </a>\n",
              "</div>\n",
              "<div class=\"oldnew_p_tr\" style=\"background: #99C45F;\">\n",
              "<img alt=\"\" src=\"https://www.soccersuck.com/images/eng.gif\" style=\"margin: 0px 5px -1px 2px;width: 20px;\"/> <a href=\"https://www.soccersuck.com/boards/topic/2141029\" target=\"_blank\">\n",
              "                    รูนีย์เตือนแฟนผี \"เทน ฮาก\" ต้องการเวลาสร้างทีม                    </a>\n",
              "</div>\n",
              "<div class=\"oldnew_p_tr\" style=\"background: #C4E29B;\">\n",
              "<img alt=\"\" src=\"https://www.soccersuck.com/images/esp.gif\" style=\"margin: 0px 5px -1px 2px;width: 20px;\"/> <a href=\"https://www.soccersuck.com/boards/topic/2140974\" target=\"_blank\">\n",
              "                    อัลเวสบอก \"ชุดขาวโชคดี\" ต่างดาวฟอร์มแรงช้าไปหน่อย                    </a>\n",
              "</div>\n",
              "<div class=\"oldnew_p_tr\" style=\"background: #99C45F;\">\n",
              "<img alt=\"\" src=\"https://www.soccersuck.com/images/eng.gif\" style=\"margin: 0px 5px -1px 2px;width: 20px;\"/> <a href=\"https://www.soccersuck.com/boards/topic/2140973\" target=\"_blank\">\n",
              "                    \"แจ็คสัน\" รับยังไม่รู้จะได้คุมเบิร์นลีย์นัดหน้าไหม                    </a>\n",
              "</div>\n",
              "<div class=\"oldnew_p_tr\" style=\"background: #C4E29B;\">\n",
              "<img alt=\"\" src=\"https://www.soccersuck.com/images/ita.gif\" style=\"margin: 0px 5px -1px 2px;width: 20px;\"/> <a href=\"https://www.soccersuck.com/boards/topic/2140972\" target=\"_blank\">\n",
              "                    สกายเลี่ยนตี \"แบร์นาร์\" รอย้ายฟรี หลังม้าลายไม่ยื่...                    </a>\n",
              "</div>\n",
              "<div class=\"oldnew_p_tr\" style=\"background: #99C45F;\">\n",
              "<img alt=\"\" src=\"https://www.soccersuck.com/images/esp.gif\" style=\"margin: 0px 5px -1px 2px;width: 20px;\"/> <a href=\"https://www.soccersuck.com/boards/topic/2140970\" target=\"_blank\">\n",
              "                    เซบีญ่าบุกซิวเลบานเต้ 3-2, บิลเบาเชือดกาดิซ 2-0...สรุปผลลาลี...                    </a>\n",
              "</div>\n",
              "<div class=\"oldnew_p_tr\" style=\"background: #C4E29B;\">\n",
              "<img alt=\"\" src=\"https://www.soccersuck.com/images/eng.gif\" style=\"margin: 0px 5px -1px 2px;width: 20px;\"/> <a href=\"https://www.soccersuck.com/boards/topic/2140969\" target=\"_blank\">\n",
              "                    แก๊บบี้ชี้ \"ลากา\" สัมภาษณ์ไม่เข้าท่าควรขอโทษปืน                    </a>\n",
              "</div>\n",
              "<div class=\"oldnew_p_tr\" style=\"background: #99C45F;\">\n",
              "<img alt=\"\" src=\"https://www.soccersuck.com/images/eng.gif\" style=\"margin: 0px 5px -1px 2px;width: 20px;\"/> <a href=\"https://www.soccersuck.com/boards/topic/2140968\" target=\"_blank\">\n",
              "                    คาร์ร่าเชื่อ 'เทน ฮาก' อยู่นอกสายตาท็อป 4 แนะ \u0003...                    </a>\n",
              "</div>\n",
              "<div class=\"oldnew_p_tr\" style=\"background: #C4E29B;\">\n",
              "<img alt=\"\" src=\"https://www.soccersuck.com/images/usa.gif\" style=\"margin: 0px 5px -1px 2px;width: 20px;\"/> <a href=\"https://www.soccersuck.com/boards/topic/2140966\" target=\"_blank\">\n",
              "                    ดีซี ยูไนเต็ด ถกเซ็น \"โปรเบล\" ค้าแข้งลีกมะกัน                    </a>\n",
              "</div>\n",
              "<div class=\"oldnew_p_tr\" style=\"background: #99C45F;\">\n",
              "<img alt=\"\" src=\"https://www.soccersuck.com/images/ita.gif\" style=\"margin: 0px 5px -1px 2px;width: 20px;\"/> <a href=\"https://www.soccersuck.com/boards/topic/2140964\" target=\"_blank\">\n",
              "                    \"ปิออนเท็ค\" บอกพังกับมิลานเพราะแผน \"จามเปาโล&amp;...                    </a>\n",
              "</div>\n",
              "<div class=\"oldnew_p_tr\" style=\"background: #C4E29B;\">\n",
              "<img alt=\"\" src=\"https://www.soccersuck.com/images/ger.gif\" style=\"margin: 0px 5px -1px 2px;width: 20px;\"/> <a href=\"https://www.soccersuck.com/boards/topic/2140963\" target=\"_blank\">\n",
              "                    บิ๊กไลป์ซิกย้ำ \"เอ็นคุนคู\" อยู่ทีมต่อซีซั่นหน้า                    </a>\n",
              "</div>\n",
              "<div class=\"oldnew_p_tr\" style=\"background: #99C45F;\">\n",
              "<img alt=\"\" src=\"https://www.soccersuck.com/images/esp.gif\" style=\"margin: 0px 5px -1px 2px;width: 20px;\"/> <a href=\"https://www.soccersuck.com/boards/topic/2140961\" target=\"_blank\">\n",
              "                    ไม่ง่าย! โอบาโขกต้นเกม \"ต่างดาว\" หอบเฉือนโซเซียดาด...                    </a>\n",
              "</div>\n",
              "<div class=\"oldnew_p_tr\" style=\"background: #C4E29B;\">\n",
              "<img alt=\"\" src=\"https://www.soccersuck.com/images/ucl.jpg\" style=\"margin: 0px 5px -1px 2px;width: 20px;\"/> <a href=\"https://www.soccersuck.com/boards/topic/2140957\" target=\"_blank\">\n",
              "                    \"อลาบา\" หวังทำ \"เป๊ป\" นายเก่าปวดหัวเกมชน...                    </a>\n",
              "</div>\n",
              "<div class=\"oldnew_p_tr\" style=\"background: #99C45F;\">\n",
              "<img alt=\"\" src=\"https://www.soccersuck.com/images/eng.gif\" style=\"margin: 0px 5px -1px 2px;width: 20px;\"/> <a href=\"https://www.soccersuck.com/boards/topic/2140954\" target=\"_blank\">\n",
              "                    'เบิร์นลีย์'ไม่ยอม! อัดนักบุญ 2-0  กดดันเอฟฯแต้มเด...                    </a>\n",
              "</div>\n",
              "<div class=\"oldnew_p_tr\" style=\"background: #C4E29B;\">\n",
              "<img alt=\"\" src=\"https://www.soccersuck.com/images/ita.gif\" style=\"margin: 0px 5px -1px 2px;width: 20px;\"/> <a href=\"https://www.soccersuck.com/boards/topic/2140952\" target=\"_blank\">\n",
              "                    ม้าลายพักแผนล่า \"ซานิโอโล่\" หลังนักเตะเปลี่ยนเล่นก...                    </a>\n",
              "</div>\n",
              "<div class=\"oldnew_p_tr\" style=\"background: #99C45F;\">\n",
              "<img alt=\"\" src=\"https://www.soccersuck.com/images/eng.gif\" style=\"margin: 0px 5px -1px 2px;width: 20px;\"/> <a href=\"https://www.soccersuck.com/boards/topic/2140950\" target=\"_blank\">\n",
              "                    แลมพ์หวัง 'อัลลี่' พบจุดเปลี่ยนหลังช่วยทีมตีเสมอจิ...                    </a>\n",
              "</div>\n",
              "<div class=\"oldnew_p_tr\" style=\"background: #C4E29B;\">\n",
              "<img alt=\"\" src=\"https://www.soccersuck.com/images/ita.gif\" style=\"margin: 0px 5px -1px 2px;width: 20px;\"/> <a href=\"https://www.soccersuck.com/boards/topic/2140949\" target=\"_blank\">\n",
              "                    สิงห์ช่วยลุ้น! มิลานสนคว้า \"บิ๊กตู้\" หลังเทคโอเวอร...                    </a>\n",
              "</div>\n",
              "<div class=\"oldnew_p_tr\" style=\"background: #99C45F;\">\n",
              "<img alt=\"\" src=\"https://www.soccersuck.com/images/eng.gif\" style=\"margin: 0px 5px -1px 2px;width: 20px;\"/> <a href=\"https://www.soccersuck.com/boards/topic/2140939\" target=\"_blank\">\n",
              "                    เทน ฮากคืออนาคต! ปัจจุบัน 'รังนิค' ไม่ปลื้ม '...                    </a>\n",
              "</div>\n",
              "<div class=\"oldnew_p_thead\" style=\"margin:20px 0px 0px 2px;\">\n",
              "<img alt=\"\" src=\"/img/web/ss_latest_new_icon_ca.png\" style=\"margin:5px 5px -6px 5px;\"/>21/04/22                            </div>\n",
              "<div class=\"oldnew_p_tr\" style=\"background: #C4E29B;\">\n",
              "<img alt=\"\" src=\"https://www.soccersuck.com/images/eng.gif\" style=\"margin: 0px 5px -1px 2px;width: 20px;\"/> <a href=\"https://www.soccersuck.com/boards/topic/2140934\" target=\"_blank\">\n",
              "                    'เบิร์น' ชี้ 'ฮาว' ผลงานเยี่ยมควรเป็นแคน...                    </a>\n",
              "</div>\n",
              "<div class=\"oldnew_p_tr\" style=\"background: #99C45F;\">\n",
              "<img alt=\"\" src=\"https://www.soccersuck.com/images/esp.gif\" style=\"margin: 0px 5px -1px 2px;width: 20px;\"/> <a href=\"https://www.soccersuck.com/boards/topic/2140927\" target=\"_blank\">\n",
              "                    ลือราชันเหล่สน 'กีมาเรส' ทางเลือกเติมกลาง                    </a>\n",
              "</div>\n",
              "<div class=\"oldnew_p_tr\" style=\"background: #C4E29B;\">\n",
              "<img alt=\"\" src=\"https://www.soccersuck.com/images/eng.gif\" style=\"margin: 0px 5px -1px 2px;width: 20px;\"/> <a href=\"https://www.soccersuck.com/boards/topic/2140926\" target=\"_blank\">\n",
              "                    เนฟวอนแฟนผีอย่าหวังสูง ให้เวลา 'เทน ฮาก' ก่อน                    </a>\n",
              "</div>\n",
              "<div class=\"oldnew_p_tr\" style=\"background: #99C45F;\">\n",
              "<img alt=\"\" src=\"https://www.soccersuck.com/images/eng.gif\" style=\"margin: 0px 5px -1px 2px;width: 20px;\"/> <a href=\"https://www.soccersuck.com/boards/topic/2140920\" target=\"_blank\">\n",
              "                    แผล่บก่อนได้เปรียบ! 'เฟรด' ชู 'เทน ฮาก' ...                    </a>\n",
              "</div>\n",
              "<div class=\"oldnew_p_tr\" style=\"background: #C4E29B;\">\n",
              "<img alt=\"\" src=\"https://www.soccersuck.com/images/eng.gif\" style=\"margin: 0px 5px -1px 2px;width: 20px;\"/> <a href=\"https://www.soccersuck.com/boards/topic/2140915\" target=\"_blank\">\n",
              "                    'คอนเต้' สุดแฮปปี้เห็น 'อิริคเซ่น' ลงสนา...                    </a>\n",
              "</div>\n",
              "<div class=\"oldnew_p_tr\" style=\"background: #99C45F;\">\n",
              "<img alt=\"\" src=\"https://www.soccersuck.com/images/eng.gif\" style=\"margin: 0px 5px -1px 2px;width: 20px;\"/> <a href=\"https://www.soccersuck.com/boards/topic/2140912\" target=\"_blank\">\n",
              "                    'โค้ชขิง' แว่บชมเกมมาร์กเซยเช็คฟอร์ม 'คามาร่า...                    </a>\n",
              "</div>\n",
              "<div class=\"oldnew_p_tr\" style=\"background: #C4E29B;\">\n",
              "<img alt=\"\" src=\"https://www.soccersuck.com/images/eng.gif\" style=\"margin: 0px 5px -1px 2px;width: 20px;\"/> <a href=\"https://www.soccersuck.com/boards/topic/2140908\" target=\"_blank\">\n",
              "                    'คอนเต้' ชี้ผีผลงานย่ำแย่แสดงให้เห็น 'พรีเมีย...                    </a>\n",
              "</div>\n",
              "<div class=\"oldnew_p_tr\" style=\"background: #99C45F;\">\n",
              "<img alt=\"\" src=\"https://www.soccersuck.com/images/eng.gif\" style=\"margin: 0px 5px -1px 2px;width: 20px;\"/> <a href=\"https://www.soccersuck.com/boards/topic/2140902\" target=\"_blank\">\n",
              "                    'แมกไกวร์' ถูกขู่วางระเบิดตำรวจรีบรุดตรวจสอบ                    </a>\n",
              "</div>\n",
              "<div class=\"oldnew_p_tr\" style=\"background: #C4E29B;\">\n",
              "<img alt=\"\" src=\"https://www.soccersuck.com/images/holland.gif\" style=\"margin: 0px 5px -1px 2px;width: 20px;\"/> <a href=\"https://www.soccersuck.com/boards/topic/2140895\" target=\"_blank\">\n",
              "                    'น้าซาร์' รับอยากให้ 'เทน ฮาก' คุมอาแย็ก...                    </a>\n",
              "</div>\n",
              "<div class=\"oldnew_p_tr\" style=\"background: #99C45F;\">\n",
              "<img alt=\"\" src=\"https://www.soccersuck.com/images/eng.gif\" style=\"margin: 0px 5px -1px 2px;width: 20px;\"/> <a href=\"https://www.soccersuck.com/boards/topic/2140885\" target=\"_blank\">\n",
              "                    'เปาพอว์สัน' รับหน้าที่ตัดสินเอฟเอ คัพนัดชิง                    </a>\n",
              "</div>\n",
              "<div class=\"oldnew_p_tr\" style=\"background: #C4E29B;\">\n",
              "<img alt=\"\" src=\"https://www.soccersuck.com/images/eng.gif\" style=\"margin: 0px 5px -1px 2px;width: 20px;\"/> <a href=\"https://www.soccersuck.com/boards/topic/2140874\" target=\"_blank\">\n",
              "                    สมใจ! เผยผีไฟเขียวดึง 'บิ๊กแม็ค' รับงานผู้ช่วย \u0000...                    </a>\n",
              "</div>\n",
              "<div class=\"oldnew_p_tr\" style=\"background: #99C45F;\">\n",
              "<img alt=\"\" src=\"https://www.soccersuck.com/images/thailand.gif\" style=\"margin: 0px 5px -1px 2px;width: 20px;\"/> <a href=\"https://www.soccersuck.com/boards/topic/2140859\" target=\"_blank\">\n",
              "                    เรียงหน้ายิง! \"บีจีพียู\" เร่งเครื่องท้ายเกมไล่กระท...                    </a>\n",
              "</div>\n",
              "<div class=\"oldnew_p_tr\" style=\"background: #C4E29B;\">\n",
              "<img alt=\"\" src=\"https://www.soccersuck.com/images/thailand.gif\" style=\"margin: 0px 5px -1px 2px;width: 20px;\"/> <a href=\"https://www.soccersuck.com/boards/topic/2140829\" target=\"_blank\">\n",
              "                    ร้อนแรงต่อเนื่อง! ฟุตซอลหญิงไทย ไล่ขย่ม เซาธ์เพิร์ธ 4-0 ศึก ...                    </a>\n",
              "</div>\n",
              "<div class=\"oldnew_p_tr\" style=\"background: #99C45F;\">\n",
              "<img alt=\"\" src=\"https://www.soccersuck.com/images/thailand.gif\" style=\"margin: 0px 5px -1px 2px;width: 20px;\"/> <a href=\"https://www.soccersuck.com/boards/topic/2140825\" target=\"_blank\">\n",
              "                    ต่อสัญญาโค้ชเตี้ย 3 ปี! \"บิ๊กบอล\" มั่นใจปีหน้า &amp;qu...                    </a>\n",
              "</div>\n",
              "<div class=\"oldnew_p_tr\" style=\"background: #C4E29B;\">\n",
              "<img alt=\"\" src=\"https://www.soccersuck.com/images/thailand.gif\" style=\"margin: 0px 5px -1px 2px;width: 20px;\"/> <a href=\"https://www.soccersuck.com/boards/topic/2140823\" target=\"_blank\">\n",
              "                    เกมหนีตาย! สุพรรณฯขอโฟกัสตัวเอง,เขี้ยวสมุทรลั่นมาเพื่อชนะ                    </a>\n",
              "</div>\n",
              "<div class=\"oldnew_p_tr\" style=\"background: #99C45F;\">\n",
              "<img alt=\"\" src=\"https://www.soccersuck.com/images/thailand.gif\" style=\"margin: 0px 5px -1px 2px;width: 20px;\"/> <a href=\"https://www.soccersuck.com/boards/topic/2140820\" target=\"_blank\">\n",
              "                    ใครจะเข้าชิง! สุพรรณฯดวลบุรีรัมย์,เทโรชนโคราช โผตัดเชือกถ้วย...                    </a>\n",
              "</div>\n",
              "<div class=\"oldnew_p_tr\" style=\"background: #C4E29B;\">\n",
              "<img alt=\"\" src=\"https://www.soccersuck.com/images/eng.gif\" style=\"margin: 0px 5px -1px 2px;width: 20px;\"/> <a href=\"https://www.soccersuck.com/boards/topic/2140796\" target=\"_blank\">\n",
              "                    'พี่โด้' โพสต์ขอบคุณแอนฟิลด์ โมเม้นต์นี้ไม่มีวันลื...                    </a>\n",
              "</div>\n",
              "<div class=\"oldnew_p_tr\" style=\"background: #99C45F;\">\n",
              "<img alt=\"\" src=\"https://www.soccersuck.com/images/eng.gif\" style=\"margin: 0px 5px -1px 2px;width: 20px;\"/><img alt=\"\" src=\"http://www.soccersuck.com/img/web/icon_official.png\" style=\"margin: -10px 2px -6px 2px;width: 25px;\"/> <a href=\"https://www.soccersuck.com/boards/topic/2140789\" target=\"_blank\">\n",
              "                    ภารกิจปลุกผี!ีเฟิร์มตั้ง 'เทน ฮาก' นั่งกุนซือถึงปี...                    </a>\n",
              "</div>\n",
              "<div class=\"oldnew_p_tr\" style=\"background: #C4E29B;\">\n",
              "<img alt=\"\" src=\"https://www.soccersuck.com/images/eng.gif\" style=\"margin: 0px 5px -1px 2px;width: 20px;\"/> <a href=\"https://www.soccersuck.com/boards/topic/2140782\" target=\"_blank\">\n",
              "                    ฮือฮา! 'แฮมิลตัน, เซเรนา' โผล่ลงขันเทคโอเวอร์สิงห์                    </a>\n",
              "</div>\n",
              "<div class=\"oldnew_p_tr\" style=\"background: #99C45F;\">\n",
              "<img alt=\"\" src=\"https://www.soccersuck.com/images/ucl.jpg\" style=\"margin: 0px 5px -1px 2px;width: 20px;\"/> <a href=\"https://www.soccersuck.com/boards/topic/2140774\" target=\"_blank\">\n",
              "                    'เปา' ถ่อมหงส์เป็นต่อแต่เรือดำน้ำมีเซอร์ไพรส์                    </a>\n",
              "</div>\n",
              "<div class=\"oldnew_p_tr\" style=\"background: #C4E29B;\">\n",
              "<img alt=\"\" src=\"https://www.soccersuck.com/images/esp.gif\" style=\"margin: 0px 5px -1px 2px;width: 20px;\"/> <a href=\"https://www.soccersuck.com/boards/topic/2140769\" target=\"_blank\">\n",
              "                    ราชันยิ้ม!เผย 'อลาบา' เดี้ยงไม่หนักส่อทันเจอเรือ                    </a>\n",
              "</div>\n",
              "<div class=\"oldnew_p_tr\" style=\"background: #99C45F;\">\n",
              "<img alt=\"\" src=\"https://www.soccersuck.com/images/ger.gif\" style=\"margin: 0px 5px -1px 2px;width: 20px;\"/> <a href=\"https://www.soccersuck.com/boards/topic/2140765\" target=\"_blank\">\n",
              "                    ฮาลันด์เอฟเฟ็คต์!เสือเหลืองแจ้ง 'หงส์,ผี' เมินขาย ...                    </a>\n",
              "</div>\n",
              "<div class=\"oldnew_p_tr\" style=\"background: #C4E29B;\">\n",
              "<img alt=\"\" src=\"https://www.soccersuck.com/images/eng.gif\" style=\"margin: 0px 5px -1px 2px;width: 20px;\"/> <a href=\"https://www.soccersuck.com/boards/topic/2140757\" target=\"_blank\">\n",
              "                    แลมพ์สเผย DCL เจ็บ 2 วีค อดยิงหงส์                    </a>\n",
              "</div>\n",
              "<div class=\"oldnew_p_tr\" style=\"background: #99C45F;\">\n",
              "<img alt=\"\" src=\"https://www.soccersuck.com/images/eng.gif\" style=\"margin: 0px 5px -1px 2px;width: 20px;\"/> <a href=\"https://www.soccersuck.com/boards/topic/2140752\" target=\"_blank\">\n",
              "                    ก็ปกติ...พรีเมียร์ปัดตกเมินเลื่อนโปรแกรม 'หงส์,สาลิกา&amp;#...                    </a>\n",
              "</div>\n",
              "<div class=\"oldnew_p_tr\" style=\"background: #C4E29B;\">\n",
              "<img alt=\"\" src=\"https://www.soccersuck.com/images/eng.gif\" style=\"margin: 0px 5px -1px 2px;width: 20px;\"/> <a href=\"https://www.soccersuck.com/boards/topic/2140746\" target=\"_blank\">\n",
              "                    เลวี่หนุนหน่อย...'น้าคอน' ขอแข้งใหม่ 6 ราย                    </a>\n",
              "</div>\n",
              "<div class=\"oldnew_p_tr\" style=\"background: #99C45F;\">\n",
              "<img alt=\"\" src=\"https://www.soccersuck.com/images/eng.gif\" style=\"margin: 0px 5px -1px 2px;width: 20px;\"/> <a href=\"https://www.soccersuck.com/boards/topic/2140744\" target=\"_blank\">\n",
              "                    'บรูโน่' ปัดตอบฟอร์ม 'แรช' - ยันซ้อมดี                    </a>\n",
              "</div>\n",
              "<div class=\"oldnew_p_tr\" style=\"background: #C4E29B;\">\n",
              "<img alt=\"\" src=\"https://www.soccersuck.com/images/eng.gif\" style=\"margin: 0px 5px -1px 2px;width: 20px;\"/> <a href=\"https://www.soccersuck.com/boards/topic/2140741\" target=\"_blank\">\n",
              "                    ผีแจ้งนักเตะ 'เทน ฮาก' โค้ชใหม่ - รอเฟิร์มหลังเจอป...                    </a>\n",
              "</div>\n",
              "<div class=\"oldnew_p_tr\" style=\"background: #99C45F;\">\n",
              "<img alt=\"\" src=\"https://www.soccersuck.com/images/eng.gif\" style=\"margin: 0px 5px -1px 2px;width: 20px;\"/> <a href=\"https://www.soccersuck.com/boards/topic/2140738\" target=\"_blank\">\n",
              "                    ผีประณามแฟนร้องเพลงล้อเลียนฮิลล์สเบอะเรอะห์                    </a>\n",
              "</div>\n",
              "<div class=\"oldnew_p_tr\" style=\"background: #C4E29B;\">\n",
              "<img alt=\"\" src=\"https://www.soccersuck.com/images/esp.gif\" style=\"margin: 0px 5px -1px 2px;width: 20px;\"/> <a href=\"https://www.soccersuck.com/boards/topic/2140734\" target=\"_blank\">\n",
              "                    ลือต่างดาวเตรียมเคลื่อนยานล่า \"มาร์ติเนซ\" หลังอาแย...                    </a>\n",
              "</div>\n",
              "<div class=\"oldnew_p_tr\" style=\"background: #99C45F;\">\n",
              "<img alt=\"\" src=\"https://www.soccersuck.com/images/eng.gif\" style=\"margin: 0px 5px -1px 2px;width: 20px;\"/> <a href=\"https://www.soccersuck.com/boards/topic/2140730\" target=\"_blank\">\n",
              "                    ตำนาน!พรีเมียร์ประกาศ 6 อดีตแข้งเข้า HoF                    </a>\n",
              "</div>\n",
              "<div class=\"oldnew_p_tr\" style=\"background: #C4E29B;\">\n",
              "<img alt=\"\" src=\"https://www.soccersuck.com/images/ita.gif\" style=\"margin: 0px 5px -1px 2px;width: 20px;\"/> <a href=\"https://www.soccersuck.com/boards/topic/2140727\" target=\"_blank\">\n",
              "                    ปูด \"ตอร์เรร่า\" โอเคสัญญา 4 ปีซบม่วงถาวร                    </a>\n",
              "</div>\n",
              "<div class=\"oldnew_p_tr\" style=\"background: #99C45F;\">\n",
              "<img alt=\"\" src=\"https://www.soccersuck.com/images/eng.gif\" style=\"margin: 0px 5px -1px 2px;width: 20px;\"/> <a href=\"https://www.soccersuck.com/boards/topic/2140722\" target=\"_blank\">\n",
              "                    หึ่ง \"โทนี่ย์\" เปิดกว้างขยายสัญญาอยู่โยงรังผึ้ง                    </a>\n",
              "</div>\n",
              "<div class=\"oldnew_p_tr\" style=\"background: #C4E29B;\">\n",
              "<img alt=\"\" src=\"https://www.soccersuck.com/images/eng.gif\" style=\"margin: 0px 5px -1px 2px;width: 20px;\"/> <a href=\"https://www.soccersuck.com/boards/topic/2140717\" target=\"_blank\">\n",
              "                    ทูเคิ่ลเปรยเปิดอกคุยอนาคต \"เกป้า\" หลังจบซีซั่น                    </a>\n",
              "</div>\n",
              "<div class=\"oldnew_p_tr\" style=\"background: #99C45F;\">\n",
              "<img alt=\"\" src=\"https://www.soccersuck.com/images/esp.gif\" style=\"margin: 0px 5px -1px 2px;width: 20px;\"/> <a href=\"https://www.soccersuck.com/boards/topic/2140709\" target=\"_blank\">\n",
              "                    \"ปิเก้,อเราโฮ่\" คัมแบ็คช่วยต่างดาวบุกเยือนโซเซียดา...                    </a>\n",
              "</div>\n",
              "<div class=\"oldnew_p_tr\" style=\"background: #C4E29B;\">\n",
              "<img alt=\"\" src=\"https://www.soccersuck.com/images/eng.gif\" style=\"margin: 0px 5px -1px 2px;width: 20px;\"/> <a href=\"https://www.soccersuck.com/boards/topic/2140703\" target=\"_blank\">\n",
              "                    ยังขายได้! หึ่งทีมพรีเมียร์รอเซ้ง \"มิชี่\" จากสิงห์                    </a>\n",
              "</div>\n",
              "<div class=\"oldnew_p_tr\" style=\"background: #99C45F;\">\n",
              "<img alt=\"\" src=\"https://www.soccersuck.com/images/eng.gif\" style=\"margin: 0px 5px -1px 2px;width: 20px;\"/> <a href=\"https://www.soccersuck.com/boards/topic/2140694\" target=\"_blank\">\n",
              "                    น้าแวนกังวลผีอาจกังขา \"เทน ฮาก\"                    </a>\n",
              "</div>\n",
              "<div class=\"oldnew_p_tr\" style=\"background: #C4E29B;\">\n",
              "<img alt=\"\" src=\"https://www.soccersuck.com/images/eng.gif\" style=\"margin: 0px 5px -1px 2px;width: 20px;\"/> <a href=\"https://www.soccersuck.com/boards/topic/2140687\" target=\"_blank\">\n",
              "                    เผยเรือรับปาก \"ฮาลันด์\" ไม่ขวางหากอยากซบราชันในอนา...                    </a>\n",
              "</div>\n",
              "<div class=\"oldnew_p_tr\" style=\"background: #99C45F;\">\n",
              "<img alt=\"\" src=\"https://www.soccersuck.com/images/eng.gif\" style=\"margin: 0px 5px -1px 2px;width: 20px;\"/> <a href=\"https://www.soccersuck.com/boards/topic/2140682\" target=\"_blank\">\n",
              "                    \"ชอง\" ยังหวังกลับไปแจ้งเกิดกับ \"ผี\"                    </a>\n",
              "</div>\n",
              "<div class=\"oldnew_p_tr\" style=\"background: #C4E29B;\">\n",
              "<img alt=\"\" src=\"https://www.soccersuck.com/images/eng.gif\" style=\"margin: 0px 5px -1px 2px;width: 20px;\"/> <a href=\"https://www.soccersuck.com/boards/topic/2140680\" target=\"_blank\">\n",
              "                    ขอไปทีมลุ้นแชมป์! ลือ \"เลาตาโร่\" สนซบหงส์,เรือ                    </a>\n",
              "</div>\n",
              "<div class=\"oldnew_p_tr\" style=\"background: #99C45F;\">\n",
              "<img alt=\"\" src=\"https://www.soccersuck.com/images/eng.gif\" style=\"margin: 0px 5px -1px 2px;width: 20px;\"/> <a href=\"https://www.soccersuck.com/boards/topic/2140670\" target=\"_blank\">\n",
              "                    \"หงส์,ผี\" สนคว้า \"ไลเมอร์\" มิดฟิลด์ไลป์ซ...                    </a>\n",
              "</div>\n",
              "<div class=\"oldnew_p_tr\" style=\"background: #C4E29B;\">\n",
              "<img alt=\"\" src=\"https://www.soccersuck.com/images/eng.gif\" style=\"margin: 0px 5px -1px 2px;width: 20px;\"/> <a href=\"https://www.soccersuck.com/boards/topic/2140669\" target=\"_blank\">\n",
              "                    ปธ.พาเลซรับอยากเซ็นขาด \"กัลลาเกอร์\"-สนคว้า \"ช...                    </a>\n",
              "</div>\n",
              "<div class=\"oldnew_p_tr\" style=\"background: #99C45F;\">\n",
              "<img alt=\"\" src=\"https://www.soccersuck.com/images/eng.gif\" style=\"margin: 0px 5px -1px 2px;width: 20px;\"/> <a href=\"https://www.soccersuck.com/boards/topic/2140661\" target=\"_blank\">\n",
              "                    ปูดผีอนุมัติงบ 200 ลป. ให้ \"เทน ฮาก\" เสริมทัพซัมเม...                    </a>\n",
              "</div>\n",
              "<div class=\"oldnew_p_tr\" style=\"background: #C4E29B;\">\n",
              "<img alt=\"\" src=\"https://www.soccersuck.com/images/eng.gif\" style=\"margin: 0px 5px -1px 2px;width: 20px;\"/> <a href=\"https://www.soccersuck.com/boards/topic/2140657\" target=\"_blank\">\n",
              "                    คาร์ร่าบอก \"หงส์\" ชุดตนไม่เคยหงอในแดงเดือดเหมือน &amp;...                    </a>\n",
              "</div>\n",
              "<div class=\"oldnew_p_tr\" style=\"background: #99C45F;\">\n",
              "<img alt=\"\" src=\"https://www.soccersuck.com/images/eng.gif\" style=\"margin: 0px 5px -1px 2px;width: 20px;\"/> <a href=\"https://www.soccersuck.com/boards/topic/2140640\" target=\"_blank\">\n",
              "                    \"พี่ต้า\" รับตนผิดเองไม่ให้โอกาส \"เอ็นเคเทียห์...                    </a>\n",
              "</div>\n",
              "<div class=\"oldnew_p_tr\" style=\"background: #C4E29B;\">\n",
              "<img alt=\"\" src=\"https://www.soccersuck.com/images/esp.gif\" style=\"margin: 0px 5px -1px 2px;width: 20px;\"/> <a href=\"https://www.soccersuck.com/boards/topic/2140622\" target=\"_blank\">\n",
              "                    \"อันเช่\" ยันไม่เปลี่ยนมือสังหารโทษแม้ \"เบนซ์&amp;...                    </a>\n",
              "</div>\n",
              "<div class=\"oldnew_p_tr\" style=\"background: #99C45F;\">\n",
              "<img alt=\"\" src=\"https://www.soccersuck.com/images/eng.gif\" style=\"margin: 0px 5px -1px 2px;width: 20px;\"/> <a href=\"https://www.soccersuck.com/boards/topic/2140596\" target=\"_blank\">\n",
              "                    งานสบาย รายได้ดี... JFH จวก \"บิ๊กตู้\" ไร้ซึ่งแพสชั...                    </a>\n",
              "</div>\n",
              "<div class=\"oldnew_p_tr\" style=\"background: #C4E29B;\">\n",
              "<img alt=\"\" src=\"https://www.soccersuck.com/images/eng.gif\" style=\"margin: 0px 5px -1px 2px;width: 20px;\"/> <a href=\"https://www.soccersuck.com/boards/topic/2140591\" target=\"_blank\">\n",
              "                    ทูเคิ่ล โบ้ย \"หญ้าห่วย\" ต้นเหตุ 'คริสเตนเซ่น&amp;...                    </a>\n",
              "</div>\n",
              "<div class=\"oldnew_p_tr\" style=\"background: #99C45F;\">\n",
              "<img alt=\"\" src=\"https://www.soccersuck.com/images/eng.gif\" style=\"margin: 0px 5px -1px 2px;width: 20px;\"/> <a href=\"https://www.soccersuck.com/boards/topic/2140583\" target=\"_blank\">\n",
              "                    ทูเคิ่ล เหนื่อยใจ 'สิงห์' พลาดซ้ำซาก-เข้าใจแฟนเคือ...                    </a>\n",
              "</div>\n",
              "<div class=\"oldnew_p_tr\" style=\"background: #C4E29B;\">\n",
              "<img alt=\"\" src=\"https://www.soccersuck.com/images/ita.gif\" style=\"margin: 0px 5px -1px 2px;width: 20px;\"/> <a href=\"https://www.soccersuck.com/boards/topic/2140558\" target=\"_blank\">\n",
              "                    \"น้ากรี\" แฮปปี้ม้าลายเข้าชิง - บอกจะคุมทีมต่ออีก 3...                    </a>\n",
              "</div>\n",
              "<div class=\"oldnew_p_tr\" style=\"background: #99C45F;\">\n",
              "<img alt=\"\" src=\"https://www.soccersuck.com/images/eng.gif\" style=\"margin: 0px 5px -1px 2px;width: 20px;\"/> <a href=\"https://www.soccersuck.com/boards/topic/2140557\" target=\"_blank\">\n",
              "                    “แนวรับสิงห์” จัดให้ 4 ลูก // เรือ แช่งไปก็เท่านั้น                    </a>\n",
              "</div>\n",
              "<div class=\"oldnew_p_tr\" style=\"background: #C4E29B;\">\n",
              "<img alt=\"\" src=\"https://www.soccersuck.com/images/esp.gif\" style=\"margin: 0px 5px -1px 2px;width: 20px;\"/> <a href=\"https://www.soccersuck.com/boards/topic/2140556\" target=\"_blank\">\n",
              "                    อันเช่ชม \"เซบาญอส\" ฟอร์มดีสุดในทีมหลังออกสตาร์ทนัด...                    </a>\n",
              "</div>\n",
              "<div class=\"oldnew_p_tr\" style=\"background: #99C45F;\">\n",
              "<img alt=\"\" src=\"https://www.soccersuck.com/images/eng.gif\" style=\"margin: 0px 5px -1px 2px;width: 20px;\"/> <a href=\"https://www.soccersuck.com/boards/topic/2140555\" target=\"_blank\">\n",
              "                    \"เดฟ\" เถียงเดือดแฟนสิงห์หลังหัวเสียแพ้ปืน                    </a>\n",
              "</div>\n",
              "<div class=\"oldnew_p_tr\" style=\"background: #C4E29B;\">\n",
              "<img alt=\"\" src=\"https://www.soccersuck.com/images/eng.gif\" style=\"margin: 0px 5px -1px 2px;width: 20px;\"/> <a href=\"https://www.soccersuck.com/boards/topic/2140554\" target=\"_blank\">\n",
              "                    \"พี่ต้า\" ชมสปิริตลูกทีม บุกคว่ำสิงห์ยิ่งเพิ่มความม...                    </a>\n",
              "</div>\n",
              "<div class=\"oldnew_p_tr\" style=\"background: #99C45F;\">\n",
              "<img alt=\"\" src=\"https://www.soccersuck.com/images/eng.gif\" style=\"margin: 0px 5px -1px 2px;width: 20px;\"/> <a href=\"https://www.soccersuck.com/boards/topic/2140552\" target=\"_blank\">\n",
              "                    'เป๊ป' ย้ำเรือต้องไม่พลาด-ชม KDB น่าทึ่ง                    </a>\n",
              "</div>\n",
              "<div class=\"oldnew_p_tr\" style=\"background: #C4E29B;\">\n",
              "<img alt=\"\" src=\"https://www.soccersuck.com/images/eng.gif\" style=\"margin: 0px 5px -1px 2px;width: 20px;\"/> <a href=\"https://www.soccersuck.com/boards/topic/2140551\" target=\"_blank\">\n",
              "                    \"แลมพ์\" พอใจลูกทีมยังโชว์ให้เห็นความมุ่งมั่น                    </a>\n",
              "</div>\n",
              "<div class=\"oldnew_p_tr\" style=\"background: #99C45F;\">\n",
              "<img alt=\"\" src=\"https://www.soccersuck.com/images/esp.gif\" style=\"margin: 0px 5px -1px 2px;width: 20px;\"/> <a href=\"https://www.soccersuck.com/boards/topic/2140550\" target=\"_blank\">\n",
              "                    มาโยรัลเบิ้ล \"เกตาเฟ่\" บุกสอยเซลต้า 2-0 หายใจสะดวก...                    </a>\n",
              "</div>\n",
              "<div class=\"oldnew_p_tr\" style=\"background: #C4E29B;\">\n",
              "<img alt=\"\" src=\"https://www.soccersuck.com/images/eng.gif\" style=\"margin: 0px 5px -1px 2px;width: 20px;\"/> <a href=\"https://www.soccersuck.com/boards/topic/2140547\" target=\"_blank\">\n",
              "                    \"ซาก้า\" บอกโดนเดฟดึงไว้ 5 วิ เลยจำเป็นต้องล้ม                    </a>\n",
              "</div>\n",
              "<div class=\"oldnew_p_tr\" style=\"background: #99C45F;\">\n",
              "<img alt=\"\" src=\"https://www.soccersuck.com/images/eng.gif\" style=\"margin: 0px 5px -1px 2px;width: 20px;\"/><img alt=\"\" src=\"http://www.soccersuck.com/img/web/icon_official.png\" style=\"margin: -10px 2px -6px 2px;width: 25px;\"/> <a href=\"https://www.soccersuck.com/boards/topic/2140546\" target=\"_blank\">\n",
              "                    ไก่เฮ! 'สคิปป์' อยู่ยาวต่อสัญญาใหม่ 5 ปี                    </a>\n",
              "</div>\n",
              "<div class=\"oldnew_p_tr\" style=\"background: #C4E29B;\">\n",
              "<img alt=\"\" src=\"https://www.soccersuck.com/images/ita.gif\" style=\"margin: 0px 5px -1px 2px;width: 20px;\"/> <a href=\"https://www.soccersuck.com/boards/topic/2140545\" target=\"_blank\">\n",
              "                    \"แบร์นาร์\" แฮปปี้ซัดพาทีมเข้าชิง ยันยังไม่ใช่ประตู...                    </a>\n",
              "</div>\n",
              "<div class=\"oldnew_p_tr\" style=\"background: #99C45F;\">\n",
              "<img alt=\"\" src=\"https://www.soccersuck.com/images/fra.gif\" style=\"margin: 0px 5px -1px 2px;width: 20px;\"/> <a href=\"https://www.soccersuck.com/boards/topic/2140540\" target=\"_blank\">\n",
              "                    พี่มอสโขกตู้ม! P$G บุกอัดอองเชร์ส 3-0 อีกแต้มเดียวแชมป์...สร...                    </a>\n",
              "</div>\n",
              "<div class=\"oldnew_p_tr\" style=\"background: #C4E29B;\">\n",
              "<img alt=\"\" src=\"https://www.soccersuck.com/images/eng.gif\" style=\"margin: 0px 5px -1px 2px;width: 20px;\"/> <a href=\"https://www.soccersuck.com/boards/topic/2140539\" target=\"_blank\">\n",
              "                    'อัลมิรอน' ซัดโทนสาลิกาซิวพาเลซขึ้นที่ 11...สรุปผล...                    </a>\n",
              "</div>\n",
              "<div class=\"oldnew_p_tr\" style=\"background: #99C45F;\">\n",
              "<img alt=\"\" src=\"https://www.soccersuck.com/images/esp.gif\" style=\"margin: 0px 5px -1px 2px;width: 20px;\"/> <a href=\"https://www.soccersuck.com/boards/topic/2140501\" target=\"_blank\">\n",
              "                    เบนซ์พลาดสองโทษ! บาซเกซ ซัดฝังน.90+6 \"ราชัน\" ทุบโอ...                    </a>\n",
              "</div>\n",
              "<div class=\"oldnew_p_tr\" style=\"background: #C4E29B;\">\n",
              "<img alt=\"\" src=\"https://www.soccersuck.com/images/eng.gif\" style=\"margin: 0px 5px -1px 2px;width: 20px;\"/> <a href=\"https://www.soccersuck.com/boards/topic/2140499\" target=\"_blank\">\n",
              "                    ไก่จ๋าพี่มาแล้ว! เอ็ดดี้เบิ้ล 'ปืน' คืนฟอร์มยิงสิง...                    </a>\n",
              "</div>\n",
              "<div class=\"oldnew_p_tr\" style=\"background: #99C45F;\">\n",
              "<img alt=\"\" src=\"https://www.soccersuck.com/images/eng.gif\" style=\"margin: 0px 5px -1px 2px;width: 20px;\"/> <a href=\"https://www.soccersuck.com/boards/topic/2140496\" target=\"_blank\">\n",
              "                    ริชาร์ฯฮีโร่! ยิงทดเจ็บเซฟ 'ทอฟฟี่'  เจ๊าหืดเลสเตอ...                    </a>\n",
              "</div>\n",
              "<div class=\"oldnew_p_tr\" style=\"background: #C4E29B;\">\n",
              "<img alt=\"\" src=\"https://www.soccersuck.com/images/ita.gif\" style=\"margin: 0px 5px -1px 2px;width: 20px;\"/> <a href=\"https://www.soccersuck.com/boards/topic/2140495\" target=\"_blank\">\n",
              "                    ดานิโล่ปิดกล่อง! \"ม้าลาย\" มาตามนัดสอยม่วง 2-0 ลิ่ว...                    </a>\n",
              "</div>\n",
              "<div class=\"oldnew_p_tr\" style=\"background: #99C45F;\">\n",
              "<img alt=\"\" src=\"https://www.soccersuck.com/images/eng.gif\" style=\"margin: 0px 5px -1px 2px;width: 20px;\"/> <a href=\"https://www.soccersuck.com/boards/topic/2140491\" target=\"_blank\">\n",
              "                    ทวงคืนฝูง!! 'เรือ' กดครึ่งหลังไม่ซ้ำหน้าอัดไบรจ์ตั...                    </a>\n",
              "</div>\n",
              "<div class=\"oldnew_p_tr\" style=\"background: #C4E29B;\">\n",
              "<img alt=\"\" src=\"https://www.soccersuck.com/images/ger.gif\" style=\"margin: 0px 5px -1px 2px;width: 20px;\"/> <a href=\"https://www.soccersuck.com/boards/topic/2140490\" target=\"_blank\">\n",
              "                    พี่เสือทำใจขาย \"เลวาน\" 40 ลย. ถ้าไม่ต่อสัญญา                    </a>\n",
              "</div>\n",
              "<div class=\"oldnew_p_tr\" style=\"background: #99C45F;\">\n",
              "<img alt=\"\" src=\"https://www.soccersuck.com/images/eng.gif\" style=\"margin: 0px 5px -1px 2px;width: 20px;\"/> <a href=\"https://www.soccersuck.com/boards/topic/2140483\" target=\"_blank\">\n",
              "                    ไก่พร้อมทุ่มระดับ 50 ลย.เพื่อ 2 กองหลังโตโร่                    </a>\n",
              "</div>\n",
              "<div class=\"oldnew_p_tr\" style=\"background: #C4E29B;\">\n",
              "<img alt=\"\" src=\"https://www.soccersuck.com/images/esp.gif\" style=\"margin: 0px 5px -1px 2px;width: 20px;\"/> <a href=\"https://www.soccersuck.com/boards/topic/2140470\" target=\"_blank\">\n",
              "                    'ตราหมี' ชนเสาส่งท้ายแค่เจ๊ากรานาด้าไร้สกอร์ ยังขึ...                    </a>\n",
              "</div>\n",
              "<div class=\"oldnew_p_tr\" style=\"background: #99C45F;\">\n",
              "<img alt=\"\" src=\"https://www.soccersuck.com/images/eng.gif\" style=\"margin: 0px 5px -1px 2px;width: 20px;\"/> <a href=\"https://www.soccersuck.com/boards/topic/2140465\" target=\"_blank\">\n",
              "                    เบิร์นลี่ย์ยังไร้ 'มี' คุมหลังปะทะนักบุญ...ปรีวิว ...                    </a>\n",
              "</div>\n",
              "<div class=\"oldnew_p_page\">\n",
              "                        ไปที่หน้า <a href=\"https://www.soccersuck.com/boards/oldnews/1/\" style=\"color: #000;text-decoration: none;\">1</a> |\n",
              "                                  <a href=\"https://www.soccersuck.com/boards/oldnews/2/\" style=\"color: #000;text-decoration: none;\">2</a> |\n",
              "                                  <a href=\"https://www.soccersuck.com/boards/oldnews/3/\" style=\"color: #000;text-decoration: none;\">3</a>\n",
              "</div>\n",
              "</div>\n",
              "<script type=\"text/javascript\">\n",
              "            $(document).ready(function(){\n",
              "                $('.content_right').remove();\n",
              "                $('.adsBottoms').remove(); \n",
              "            });\n",
              "            </script>\n",
              "<script src=\"//anymind360.com/js/4585/ats.js\" type=\"application/javascript\"></script>\n",
              "</div>\n",
              "<div class=\"content_right\">\n",
              "<!-- start fix banner -->\n",
              "<!-- end fix banner -->\n",
              "<!-- adsense display -->\n",
              "<div style=\"\n",
              "                    height: 600px;\n",
              "                    width: 240px;\n",
              "                  \">\n",
              "<script async=\"\" src=\"https://pagead2.googlesyndication.com/pagead/js/adsbygoogle.js\"></script>\n",
              "<!-- new-position-ads-right-side -->\n",
              "<ins class=\"adsbygoogle\" data-ad-client=\"ca-pub-6459522510239433\" data-ad-slot=\"6528530547\" style=\"display:inline-block;width:240px;height:600px\"></ins>\n",
              "<script>\n",
              "                        (adsbygoogle = window.adsbygoogle || []).push({});\n",
              "                    </script>\n",
              "</div>\n",
              "<div class=\"clear\"></div>\n",
              "</div>\n",
              "<div class=\"clear\"></div>\n",
              "</div>\n",
              "<div id=\"footer\">\n",
              "<div class=\"contentFooter\">\n",
              "<a href=\"https://www.soccersuck.com/\">หน้าแรก</a> |\n",
              "<a href=\"https://www.soccersuck.com/boards/oldnews/\">ข่าวเก่า</a> |\n",
              "   <!-- <a href=\"http://www.polballss.com/\">ทีเด็ด เบน ฟรีคิก</a> |\n",
              "    <a href=\"http://www.guideball.com/\">รายงานสดผลบอล</a> | -->\n",
              "<!-- <a href=\"http://live.thaileagueonline.com/main.live\">Live Score ไทยลีก</a> | -->\n",
              "<a href=\"https://www.soccersuck.com/boards/topic/1232930/\">โปรแกรมถ่ายทอดสด</a> |\n",
              "    <!--a href=\"https://www.soccersuck.com/\">ไม่มีกิจห้ามเข้า</a> |  !-->\n",
              "<a href=\"https://www.soccersuck.com/boards/topic/1232930\">โปรแกรมบอลล่วงหน้า</a> |\n",
              "    <!--a href=\"#scoreTable\">ตารางคะแนน</a> | !-->\n",
              "<a href=\"https://www.soccersuck.com/boards/index\">เว็บบอร์ด</a> |\n",
              "    <a href=\"https://www.soccersuck.com/menu/history/\">ประวัติ soccersuck</a> |\n",
              "    <!--<a href=\"#\">พาร์ทเนอร์</a> |!-->\n",
              "<a href=\"https://www.soccersuck.com/users/contact\">ติดต่อโฆษณา</a>\n",
              "<div style=\"font-size: 12px;\">Version L-ly 1.0</div>\n",
              "<div>\n",
              "<div style=\"float: left; margin: 10px;\">\n",
              "<a href=\"https://play.google.com/store/apps/details?id=soccersuck.devtab.com.soccersuck\"><img src=\"/img/web/icon_googleplay.png\" width=\"126\"/></a>\n",
              "</div>\n",
              "<div style=\"float: left; margin: 10px;\">\n",
              "<a href=\"https://itunes.apple.com/bf/app/soccersuck/id1042191005?mt=8\"><img src=\"/img/web/icon_appstore.png\" width=\"126\"/></a>\n",
              "</div>\n",
              "<div class=\"clear\"></div>\n",
              "</div>\n",
              "</div>\n",
              "</div>\n",
              "<!-- banner blog-D -->\n",
              "<script src=\"https://js.rfp.fout.jp/rfp-display.js\"></script>\n",
              "<script type=\"text/javascript\">RFP.Display.Default.lazyLoading(document.getElementById('rfp-ODg0OjE0NTQ1'))</script>\n",
              "</body>\n",
              "</html>"
            ]
          },
          "metadata": {},
          "execution_count": 8
        }
      ],
      "source": [
        "#ดึงข้อมูล html จากเว็บไซต์มาเปลี่ยนเป็น soup\n",
        "url = f'https://www.soccersuck.com/boards/oldnews/1/'\n",
        "soup = get_soup(url)\n",
        "soup"
      ]
    },
    {
      "cell_type": "markdown",
      "metadata": {
        "id": "20Ekl-ihrdWn"
      },
      "source": [
        "#### หา Tag ต่างๆใน Soup"
      ]
    },
    {
      "cell_type": "code",
      "execution_count": 9,
      "metadata": {
        "colab": {
          "base_uri": "https://localhost:8080/"
        },
        "id": "xOXnPRISp38F",
        "outputId": "303f2ed2-5b01-427e-acba-44da10356684"
      },
      "outputs": [
        {
          "output_type": "execute_result",
          "data": {
            "text/plain": [
              "<div class=\"oldnew_p_tr\" style=\"background: #C4E29B;\">\n",
              "<img alt=\"\" src=\"https://www.soccersuck.com/images/eng.gif\" style=\"margin: 0px 5px -1px 2px;width: 20px;\"/> <a href=\"https://www.soccersuck.com/boards/topic/2141328\" target=\"_blank\">\n",
              "                    สื่อตี 'ทุนโบห์ลี่' มั่นใจเทคโอเวอร์สิงห์สำเร็จ                    </a>\n",
              "</div>"
            ]
          },
          "metadata": {},
          "execution_count": 9
        }
      ],
      "source": [
        "#หา tag ชื่อ div ที่มี class oldnew_p_tr\n",
        "#เราสามาร?ถหาโดย id ได้ด้วย แค่เปลี่ยนเป็น id='id_you_are_looking_for'\n",
        "soup.find('div', class_='oldnew_p_tr')"
      ]
    },
    {
      "cell_type": "code",
      "execution_count": 10,
      "metadata": {
        "colab": {
          "base_uri": "https://localhost:8080/"
        },
        "id": "v74oubsPqBL-",
        "outputId": "4cf3ac5b-0de3-472f-a9fc-a0e3868f627b"
      },
      "outputs": [
        {
          "output_type": "execute_result",
          "data": {
            "text/plain": [
              "<a href=\"https://www.soccersuck.com/boards/topic/2141328\" target=\"_blank\">\n",
              "                    สื่อตี 'ทุนโบห์ลี่' มั่นใจเทคโอเวอร์สิงห์สำเร็จ                    </a>"
            ]
          },
          "metadata": {},
          "execution_count": 10
        }
      ],
      "source": [
        "soup.find('div', class_='oldnew_p_tr').find('a')"
      ]
    },
    {
      "cell_type": "code",
      "execution_count": 11,
      "metadata": {
        "colab": {
          "base_uri": "https://localhost:8080/",
          "height": 35
        },
        "id": "_iCzLh8sqED7",
        "outputId": "c3501490-36e1-453e-fdb3-a2ddbd6fdbfd"
      },
      "outputs": [
        {
          "output_type": "execute_result",
          "data": {
            "text/plain": [
              "'https://www.soccersuck.com/boards/topic/2141328'"
            ],
            "application/vnd.google.colaboratory.intrinsic+json": {
              "type": "string"
            }
          },
          "metadata": {},
          "execution_count": 11
        }
      ],
      "source": [
        "#เอา text จาก tag <a>\n",
        "soup.find('div', class_='oldnew_p_tr').find('a').text.strip(),\\\n",
        "#เอา href จาก tag <a>\n",
        "soup.find('div', class_='oldnew_p_tr').find('a').get('href')"
      ]
    },
    {
      "cell_type": "code",
      "execution_count": 12,
      "metadata": {
        "colab": {
          "base_uri": "https://localhost:8080/",
          "height": 363
        },
        "id": "fzKN_3GlfwVp",
        "outputId": "85ca4625-1797-4809-aab5-20ea5eb20b36"
      },
      "outputs": [
        {
          "output_type": "execute_result",
          "data": {
            "text/plain": [
              "                                       headline_abridged  \\\n",
              "0        สื่อตี 'ทุนโบห์ลี่' มั่นใจเทคโอเวอร์สิงห์สำเร็จ   \n",
              "1  JK ยอมรับคงคิดถึง 'เมอร์ซี่ไซค์ดาร์บี้' ถ้าทอฟฟี่ต...   \n",
              "2          'เสี่ยหมู' ปัดโอกาสกลับผีร่วมงาน 'เทน ฮาก\u0003...   \n",
              "3  ทุกคะแนนมีค่า! 'แลมพ์' บอกท๊อฟฟี่เยือนหงส์แต้มเดีย...   \n",
              "4       ต้านไม่ไหว! \"เชียงราย\" ยังไร้แต้มโดน \"วิสเซล ...   \n",
              "5                   เผยผีเตรียมดร็อป 'แมกไกวร์' เยือนปืน   \n",
              "6  วันออสการ์กีฬาไทย! \"มาดามแป้ง\" ขึ้นรับทีมยอดเยี่ยม...   \n",
              "7                'ทูเคิ่ล' รับฟอร์มเกมเหย้าสิงห์น่ากังวล   \n",
              "8  วิจารณ์ได้วิจารณ์ไป! JK ไม่เคยกังขา 'ธิอาโก้' ไม่เ...   \n",
              "9               'โทมิยาสุ' มีลุ้นคุมแบ็คช่วย 'ปืน' บูีผี   \n",
              "\n",
              "                                               url  \n",
              "0  https://www.soccersuck.com/boards/topic/2141328  \n",
              "1  https://www.soccersuck.com/boards/topic/2141323  \n",
              "2  https://www.soccersuck.com/boards/topic/2141320  \n",
              "3  https://www.soccersuck.com/boards/topic/2141316  \n",
              "4  https://www.soccersuck.com/boards/topic/2141315  \n",
              "5  https://www.soccersuck.com/boards/topic/2141309  \n",
              "6  https://www.soccersuck.com/boards/topic/2141308  \n",
              "7  https://www.soccersuck.com/boards/topic/2141304  \n",
              "8  https://www.soccersuck.com/boards/topic/2141290  \n",
              "9  https://www.soccersuck.com/boards/topic/2141278  "
            ],
            "text/html": [
              "\n",
              "  <div id=\"df-8c8d1ee6-6e4e-4918-b7cb-396389371409\">\n",
              "    <div class=\"colab-df-container\">\n",
              "      <div>\n",
              "<style scoped>\n",
              "    .dataframe tbody tr th:only-of-type {\n",
              "        vertical-align: middle;\n",
              "    }\n",
              "\n",
              "    .dataframe tbody tr th {\n",
              "        vertical-align: top;\n",
              "    }\n",
              "\n",
              "    .dataframe thead th {\n",
              "        text-align: right;\n",
              "    }\n",
              "</style>\n",
              "<table border=\"1\" class=\"dataframe\">\n",
              "  <thead>\n",
              "    <tr style=\"text-align: right;\">\n",
              "      <th></th>\n",
              "      <th>headline_abridged</th>\n",
              "      <th>url</th>\n",
              "    </tr>\n",
              "  </thead>\n",
              "  <tbody>\n",
              "    <tr>\n",
              "      <th>0</th>\n",
              "      <td>สื่อตี 'ทุนโบห์ลี่' มั่นใจเทคโอเวอร์สิงห์สำเร็จ</td>\n",
              "      <td>https://www.soccersuck.com/boards/topic/2141328</td>\n",
              "    </tr>\n",
              "    <tr>\n",
              "      <th>1</th>\n",
              "      <td>JK ยอมรับคงคิดถึง 'เมอร์ซี่ไซค์ดาร์บี้' ถ้าทอฟฟี่ต...</td>\n",
              "      <td>https://www.soccersuck.com/boards/topic/2141323</td>\n",
              "    </tr>\n",
              "    <tr>\n",
              "      <th>2</th>\n",
              "      <td>'เสี่ยหมู' ปัดโอกาสกลับผีร่วมงาน 'เทน ฮาก\u0003...</td>\n",
              "      <td>https://www.soccersuck.com/boards/topic/2141320</td>\n",
              "    </tr>\n",
              "    <tr>\n",
              "      <th>3</th>\n",
              "      <td>ทุกคะแนนมีค่า! 'แลมพ์' บอกท๊อฟฟี่เยือนหงส์แต้มเดีย...</td>\n",
              "      <td>https://www.soccersuck.com/boards/topic/2141316</td>\n",
              "    </tr>\n",
              "    <tr>\n",
              "      <th>4</th>\n",
              "      <td>ต้านไม่ไหว! \"เชียงราย\" ยังไร้แต้มโดน \"วิสเซล ...</td>\n",
              "      <td>https://www.soccersuck.com/boards/topic/2141315</td>\n",
              "    </tr>\n",
              "    <tr>\n",
              "      <th>5</th>\n",
              "      <td>เผยผีเตรียมดร็อป 'แมกไกวร์' เยือนปืน</td>\n",
              "      <td>https://www.soccersuck.com/boards/topic/2141309</td>\n",
              "    </tr>\n",
              "    <tr>\n",
              "      <th>6</th>\n",
              "      <td>วันออสการ์กีฬาไทย! \"มาดามแป้ง\" ขึ้นรับทีมยอดเยี่ยม...</td>\n",
              "      <td>https://www.soccersuck.com/boards/topic/2141308</td>\n",
              "    </tr>\n",
              "    <tr>\n",
              "      <th>7</th>\n",
              "      <td>'ทูเคิ่ล' รับฟอร์มเกมเหย้าสิงห์น่ากังวล</td>\n",
              "      <td>https://www.soccersuck.com/boards/topic/2141304</td>\n",
              "    </tr>\n",
              "    <tr>\n",
              "      <th>8</th>\n",
              "      <td>วิจารณ์ได้วิจารณ์ไป! JK ไม่เคยกังขา 'ธิอาโก้' ไม่เ...</td>\n",
              "      <td>https://www.soccersuck.com/boards/topic/2141290</td>\n",
              "    </tr>\n",
              "    <tr>\n",
              "      <th>9</th>\n",
              "      <td>'โทมิยาสุ' มีลุ้นคุมแบ็คช่วย 'ปืน' บูีผี</td>\n",
              "      <td>https://www.soccersuck.com/boards/topic/2141278</td>\n",
              "    </tr>\n",
              "  </tbody>\n",
              "</table>\n",
              "</div>\n",
              "      <button class=\"colab-df-convert\" onclick=\"convertToInteractive('df-8c8d1ee6-6e4e-4918-b7cb-396389371409')\"\n",
              "              title=\"Convert this dataframe to an interactive table.\"\n",
              "              style=\"display:none;\">\n",
              "        \n",
              "  <svg xmlns=\"http://www.w3.org/2000/svg\" height=\"24px\"viewBox=\"0 0 24 24\"\n",
              "       width=\"24px\">\n",
              "    <path d=\"M0 0h24v24H0V0z\" fill=\"none\"/>\n",
              "    <path d=\"M18.56 5.44l.94 2.06.94-2.06 2.06-.94-2.06-.94-.94-2.06-.94 2.06-2.06.94zm-11 1L8.5 8.5l.94-2.06 2.06-.94-2.06-.94L8.5 2.5l-.94 2.06-2.06.94zm10 10l.94 2.06.94-2.06 2.06-.94-2.06-.94-.94-2.06-.94 2.06-2.06.94z\"/><path d=\"M17.41 7.96l-1.37-1.37c-.4-.4-.92-.59-1.43-.59-.52 0-1.04.2-1.43.59L10.3 9.45l-7.72 7.72c-.78.78-.78 2.05 0 2.83L4 21.41c.39.39.9.59 1.41.59.51 0 1.02-.2 1.41-.59l7.78-7.78 2.81-2.81c.8-.78.8-2.07 0-2.86zM5.41 20L4 18.59l7.72-7.72 1.47 1.35L5.41 20z\"/>\n",
              "  </svg>\n",
              "      </button>\n",
              "      \n",
              "  <style>\n",
              "    .colab-df-container {\n",
              "      display:flex;\n",
              "      flex-wrap:wrap;\n",
              "      gap: 12px;\n",
              "    }\n",
              "\n",
              "    .colab-df-convert {\n",
              "      background-color: #E8F0FE;\n",
              "      border: none;\n",
              "      border-radius: 50%;\n",
              "      cursor: pointer;\n",
              "      display: none;\n",
              "      fill: #1967D2;\n",
              "      height: 32px;\n",
              "      padding: 0 0 0 0;\n",
              "      width: 32px;\n",
              "    }\n",
              "\n",
              "    .colab-df-convert:hover {\n",
              "      background-color: #E2EBFA;\n",
              "      box-shadow: 0px 1px 2px rgba(60, 64, 67, 0.3), 0px 1px 3px 1px rgba(60, 64, 67, 0.15);\n",
              "      fill: #174EA6;\n",
              "    }\n",
              "\n",
              "    [theme=dark] .colab-df-convert {\n",
              "      background-color: #3B4455;\n",
              "      fill: #D2E3FC;\n",
              "    }\n",
              "\n",
              "    [theme=dark] .colab-df-convert:hover {\n",
              "      background-color: #434B5C;\n",
              "      box-shadow: 0px 1px 3px 1px rgba(0, 0, 0, 0.15);\n",
              "      filter: drop-shadow(0px 1px 2px rgba(0, 0, 0, 0.3));\n",
              "      fill: #FFFFFF;\n",
              "    }\n",
              "  </style>\n",
              "\n",
              "      <script>\n",
              "        const buttonEl =\n",
              "          document.querySelector('#df-8c8d1ee6-6e4e-4918-b7cb-396389371409 button.colab-df-convert');\n",
              "        buttonEl.style.display =\n",
              "          google.colab.kernel.accessAllowed ? 'block' : 'none';\n",
              "\n",
              "        async function convertToInteractive(key) {\n",
              "          const element = document.querySelector('#df-8c8d1ee6-6e4e-4918-b7cb-396389371409');\n",
              "          const dataTable =\n",
              "            await google.colab.kernel.invokeFunction('convertToInteractive',\n",
              "                                                     [key], {});\n",
              "          if (!dataTable) return;\n",
              "\n",
              "          const docLinkHtml = 'Like what you see? Visit the ' +\n",
              "            '<a target=\"_blank\" href=https://colab.research.google.com/notebooks/data_table.ipynb>data table notebook</a>'\n",
              "            + ' to learn more about interactive tables.';\n",
              "          element.innerHTML = '';\n",
              "          dataTable['output_type'] = 'display_data';\n",
              "          await google.colab.output.renderOutput(dataTable, element);\n",
              "          const docLink = document.createElement('div');\n",
              "          docLink.innerHTML = docLinkHtml;\n",
              "          element.appendChild(docLink);\n",
              "        }\n",
              "      </script>\n",
              "    </div>\n",
              "  </div>\n",
              "  "
            ]
          },
          "metadata": {},
          "execution_count": 12
        }
      ],
      "source": [
        "df = pd.DataFrame([\n",
        "{'headline_abridged': i.text.strip(),\n",
        " 'url': i.find('a').get('href')} \\\n",
        " #find() จะหาแค่ tag แรกที่เจอ แต่ find_all() จะหาทุก tag ที่ตรงเงื่อนไข\n",
        " for i in soup.find_all('div', class_='oldnew_p_tr')]).head(10)\n",
        "df"
      ]
    },
    {
      "cell_type": "markdown",
      "metadata": {
        "id": "2ZrL-yhxr30k"
      },
      "source": [
        "#### ดึงข้อมูลจาก url ย่อย"
      ]
    },
    {
      "cell_type": "code",
      "execution_count": 13,
      "metadata": {
        "colab": {
          "base_uri": "https://localhost:8080/"
        },
        "id": "EprNiQaBraln",
        "outputId": "5bf568bd-f240-49c1-e857-0404dab1f6e0"
      },
      "outputs": [
        {
          "output_type": "execute_result",
          "data": {
            "text/plain": [
              "headline_abridged    สื่อตี 'ทุนโบห์ลี่' มั่นใจเทคโอเวอร์สิงห์สำเร็จ\n",
              "url                  https://www.soccersuck.com/boards/topic/2141328\n",
              "Name: 0, dtype: object"
            ]
          },
          "metadata": {},
          "execution_count": 13
        }
      ],
      "source": [
        "#จากหน้า list　ข่าว พาดหัวจะแสดงได้ไม่เต็ม\n",
        "df.loc[0]"
      ]
    },
    {
      "cell_type": "code",
      "execution_count": 14,
      "metadata": {
        "colab": {
          "base_uri": "https://localhost:8080/"
        },
        "id": "zWLt7Ararhty",
        "outputId": "9e3af5b6-d0aa-413f-a150-a663fca66b42"
      },
      "outputs": [
        {
          "output_type": "execute_result",
          "data": {
            "text/plain": [
              "(\"สื่อตี 'ทุนโบห์ลี่' มั่นใจเทคโอเวอร์สิงห์สำเร็จ\",\n",
              " 'รายงานเปิดเผยว่ากลุ่มทุนของ ท็อดด์ โบห์ลี่ มั่นใจยิ่งขึ้นว่าจะเป็นฝ่ายที่เข้าเส้นชัยเทคโอเวอร์ เชลซี สำเร็จ\\n\\nตอนนี้พ้นเส้นตายการยื่นข้อเสนอสุดท้ายสำหรับการซื้อ เชลซี ไปแล้ว จึงเหลือเวลาอีกไม่มากก่อนว่าที่เจ้าของใหม่ถูกส่งไปให้รัฐบาลผู้ดีและพรีเมียร์ลีกพิจารณาความเหมาะสม\\n\\nBlick สื่อจากสวิตเซอร์แลนด์ก็รายงานว่า โบห์ลี่ รวมถึง ฮานส์ยอร์ก วีสส์ เศรษฐีร่วมทุนต่างมั่นใจยิ่งขึ้นว่าพวกเขาจะเข้าเทคโอเวอร์ \"สิงห์บลูส์\" สำเร็จ\\n\\nพวกเขาเปิดเผยถึงความตั้งใจที่จะซื้อ เชลซี ตั้งแต่เดือนที่แล้วหลัง โรมัน อับราโมวิช ประกาศขายสโมสรในวันที่ 2 มีนาคม\\n\\nจอร์จ ออสบอร์น อดีตรัฐมนตรีกระทรวงการคลังก็ช่วยเหลือกลุ่มทุนของ โบห์ลี่ หลังพวกเขารับคำแนะนำจากบริษัท Robey Warshaw ที่ ออสบอร์น ร่วมงานในปีที่แล้ว\\n\\nโบห์ลี่ ถูกมองเป็นตัวเต็งที่จะได้เทคโอเวอร์ เชลซี โดยเขาเป็นเจ้าของบริษัทลงทุน Eldridge อีกทั้งยังเป็นเจ้าของร่วม แอลเอ ด็อดเจอร์ส ทีมเบสบอลในอเมริกา\\n\\nโบห์ลี่ เคยยื่นข้อเสนอ 2.2 พันล้านปอนด์เพื่อขอซื้อ เชลซี ในปี 2019 แต่โดนปฏิเสธและเขาก็ตั้งใจที่จะขยายการลงทุนทางด้านกีฬามากขึ้น\\n\\nเขายังได้รับการหนุนหลังจากบริษัทเจ้าใหญ่ๆทางด้านการเงินอย่างเช่น Clearlake Capital ที่มีทรัพย์สินถึง 4.5 หมื่นล้านปอนด์, วีสส์ นั้นก็มีทรัพย์สินที่ 3.9 พันล้านปอนด์และ โจนาธาน โกลด์สตีน ที่ร่วมลงทุนด้วยก็มีทรัพย์สินถึง 7.7 พันล้านปอนด์\\n\\nรายงานยังระบุว่าเจ้าของใหม่ที่จะเข้ามานั้นเสนอให้แฟนบอลได้มีส่วนร่วม หมายความว่าจะไม่มีการตัดสินใจสำคัญๆเกิดขึ้นโดยไม่ปรึกษากับแฟนบอล ซึ่งรวมถึงอนาคตของ แสตมฟอร์ด บริดจ์ รังเหย้าพวกเขา')"
            ]
          },
          "metadata": {},
          "execution_count": 14
        }
      ],
      "source": [
        "#เราสามารถเข้าไปใน url ของข่าวแต่ละข่าวเพื่อไปเอาพาดหัวแบบเต็มและเนื้อข่าวได้\n",
        "soup = get_soup(df.loc[0,'url'])\n",
        "soup.find('div', class_='post_head').text.strip(),\\\n",
        "soup.find('div', class_='post_desc').text.strip()"
      ]
    },
    {
      "cell_type": "code",
      "execution_count": 15,
      "metadata": {
        "id": "8uWIvES_sKGY"
      },
      "outputs": [],
      "source": [
        "#เขียนฟังชั่นเพื่อเข้าไปดึงข้อมูลจากหน้าข่าว\n",
        "def get_post_head_desc(url):\n",
        "    soup = get_soup(url)\n",
        "    return {'post_head': soup.find('div', class_='post_head').text.strip(),\n",
        "            'post_desc': soup.find('div', class_='post_desc').text.strip()}"
      ]
    },
    {
      "cell_type": "code",
      "execution_count": 16,
      "metadata": {
        "colab": {
          "base_uri": "https://localhost:8080/",
          "height": 1000
        },
        "id": "5VGSN39CsASR",
        "outputId": "9632fbec-782a-40f6-81d7-336ea0eeebcd"
      },
      "outputs": [
        {
          "output_type": "stream",
          "name": "stderr",
          "text": [
            "/usr/local/lib/python3.7/dist-packages/ipykernel_launcher.py:3: FutureWarning: In a future version of pandas all arguments of concat except for the argument 'objs' will be keyword-only\n",
            "  This is separate from the ipykernel package so we can avoid doing imports until\n"
          ]
        },
        {
          "output_type": "execute_result",
          "data": {
            "text/plain": [
              "                                       headline_abridged  \\\n",
              "0        สื่อตี 'ทุนโบห์ลี่' มั่นใจเทคโอเวอร์สิงห์สำเร็จ   \n",
              "1  JK ยอมรับคงคิดถึง 'เมอร์ซี่ไซค์ดาร์บี้' ถ้าทอฟฟี่ต...   \n",
              "2          'เสี่ยหมู' ปัดโอกาสกลับผีร่วมงาน 'เทน ฮาก\u0003...   \n",
              "3  ทุกคะแนนมีค่า! 'แลมพ์' บอกท๊อฟฟี่เยือนหงส์แต้มเดีย...   \n",
              "4       ต้านไม่ไหว! \"เชียงราย\" ยังไร้แต้มโดน \"วิสเซล ...   \n",
              "5                   เผยผีเตรียมดร็อป 'แมกไกวร์' เยือนปืน   \n",
              "6  วันออสการ์กีฬาไทย! \"มาดามแป้ง\" ขึ้นรับทีมยอดเยี่ยม...   \n",
              "7                'ทูเคิ่ล' รับฟอร์มเกมเหย้าสิงห์น่ากังวล   \n",
              "8  วิจารณ์ได้วิจารณ์ไป! JK ไม่เคยกังขา 'ธิอาโก้' ไม่เ...   \n",
              "9               'โทมิยาสุ' มีลุ้นคุมแบ็คช่วย 'ปืน' บูีผี   \n",
              "\n",
              "                                               url  \\\n",
              "0  https://www.soccersuck.com/boards/topic/2141328   \n",
              "1  https://www.soccersuck.com/boards/topic/2141323   \n",
              "2  https://www.soccersuck.com/boards/topic/2141320   \n",
              "3  https://www.soccersuck.com/boards/topic/2141316   \n",
              "4  https://www.soccersuck.com/boards/topic/2141315   \n",
              "5  https://www.soccersuck.com/boards/topic/2141309   \n",
              "6  https://www.soccersuck.com/boards/topic/2141308   \n",
              "7  https://www.soccersuck.com/boards/topic/2141304   \n",
              "8  https://www.soccersuck.com/boards/topic/2141290   \n",
              "9  https://www.soccersuck.com/boards/topic/2141278   \n",
              "\n",
              "                                                              post_head  \\\n",
              "0                       สื่อตี 'ทุนโบห์ลี่' มั่นใจเทคโอเวอร์สิงห์สำเร็จ   \n",
              "1               JK ยอมรับคงคิดถึง 'เมอร์ซี่ไซค์ดาร์บี้' ถ้าทอฟฟี่ตกชั้น   \n",
              "2                            'เสี่ยหมู' ปัดโอกาสกลับผีร่วมงาน 'เทน ฮาก'   \n",
              "3              ทุกคะแนนมีค่า! 'แลมพ์' บอกท๊อฟฟี่เยือนหงส์แต้มเดียวก็เอา   \n",
              "4     ต้านไม่ไหว! \"เชียงราย\" ยังไร้แต้มโดน \"วิสเซล โกเบ\" กระทุ้งยับ 6-0   \n",
              "5                                  เผยผีเตรียมดร็อป 'แมกไกวร์' เยือนปืน   \n",
              "6  วันออสการ์กีฬาไทย! \"มาดามแป้ง\" ขึ้นรับทีมยอดเยี่ยม, \"เจ\" ซิวอาชีพชาย   \n",
              "7                               'ทูเคิ่ล' รับฟอร์มเกมเหย้าสิงห์น่ากังวล   \n",
              "8         วิจารณ์ได้วิจารณ์ไป! JK ไม่เคยกังขา 'ธิอาโก้' ไม่เหมาะกับหงส์   \n",
              "9                              'โทมิยาสุ' มีลุ้นคุมแบ็คช่วย 'ปืน' บูีผี   \n",
              "\n",
              "                                                                                                                                                                                                                                                                                                                                                                                                                                                                                                                                                                                                                 post_desc  \n",
              "0  รายงานเปิดเผยว่ากลุ่มทุนของ ท็อดด์ โบห์ลี่ มั่นใจยิ่งขึ้นว่าจะเป็นฝ่ายที่เข้าเส้นชัยเทคโอเวอร์ เชลซี สำเร็จ\\n\\nตอนนี้พ้นเส้นตายการยื่นข้อเสนอสุดท้ายสำหรับการซื้อ เชลซี ไปแล้ว จึงเหลือเวลาอีกไม่มากก่อนว่าที่เจ้าของใหม่ถูกส่งไปให้รัฐบาลผู้ดีและพรีเมียร์ลีกพิจารณาความเหมาะสม\\n\\nBlick สื่อจากสวิตเซอร์แลนด์ก็รายงานว่า โบห์ลี่ รวมถึง ฮานส์ยอร์ก วีสส์ เศรษฐีร่วมทุนต่างมั่นใจยิ่งขึ้นว่าพวกเขาจะเข้าเทคโอเวอร์ \"สิงห์บลูส์\" สำเร็จ\\n\\nพวกเขาเปิดเผยถึงความตั้งใจที่จะซื้อ เชลซี ตั้งแต่เดือนที่แล้วหลัง โรมัน อับราโมวิช ประกาศขายสโมสรในวันที่ 2 มีนาคม\\n\\nจอร์จ ออสบอร์น อดีตรัฐมนตรีกระทรวงการคลังก็ช่วยเหลื...  \n",
              "1  เยอร์เก้น คลอปป์ ผู้จัดการทีมลิเวอร์พูล ยอมรับว่า คงคิดถึงเมอร์ซี่ย์ไซด์ดาร์บี้แมตช์ถ้าหากเอฟเวอร์ตัน ต้องตกชั้นจากพรีเมียร์ลีกขึ้นมาจริงๆ \\n\\n\\nทัพหงส์แดง มีโปรแกรมนัดสำคัญพบเอฟเวอร์ตัน ในเมอร์ซี่ย์ไซด์ดาร์บี้ ที่แอนฟิลด์ วันอาทิตย์นี้ ซึ่งทีมของคลอปป์ กำลังสู้เพื่อตำแหน่งแชมป์ ขณะที่ทีมทอฟฟี่ต้องสู้เพื่อหนีจากการถูกลดชั้น\\n\\nเมื่อถูกถามว่า คลอปป์ จะคิดถึงเมอร์ซี่ย์ไซด์ดาร์บี้หรือไม่ บอสใหญ่ทีมหงส์แดง ตอบว่า\\n\\n\"แน่นอน ผมคิดว่าเราทุกคนเคยชินกับมัน\" คลอปป์ กล่าวก่อนเกม\\n\\n\"พบกับยูไนเต็ดเมื่อคืนก่อนให้อารมณ์ที่แตกต่างไปอีกแบบ โดยปกติจะมีเวลาเต็มทั้งสัปดาห์ก่อนเจอเอฟเวอร์ตัน มันทำให้เรามีเวล...  \n",
              "2  มีรายงานว่า เวย์น รูนี่ย์ ได้รับการเสนอโอกาสให้กลับสู่ แมนเชสเตอร์ ยูไนเต็ด เพื่อเป็นส่วนหนึ่งของทีมสตาฟฟ์โค้ช เอริค เทน ฮาก แต่เลือกที่จะตอบปฏิเสธ\\n\\nอดีตกองหน้าที่ผ่านการซัดไปมากกว่า 250 ประตูในการเล่นให้ แมนฯ ยูไนเต็ด นั้นสร้างความประทับใจระหว่างคุม ดาร์บี้ เคาน์ตี้ ในเดอะ แชมเปี้ยนชิพ\\n\\nแม้จะโดนตัดแต้มไป 21 คะแนนแต่ รูนี่ย์ ก็ช่วยให้ ดาร์บี้ เก็บชัยชนะไปได้ 13 นัดจากการลงสนามไปแล้ว 43 เกมในซีซั่นนี้ ซึ่งรวมถึงการปราบทีมอย่าง ฟูแล่ม, เชฟฟิลด์ ยูไนเต็ด และ เวสต์บรอมวิช อัลเบี้ยน\\n\\nอย่างไรก็ตามแม้จะทำดีแค่ไหนแต่แต้มที่โดนตัดก็มหาศาลเกิน ทำให้ \"แกะเขาเหล็ก\" ร่วงตกชั้นสู่ลีกวันเป็นที่เรีย...  \n",
              "3  แฟรงค์ แลมพาร์ด กุนซือ เอฟเวอร์ตัน บอกว่าเขายินดีรับผลเสมอในเกมเมอร์ซี่ย์ไซด์ดาร์บี้ที่จะบุกไปเยือน ลิเวอร์พูล คืนวันอาทิตย์\\n\\n\"ท๊อฟฟี่สีน้ำเงิน\" เก็บคะแนนกับการเล่นทีมเยือนในฤดูกาลนี้ไปได้เพียง 6 แต้มเท่านั้น โดยชัยชนะเกมเยือนหนสุดท้ายเกิดขึ้นในเดือนสิงหาคม \\n\\nกลับกัน ลิเวอร์พูล คู่ปรับร่วมเมืองทำแต้มหล่นไป 6 คะแนนเท่านั้น (เสมอ 3 นัด) จากการลงเล่นเกมเหย้าในลีกฤดูกาลนี้\\n\\nเอฟเวอร์ตัน เองยังวนเวียนท้ายตารางดิ้นรนหนีตกชั้นต่อไปและอาจจะร่วงลงไปอยู่ในโซนตกชั้นก่อนที่เกมจะคิกออฟในคืนวันอาทิตย์\\n\\nเมื่อถูกถามว่าการได้แต้มเดียวจะทำให้เขาพอใจหรือไม่, แลมพาร์ด ตอบว่า \"คุณคิดยังไงล่ะ? แน่นอน เรา...  \n",
              "4  \"กว่างโซ้ง\" เชียงราย ยูไนเต็ด สู้ไม่ไหวพ่ายให้กับ วิสเซล โกเบ ทีมดังจากเจลีก ญี่ปุ่น ไปด้วยสกอร์ขาดลอย 6-0 ศึกเอเอฟซี แชมเปี้ยนส์ ลีก 2022\\n\\nฟุตบอลเอเอฟซี แชมเปี้ยนส์ ลีก 2022 กลุ่มเจ นัดสอง\\nวันศุกร์ที่ 22 เมษายน 2565 \\nสนาม : บุรีรัมย์ ซิตี้ สเตเดี้ยม (เขากระโดง)\\n\\nวิสเซล โกเบ 6-0 เชียงราย ยูไนเต็ด\\n\\nผู้ทำประตู : 1-0 ยูยะ โอซาโกะ น.6,2-0 โคยะ ยูรุกิ น.16,3-0 ยูตะ โกเกะ น.32,4-0 โคยะ ยูรุกิ น.38,5-0 ลินคอล์น น.58,6-0 เรโอะ โอซากิ น.76\\n\\nการแข่งขันฟุตบอลเอเอฟซี แชมเปี้ยนส์ลีก 2022 รอบแบ่งกลุ่ม โซนตะวันออก กลุ่ม เจ  ระหว่าง \"กว่างโซ้งมหาภัย\" เชียงราย ยูไนเต็ด ของกุนซือเอเมอร์สัน เปเรย์ร...  \n",
              "5  รายงานจาก The Athletic เปิดเผยว่า ราล์ฟ รังนิค จะดร็อป แฮร์รี่ แมกไกวร์ เป็นสำรองในเกมที่ แมนเชสเตอร์ ยูไนเต็ด บุกไปพบกับ อาร์เซน่อล วันเสาร์นี้\\n\\nฟอร์มของ แมกไกวร์ ไม่ดีมาหลายสัปดาห์แล้วและเขาก็เตรียมจะถูกส่งลงไปนั่งสำรองในเกมสำคัญบุกเยือนถิ่น เอมิเรตส์ สเตเดี้ยม\\n\\nแมนฯ ยูไนเต็ด จำเป็นต้องคว้าชัยชนะเพื่อรักษาความหวังในการไปเล่นแชมเปี้ยนส์ลีกฤดูกาลหน้าเอาไว้ หลังพวกเขาตาม อาร์เซน่อล และ ท็อตแน่ม ฮ็อตสเปอร์ อยู่ 3 คะแนนและลงสนามมากว่าทั้งสองทีม\\n\\nกองหลังวัย 29 ปีก็เพิ่งพบเกมอันยากลำบากมาเมื่อคืนวันอังคารหลัง \"ปีศาจแดง\" แพ้ให้กับคู่ปรับอย่าง ลิเวอร์พูล ถึง 4-0\\n\\nเขาต้องรับมือกับเสียงวิจา...  \n",
              "6  \"มาดามแป้ง\" นวลพรรณ ล่ำซำ ในฐานะผู้จัดการทีมขึ้นรับรางวัลชนิดกีฬาทีมยอดเยี่ยม (Sport) ทีมฟุตบอลทีมชาติไทย ชุดแชมป์ฟุตบอลชิงแชมป์อาเซียน “เอเอฟเอฟ ซูซูกิคัพ 2020” ขณะที่ “เจ” ชนาธิป สรงกระสินธ์ คว้ารางวัลนักกีฬาอาชีพชายยอดเยี่ยม \\n\\n“ส.ผู้สื่อข่าวกีฬา” จัดงานวันนักกีฬายอดเยี่ยม ประกาศผล “ออสการ์กีฬาไทย” ประจำปี 2564 “น้องเทนนิส-เจ้าสด” ผงาดคว้านักกีฬายอดเยี่ยมหญิงและชาย ขณะที่ “เมสซี่เจ-โปรเหมียว” ครองรางวัลนักกีฬาอาชีพชายและหญิงยอดเยี่ยม “ทัพช้างศึก” คว้าชนิดกีฬาทีมยอดเยี่ยม ด้าน “บาส-ปอป้อ” แรงเกินห้ามใจเบิ้ลรางวัลใหญ่ เช่นเดียวกับ “โค้ชเช” ที่ได้รางวัลโค้ชยอดเยี่ยม ส่วน “เฟอรารี่ แฟร์เท็...  \n",
              "7  โธมัส ทูเคิ่ล ยอมรับว่าฟอร์มในเกมเหย้าของ เชลซี เป็นเรื่องน่ากังวลในเวลานี้และยังไม่พบคำตอบว่าเป็นเพราะอะไร\\n\\nเชลซี เก็บไปเพียงแค่ 26 คะแนนจากการลงสนาม 15 เกมในถิ่น สแตมฟอร์ด บริดจ์ ฤดูกาลนี้โดยฟอร์มของพวกเขาดำดิ่งนับตั้งแต่กลับมาจากช่วงพักเบรคทีมชาติในเดือนมีนาคม\\n\\nพวกเขาพบกับความพ่ายแพ้ตลอดการลงสนาม 3 นัดหลังสุดในรังเหย้าของพวกเขาเอง โดยเสียประตูไปถึง 11 ลูกจากการเจอกับ เบรนท์ฟอร์ด, เรอัล มาดริด และ อาร์เซน่อล\\n\\n\"เป็นเรื่องที่ไม่ปกติและผมก็ไม่รู้ว่ามันเป็นเพราะอะไร\" ทูเคิ่ล กล่าว \\n\\n\"ถ้ามันเป็นเพราะสิ่งใดสิ่งนึง, เราคงเปลี่ยนห้องแต่งตัวหรือเลือกพักโรงแรมอื่นหรืออะไรแบบนั้นได้ แต่นั่น...  \n",
              "8  เยอร์เก้น คล็อปป์ ยืนยันว่าไม่เคยกังขาในตัวของ ธิอาโก้ อัลคันทาร่า เลยว่าสไตล์การเล่นของเขาไม่เหมาะกับ ลิเวอร์พูล หรือไม่ หลังได้รับเสียงวิจารณ์เรื่องดังกล่าวในซีซั่นที่แล้ว\\n\\nกองกลางทีมชาติสเปนอยู่ในฟอร์มที่ยอดเยี่ยมช่วงหลายสัปดาห์หลัง โดยทำได้น่าประทับใจทั้งในครึ่งแรกของเกมเอฟเอ คัพรอบรองชนะเลิศที่ปราบ แมนเชสเตอร์ ซิตี้ ต่อด้วยเกมอัด แมนเชสเตอร์ ยูไนเต็ด เมื่อกลางสัปดาห์\\n\\nปีก่อนดาวเตะวัย 31 ก็มีฟอร์มที่ดีในช่วงเดียวกันของฤดูกาลจนพา ลิเวอร์พูล คว้าตั๋วเล่นแชมเปี้ยนส์ลีกแม้ทีแรกดูเป็นไปได้ยากก็ตาม พอมาซีซั่นนี้ก็เป็นส่วนสำคัญต่อการพาทีมไล่ล่า 4 แชมป์\\n\\n29 เกมหลังสุดที่เขาออกสตาร์ทกับ \"...  \n",
              "9  ทาเคฮิโระ โทมิยาสุ อาจคัมแบ็คกลับมาลงสนามให้ อาร์เซน่อล ในการเจอกับ แมนเชสเตอร์ ยูไนเต็ด วันพรุ่งนี้ (เสาร์) หากผ่านการซ้อมไปอย่างไร้ปัญหา\\n\\nดาวเตะวัย 23 ปีพลาดการลงสนามให้กับ \"ปืนใหญ่\" ตลอด 12 เกมหลังสุดในลีกเพราะปัญหาเจ็บน่องตามรบกวนไม่เลิก\\n\\nทีมของ มิเกล อาร์เตต้า จะมีศึกสำคัญต่อการแย่งท็อปโฟร์นั่นคือเกมเปิดรังเหย้าพบ อาร์เซน่อล ในวันเสาร์ โดยตอนนี้พวกเขามีแต้มเท่ากับ ท็อตแน่ม ฮ็อตสเปอร์ ในอันดับ 4 ส่วนทางด้าน แมนฯ ยูไนเต็ด ตามหลังอยู่ 3 คะแนน\\n\\nพวกเขาอาจจะมีข่าวดีที่ โทมิยาสุ ฟื้นตัวกลับมาทันเวลาสำหรับการลงสนาม ให้หลังจากทำท่าจะคัมแบ็คมาหลายหนแล้ว\\n\\n\"ถ้าหากวันนี้เขาลงซ้อมและรู้สึกด...  "
            ],
            "text/html": [
              "\n",
              "  <div id=\"df-67682f2c-7f74-40e5-b482-fdb10a8c7151\">\n",
              "    <div class=\"colab-df-container\">\n",
              "      <div>\n",
              "<style scoped>\n",
              "    .dataframe tbody tr th:only-of-type {\n",
              "        vertical-align: middle;\n",
              "    }\n",
              "\n",
              "    .dataframe tbody tr th {\n",
              "        vertical-align: top;\n",
              "    }\n",
              "\n",
              "    .dataframe thead th {\n",
              "        text-align: right;\n",
              "    }\n",
              "</style>\n",
              "<table border=\"1\" class=\"dataframe\">\n",
              "  <thead>\n",
              "    <tr style=\"text-align: right;\">\n",
              "      <th></th>\n",
              "      <th>headline_abridged</th>\n",
              "      <th>url</th>\n",
              "      <th>post_head</th>\n",
              "      <th>post_desc</th>\n",
              "    </tr>\n",
              "  </thead>\n",
              "  <tbody>\n",
              "    <tr>\n",
              "      <th>0</th>\n",
              "      <td>สื่อตี 'ทุนโบห์ลี่' มั่นใจเทคโอเวอร์สิงห์สำเร็จ</td>\n",
              "      <td>https://www.soccersuck.com/boards/topic/2141328</td>\n",
              "      <td>สื่อตี 'ทุนโบห์ลี่' มั่นใจเทคโอเวอร์สิงห์สำเร็จ</td>\n",
              "      <td>รายงานเปิดเผยว่ากลุ่มทุนของ ท็อดด์ โบห์ลี่ มั่นใจยิ่งขึ้นว่าจะเป็นฝ่ายที่เข้าเส้นชัยเทคโอเวอร์ เชลซี สำเร็จ\\n\\nตอนนี้พ้นเส้นตายการยื่นข้อเสนอสุดท้ายสำหรับการซื้อ เชลซี ไปแล้ว จึงเหลือเวลาอีกไม่มากก่อนว่าที่เจ้าของใหม่ถูกส่งไปให้รัฐบาลผู้ดีและพรีเมียร์ลีกพิจารณาความเหมาะสม\\n\\nBlick สื่อจากสวิตเซอร์แลนด์ก็รายงานว่า โบห์ลี่ รวมถึง ฮานส์ยอร์ก วีสส์ เศรษฐีร่วมทุนต่างมั่นใจยิ่งขึ้นว่าพวกเขาจะเข้าเทคโอเวอร์ \"สิงห์บลูส์\" สำเร็จ\\n\\nพวกเขาเปิดเผยถึงความตั้งใจที่จะซื้อ เชลซี ตั้งแต่เดือนที่แล้วหลัง โรมัน อับราโมวิช ประกาศขายสโมสรในวันที่ 2 มีนาคม\\n\\nจอร์จ ออสบอร์น อดีตรัฐมนตรีกระทรวงการคลังก็ช่วยเหลื...</td>\n",
              "    </tr>\n",
              "    <tr>\n",
              "      <th>1</th>\n",
              "      <td>JK ยอมรับคงคิดถึง 'เมอร์ซี่ไซค์ดาร์บี้' ถ้าทอฟฟี่ต...</td>\n",
              "      <td>https://www.soccersuck.com/boards/topic/2141323</td>\n",
              "      <td>JK ยอมรับคงคิดถึง 'เมอร์ซี่ไซค์ดาร์บี้' ถ้าทอฟฟี่ตกชั้น</td>\n",
              "      <td>เยอร์เก้น คลอปป์ ผู้จัดการทีมลิเวอร์พูล ยอมรับว่า คงคิดถึงเมอร์ซี่ย์ไซด์ดาร์บี้แมตช์ถ้าหากเอฟเวอร์ตัน ต้องตกชั้นจากพรีเมียร์ลีกขึ้นมาจริงๆ \\n\\n\\nทัพหงส์แดง มีโปรแกรมนัดสำคัญพบเอฟเวอร์ตัน ในเมอร์ซี่ย์ไซด์ดาร์บี้ ที่แอนฟิลด์ วันอาทิตย์นี้ ซึ่งทีมของคลอปป์ กำลังสู้เพื่อตำแหน่งแชมป์ ขณะที่ทีมทอฟฟี่ต้องสู้เพื่อหนีจากการถูกลดชั้น\\n\\nเมื่อถูกถามว่า คลอปป์ จะคิดถึงเมอร์ซี่ย์ไซด์ดาร์บี้หรือไม่ บอสใหญ่ทีมหงส์แดง ตอบว่า\\n\\n\"แน่นอน ผมคิดว่าเราทุกคนเคยชินกับมัน\" คลอปป์ กล่าวก่อนเกม\\n\\n\"พบกับยูไนเต็ดเมื่อคืนก่อนให้อารมณ์ที่แตกต่างไปอีกแบบ โดยปกติจะมีเวลาเต็มทั้งสัปดาห์ก่อนเจอเอฟเวอร์ตัน มันทำให้เรามีเวล...</td>\n",
              "    </tr>\n",
              "    <tr>\n",
              "      <th>2</th>\n",
              "      <td>'เสี่ยหมู' ปัดโอกาสกลับผีร่วมงาน 'เทน ฮาก\u0003...</td>\n",
              "      <td>https://www.soccersuck.com/boards/topic/2141320</td>\n",
              "      <td>'เสี่ยหมู' ปัดโอกาสกลับผีร่วมงาน 'เทน ฮาก'</td>\n",
              "      <td>มีรายงานว่า เวย์น รูนี่ย์ ได้รับการเสนอโอกาสให้กลับสู่ แมนเชสเตอร์ ยูไนเต็ด เพื่อเป็นส่วนหนึ่งของทีมสตาฟฟ์โค้ช เอริค เทน ฮาก แต่เลือกที่จะตอบปฏิเสธ\\n\\nอดีตกองหน้าที่ผ่านการซัดไปมากกว่า 250 ประตูในการเล่นให้ แมนฯ ยูไนเต็ด นั้นสร้างความประทับใจระหว่างคุม ดาร์บี้ เคาน์ตี้ ในเดอะ แชมเปี้ยนชิพ\\n\\nแม้จะโดนตัดแต้มไป 21 คะแนนแต่ รูนี่ย์ ก็ช่วยให้ ดาร์บี้ เก็บชัยชนะไปได้ 13 นัดจากการลงสนามไปแล้ว 43 เกมในซีซั่นนี้ ซึ่งรวมถึงการปราบทีมอย่าง ฟูแล่ม, เชฟฟิลด์ ยูไนเต็ด และ เวสต์บรอมวิช อัลเบี้ยน\\n\\nอย่างไรก็ตามแม้จะทำดีแค่ไหนแต่แต้มที่โดนตัดก็มหาศาลเกิน ทำให้ \"แกะเขาเหล็ก\" ร่วงตกชั้นสู่ลีกวันเป็นที่เรีย...</td>\n",
              "    </tr>\n",
              "    <tr>\n",
              "      <th>3</th>\n",
              "      <td>ทุกคะแนนมีค่า! 'แลมพ์' บอกท๊อฟฟี่เยือนหงส์แต้มเดีย...</td>\n",
              "      <td>https://www.soccersuck.com/boards/topic/2141316</td>\n",
              "      <td>ทุกคะแนนมีค่า! 'แลมพ์' บอกท๊อฟฟี่เยือนหงส์แต้มเดียวก็เอา</td>\n",
              "      <td>แฟรงค์ แลมพาร์ด กุนซือ เอฟเวอร์ตัน บอกว่าเขายินดีรับผลเสมอในเกมเมอร์ซี่ย์ไซด์ดาร์บี้ที่จะบุกไปเยือน ลิเวอร์พูล คืนวันอาทิตย์\\n\\n\"ท๊อฟฟี่สีน้ำเงิน\" เก็บคะแนนกับการเล่นทีมเยือนในฤดูกาลนี้ไปได้เพียง 6 แต้มเท่านั้น โดยชัยชนะเกมเยือนหนสุดท้ายเกิดขึ้นในเดือนสิงหาคม \\n\\nกลับกัน ลิเวอร์พูล คู่ปรับร่วมเมืองทำแต้มหล่นไป 6 คะแนนเท่านั้น (เสมอ 3 นัด) จากการลงเล่นเกมเหย้าในลีกฤดูกาลนี้\\n\\nเอฟเวอร์ตัน เองยังวนเวียนท้ายตารางดิ้นรนหนีตกชั้นต่อไปและอาจจะร่วงลงไปอยู่ในโซนตกชั้นก่อนที่เกมจะคิกออฟในคืนวันอาทิตย์\\n\\nเมื่อถูกถามว่าการได้แต้มเดียวจะทำให้เขาพอใจหรือไม่, แลมพาร์ด ตอบว่า \"คุณคิดยังไงล่ะ? แน่นอน เรา...</td>\n",
              "    </tr>\n",
              "    <tr>\n",
              "      <th>4</th>\n",
              "      <td>ต้านไม่ไหว! \"เชียงราย\" ยังไร้แต้มโดน \"วิสเซล ...</td>\n",
              "      <td>https://www.soccersuck.com/boards/topic/2141315</td>\n",
              "      <td>ต้านไม่ไหว! \"เชียงราย\" ยังไร้แต้มโดน \"วิสเซล โกเบ\" กระทุ้งยับ 6-0</td>\n",
              "      <td>\"กว่างโซ้ง\" เชียงราย ยูไนเต็ด สู้ไม่ไหวพ่ายให้กับ วิสเซล โกเบ ทีมดังจากเจลีก ญี่ปุ่น ไปด้วยสกอร์ขาดลอย 6-0 ศึกเอเอฟซี แชมเปี้ยนส์ ลีก 2022\\n\\nฟุตบอลเอเอฟซี แชมเปี้ยนส์ ลีก 2022 กลุ่มเจ นัดสอง\\nวันศุกร์ที่ 22 เมษายน 2565 \\nสนาม : บุรีรัมย์ ซิตี้ สเตเดี้ยม (เขากระโดง)\\n\\nวิสเซล โกเบ 6-0 เชียงราย ยูไนเต็ด\\n\\nผู้ทำประตู : 1-0 ยูยะ โอซาโกะ น.6,2-0 โคยะ ยูรุกิ น.16,3-0 ยูตะ โกเกะ น.32,4-0 โคยะ ยูรุกิ น.38,5-0 ลินคอล์น น.58,6-0 เรโอะ โอซากิ น.76\\n\\nการแข่งขันฟุตบอลเอเอฟซี แชมเปี้ยนส์ลีก 2022 รอบแบ่งกลุ่ม โซนตะวันออก กลุ่ม เจ  ระหว่าง \"กว่างโซ้งมหาภัย\" เชียงราย ยูไนเต็ด ของกุนซือเอเมอร์สัน เปเรย์ร...</td>\n",
              "    </tr>\n",
              "    <tr>\n",
              "      <th>5</th>\n",
              "      <td>เผยผีเตรียมดร็อป 'แมกไกวร์' เยือนปืน</td>\n",
              "      <td>https://www.soccersuck.com/boards/topic/2141309</td>\n",
              "      <td>เผยผีเตรียมดร็อป 'แมกไกวร์' เยือนปืน</td>\n",
              "      <td>รายงานจาก The Athletic เปิดเผยว่า ราล์ฟ รังนิค จะดร็อป แฮร์รี่ แมกไกวร์ เป็นสำรองในเกมที่ แมนเชสเตอร์ ยูไนเต็ด บุกไปพบกับ อาร์เซน่อล วันเสาร์นี้\\n\\nฟอร์มของ แมกไกวร์ ไม่ดีมาหลายสัปดาห์แล้วและเขาก็เตรียมจะถูกส่งลงไปนั่งสำรองในเกมสำคัญบุกเยือนถิ่น เอมิเรตส์ สเตเดี้ยม\\n\\nแมนฯ ยูไนเต็ด จำเป็นต้องคว้าชัยชนะเพื่อรักษาความหวังในการไปเล่นแชมเปี้ยนส์ลีกฤดูกาลหน้าเอาไว้ หลังพวกเขาตาม อาร์เซน่อล และ ท็อตแน่ม ฮ็อตสเปอร์ อยู่ 3 คะแนนและลงสนามมากว่าทั้งสองทีม\\n\\nกองหลังวัย 29 ปีก็เพิ่งพบเกมอันยากลำบากมาเมื่อคืนวันอังคารหลัง \"ปีศาจแดง\" แพ้ให้กับคู่ปรับอย่าง ลิเวอร์พูล ถึง 4-0\\n\\nเขาต้องรับมือกับเสียงวิจา...</td>\n",
              "    </tr>\n",
              "    <tr>\n",
              "      <th>6</th>\n",
              "      <td>วันออสการ์กีฬาไทย! \"มาดามแป้ง\" ขึ้นรับทีมยอดเยี่ยม...</td>\n",
              "      <td>https://www.soccersuck.com/boards/topic/2141308</td>\n",
              "      <td>วันออสการ์กีฬาไทย! \"มาดามแป้ง\" ขึ้นรับทีมยอดเยี่ยม, \"เจ\" ซิวอาชีพชาย</td>\n",
              "      <td>\"มาดามแป้ง\" นวลพรรณ ล่ำซำ ในฐานะผู้จัดการทีมขึ้นรับรางวัลชนิดกีฬาทีมยอดเยี่ยม (Sport) ทีมฟุตบอลทีมชาติไทย ชุดแชมป์ฟุตบอลชิงแชมป์อาเซียน “เอเอฟเอฟ ซูซูกิคัพ 2020” ขณะที่ “เจ” ชนาธิป สรงกระสินธ์ คว้ารางวัลนักกีฬาอาชีพชายยอดเยี่ยม \\n\\n“ส.ผู้สื่อข่าวกีฬา” จัดงานวันนักกีฬายอดเยี่ยม ประกาศผล “ออสการ์กีฬาไทย” ประจำปี 2564 “น้องเทนนิส-เจ้าสด” ผงาดคว้านักกีฬายอดเยี่ยมหญิงและชาย ขณะที่ “เมสซี่เจ-โปรเหมียว” ครองรางวัลนักกีฬาอาชีพชายและหญิงยอดเยี่ยม “ทัพช้างศึก” คว้าชนิดกีฬาทีมยอดเยี่ยม ด้าน “บาส-ปอป้อ” แรงเกินห้ามใจเบิ้ลรางวัลใหญ่ เช่นเดียวกับ “โค้ชเช” ที่ได้รางวัลโค้ชยอดเยี่ยม ส่วน “เฟอรารี่ แฟร์เท็...</td>\n",
              "    </tr>\n",
              "    <tr>\n",
              "      <th>7</th>\n",
              "      <td>'ทูเคิ่ล' รับฟอร์มเกมเหย้าสิงห์น่ากังวล</td>\n",
              "      <td>https://www.soccersuck.com/boards/topic/2141304</td>\n",
              "      <td>'ทูเคิ่ล' รับฟอร์มเกมเหย้าสิงห์น่ากังวล</td>\n",
              "      <td>โธมัส ทูเคิ่ล ยอมรับว่าฟอร์มในเกมเหย้าของ เชลซี เป็นเรื่องน่ากังวลในเวลานี้และยังไม่พบคำตอบว่าเป็นเพราะอะไร\\n\\nเชลซี เก็บไปเพียงแค่ 26 คะแนนจากการลงสนาม 15 เกมในถิ่น สแตมฟอร์ด บริดจ์ ฤดูกาลนี้โดยฟอร์มของพวกเขาดำดิ่งนับตั้งแต่กลับมาจากช่วงพักเบรคทีมชาติในเดือนมีนาคม\\n\\nพวกเขาพบกับความพ่ายแพ้ตลอดการลงสนาม 3 นัดหลังสุดในรังเหย้าของพวกเขาเอง โดยเสียประตูไปถึง 11 ลูกจากการเจอกับ เบรนท์ฟอร์ด, เรอัล มาดริด และ อาร์เซน่อล\\n\\n\"เป็นเรื่องที่ไม่ปกติและผมก็ไม่รู้ว่ามันเป็นเพราะอะไร\" ทูเคิ่ล กล่าว \\n\\n\"ถ้ามันเป็นเพราะสิ่งใดสิ่งนึง, เราคงเปลี่ยนห้องแต่งตัวหรือเลือกพักโรงแรมอื่นหรืออะไรแบบนั้นได้ แต่นั่น...</td>\n",
              "    </tr>\n",
              "    <tr>\n",
              "      <th>8</th>\n",
              "      <td>วิจารณ์ได้วิจารณ์ไป! JK ไม่เคยกังขา 'ธิอาโก้' ไม่เ...</td>\n",
              "      <td>https://www.soccersuck.com/boards/topic/2141290</td>\n",
              "      <td>วิจารณ์ได้วิจารณ์ไป! JK ไม่เคยกังขา 'ธิอาโก้' ไม่เหมาะกับหงส์</td>\n",
              "      <td>เยอร์เก้น คล็อปป์ ยืนยันว่าไม่เคยกังขาในตัวของ ธิอาโก้ อัลคันทาร่า เลยว่าสไตล์การเล่นของเขาไม่เหมาะกับ ลิเวอร์พูล หรือไม่ หลังได้รับเสียงวิจารณ์เรื่องดังกล่าวในซีซั่นที่แล้ว\\n\\nกองกลางทีมชาติสเปนอยู่ในฟอร์มที่ยอดเยี่ยมช่วงหลายสัปดาห์หลัง โดยทำได้น่าประทับใจทั้งในครึ่งแรกของเกมเอฟเอ คัพรอบรองชนะเลิศที่ปราบ แมนเชสเตอร์ ซิตี้ ต่อด้วยเกมอัด แมนเชสเตอร์ ยูไนเต็ด เมื่อกลางสัปดาห์\\n\\nปีก่อนดาวเตะวัย 31 ก็มีฟอร์มที่ดีในช่วงเดียวกันของฤดูกาลจนพา ลิเวอร์พูล คว้าตั๋วเล่นแชมเปี้ยนส์ลีกแม้ทีแรกดูเป็นไปได้ยากก็ตาม พอมาซีซั่นนี้ก็เป็นส่วนสำคัญต่อการพาทีมไล่ล่า 4 แชมป์\\n\\n29 เกมหลังสุดที่เขาออกสตาร์ทกับ \"...</td>\n",
              "    </tr>\n",
              "    <tr>\n",
              "      <th>9</th>\n",
              "      <td>'โทมิยาสุ' มีลุ้นคุมแบ็คช่วย 'ปืน' บูีผี</td>\n",
              "      <td>https://www.soccersuck.com/boards/topic/2141278</td>\n",
              "      <td>'โทมิยาสุ' มีลุ้นคุมแบ็คช่วย 'ปืน' บูีผี</td>\n",
              "      <td>ทาเคฮิโระ โทมิยาสุ อาจคัมแบ็คกลับมาลงสนามให้ อาร์เซน่อล ในการเจอกับ แมนเชสเตอร์ ยูไนเต็ด วันพรุ่งนี้ (เสาร์) หากผ่านการซ้อมไปอย่างไร้ปัญหา\\n\\nดาวเตะวัย 23 ปีพลาดการลงสนามให้กับ \"ปืนใหญ่\" ตลอด 12 เกมหลังสุดในลีกเพราะปัญหาเจ็บน่องตามรบกวนไม่เลิก\\n\\nทีมของ มิเกล อาร์เตต้า จะมีศึกสำคัญต่อการแย่งท็อปโฟร์นั่นคือเกมเปิดรังเหย้าพบ อาร์เซน่อล ในวันเสาร์ โดยตอนนี้พวกเขามีแต้มเท่ากับ ท็อตแน่ม ฮ็อตสเปอร์ ในอันดับ 4 ส่วนทางด้าน แมนฯ ยูไนเต็ด ตามหลังอยู่ 3 คะแนน\\n\\nพวกเขาอาจจะมีข่าวดีที่ โทมิยาสุ ฟื้นตัวกลับมาทันเวลาสำหรับการลงสนาม ให้หลังจากทำท่าจะคัมแบ็คมาหลายหนแล้ว\\n\\n\"ถ้าหากวันนี้เขาลงซ้อมและรู้สึกด...</td>\n",
              "    </tr>\n",
              "  </tbody>\n",
              "</table>\n",
              "</div>\n",
              "      <button class=\"colab-df-convert\" onclick=\"convertToInteractive('df-67682f2c-7f74-40e5-b482-fdb10a8c7151')\"\n",
              "              title=\"Convert this dataframe to an interactive table.\"\n",
              "              style=\"display:none;\">\n",
              "        \n",
              "  <svg xmlns=\"http://www.w3.org/2000/svg\" height=\"24px\"viewBox=\"0 0 24 24\"\n",
              "       width=\"24px\">\n",
              "    <path d=\"M0 0h24v24H0V0z\" fill=\"none\"/>\n",
              "    <path d=\"M18.56 5.44l.94 2.06.94-2.06 2.06-.94-2.06-.94-.94-2.06-.94 2.06-2.06.94zm-11 1L8.5 8.5l.94-2.06 2.06-.94-2.06-.94L8.5 2.5l-.94 2.06-2.06.94zm10 10l.94 2.06.94-2.06 2.06-.94-2.06-.94-.94-2.06-.94 2.06-2.06.94z\"/><path d=\"M17.41 7.96l-1.37-1.37c-.4-.4-.92-.59-1.43-.59-.52 0-1.04.2-1.43.59L10.3 9.45l-7.72 7.72c-.78.78-.78 2.05 0 2.83L4 21.41c.39.39.9.59 1.41.59.51 0 1.02-.2 1.41-.59l7.78-7.78 2.81-2.81c.8-.78.8-2.07 0-2.86zM5.41 20L4 18.59l7.72-7.72 1.47 1.35L5.41 20z\"/>\n",
              "  </svg>\n",
              "      </button>\n",
              "      \n",
              "  <style>\n",
              "    .colab-df-container {\n",
              "      display:flex;\n",
              "      flex-wrap:wrap;\n",
              "      gap: 12px;\n",
              "    }\n",
              "\n",
              "    .colab-df-convert {\n",
              "      background-color: #E8F0FE;\n",
              "      border: none;\n",
              "      border-radius: 50%;\n",
              "      cursor: pointer;\n",
              "      display: none;\n",
              "      fill: #1967D2;\n",
              "      height: 32px;\n",
              "      padding: 0 0 0 0;\n",
              "      width: 32px;\n",
              "    }\n",
              "\n",
              "    .colab-df-convert:hover {\n",
              "      background-color: #E2EBFA;\n",
              "      box-shadow: 0px 1px 2px rgba(60, 64, 67, 0.3), 0px 1px 3px 1px rgba(60, 64, 67, 0.15);\n",
              "      fill: #174EA6;\n",
              "    }\n",
              "\n",
              "    [theme=dark] .colab-df-convert {\n",
              "      background-color: #3B4455;\n",
              "      fill: #D2E3FC;\n",
              "    }\n",
              "\n",
              "    [theme=dark] .colab-df-convert:hover {\n",
              "      background-color: #434B5C;\n",
              "      box-shadow: 0px 1px 3px 1px rgba(0, 0, 0, 0.15);\n",
              "      filter: drop-shadow(0px 1px 2px rgba(0, 0, 0, 0.3));\n",
              "      fill: #FFFFFF;\n",
              "    }\n",
              "  </style>\n",
              "\n",
              "      <script>\n",
              "        const buttonEl =\n",
              "          document.querySelector('#df-67682f2c-7f74-40e5-b482-fdb10a8c7151 button.colab-df-convert');\n",
              "        buttonEl.style.display =\n",
              "          google.colab.kernel.accessAllowed ? 'block' : 'none';\n",
              "\n",
              "        async function convertToInteractive(key) {\n",
              "          const element = document.querySelector('#df-67682f2c-7f74-40e5-b482-fdb10a8c7151');\n",
              "          const dataTable =\n",
              "            await google.colab.kernel.invokeFunction('convertToInteractive',\n",
              "                                                     [key], {});\n",
              "          if (!dataTable) return;\n",
              "\n",
              "          const docLinkHtml = 'Like what you see? Visit the ' +\n",
              "            '<a target=\"_blank\" href=https://colab.research.google.com/notebooks/data_table.ipynb>data table notebook</a>'\n",
              "            + ' to learn more about interactive tables.';\n",
              "          element.innerHTML = '';\n",
              "          dataTable['output_type'] = 'display_data';\n",
              "          await google.colab.output.renderOutput(dataTable, element);\n",
              "          const docLink = document.createElement('div');\n",
              "          docLink.innerHTML = docLinkHtml;\n",
              "          element.appendChild(docLink);\n",
              "        }\n",
              "      </script>\n",
              "    </div>\n",
              "  </div>\n",
              "  "
            ]
          },
          "metadata": {},
          "execution_count": 16
        }
      ],
      "source": [
        "#วนลูป (map) เพื่อไปดึงพาดหัวแบบเต็มและเนื้อข่าว\n",
        "df2 = pd.DataFrame(df.url.map(get_post_head_desc).tolist())\n",
        "df = pd.concat([df,df2],1)\n",
        "df"
      ]
    },
    {
      "cell_type": "markdown",
      "metadata": {
        "id": "aTpIaLJNvjpB"
      },
      "source": [
        "### Static Web แบบเร็วด้วย Concurrency"
      ]
    },
    {
      "cell_type": "markdown",
      "metadata": {
        "id": "Rojt_hkQ6xQ6"
      },
      "source": [
        "บางครั้งแค่ scape ทีละ url อาจจะไม่ทันใจ เราจึงสามารถ scrape ทีละหลายๆ url \"พร้อมๆ\" กันได้ด้วย concurrency วิธีมีหลากหลาย แต่เราเลือกใช้วิธีที่แนะนำโดย [Nick Becker, RAPIDS Team at NVIDIA](https://beckernick.github.io/faster-web-scraping-python/)"
      ]
    },
    {
      "cell_type": "code",
      "execution_count": 17,
      "metadata": {
        "id": "h_Fg13ztvrVL"
      },
      "outputs": [],
      "source": [
        "import concurrent.futures"
      ]
    },
    {
      "cell_type": "code",
      "execution_count": 18,
      "metadata": {
        "colab": {
          "base_uri": "https://localhost:8080/"
        },
        "id": "Jpy344zVvsJ-",
        "outputId": "c2f04a8b-85ff-42b5-916d-39e1ebb309de"
      },
      "outputs": [
        {
          "output_type": "execute_result",
          "data": {
            "text/plain": [
              "['https://www.soccersuck.com/boards/topic/2141328',\n",
              " 'https://www.soccersuck.com/boards/topic/2141323',\n",
              " 'https://www.soccersuck.com/boards/topic/2141320']"
            ]
          },
          "metadata": {},
          "execution_count": 18
        }
      ],
      "source": [
        "#url ข่าวที่เราต้องการ scrape\n",
        "urls = df.url.tolist()\n",
        "urls[:3]"
      ]
    },
    {
      "cell_type": "code",
      "execution_count": 19,
      "metadata": {
        "id": "HZb6Qj8u8WKv"
      },
      "outputs": [],
      "source": [
        "#ฟังชั่นเพื่อเข้าไปดึงข้อมูลจากหน้าข่าวอันเดิม \n",
        "#เพิ่มเติมคือเราจะบอกให้มันเก็บข้อมูลที่ถูก scrape ไว้ใน list ชื่อ res\n",
        "def get_post_head_desc_append(url, res):\n",
        "    soup = get_soup(url)\n",
        "    res.append({'post_head': soup.find('div', class_='post_head').text.strip(),\n",
        "            'post_desc': soup.find('div', class_='post_desc').text.strip()})"
      ]
    },
    {
      "cell_type": "code",
      "execution_count": 20,
      "metadata": {
        "id": "PeP4ixtF8Yg9"
      },
      "outputs": [],
      "source": [
        "#เราใช้ 20 threads คือให้ดึงเต็มที่ 20 url　พร้อมๆกัน\n",
        "MAX_THREADS = 20\n",
        "\n",
        "def scrape_multithread(urls, scrape_func):\n",
        "    threads = min(MAX_THREADS, len(urls))    \n",
        "    with concurrent.futures.ThreadPoolExecutor(max_workers=threads) as executor:\n",
        "        executor.map(scrape_func, urls)"
      ]
    },
    {
      "cell_type": "code",
      "execution_count": 21,
      "metadata": {
        "colab": {
          "base_uri": "https://localhost:8080/",
          "height": 1000
        },
        "id": "A_f7gzQMFDIW",
        "outputId": "67679a47-ad9c-48b5-d760-1cd0e6fd3949"
      },
      "outputs": [
        {
          "output_type": "execute_result",
          "data": {
            "text/plain": [
              "                                                              post_head  \\\n",
              "0     ต้านไม่ไหว! \"เชียงราย\" ยังไร้แต้มโดน \"วิสเซล โกเบ\" กระทุ้งยับ 6-0   \n",
              "1                       สื่อตี 'ทุนโบห์ลี่' มั่นใจเทคโอเวอร์สิงห์สำเร็จ   \n",
              "2  วันออสการ์กีฬาไทย! \"มาดามแป้ง\" ขึ้นรับทีมยอดเยี่ยม, \"เจ\" ซิวอาชีพชาย   \n",
              "3               JK ยอมรับคงคิดถึง 'เมอร์ซี่ไซค์ดาร์บี้' ถ้าทอฟฟี่ตกชั้น   \n",
              "4                            'เสี่ยหมู' ปัดโอกาสกลับผีร่วมงาน 'เทน ฮาก'   \n",
              "5                                  เผยผีเตรียมดร็อป 'แมกไกวร์' เยือนปืน   \n",
              "6              ทุกคะแนนมีค่า! 'แลมพ์' บอกท๊อฟฟี่เยือนหงส์แต้มเดียวก็เอา   \n",
              "7         วิจารณ์ได้วิจารณ์ไป! JK ไม่เคยกังขา 'ธิอาโก้' ไม่เหมาะกับหงส์   \n",
              "8                               'ทูเคิ่ล' รับฟอร์มเกมเหย้าสิงห์น่ากังวล   \n",
              "9                              'โทมิยาสุ' มีลุ้นคุมแบ็คช่วย 'ปืน' บูีผี   \n",
              "\n",
              "                                                                                                                                                                                                                                                                                                                                                                                                                                                                                                                                                                                                                 post_desc  \n",
              "0  \"กว่างโซ้ง\" เชียงราย ยูไนเต็ด สู้ไม่ไหวพ่ายให้กับ วิสเซล โกเบ ทีมดังจากเจลีก ญี่ปุ่น ไปด้วยสกอร์ขาดลอย 6-0 ศึกเอเอฟซี แชมเปี้ยนส์ ลีก 2022\\n\\nฟุตบอลเอเอฟซี แชมเปี้ยนส์ ลีก 2022 กลุ่มเจ นัดสอง\\nวันศุกร์ที่ 22 เมษายน 2565 \\nสนาม : บุรีรัมย์ ซิตี้ สเตเดี้ยม (เขากระโดง)\\n\\nวิสเซล โกเบ 6-0 เชียงราย ยูไนเต็ด\\n\\nผู้ทำประตู : 1-0 ยูยะ โอซาโกะ น.6,2-0 โคยะ ยูรุกิ น.16,3-0 ยูตะ โกเกะ น.32,4-0 โคยะ ยูรุกิ น.38,5-0 ลินคอล์น น.58,6-0 เรโอะ โอซากิ น.76\\n\\nการแข่งขันฟุตบอลเอเอฟซี แชมเปี้ยนส์ลีก 2022 รอบแบ่งกลุ่ม โซนตะวันออก กลุ่ม เจ  ระหว่าง \"กว่างโซ้งมหาภัย\" เชียงราย ยูไนเต็ด ของกุนซือเอเมอร์สัน เปเรย์ร...  \n",
              "1  รายงานเปิดเผยว่ากลุ่มทุนของ ท็อดด์ โบห์ลี่ มั่นใจยิ่งขึ้นว่าจะเป็นฝ่ายที่เข้าเส้นชัยเทคโอเวอร์ เชลซี สำเร็จ\\n\\nตอนนี้พ้นเส้นตายการยื่นข้อเสนอสุดท้ายสำหรับการซื้อ เชลซี ไปแล้ว จึงเหลือเวลาอีกไม่มากก่อนว่าที่เจ้าของใหม่ถูกส่งไปให้รัฐบาลผู้ดีและพรีเมียร์ลีกพิจารณาความเหมาะสม\\n\\nBlick สื่อจากสวิตเซอร์แลนด์ก็รายงานว่า โบห์ลี่ รวมถึง ฮานส์ยอร์ก วีสส์ เศรษฐีร่วมทุนต่างมั่นใจยิ่งขึ้นว่าพวกเขาจะเข้าเทคโอเวอร์ \"สิงห์บลูส์\" สำเร็จ\\n\\nพวกเขาเปิดเผยถึงความตั้งใจที่จะซื้อ เชลซี ตั้งแต่เดือนที่แล้วหลัง โรมัน อับราโมวิช ประกาศขายสโมสรในวันที่ 2 มีนาคม\\n\\nจอร์จ ออสบอร์น อดีตรัฐมนตรีกระทรวงการคลังก็ช่วยเหลื...  \n",
              "2  \"มาดามแป้ง\" นวลพรรณ ล่ำซำ ในฐานะผู้จัดการทีมขึ้นรับรางวัลชนิดกีฬาทีมยอดเยี่ยม (Sport) ทีมฟุตบอลทีมชาติไทย ชุดแชมป์ฟุตบอลชิงแชมป์อาเซียน “เอเอฟเอฟ ซูซูกิคัพ 2020” ขณะที่ “เจ” ชนาธิป สรงกระสินธ์ คว้ารางวัลนักกีฬาอาชีพชายยอดเยี่ยม \\n\\n“ส.ผู้สื่อข่าวกีฬา” จัดงานวันนักกีฬายอดเยี่ยม ประกาศผล “ออสการ์กีฬาไทย” ประจำปี 2564 “น้องเทนนิส-เจ้าสด” ผงาดคว้านักกีฬายอดเยี่ยมหญิงและชาย ขณะที่ “เมสซี่เจ-โปรเหมียว” ครองรางวัลนักกีฬาอาชีพชายและหญิงยอดเยี่ยม “ทัพช้างศึก” คว้าชนิดกีฬาทีมยอดเยี่ยม ด้าน “บาส-ปอป้อ” แรงเกินห้ามใจเบิ้ลรางวัลใหญ่ เช่นเดียวกับ “โค้ชเช” ที่ได้รางวัลโค้ชยอดเยี่ยม ส่วน “เฟอรารี่ แฟร์เท็...  \n",
              "3  เยอร์เก้น คลอปป์ ผู้จัดการทีมลิเวอร์พูล ยอมรับว่า คงคิดถึงเมอร์ซี่ย์ไซด์ดาร์บี้แมตช์ถ้าหากเอฟเวอร์ตัน ต้องตกชั้นจากพรีเมียร์ลีกขึ้นมาจริงๆ \\n\\n\\nทัพหงส์แดง มีโปรแกรมนัดสำคัญพบเอฟเวอร์ตัน ในเมอร์ซี่ย์ไซด์ดาร์บี้ ที่แอนฟิลด์ วันอาทิตย์นี้ ซึ่งทีมของคลอปป์ กำลังสู้เพื่อตำแหน่งแชมป์ ขณะที่ทีมทอฟฟี่ต้องสู้เพื่อหนีจากการถูกลดชั้น\\n\\nเมื่อถูกถามว่า คลอปป์ จะคิดถึงเมอร์ซี่ย์ไซด์ดาร์บี้หรือไม่ บอสใหญ่ทีมหงส์แดง ตอบว่า\\n\\n\"แน่นอน ผมคิดว่าเราทุกคนเคยชินกับมัน\" คลอปป์ กล่าวก่อนเกม\\n\\n\"พบกับยูไนเต็ดเมื่อคืนก่อนให้อารมณ์ที่แตกต่างไปอีกแบบ โดยปกติจะมีเวลาเต็มทั้งสัปดาห์ก่อนเจอเอฟเวอร์ตัน มันทำให้เรามีเวล...  \n",
              "4  มีรายงานว่า เวย์น รูนี่ย์ ได้รับการเสนอโอกาสให้กลับสู่ แมนเชสเตอร์ ยูไนเต็ด เพื่อเป็นส่วนหนึ่งของทีมสตาฟฟ์โค้ช เอริค เทน ฮาก แต่เลือกที่จะตอบปฏิเสธ\\n\\nอดีตกองหน้าที่ผ่านการซัดไปมากกว่า 250 ประตูในการเล่นให้ แมนฯ ยูไนเต็ด นั้นสร้างความประทับใจระหว่างคุม ดาร์บี้ เคาน์ตี้ ในเดอะ แชมเปี้ยนชิพ\\n\\nแม้จะโดนตัดแต้มไป 21 คะแนนแต่ รูนี่ย์ ก็ช่วยให้ ดาร์บี้ เก็บชัยชนะไปได้ 13 นัดจากการลงสนามไปแล้ว 43 เกมในซีซั่นนี้ ซึ่งรวมถึงการปราบทีมอย่าง ฟูแล่ม, เชฟฟิลด์ ยูไนเต็ด และ เวสต์บรอมวิช อัลเบี้ยน\\n\\nอย่างไรก็ตามแม้จะทำดีแค่ไหนแต่แต้มที่โดนตัดก็มหาศาลเกิน ทำให้ \"แกะเขาเหล็ก\" ร่วงตกชั้นสู่ลีกวันเป็นที่เรีย...  \n",
              "5  รายงานจาก The Athletic เปิดเผยว่า ราล์ฟ รังนิค จะดร็อป แฮร์รี่ แมกไกวร์ เป็นสำรองในเกมที่ แมนเชสเตอร์ ยูไนเต็ด บุกไปพบกับ อาร์เซน่อล วันเสาร์นี้\\n\\nฟอร์มของ แมกไกวร์ ไม่ดีมาหลายสัปดาห์แล้วและเขาก็เตรียมจะถูกส่งลงไปนั่งสำรองในเกมสำคัญบุกเยือนถิ่น เอมิเรตส์ สเตเดี้ยม\\n\\nแมนฯ ยูไนเต็ด จำเป็นต้องคว้าชัยชนะเพื่อรักษาความหวังในการไปเล่นแชมเปี้ยนส์ลีกฤดูกาลหน้าเอาไว้ หลังพวกเขาตาม อาร์เซน่อล และ ท็อตแน่ม ฮ็อตสเปอร์ อยู่ 3 คะแนนและลงสนามมากว่าทั้งสองทีม\\n\\nกองหลังวัย 29 ปีก็เพิ่งพบเกมอันยากลำบากมาเมื่อคืนวันอังคารหลัง \"ปีศาจแดง\" แพ้ให้กับคู่ปรับอย่าง ลิเวอร์พูล ถึง 4-0\\n\\nเขาต้องรับมือกับเสียงวิจา...  \n",
              "6  แฟรงค์ แลมพาร์ด กุนซือ เอฟเวอร์ตัน บอกว่าเขายินดีรับผลเสมอในเกมเมอร์ซี่ย์ไซด์ดาร์บี้ที่จะบุกไปเยือน ลิเวอร์พูล คืนวันอาทิตย์\\n\\n\"ท๊อฟฟี่สีน้ำเงิน\" เก็บคะแนนกับการเล่นทีมเยือนในฤดูกาลนี้ไปได้เพียง 6 แต้มเท่านั้น โดยชัยชนะเกมเยือนหนสุดท้ายเกิดขึ้นในเดือนสิงหาคม \\n\\nกลับกัน ลิเวอร์พูล คู่ปรับร่วมเมืองทำแต้มหล่นไป 6 คะแนนเท่านั้น (เสมอ 3 นัด) จากการลงเล่นเกมเหย้าในลีกฤดูกาลนี้\\n\\nเอฟเวอร์ตัน เองยังวนเวียนท้ายตารางดิ้นรนหนีตกชั้นต่อไปและอาจจะร่วงลงไปอยู่ในโซนตกชั้นก่อนที่เกมจะคิกออฟในคืนวันอาทิตย์\\n\\nเมื่อถูกถามว่าการได้แต้มเดียวจะทำให้เขาพอใจหรือไม่, แลมพาร์ด ตอบว่า \"คุณคิดยังไงล่ะ? แน่นอน เรา...  \n",
              "7  เยอร์เก้น คล็อปป์ ยืนยันว่าไม่เคยกังขาในตัวของ ธิอาโก้ อัลคันทาร่า เลยว่าสไตล์การเล่นของเขาไม่เหมาะกับ ลิเวอร์พูล หรือไม่ หลังได้รับเสียงวิจารณ์เรื่องดังกล่าวในซีซั่นที่แล้ว\\n\\nกองกลางทีมชาติสเปนอยู่ในฟอร์มที่ยอดเยี่ยมช่วงหลายสัปดาห์หลัง โดยทำได้น่าประทับใจทั้งในครึ่งแรกของเกมเอฟเอ คัพรอบรองชนะเลิศที่ปราบ แมนเชสเตอร์ ซิตี้ ต่อด้วยเกมอัด แมนเชสเตอร์ ยูไนเต็ด เมื่อกลางสัปดาห์\\n\\nปีก่อนดาวเตะวัย 31 ก็มีฟอร์มที่ดีในช่วงเดียวกันของฤดูกาลจนพา ลิเวอร์พูล คว้าตั๋วเล่นแชมเปี้ยนส์ลีกแม้ทีแรกดูเป็นไปได้ยากก็ตาม พอมาซีซั่นนี้ก็เป็นส่วนสำคัญต่อการพาทีมไล่ล่า 4 แชมป์\\n\\n29 เกมหลังสุดที่เขาออกสตาร์ทกับ \"...  \n",
              "8  โธมัส ทูเคิ่ล ยอมรับว่าฟอร์มในเกมเหย้าของ เชลซี เป็นเรื่องน่ากังวลในเวลานี้และยังไม่พบคำตอบว่าเป็นเพราะอะไร\\n\\nเชลซี เก็บไปเพียงแค่ 26 คะแนนจากการลงสนาม 15 เกมในถิ่น สแตมฟอร์ด บริดจ์ ฤดูกาลนี้โดยฟอร์มของพวกเขาดำดิ่งนับตั้งแต่กลับมาจากช่วงพักเบรคทีมชาติในเดือนมีนาคม\\n\\nพวกเขาพบกับความพ่ายแพ้ตลอดการลงสนาม 3 นัดหลังสุดในรังเหย้าของพวกเขาเอง โดยเสียประตูไปถึง 11 ลูกจากการเจอกับ เบรนท์ฟอร์ด, เรอัล มาดริด และ อาร์เซน่อล\\n\\n\"เป็นเรื่องที่ไม่ปกติและผมก็ไม่รู้ว่ามันเป็นเพราะอะไร\" ทูเคิ่ล กล่าว \\n\\n\"ถ้ามันเป็นเพราะสิ่งใดสิ่งนึง, เราคงเปลี่ยนห้องแต่งตัวหรือเลือกพักโรงแรมอื่นหรืออะไรแบบนั้นได้ แต่นั่น...  \n",
              "9  ทาเคฮิโระ โทมิยาสุ อาจคัมแบ็คกลับมาลงสนามให้ อาร์เซน่อล ในการเจอกับ แมนเชสเตอร์ ยูไนเต็ด วันพรุ่งนี้ (เสาร์) หากผ่านการซ้อมไปอย่างไร้ปัญหา\\n\\nดาวเตะวัย 23 ปีพลาดการลงสนามให้กับ \"ปืนใหญ่\" ตลอด 12 เกมหลังสุดในลีกเพราะปัญหาเจ็บน่องตามรบกวนไม่เลิก\\n\\nทีมของ มิเกล อาร์เตต้า จะมีศึกสำคัญต่อการแย่งท็อปโฟร์นั่นคือเกมเปิดรังเหย้าพบ อาร์เซน่อล ในวันเสาร์ โดยตอนนี้พวกเขามีแต้มเท่ากับ ท็อตแน่ม ฮ็อตสเปอร์ ในอันดับ 4 ส่วนทางด้าน แมนฯ ยูไนเต็ด ตามหลังอยู่ 3 คะแนน\\n\\nพวกเขาอาจจะมีข่าวดีที่ โทมิยาสุ ฟื้นตัวกลับมาทันเวลาสำหรับการลงสนาม ให้หลังจากทำท่าจะคัมแบ็คมาหลายหนแล้ว\\n\\n\"ถ้าหากวันนี้เขาลงซ้อมและรู้สึกด...  "
            ],
            "text/html": [
              "\n",
              "  <div id=\"df-96fa3730-73b6-4075-a940-63cfc4c2ba5e\">\n",
              "    <div class=\"colab-df-container\">\n",
              "      <div>\n",
              "<style scoped>\n",
              "    .dataframe tbody tr th:only-of-type {\n",
              "        vertical-align: middle;\n",
              "    }\n",
              "\n",
              "    .dataframe tbody tr th {\n",
              "        vertical-align: top;\n",
              "    }\n",
              "\n",
              "    .dataframe thead th {\n",
              "        text-align: right;\n",
              "    }\n",
              "</style>\n",
              "<table border=\"1\" class=\"dataframe\">\n",
              "  <thead>\n",
              "    <tr style=\"text-align: right;\">\n",
              "      <th></th>\n",
              "      <th>post_head</th>\n",
              "      <th>post_desc</th>\n",
              "    </tr>\n",
              "  </thead>\n",
              "  <tbody>\n",
              "    <tr>\n",
              "      <th>0</th>\n",
              "      <td>ต้านไม่ไหว! \"เชียงราย\" ยังไร้แต้มโดน \"วิสเซล โกเบ\" กระทุ้งยับ 6-0</td>\n",
              "      <td>\"กว่างโซ้ง\" เชียงราย ยูไนเต็ด สู้ไม่ไหวพ่ายให้กับ วิสเซล โกเบ ทีมดังจากเจลีก ญี่ปุ่น ไปด้วยสกอร์ขาดลอย 6-0 ศึกเอเอฟซี แชมเปี้ยนส์ ลีก 2022\\n\\nฟุตบอลเอเอฟซี แชมเปี้ยนส์ ลีก 2022 กลุ่มเจ นัดสอง\\nวันศุกร์ที่ 22 เมษายน 2565 \\nสนาม : บุรีรัมย์ ซิตี้ สเตเดี้ยม (เขากระโดง)\\n\\nวิสเซล โกเบ 6-0 เชียงราย ยูไนเต็ด\\n\\nผู้ทำประตู : 1-0 ยูยะ โอซาโกะ น.6,2-0 โคยะ ยูรุกิ น.16,3-0 ยูตะ โกเกะ น.32,4-0 โคยะ ยูรุกิ น.38,5-0 ลินคอล์น น.58,6-0 เรโอะ โอซากิ น.76\\n\\nการแข่งขันฟุตบอลเอเอฟซี แชมเปี้ยนส์ลีก 2022 รอบแบ่งกลุ่ม โซนตะวันออก กลุ่ม เจ  ระหว่าง \"กว่างโซ้งมหาภัย\" เชียงราย ยูไนเต็ด ของกุนซือเอเมอร์สัน เปเรย์ร...</td>\n",
              "    </tr>\n",
              "    <tr>\n",
              "      <th>1</th>\n",
              "      <td>สื่อตี 'ทุนโบห์ลี่' มั่นใจเทคโอเวอร์สิงห์สำเร็จ</td>\n",
              "      <td>รายงานเปิดเผยว่ากลุ่มทุนของ ท็อดด์ โบห์ลี่ มั่นใจยิ่งขึ้นว่าจะเป็นฝ่ายที่เข้าเส้นชัยเทคโอเวอร์ เชลซี สำเร็จ\\n\\nตอนนี้พ้นเส้นตายการยื่นข้อเสนอสุดท้ายสำหรับการซื้อ เชลซี ไปแล้ว จึงเหลือเวลาอีกไม่มากก่อนว่าที่เจ้าของใหม่ถูกส่งไปให้รัฐบาลผู้ดีและพรีเมียร์ลีกพิจารณาความเหมาะสม\\n\\nBlick สื่อจากสวิตเซอร์แลนด์ก็รายงานว่า โบห์ลี่ รวมถึง ฮานส์ยอร์ก วีสส์ เศรษฐีร่วมทุนต่างมั่นใจยิ่งขึ้นว่าพวกเขาจะเข้าเทคโอเวอร์ \"สิงห์บลูส์\" สำเร็จ\\n\\nพวกเขาเปิดเผยถึงความตั้งใจที่จะซื้อ เชลซี ตั้งแต่เดือนที่แล้วหลัง โรมัน อับราโมวิช ประกาศขายสโมสรในวันที่ 2 มีนาคม\\n\\nจอร์จ ออสบอร์น อดีตรัฐมนตรีกระทรวงการคลังก็ช่วยเหลื...</td>\n",
              "    </tr>\n",
              "    <tr>\n",
              "      <th>2</th>\n",
              "      <td>วันออสการ์กีฬาไทย! \"มาดามแป้ง\" ขึ้นรับทีมยอดเยี่ยม, \"เจ\" ซิวอาชีพชาย</td>\n",
              "      <td>\"มาดามแป้ง\" นวลพรรณ ล่ำซำ ในฐานะผู้จัดการทีมขึ้นรับรางวัลชนิดกีฬาทีมยอดเยี่ยม (Sport) ทีมฟุตบอลทีมชาติไทย ชุดแชมป์ฟุตบอลชิงแชมป์อาเซียน “เอเอฟเอฟ ซูซูกิคัพ 2020” ขณะที่ “เจ” ชนาธิป สรงกระสินธ์ คว้ารางวัลนักกีฬาอาชีพชายยอดเยี่ยม \\n\\n“ส.ผู้สื่อข่าวกีฬา” จัดงานวันนักกีฬายอดเยี่ยม ประกาศผล “ออสการ์กีฬาไทย” ประจำปี 2564 “น้องเทนนิส-เจ้าสด” ผงาดคว้านักกีฬายอดเยี่ยมหญิงและชาย ขณะที่ “เมสซี่เจ-โปรเหมียว” ครองรางวัลนักกีฬาอาชีพชายและหญิงยอดเยี่ยม “ทัพช้างศึก” คว้าชนิดกีฬาทีมยอดเยี่ยม ด้าน “บาส-ปอป้อ” แรงเกินห้ามใจเบิ้ลรางวัลใหญ่ เช่นเดียวกับ “โค้ชเช” ที่ได้รางวัลโค้ชยอดเยี่ยม ส่วน “เฟอรารี่ แฟร์เท็...</td>\n",
              "    </tr>\n",
              "    <tr>\n",
              "      <th>3</th>\n",
              "      <td>JK ยอมรับคงคิดถึง 'เมอร์ซี่ไซค์ดาร์บี้' ถ้าทอฟฟี่ตกชั้น</td>\n",
              "      <td>เยอร์เก้น คลอปป์ ผู้จัดการทีมลิเวอร์พูล ยอมรับว่า คงคิดถึงเมอร์ซี่ย์ไซด์ดาร์บี้แมตช์ถ้าหากเอฟเวอร์ตัน ต้องตกชั้นจากพรีเมียร์ลีกขึ้นมาจริงๆ \\n\\n\\nทัพหงส์แดง มีโปรแกรมนัดสำคัญพบเอฟเวอร์ตัน ในเมอร์ซี่ย์ไซด์ดาร์บี้ ที่แอนฟิลด์ วันอาทิตย์นี้ ซึ่งทีมของคลอปป์ กำลังสู้เพื่อตำแหน่งแชมป์ ขณะที่ทีมทอฟฟี่ต้องสู้เพื่อหนีจากการถูกลดชั้น\\n\\nเมื่อถูกถามว่า คลอปป์ จะคิดถึงเมอร์ซี่ย์ไซด์ดาร์บี้หรือไม่ บอสใหญ่ทีมหงส์แดง ตอบว่า\\n\\n\"แน่นอน ผมคิดว่าเราทุกคนเคยชินกับมัน\" คลอปป์ กล่าวก่อนเกม\\n\\n\"พบกับยูไนเต็ดเมื่อคืนก่อนให้อารมณ์ที่แตกต่างไปอีกแบบ โดยปกติจะมีเวลาเต็มทั้งสัปดาห์ก่อนเจอเอฟเวอร์ตัน มันทำให้เรามีเวล...</td>\n",
              "    </tr>\n",
              "    <tr>\n",
              "      <th>4</th>\n",
              "      <td>'เสี่ยหมู' ปัดโอกาสกลับผีร่วมงาน 'เทน ฮาก'</td>\n",
              "      <td>มีรายงานว่า เวย์น รูนี่ย์ ได้รับการเสนอโอกาสให้กลับสู่ แมนเชสเตอร์ ยูไนเต็ด เพื่อเป็นส่วนหนึ่งของทีมสตาฟฟ์โค้ช เอริค เทน ฮาก แต่เลือกที่จะตอบปฏิเสธ\\n\\nอดีตกองหน้าที่ผ่านการซัดไปมากกว่า 250 ประตูในการเล่นให้ แมนฯ ยูไนเต็ด นั้นสร้างความประทับใจระหว่างคุม ดาร์บี้ เคาน์ตี้ ในเดอะ แชมเปี้ยนชิพ\\n\\nแม้จะโดนตัดแต้มไป 21 คะแนนแต่ รูนี่ย์ ก็ช่วยให้ ดาร์บี้ เก็บชัยชนะไปได้ 13 นัดจากการลงสนามไปแล้ว 43 เกมในซีซั่นนี้ ซึ่งรวมถึงการปราบทีมอย่าง ฟูแล่ม, เชฟฟิลด์ ยูไนเต็ด และ เวสต์บรอมวิช อัลเบี้ยน\\n\\nอย่างไรก็ตามแม้จะทำดีแค่ไหนแต่แต้มที่โดนตัดก็มหาศาลเกิน ทำให้ \"แกะเขาเหล็ก\" ร่วงตกชั้นสู่ลีกวันเป็นที่เรีย...</td>\n",
              "    </tr>\n",
              "    <tr>\n",
              "      <th>5</th>\n",
              "      <td>เผยผีเตรียมดร็อป 'แมกไกวร์' เยือนปืน</td>\n",
              "      <td>รายงานจาก The Athletic เปิดเผยว่า ราล์ฟ รังนิค จะดร็อป แฮร์รี่ แมกไกวร์ เป็นสำรองในเกมที่ แมนเชสเตอร์ ยูไนเต็ด บุกไปพบกับ อาร์เซน่อล วันเสาร์นี้\\n\\nฟอร์มของ แมกไกวร์ ไม่ดีมาหลายสัปดาห์แล้วและเขาก็เตรียมจะถูกส่งลงไปนั่งสำรองในเกมสำคัญบุกเยือนถิ่น เอมิเรตส์ สเตเดี้ยม\\n\\nแมนฯ ยูไนเต็ด จำเป็นต้องคว้าชัยชนะเพื่อรักษาความหวังในการไปเล่นแชมเปี้ยนส์ลีกฤดูกาลหน้าเอาไว้ หลังพวกเขาตาม อาร์เซน่อล และ ท็อตแน่ม ฮ็อตสเปอร์ อยู่ 3 คะแนนและลงสนามมากว่าทั้งสองทีม\\n\\nกองหลังวัย 29 ปีก็เพิ่งพบเกมอันยากลำบากมาเมื่อคืนวันอังคารหลัง \"ปีศาจแดง\" แพ้ให้กับคู่ปรับอย่าง ลิเวอร์พูล ถึง 4-0\\n\\nเขาต้องรับมือกับเสียงวิจา...</td>\n",
              "    </tr>\n",
              "    <tr>\n",
              "      <th>6</th>\n",
              "      <td>ทุกคะแนนมีค่า! 'แลมพ์' บอกท๊อฟฟี่เยือนหงส์แต้มเดียวก็เอา</td>\n",
              "      <td>แฟรงค์ แลมพาร์ด กุนซือ เอฟเวอร์ตัน บอกว่าเขายินดีรับผลเสมอในเกมเมอร์ซี่ย์ไซด์ดาร์บี้ที่จะบุกไปเยือน ลิเวอร์พูล คืนวันอาทิตย์\\n\\n\"ท๊อฟฟี่สีน้ำเงิน\" เก็บคะแนนกับการเล่นทีมเยือนในฤดูกาลนี้ไปได้เพียง 6 แต้มเท่านั้น โดยชัยชนะเกมเยือนหนสุดท้ายเกิดขึ้นในเดือนสิงหาคม \\n\\nกลับกัน ลิเวอร์พูล คู่ปรับร่วมเมืองทำแต้มหล่นไป 6 คะแนนเท่านั้น (เสมอ 3 นัด) จากการลงเล่นเกมเหย้าในลีกฤดูกาลนี้\\n\\nเอฟเวอร์ตัน เองยังวนเวียนท้ายตารางดิ้นรนหนีตกชั้นต่อไปและอาจจะร่วงลงไปอยู่ในโซนตกชั้นก่อนที่เกมจะคิกออฟในคืนวันอาทิตย์\\n\\nเมื่อถูกถามว่าการได้แต้มเดียวจะทำให้เขาพอใจหรือไม่, แลมพาร์ด ตอบว่า \"คุณคิดยังไงล่ะ? แน่นอน เรา...</td>\n",
              "    </tr>\n",
              "    <tr>\n",
              "      <th>7</th>\n",
              "      <td>วิจารณ์ได้วิจารณ์ไป! JK ไม่เคยกังขา 'ธิอาโก้' ไม่เหมาะกับหงส์</td>\n",
              "      <td>เยอร์เก้น คล็อปป์ ยืนยันว่าไม่เคยกังขาในตัวของ ธิอาโก้ อัลคันทาร่า เลยว่าสไตล์การเล่นของเขาไม่เหมาะกับ ลิเวอร์พูล หรือไม่ หลังได้รับเสียงวิจารณ์เรื่องดังกล่าวในซีซั่นที่แล้ว\\n\\nกองกลางทีมชาติสเปนอยู่ในฟอร์มที่ยอดเยี่ยมช่วงหลายสัปดาห์หลัง โดยทำได้น่าประทับใจทั้งในครึ่งแรกของเกมเอฟเอ คัพรอบรองชนะเลิศที่ปราบ แมนเชสเตอร์ ซิตี้ ต่อด้วยเกมอัด แมนเชสเตอร์ ยูไนเต็ด เมื่อกลางสัปดาห์\\n\\nปีก่อนดาวเตะวัย 31 ก็มีฟอร์มที่ดีในช่วงเดียวกันของฤดูกาลจนพา ลิเวอร์พูล คว้าตั๋วเล่นแชมเปี้ยนส์ลีกแม้ทีแรกดูเป็นไปได้ยากก็ตาม พอมาซีซั่นนี้ก็เป็นส่วนสำคัญต่อการพาทีมไล่ล่า 4 แชมป์\\n\\n29 เกมหลังสุดที่เขาออกสตาร์ทกับ \"...</td>\n",
              "    </tr>\n",
              "    <tr>\n",
              "      <th>8</th>\n",
              "      <td>'ทูเคิ่ล' รับฟอร์มเกมเหย้าสิงห์น่ากังวล</td>\n",
              "      <td>โธมัส ทูเคิ่ล ยอมรับว่าฟอร์มในเกมเหย้าของ เชลซี เป็นเรื่องน่ากังวลในเวลานี้และยังไม่พบคำตอบว่าเป็นเพราะอะไร\\n\\nเชลซี เก็บไปเพียงแค่ 26 คะแนนจากการลงสนาม 15 เกมในถิ่น สแตมฟอร์ด บริดจ์ ฤดูกาลนี้โดยฟอร์มของพวกเขาดำดิ่งนับตั้งแต่กลับมาจากช่วงพักเบรคทีมชาติในเดือนมีนาคม\\n\\nพวกเขาพบกับความพ่ายแพ้ตลอดการลงสนาม 3 นัดหลังสุดในรังเหย้าของพวกเขาเอง โดยเสียประตูไปถึง 11 ลูกจากการเจอกับ เบรนท์ฟอร์ด, เรอัล มาดริด และ อาร์เซน่อล\\n\\n\"เป็นเรื่องที่ไม่ปกติและผมก็ไม่รู้ว่ามันเป็นเพราะอะไร\" ทูเคิ่ล กล่าว \\n\\n\"ถ้ามันเป็นเพราะสิ่งใดสิ่งนึง, เราคงเปลี่ยนห้องแต่งตัวหรือเลือกพักโรงแรมอื่นหรืออะไรแบบนั้นได้ แต่นั่น...</td>\n",
              "    </tr>\n",
              "    <tr>\n",
              "      <th>9</th>\n",
              "      <td>'โทมิยาสุ' มีลุ้นคุมแบ็คช่วย 'ปืน' บูีผี</td>\n",
              "      <td>ทาเคฮิโระ โทมิยาสุ อาจคัมแบ็คกลับมาลงสนามให้ อาร์เซน่อล ในการเจอกับ แมนเชสเตอร์ ยูไนเต็ด วันพรุ่งนี้ (เสาร์) หากผ่านการซ้อมไปอย่างไร้ปัญหา\\n\\nดาวเตะวัย 23 ปีพลาดการลงสนามให้กับ \"ปืนใหญ่\" ตลอด 12 เกมหลังสุดในลีกเพราะปัญหาเจ็บน่องตามรบกวนไม่เลิก\\n\\nทีมของ มิเกล อาร์เตต้า จะมีศึกสำคัญต่อการแย่งท็อปโฟร์นั่นคือเกมเปิดรังเหย้าพบ อาร์เซน่อล ในวันเสาร์ โดยตอนนี้พวกเขามีแต้มเท่ากับ ท็อตแน่ม ฮ็อตสเปอร์ ในอันดับ 4 ส่วนทางด้าน แมนฯ ยูไนเต็ด ตามหลังอยู่ 3 คะแนน\\n\\nพวกเขาอาจจะมีข่าวดีที่ โทมิยาสุ ฟื้นตัวกลับมาทันเวลาสำหรับการลงสนาม ให้หลังจากทำท่าจะคัมแบ็คมาหลายหนแล้ว\\n\\n\"ถ้าหากวันนี้เขาลงซ้อมและรู้สึกด...</td>\n",
              "    </tr>\n",
              "  </tbody>\n",
              "</table>\n",
              "</div>\n",
              "      <button class=\"colab-df-convert\" onclick=\"convertToInteractive('df-96fa3730-73b6-4075-a940-63cfc4c2ba5e')\"\n",
              "              title=\"Convert this dataframe to an interactive table.\"\n",
              "              style=\"display:none;\">\n",
              "        \n",
              "  <svg xmlns=\"http://www.w3.org/2000/svg\" height=\"24px\"viewBox=\"0 0 24 24\"\n",
              "       width=\"24px\">\n",
              "    <path d=\"M0 0h24v24H0V0z\" fill=\"none\"/>\n",
              "    <path d=\"M18.56 5.44l.94 2.06.94-2.06 2.06-.94-2.06-.94-.94-2.06-.94 2.06-2.06.94zm-11 1L8.5 8.5l.94-2.06 2.06-.94-2.06-.94L8.5 2.5l-.94 2.06-2.06.94zm10 10l.94 2.06.94-2.06 2.06-.94-2.06-.94-.94-2.06-.94 2.06-2.06.94z\"/><path d=\"M17.41 7.96l-1.37-1.37c-.4-.4-.92-.59-1.43-.59-.52 0-1.04.2-1.43.59L10.3 9.45l-7.72 7.72c-.78.78-.78 2.05 0 2.83L4 21.41c.39.39.9.59 1.41.59.51 0 1.02-.2 1.41-.59l7.78-7.78 2.81-2.81c.8-.78.8-2.07 0-2.86zM5.41 20L4 18.59l7.72-7.72 1.47 1.35L5.41 20z\"/>\n",
              "  </svg>\n",
              "      </button>\n",
              "      \n",
              "  <style>\n",
              "    .colab-df-container {\n",
              "      display:flex;\n",
              "      flex-wrap:wrap;\n",
              "      gap: 12px;\n",
              "    }\n",
              "\n",
              "    .colab-df-convert {\n",
              "      background-color: #E8F0FE;\n",
              "      border: none;\n",
              "      border-radius: 50%;\n",
              "      cursor: pointer;\n",
              "      display: none;\n",
              "      fill: #1967D2;\n",
              "      height: 32px;\n",
              "      padding: 0 0 0 0;\n",
              "      width: 32px;\n",
              "    }\n",
              "\n",
              "    .colab-df-convert:hover {\n",
              "      background-color: #E2EBFA;\n",
              "      box-shadow: 0px 1px 2px rgba(60, 64, 67, 0.3), 0px 1px 3px 1px rgba(60, 64, 67, 0.15);\n",
              "      fill: #174EA6;\n",
              "    }\n",
              "\n",
              "    [theme=dark] .colab-df-convert {\n",
              "      background-color: #3B4455;\n",
              "      fill: #D2E3FC;\n",
              "    }\n",
              "\n",
              "    [theme=dark] .colab-df-convert:hover {\n",
              "      background-color: #434B5C;\n",
              "      box-shadow: 0px 1px 3px 1px rgba(0, 0, 0, 0.15);\n",
              "      filter: drop-shadow(0px 1px 2px rgba(0, 0, 0, 0.3));\n",
              "      fill: #FFFFFF;\n",
              "    }\n",
              "  </style>\n",
              "\n",
              "      <script>\n",
              "        const buttonEl =\n",
              "          document.querySelector('#df-96fa3730-73b6-4075-a940-63cfc4c2ba5e button.colab-df-convert');\n",
              "        buttonEl.style.display =\n",
              "          google.colab.kernel.accessAllowed ? 'block' : 'none';\n",
              "\n",
              "        async function convertToInteractive(key) {\n",
              "          const element = document.querySelector('#df-96fa3730-73b6-4075-a940-63cfc4c2ba5e');\n",
              "          const dataTable =\n",
              "            await google.colab.kernel.invokeFunction('convertToInteractive',\n",
              "                                                     [key], {});\n",
              "          if (!dataTable) return;\n",
              "\n",
              "          const docLinkHtml = 'Like what you see? Visit the ' +\n",
              "            '<a target=\"_blank\" href=https://colab.research.google.com/notebooks/data_table.ipynb>data table notebook</a>'\n",
              "            + ' to learn more about interactive tables.';\n",
              "          element.innerHTML = '';\n",
              "          dataTable['output_type'] = 'display_data';\n",
              "          await google.colab.output.renderOutput(dataTable, element);\n",
              "          const docLink = document.createElement('div');\n",
              "          docLink.innerHTML = docLinkHtml;\n",
              "          element.appendChild(docLink);\n",
              "        }\n",
              "      </script>\n",
              "    </div>\n",
              "  </div>\n",
              "  "
            ]
          },
          "metadata": {},
          "execution_count": 21
        }
      ],
      "source": [
        "#ทำการ scrape แบบ concurrent\n",
        "from functools import partial\n",
        "\n",
        "res = []\n",
        "scrape_multithread(urls, partial(get_post_head_desc_append, res=res))\n",
        "pd.DataFrame(res)"
      ]
    },
    {
      "cell_type": "markdown",
      "metadata": {
        "id": "MDucqGj_ft_j"
      },
      "source": [
        "จะเห็นว่าใช้เวลาเพียง 2 วินาที เทียบกับการดึงทีละ url ที่ใช้เวลากว่า 15 วินาที"
      ]
    },
    {
      "cell_type": "code",
      "execution_count": 22,
      "metadata": {
        "colab": {
          "base_uri": "https://localhost:8080/"
        },
        "id": "ynRFATskCLnK",
        "outputId": "6efe07be-d100-47dc-d154-a0e190482eef"
      },
      "outputs": [
        {
          "output_type": "stream",
          "name": "stdout",
          "text": [
            "CPU times: user 771 ms, sys: 23.9 ms, total: 795 ms\n",
            "Wall time: 1.74 s\n"
          ]
        }
      ],
      "source": [
        "%%time\n",
        "res = []\n",
        "scrape_multithread(urls, partial(get_post_head_desc_append, res=res))\n",
        "pd.DataFrame(res)"
      ]
    },
    {
      "cell_type": "code",
      "execution_count": 23,
      "metadata": {
        "colab": {
          "base_uri": "https://localhost:8080/"
        },
        "id": "HN6oIbVvD3b7",
        "outputId": "0cb690ad-5b46-4e09-96d4-b80c0aaa9ae6"
      },
      "outputs": [
        {
          "output_type": "stream",
          "name": "stdout",
          "text": [
            "CPU times: user 765 ms, sys: 17.8 ms, total: 783 ms\n",
            "Wall time: 13.4 s\n"
          ]
        }
      ],
      "source": [
        "%%time\n",
        "def get_post_head_desc(url):\n",
        "    soup = get_soup(url)\n",
        "    return {'post_head': soup.find('div', class_='post_head').text.strip(),\n",
        "            'post_desc': soup.find('div', class_='post_desc').text.strip()}\n",
        "\n",
        "pd.DataFrame(df.url.map(get_post_head_desc).tolist())"
      ]
    },
    {
      "cell_type": "code",
      "execution_count": 24,
      "metadata": {
        "colab": {
          "base_uri": "https://localhost:8080/"
        },
        "id": "9NKb9oW9EdEw",
        "outputId": "53f34bc0-81eb-420f-cab0-ddc6c16996fe"
      },
      "outputs": [
        {
          "output_type": "stream",
          "name": "stdout",
          "text": [
            "CPU times: user 757 ms, sys: 8.17 ms, total: 766 ms\n",
            "Wall time: 11.9 s\n"
          ]
        }
      ],
      "source": [
        "%%time\n",
        "res = []\n",
        "for url in df.url.tolist():\n",
        "     res.append(get_post_head_desc(url))\n",
        "pd.DataFrame(res)"
      ]
    },
    {
      "cell_type": "markdown",
      "metadata": {
        "id": "NZFWviluGT_i"
      },
      "source": [
        "### Dynamic Web"
      ]
    },
    {
      "cell_type": "markdown",
      "metadata": {
        "id": "3Xsc2kETFroU"
      },
      "source": [
        "ในบางกรณี เว็บไซต์จำเป็นต้องให้เราทำกิจกรรมอะไรบางอย่างเพื่อเข้าถึงหน้าที่เราต้องการ scrape เช่น ต้องล็อกอินก่อน, ต้องกดบางปุ่มก่อน เป็นต้น เราเรียกเว็บไซต์ที่มีการเปลี่ยนแปลงจากการทำกิจกรรมอะไรบางอย่างเหล่านี้ว่า Dynamic Web\n",
        "\n",
        "ในกรณี soccersuck.com สมมุติว่าเราไม่รู้ url ของหน้าต่อไป จำเป็นต้องเขียนโปรแกรมให้กดหน้าต่อไปให้ เราจะใช้ [selenium](https://selenium-python.readthedocs.io) มาช่วยทำกิจกรรมเหล่านี้ (กดหน้าถัดไป)\n",
        "\n",
        "วิธีลง selenium บน colab จาก [Chalach Monkhontirapat](https://medium.com/equinox-blog/%E0%B8%81%E0%B8%B2%E0%B8%A3%E0%B9%83%E0%B8%8A%E0%B9%89-selenium-%E0%B8%9A%E0%B8%99-google-colaboratory-984739ed44e5)"
      ]
    },
    {
      "cell_type": "code",
      "execution_count": 25,
      "metadata": {
        "id": "2mhMZJtuGVy8"
      },
      "outputs": [],
      "source": [
        "from bs4 import BeautifulSoup\n",
        "from selenium import webdriver\n",
        "from selenium.webdriver.common.by import By\n",
        "from selenium.webdriver.support.ui import WebDriverWait\n",
        "from selenium.webdriver.support import expected_conditions as EC"
      ]
    },
    {
      "cell_type": "markdown",
      "metadata": {
        "id": "p5YlaZygtCMT"
      },
      "source": [
        "#### Selenium ก็ Scrape Static Web ได้"
      ]
    },
    {
      "cell_type": "code",
      "execution_count": 26,
      "metadata": {
        "id": "LAiQneYGHu6k"
      },
      "outputs": [],
      "source": [
        "#ติดตั้ง web driver เพื่อจำลองผู้ใช้เว็บไซต์\n",
        "chrome_options = webdriver.ChromeOptions()\n",
        "chrome_options.add_argument('--headless')\n",
        "chrome_options.add_argument('--no-sandbox')\n",
        "chrome_options.add_argument('--disable-dev-shm-usage')\n",
        "\n",
        "driver = webdriver.Chrome('chromedriver',options=chrome_options)"
      ]
    },
    {
      "cell_type": "code",
      "execution_count": 27,
      "metadata": {
        "colab": {
          "base_uri": "https://localhost:8080/",
          "height": 363
        },
        "id": "na06VzYvIuYp",
        "outputId": "664a76f3-f350-48c7-a9c6-81df268e4587"
      },
      "outputs": [
        {
          "output_type": "execute_result",
          "data": {
            "text/plain": [
              "                                       headline_abridged  \\\n",
              "0        สื่อตี 'ทุนโบห์ลี่' มั่นใจเทคโอเวอร์สิงห์สำเร็จ   \n",
              "1  JK ยอมรับคงคิดถึง 'เมอร์ซี่ไซค์ดาร์บี้' ถ้าทอฟฟี่ต...   \n",
              "2           'เสี่ยหมู' ปัดโอกาสกลับผีร่วมงาน 'เทน ฮาก...   \n",
              "3  ทุกคะแนนมีค่า! 'แลมพ์' บอกท๊อฟฟี่เยือนหงส์แต้มเดีย...   \n",
              "4       ต้านไม่ไหว! \"เชียงราย\" ยังไร้แต้มโดน \"วิสเซล ...   \n",
              "5                   เผยผีเตรียมดร็อป 'แมกไกวร์' เยือนปืน   \n",
              "6  วันออสการ์กีฬาไทย! \"มาดามแป้ง\" ขึ้นรับทีมยอดเยี่ยม...   \n",
              "7                'ทูเคิ่ล' รับฟอร์มเกมเหย้าสิงห์น่ากังวล   \n",
              "8  วิจารณ์ได้วิจารณ์ไป! JK ไม่เคยกังขา 'ธิอาโก้' ไม่เ...   \n",
              "9               'โทมิยาสุ' มีลุ้นคุมแบ็คช่วย 'ปืน' บูีผี   \n",
              "\n",
              "                                               url  \n",
              "0  https://www.soccersuck.com/boards/topic/2141328  \n",
              "1  https://www.soccersuck.com/boards/topic/2141323  \n",
              "2  https://www.soccersuck.com/boards/topic/2141320  \n",
              "3  https://www.soccersuck.com/boards/topic/2141316  \n",
              "4  https://www.soccersuck.com/boards/topic/2141315  \n",
              "5  https://www.soccersuck.com/boards/topic/2141309  \n",
              "6  https://www.soccersuck.com/boards/topic/2141308  \n",
              "7  https://www.soccersuck.com/boards/topic/2141304  \n",
              "8  https://www.soccersuck.com/boards/topic/2141290  \n",
              "9  https://www.soccersuck.com/boards/topic/2141278  "
            ],
            "text/html": [
              "\n",
              "  <div id=\"df-1072b524-77a4-4a47-969a-f885c4f4ac54\">\n",
              "    <div class=\"colab-df-container\">\n",
              "      <div>\n",
              "<style scoped>\n",
              "    .dataframe tbody tr th:only-of-type {\n",
              "        vertical-align: middle;\n",
              "    }\n",
              "\n",
              "    .dataframe tbody tr th {\n",
              "        vertical-align: top;\n",
              "    }\n",
              "\n",
              "    .dataframe thead th {\n",
              "        text-align: right;\n",
              "    }\n",
              "</style>\n",
              "<table border=\"1\" class=\"dataframe\">\n",
              "  <thead>\n",
              "    <tr style=\"text-align: right;\">\n",
              "      <th></th>\n",
              "      <th>headline_abridged</th>\n",
              "      <th>url</th>\n",
              "    </tr>\n",
              "  </thead>\n",
              "  <tbody>\n",
              "    <tr>\n",
              "      <th>0</th>\n",
              "      <td>สื่อตี 'ทุนโบห์ลี่' มั่นใจเทคโอเวอร์สิงห์สำเร็จ</td>\n",
              "      <td>https://www.soccersuck.com/boards/topic/2141328</td>\n",
              "    </tr>\n",
              "    <tr>\n",
              "      <th>1</th>\n",
              "      <td>JK ยอมรับคงคิดถึง 'เมอร์ซี่ไซค์ดาร์บี้' ถ้าทอฟฟี่ต...</td>\n",
              "      <td>https://www.soccersuck.com/boards/topic/2141323</td>\n",
              "    </tr>\n",
              "    <tr>\n",
              "      <th>2</th>\n",
              "      <td>'เสี่ยหมู' ปัดโอกาสกลับผีร่วมงาน 'เทน ฮาก...</td>\n",
              "      <td>https://www.soccersuck.com/boards/topic/2141320</td>\n",
              "    </tr>\n",
              "    <tr>\n",
              "      <th>3</th>\n",
              "      <td>ทุกคะแนนมีค่า! 'แลมพ์' บอกท๊อฟฟี่เยือนหงส์แต้มเดีย...</td>\n",
              "      <td>https://www.soccersuck.com/boards/topic/2141316</td>\n",
              "    </tr>\n",
              "    <tr>\n",
              "      <th>4</th>\n",
              "      <td>ต้านไม่ไหว! \"เชียงราย\" ยังไร้แต้มโดน \"วิสเซล ...</td>\n",
              "      <td>https://www.soccersuck.com/boards/topic/2141315</td>\n",
              "    </tr>\n",
              "    <tr>\n",
              "      <th>5</th>\n",
              "      <td>เผยผีเตรียมดร็อป 'แมกไกวร์' เยือนปืน</td>\n",
              "      <td>https://www.soccersuck.com/boards/topic/2141309</td>\n",
              "    </tr>\n",
              "    <tr>\n",
              "      <th>6</th>\n",
              "      <td>วันออสการ์กีฬาไทย! \"มาดามแป้ง\" ขึ้นรับทีมยอดเยี่ยม...</td>\n",
              "      <td>https://www.soccersuck.com/boards/topic/2141308</td>\n",
              "    </tr>\n",
              "    <tr>\n",
              "      <th>7</th>\n",
              "      <td>'ทูเคิ่ล' รับฟอร์มเกมเหย้าสิงห์น่ากังวล</td>\n",
              "      <td>https://www.soccersuck.com/boards/topic/2141304</td>\n",
              "    </tr>\n",
              "    <tr>\n",
              "      <th>8</th>\n",
              "      <td>วิจารณ์ได้วิจารณ์ไป! JK ไม่เคยกังขา 'ธิอาโก้' ไม่เ...</td>\n",
              "      <td>https://www.soccersuck.com/boards/topic/2141290</td>\n",
              "    </tr>\n",
              "    <tr>\n",
              "      <th>9</th>\n",
              "      <td>'โทมิยาสุ' มีลุ้นคุมแบ็คช่วย 'ปืน' บูีผี</td>\n",
              "      <td>https://www.soccersuck.com/boards/topic/2141278</td>\n",
              "    </tr>\n",
              "  </tbody>\n",
              "</table>\n",
              "</div>\n",
              "      <button class=\"colab-df-convert\" onclick=\"convertToInteractive('df-1072b524-77a4-4a47-969a-f885c4f4ac54')\"\n",
              "              title=\"Convert this dataframe to an interactive table.\"\n",
              "              style=\"display:none;\">\n",
              "        \n",
              "  <svg xmlns=\"http://www.w3.org/2000/svg\" height=\"24px\"viewBox=\"0 0 24 24\"\n",
              "       width=\"24px\">\n",
              "    <path d=\"M0 0h24v24H0V0z\" fill=\"none\"/>\n",
              "    <path d=\"M18.56 5.44l.94 2.06.94-2.06 2.06-.94-2.06-.94-.94-2.06-.94 2.06-2.06.94zm-11 1L8.5 8.5l.94-2.06 2.06-.94-2.06-.94L8.5 2.5l-.94 2.06-2.06.94zm10 10l.94 2.06.94-2.06 2.06-.94-2.06-.94-.94-2.06-.94 2.06-2.06.94z\"/><path d=\"M17.41 7.96l-1.37-1.37c-.4-.4-.92-.59-1.43-.59-.52 0-1.04.2-1.43.59L10.3 9.45l-7.72 7.72c-.78.78-.78 2.05 0 2.83L4 21.41c.39.39.9.59 1.41.59.51 0 1.02-.2 1.41-.59l7.78-7.78 2.81-2.81c.8-.78.8-2.07 0-2.86zM5.41 20L4 18.59l7.72-7.72 1.47 1.35L5.41 20z\"/>\n",
              "  </svg>\n",
              "      </button>\n",
              "      \n",
              "  <style>\n",
              "    .colab-df-container {\n",
              "      display:flex;\n",
              "      flex-wrap:wrap;\n",
              "      gap: 12px;\n",
              "    }\n",
              "\n",
              "    .colab-df-convert {\n",
              "      background-color: #E8F0FE;\n",
              "      border: none;\n",
              "      border-radius: 50%;\n",
              "      cursor: pointer;\n",
              "      display: none;\n",
              "      fill: #1967D2;\n",
              "      height: 32px;\n",
              "      padding: 0 0 0 0;\n",
              "      width: 32px;\n",
              "    }\n",
              "\n",
              "    .colab-df-convert:hover {\n",
              "      background-color: #E2EBFA;\n",
              "      box-shadow: 0px 1px 2px rgba(60, 64, 67, 0.3), 0px 1px 3px 1px rgba(60, 64, 67, 0.15);\n",
              "      fill: #174EA6;\n",
              "    }\n",
              "\n",
              "    [theme=dark] .colab-df-convert {\n",
              "      background-color: #3B4455;\n",
              "      fill: #D2E3FC;\n",
              "    }\n",
              "\n",
              "    [theme=dark] .colab-df-convert:hover {\n",
              "      background-color: #434B5C;\n",
              "      box-shadow: 0px 1px 3px 1px rgba(0, 0, 0, 0.15);\n",
              "      filter: drop-shadow(0px 1px 2px rgba(0, 0, 0, 0.3));\n",
              "      fill: #FFFFFF;\n",
              "    }\n",
              "  </style>\n",
              "\n",
              "      <script>\n",
              "        const buttonEl =\n",
              "          document.querySelector('#df-1072b524-77a4-4a47-969a-f885c4f4ac54 button.colab-df-convert');\n",
              "        buttonEl.style.display =\n",
              "          google.colab.kernel.accessAllowed ? 'block' : 'none';\n",
              "\n",
              "        async function convertToInteractive(key) {\n",
              "          const element = document.querySelector('#df-1072b524-77a4-4a47-969a-f885c4f4ac54');\n",
              "          const dataTable =\n",
              "            await google.colab.kernel.invokeFunction('convertToInteractive',\n",
              "                                                     [key], {});\n",
              "          if (!dataTable) return;\n",
              "\n",
              "          const docLinkHtml = 'Like what you see? Visit the ' +\n",
              "            '<a target=\"_blank\" href=https://colab.research.google.com/notebooks/data_table.ipynb>data table notebook</a>'\n",
              "            + ' to learn more about interactive tables.';\n",
              "          element.innerHTML = '';\n",
              "          dataTable['output_type'] = 'display_data';\n",
              "          await google.colab.output.renderOutput(dataTable, element);\n",
              "          const docLink = document.createElement('div');\n",
              "          docLink.innerHTML = docLinkHtml;\n",
              "          element.appendChild(docLink);\n",
              "        }\n",
              "      </script>\n",
              "    </div>\n",
              "  </div>\n",
              "  "
            ]
          },
          "metadata": {},
          "execution_count": 27
        }
      ],
      "source": [
        "#เข้าไปหน้าข่าวเพื่อเก็บ url เหมือนเดิม\n",
        "url = f'https://www.soccersuck.com/boards/oldnews'\n",
        "driver.get(url)\n",
        "soup = BeautifulSoup(driver.page_source)\n",
        "driver.close()\n",
        "\n",
        "df = pd.DataFrame([\n",
        "{'headline_abridged': i.text.strip(),\n",
        " 'url': i.find('a').get('href')} for i in soup.find_all('div', class_='oldnew_p_tr')]).head(10)\n",
        "df"
      ]
    },
    {
      "cell_type": "markdown",
      "metadata": {
        "id": "7ewNi9GDtGy7"
      },
      "source": [
        "#### Selenium สำหรับ Dynamic Web"
      ]
    },
    {
      "cell_type": "code",
      "execution_count": 28,
      "metadata": {
        "id": "jlgpIPLmMmi9"
      },
      "outputs": [],
      "source": [
        "#ติดตั้ง web driver เพื่อจำลองผู้ใช้เว็บไซต์\n",
        "chrome_options = webdriver.ChromeOptions()\n",
        "chrome_options.add_argument('--headless')\n",
        "chrome_options.add_argument('--no-sandbox')\n",
        "chrome_options.add_argument('--disable-dev-shm-usage')\n",
        "\n",
        "#ฟังชั่นเปลี่ยน soup เป็น dataframe\n",
        "def get_df(soup):\n",
        "    return pd.DataFrame([{'headline_abridged': i.text.strip(),\n",
        "                          'url': i.find('a').get('href')} for i in soup.find_all('div', class_='oldnew_p_tr')])\n",
        "    \n",
        "driver = webdriver.Chrome('chromedriver',options=chrome_options)"
      ]
    },
    {
      "cell_type": "code",
      "execution_count": 29,
      "metadata": {
        "colab": {
          "base_uri": "https://localhost:8080/"
        },
        "id": "a--qUdKBKBWD",
        "outputId": "c562f216-1331-40ae-f44e-e3d07b2286b6"
      },
      "outputs": [
        {
          "output_type": "stream",
          "name": "stdout",
          "text": [
            "Opened https://www.soccersuck.com/boards/oldnews\n",
            "Saved soup and dataframe from page 1\n",
            "Pagination button 2 found!\n",
            "Clicked pagination button 2\n",
            "Saved soup and dataframe from page 2\n",
            "Pagination button 3 found!\n",
            "Clicked pagination button 3\n",
            "Saved soup and dataframe from page 3\n"
          ]
        }
      ],
      "source": [
        "dfs = []\n",
        "\n",
        "#เปิดหน้าเว็บตาม url\n",
        "url = f'https://www.soccersuck.com/boards/oldnews'\n",
        "driver.get(url)\n",
        "print(f'Opened {url}')\n",
        "\n",
        "#เก็บข้อมูล soup และ dataframe จากหน้า 1\n",
        "soup = BeautifulSoup(driver.page_source)\n",
        "d = get_df(soup)\n",
        "d['page'] = '1'\n",
        "dfs.append(d)\n",
        "print(f'Saved soup and dataframe from page 1')\n",
        "\n",
        "#เราจะกดปุ่มหน้า 2 และ 3\n",
        "for i in ['2','3']:\n",
        "\n",
        "    #เช็คดูว่าปุ่มหน้าที่จะกด ('2' และ '3') โหลดแล้วหรือยัง\n",
        "    try:\n",
        "        element = WebDriverWait(driver, 10).until(\n",
        "            EC.visibility_of_element_located((By.LINK_TEXT, i))\n",
        "        )\n",
        "        print(f'Pagination button {i} found!')\n",
        "    except:\n",
        "        print(f'Pagination button {i} NOT found')\n",
        "    \n",
        "    #คลิกไปหน้าถัดไป\n",
        "    link = driver.find_element(By.LINK_TEXT, i)\n",
        "    link.click()\n",
        "    print(f'Clicked pagination button {i}')\n",
        "\n",
        "    #เก็บข้อมูล soup และ dataframe จากหน้า i\n",
        "    soup = BeautifulSoup(driver.page_source)\n",
        "    d = get_df(soup)\n",
        "    d['page'] = i\n",
        "    dfs.append(d)\n",
        "    print(f'Saved soup and dataframe from page {i}')\n",
        "\n",
        "#ปิดหน้า web\n",
        "driver.close()"
      ]
    },
    {
      "cell_type": "code",
      "execution_count": 30,
      "metadata": {
        "colab": {
          "base_uri": "https://localhost:8080/",
          "height": 206
        },
        "id": "c_IuOPPeJyjJ",
        "outputId": "f7c6be3a-809c-41dc-9f63-2cdf3c0fb654"
      },
      "outputs": [
        {
          "output_type": "execute_result",
          "data": {
            "text/plain": [
              "                                                   headline_abridged  \\\n",
              "344  สิงห์หนุ่มพังคาบ้าน 3-1, ไฟร์บวร์กอัดโบคุ่ม 3-0... สรุปผลบุน...   \n",
              "345            JK ภูมิใจ 'หงส์' ครึ่งแรกสมบูรณ์แบบ ยังย้ำคว้า 4 แ...   \n",
              "346            อย่าหวังพึ่งแต่พี่โด้! 'รังนิค' ปลุกผียกระดับก่อนช...   \n",
              "347            ไม่กั๊กแล้ว! 'มาเน่' ขอสู้เต็มที่ตามฝันคว้า 4 แชมป...   \n",
              "348            ม้าลายรอดตาย!! 'วลาโฮวิช' โหม่งน.90+5 ไล่เจ๊าโบโลญ...   \n",
              "\n",
              "                                                 url page  \n",
              "344  https://www.soccersuck.com/boards/topic/2138927    3  \n",
              "345  https://www.soccersuck.com/boards/topic/2138926    3  \n",
              "346  https://www.soccersuck.com/boards/topic/2138912    3  \n",
              "347  https://www.soccersuck.com/boards/topic/2138904    3  \n",
              "348  https://www.soccersuck.com/boards/topic/2138848    3  "
            ],
            "text/html": [
              "\n",
              "  <div id=\"df-b6d373d4-7f82-424e-bf85-34a33ed47d4b\">\n",
              "    <div class=\"colab-df-container\">\n",
              "      <div>\n",
              "<style scoped>\n",
              "    .dataframe tbody tr th:only-of-type {\n",
              "        vertical-align: middle;\n",
              "    }\n",
              "\n",
              "    .dataframe tbody tr th {\n",
              "        vertical-align: top;\n",
              "    }\n",
              "\n",
              "    .dataframe thead th {\n",
              "        text-align: right;\n",
              "    }\n",
              "</style>\n",
              "<table border=\"1\" class=\"dataframe\">\n",
              "  <thead>\n",
              "    <tr style=\"text-align: right;\">\n",
              "      <th></th>\n",
              "      <th>headline_abridged</th>\n",
              "      <th>url</th>\n",
              "      <th>page</th>\n",
              "    </tr>\n",
              "  </thead>\n",
              "  <tbody>\n",
              "    <tr>\n",
              "      <th>344</th>\n",
              "      <td>สิงห์หนุ่มพังคาบ้าน 3-1, ไฟร์บวร์กอัดโบคุ่ม 3-0... สรุปผลบุน...</td>\n",
              "      <td>https://www.soccersuck.com/boards/topic/2138927</td>\n",
              "      <td>3</td>\n",
              "    </tr>\n",
              "    <tr>\n",
              "      <th>345</th>\n",
              "      <td>JK ภูมิใจ 'หงส์' ครึ่งแรกสมบูรณ์แบบ ยังย้ำคว้า 4 แ...</td>\n",
              "      <td>https://www.soccersuck.com/boards/topic/2138926</td>\n",
              "      <td>3</td>\n",
              "    </tr>\n",
              "    <tr>\n",
              "      <th>346</th>\n",
              "      <td>อย่าหวังพึ่งแต่พี่โด้! 'รังนิค' ปลุกผียกระดับก่อนช...</td>\n",
              "      <td>https://www.soccersuck.com/boards/topic/2138912</td>\n",
              "      <td>3</td>\n",
              "    </tr>\n",
              "    <tr>\n",
              "      <th>347</th>\n",
              "      <td>ไม่กั๊กแล้ว! 'มาเน่' ขอสู้เต็มที่ตามฝันคว้า 4 แชมป...</td>\n",
              "      <td>https://www.soccersuck.com/boards/topic/2138904</td>\n",
              "      <td>3</td>\n",
              "    </tr>\n",
              "    <tr>\n",
              "      <th>348</th>\n",
              "      <td>ม้าลายรอดตาย!! 'วลาโฮวิช' โหม่งน.90+5 ไล่เจ๊าโบโลญ...</td>\n",
              "      <td>https://www.soccersuck.com/boards/topic/2138848</td>\n",
              "      <td>3</td>\n",
              "    </tr>\n",
              "  </tbody>\n",
              "</table>\n",
              "</div>\n",
              "      <button class=\"colab-df-convert\" onclick=\"convertToInteractive('df-b6d373d4-7f82-424e-bf85-34a33ed47d4b')\"\n",
              "              title=\"Convert this dataframe to an interactive table.\"\n",
              "              style=\"display:none;\">\n",
              "        \n",
              "  <svg xmlns=\"http://www.w3.org/2000/svg\" height=\"24px\"viewBox=\"0 0 24 24\"\n",
              "       width=\"24px\">\n",
              "    <path d=\"M0 0h24v24H0V0z\" fill=\"none\"/>\n",
              "    <path d=\"M18.56 5.44l.94 2.06.94-2.06 2.06-.94-2.06-.94-.94-2.06-.94 2.06-2.06.94zm-11 1L8.5 8.5l.94-2.06 2.06-.94-2.06-.94L8.5 2.5l-.94 2.06-2.06.94zm10 10l.94 2.06.94-2.06 2.06-.94-2.06-.94-.94-2.06-.94 2.06-2.06.94z\"/><path d=\"M17.41 7.96l-1.37-1.37c-.4-.4-.92-.59-1.43-.59-.52 0-1.04.2-1.43.59L10.3 9.45l-7.72 7.72c-.78.78-.78 2.05 0 2.83L4 21.41c.39.39.9.59 1.41.59.51 0 1.02-.2 1.41-.59l7.78-7.78 2.81-2.81c.8-.78.8-2.07 0-2.86zM5.41 20L4 18.59l7.72-7.72 1.47 1.35L5.41 20z\"/>\n",
              "  </svg>\n",
              "      </button>\n",
              "      \n",
              "  <style>\n",
              "    .colab-df-container {\n",
              "      display:flex;\n",
              "      flex-wrap:wrap;\n",
              "      gap: 12px;\n",
              "    }\n",
              "\n",
              "    .colab-df-convert {\n",
              "      background-color: #E8F0FE;\n",
              "      border: none;\n",
              "      border-radius: 50%;\n",
              "      cursor: pointer;\n",
              "      display: none;\n",
              "      fill: #1967D2;\n",
              "      height: 32px;\n",
              "      padding: 0 0 0 0;\n",
              "      width: 32px;\n",
              "    }\n",
              "\n",
              "    .colab-df-convert:hover {\n",
              "      background-color: #E2EBFA;\n",
              "      box-shadow: 0px 1px 2px rgba(60, 64, 67, 0.3), 0px 1px 3px 1px rgba(60, 64, 67, 0.15);\n",
              "      fill: #174EA6;\n",
              "    }\n",
              "\n",
              "    [theme=dark] .colab-df-convert {\n",
              "      background-color: #3B4455;\n",
              "      fill: #D2E3FC;\n",
              "    }\n",
              "\n",
              "    [theme=dark] .colab-df-convert:hover {\n",
              "      background-color: #434B5C;\n",
              "      box-shadow: 0px 1px 3px 1px rgba(0, 0, 0, 0.15);\n",
              "      filter: drop-shadow(0px 1px 2px rgba(0, 0, 0, 0.3));\n",
              "      fill: #FFFFFF;\n",
              "    }\n",
              "  </style>\n",
              "\n",
              "      <script>\n",
              "        const buttonEl =\n",
              "          document.querySelector('#df-b6d373d4-7f82-424e-bf85-34a33ed47d4b button.colab-df-convert');\n",
              "        buttonEl.style.display =\n",
              "          google.colab.kernel.accessAllowed ? 'block' : 'none';\n",
              "\n",
              "        async function convertToInteractive(key) {\n",
              "          const element = document.querySelector('#df-b6d373d4-7f82-424e-bf85-34a33ed47d4b');\n",
              "          const dataTable =\n",
              "            await google.colab.kernel.invokeFunction('convertToInteractive',\n",
              "                                                     [key], {});\n",
              "          if (!dataTable) return;\n",
              "\n",
              "          const docLinkHtml = 'Like what you see? Visit the ' +\n",
              "            '<a target=\"_blank\" href=https://colab.research.google.com/notebooks/data_table.ipynb>data table notebook</a>'\n",
              "            + ' to learn more about interactive tables.';\n",
              "          element.innerHTML = '';\n",
              "          dataTable['output_type'] = 'display_data';\n",
              "          await google.colab.output.renderOutput(dataTable, element);\n",
              "          const docLink = document.createElement('div');\n",
              "          docLink.innerHTML = docLinkHtml;\n",
              "          element.appendChild(docLink);\n",
              "        }\n",
              "      </script>\n",
              "    </div>\n",
              "  </div>\n",
              "  "
            ]
          },
          "metadata": {},
          "execution_count": 30
        }
      ],
      "source": [
        "df = pd.concat(dfs).reset_index(drop=True)\n",
        "df.tail()"
      ]
    },
    {
      "cell_type": "markdown",
      "metadata": {
        "id": "cOoMIytZknOO"
      },
      "source": [
        "## สร้างขึ้นมาเอง"
      ]
    },
    {
      "cell_type": "markdown",
      "metadata": {
        "id": "jKiqa-pfntgM"
      },
      "source": [
        "### Annotation, Annotation, Annotation"
      ]
    },
    {
      "cell_type": "markdown",
      "metadata": {
        "id": "-W7BjeFxGRxR"
      },
      "source": [
        "วิธีที่ตรงไปตรงมาที่สุดคือการเก็บและ label ข้อมูลด้วยมนุษย์ คุณสามารถชวนเพื่อนๆมาทำ หรือแม้แต่จ้างบริษัทมืออาชีพ แน่นอนว่าข้อมูลยิ่งมากยิ่งดี แต่หลายครั้งแค่ 1,000 ตัวอย่างก็พอให้คุณเริ่มทำ ML model ได้แล้ว\n",
        "\n",
        "ยกตัวอย่างเช่น [@wannaphong](https://github.com/wannaphong) ผู้ก่อตั้ง [PyThaiNLP](https://github.com/PyThaiNLP/pythainlp) ผู้เชี่ยวชาญด้านการสร้างชุดข้อมูลด้วยมือ [@wannaphong](https://github.com/wannaphong) สร้าง\n",
        "\n",
        "* [thai-named-entity-recognition-data](https://github.com/PyThaiNLP/thai-named-entity-recognition-data/) - ชุดข้อมูล named entity recognition ที่ต่อมารวมกับชุดข้อมูลอีกชุด (ที่ [@wannaphong](https://github.com/wannaphong) ทำการตรวจสอบคุณภาพด้วยมืออีกรอบ) กลายเป็น [ThaiNER](https://github.com/wannaphong/thai-ner) ที่เป็นหนึ่งใน benchmark ที่ใหญ่ที่สุดสำหรับ NER ภาษาไทย\n",
        "\n",
        "* [spelling-check](https://github.com/PyThaiNLP/spelling-check) - ชุดข้อมูลตรวจสอบการสะกดคำภาษาไทยกว่า 1,800 ประโยค; ใช้สำหรับฟังชั่นแก้คำผิดของ [PyThaiNLP](https://github.com/PyThaiNLP/pythainlp)\n",
        "\n",
        "* [Thai-Lao-Parallel-Corpus](https://github.com/PyThaiNLP/Thai-Lao-Parallel-Corpus) - แปลภาษาไทย-ลาวประมาณ 260 ประโยค\n",
        "\n",
        "* [thai-sentence](https://github.com/PyThaiNLP/Thai-sentence) - ประโยคภาษาไทยเขียนเองประมาณ 1,000 ประโยค\n",
        "\n",
        "* [thai-synonym](https://github.com/PyThaiNLP/thai-synonym/) - คำพ้องความหมายประมาณ 100 คำ\n",
        "\n",
        "ข้อดีของการทำแบบนี้คือคุณจะเข้าใจชุดข้อมูลของคุณได้ดียิ่งขึ้น และยิ่งถ้าคุณเปิดเผยชุดข้อมูลเป็นสาธารณะก็อาจจะมีคนมาช่วยเพิ่มข้อมูลให้คุณอีกด้วย"
      ]
    },
    {
      "cell_type": "markdown",
      "metadata": {
        "id": "xR96SNtmX69T"
      },
      "source": [
        "### สร้าง Tabular Data เพิ่มด้วย ML Models"
      ]
    },
    {
      "cell_type": "markdown",
      "metadata": {
        "id": "c1ufGZnOnNSO"
      },
      "source": [
        "เริ่มจากถ้าเรามีข้อมูล tabular อยู่บ้าง แต่ต้องการเพิ่มเพื่อให้โมเดลมีประสิทธิภาพขึ้น เราสามารถสร้างชุดข้อมูลเพิ่มด้วยเทคนิค เช่น [CTGAN](https://arxiv.org/abs/1907.00503) เรียกใช้จาก [sdv](https://sdv.dev/SDV/user_guides/single_table/ctgan.html)\n",
        "\n",
        "เราทดลองใช้ [CTGAN](https://arxiv.org/abs/1907.00503) สร้างชุดข้อมูลเพิ่มสำหรับโมเดล [xgboost](https://xgboost.readthedocs.io/en/stable/) ในบทที่ 1"
      ]
    },
    {
      "cell_type": "markdown",
      "metadata": {
        "id": "_WsV0rmSguop"
      },
      "source": [
        "จำแนกการตอบสนองของลูกค้ากับแคมเปญที่บริษัทจัดด้วยชุดข้อมูล [Retail Transaction Data](https://www.kaggle.com/regivm/retailtransactiondata) จัดทำโดย []() ดูตัวอย่างการวิเคราะห์เต็มๆได้ที่ [Campaign Response Model - Example.ipynb](https://colab.research.google.com/drive/1eTVlSYcwUYkYDW6sPTY8XVO1QMhr-DNT?usp=sharing)"
      ]
    },
    {
      "cell_type": "code",
      "execution_count": 31,
      "metadata": {
        "colab": {
          "base_uri": "https://localhost:8080/"
        },
        "id": "mOaKT9TIX94x",
        "outputId": "5c1900c3-6c88-402e-aea3-d1002a510b53"
      },
      "outputs": [
        {
          "output_type": "stream",
          "name": "stdout",
          "text": [
            "--2022-04-24 15:04:15--  https://github.com/ai-builders/curriculum/raw/main/data/Retail_Data_Transactions.csv\n",
            "Resolving github.com (github.com)... 140.82.121.4\n",
            "Connecting to github.com (github.com)|140.82.121.4|:443... connected.\n",
            "HTTP request sent, awaiting response... 302 Found\n",
            "Location: https://raw.githubusercontent.com/ai-builders/curriculum/main/data/Retail_Data_Transactions.csv [following]\n",
            "--2022-04-24 15:04:16--  https://raw.githubusercontent.com/ai-builders/curriculum/main/data/Retail_Data_Transactions.csv\n",
            "Resolving raw.githubusercontent.com (raw.githubusercontent.com)... 185.199.110.133, 185.199.111.133, 185.199.109.133, ...\n",
            "Connecting to raw.githubusercontent.com (raw.githubusercontent.com)|185.199.110.133|:443... connected.\n",
            "HTTP request sent, awaiting response... 200 OK\n",
            "Length: 2633502 (2.5M) [text/plain]\n",
            "Saving to: ‘Retail_Data_Transactions.csv’\n",
            "\n",
            "Retail_Data_Transac 100%[===================>]   2.51M  --.-KB/s    in 0.02s   \n",
            "\n",
            "2022-04-24 15:04:16 (110 MB/s) - ‘Retail_Data_Transactions.csv’ saved [2633502/2633502]\n",
            "\n",
            "--2022-04-24 15:04:16--  https://github.com/ai-builders/curriculum/raw/main/data/Retail_Data_Response.csv\n",
            "Resolving github.com (github.com)... 140.82.121.4\n",
            "Connecting to github.com (github.com)|140.82.121.4|:443... connected.\n",
            "HTTP request sent, awaiting response... 302 Found\n",
            "Location: https://raw.githubusercontent.com/ai-builders/curriculum/main/data/Retail_Data_Response.csv [following]\n",
            "--2022-04-24 15:04:16--  https://raw.githubusercontent.com/ai-builders/curriculum/main/data/Retail_Data_Response.csv\n",
            "Resolving raw.githubusercontent.com (raw.githubusercontent.com)... 185.199.108.133, 185.199.111.133, 185.199.110.133, ...\n",
            "Connecting to raw.githubusercontent.com (raw.githubusercontent.com)|185.199.108.133|:443... connected.\n",
            "HTTP request sent, awaiting response... 200 OK\n",
            "Length: 68862 (67K) [text/plain]\n",
            "Saving to: ‘Retail_Data_Response.csv’\n",
            "\n",
            "Retail_Data_Respons 100%[===================>]  67.25K  --.-KB/s    in 0.004s  \n",
            "\n",
            "2022-04-24 15:04:17 (18.7 MB/s) - ‘Retail_Data_Response.csv’ saved [68862/68862]\n",
            "\n"
          ]
        }
      ],
      "source": [
        "#download data\n",
        "!wget https://github.com/ai-builders/curriculum/raw/main/data/Retail_Data_Transactions.csv\n",
        "!wget https://github.com/ai-builders/curriculum/raw/main/data/Retail_Data_Response.csv"
      ]
    },
    {
      "cell_type": "code",
      "source": [
        "#reset runtime เพื่อให้แน่ใจว่า package ต่างๆใช้งานได้\n",
        "exit()"
      ],
      "metadata": {
        "id": "WDB2hGWTFizR"
      },
      "execution_count": 32,
      "outputs": []
    },
    {
      "cell_type": "code",
      "execution_count": 1,
      "metadata": {
        "colab": {
          "base_uri": "https://localhost:8080/"
        },
        "id": "sBkvIkfLgxh2",
        "outputId": "84127e11-1ced-4833-f864-63f01a5f4e7e"
      },
      "outputs": [
        {
          "output_type": "execute_result",
          "data": {
            "text/plain": [
              "((4130, 12), (1377, 12), (1377, 12))"
            ]
          },
          "metadata": {},
          "execution_count": 1
        }
      ],
      "source": [
        "import numpy as np\n",
        "import pandas as pd\n",
        "import matplotlib.pyplot as plt \n",
        "import seaborn as sns\n",
        "\n",
        "from datetime import datetime\n",
        "\n",
        "from sklearn.model_selection import train_test_split\n",
        "from sklearn.metrics import classification_report, roc_auc_score\n",
        "\n",
        "#จัดการข้อมูลให้อยู่ในรูปแบบ (X, y)\n",
        "df_response = pd.read_csv('Retail_Data_Response.csv')\n",
        "df_trans = pd.read_csv('Retail_Data_Transactions.csv', parse_dates=['trans_date'])\n",
        "\n",
        "campaign_date = datetime(2015,3,17)\n",
        "df_trans['age'] = (campaign_date - df_trans.trans_date).dt.days\n",
        "\n",
        "df = df_trans.groupby('customer_id').agg(\n",
        "    recency=('age', 'min'),\n",
        "    frequency=('customer_id', 'count'),\n",
        "    monetary=('tran_amount', 'sum'),\n",
        "    tenure=('age', 'max'),\n",
        "    length_of_stay=('age', lambda x: x.max() - x.min())\n",
        ")\n",
        "df['ticket_size'] = df.monetary / df.frequency\n",
        "df['std_ticket_size'] = df_trans.groupby('customer_id').tran_amount.std()\n",
        "df['cv_ticket_size'] = df.std_ticket_size / df.ticket_size\n",
        "\n",
        "# the number of months visited\n",
        "active_months = df_trans.groupby(['customer_id', pd.Grouper(key='trans_date',freq='M')]).size().reset_index()\n",
        "active_months = active_months.groupby('customer_id').trans_date.nunique()\n",
        "df['active_months'] = active_months\n",
        "df['avg_spend_m'] = df.monetary / df.active_months\n",
        "df['avg_visit_m'] = df.frequency / df.active_months\n",
        "# done with active_months, then drop it\n",
        "df = df.drop(columns='active_months')\n",
        "df['avg_tte'] = df.length_of_stay / (df.frequency - 1)\n",
        "\n",
        "#all data\n",
        "all_data = df_response.join(df, how='inner', on='customer_id').set_index('customer_id')\n",
        "\n",
        "#split ข้อมูลเป็น train, validation และ test\n",
        "random_state = 1024\n",
        "test_size = 0.2\n",
        "val_size = 0.2\n",
        "\n",
        "X = all_data.drop(columns='response')\n",
        "y = all_data.response\n",
        "\n",
        "X_train_val, X_test, y_train_val, y_test = train_test_split(X, y, test_size=test_size, \n",
        "                                                            stratify=y, random_state=random_state)\n",
        "X_train, X_val, y_train, y_val = train_test_split(X_train_val, y_train_val, test_size=val_size/(1-test_size),\n",
        "                                                  stratify=y_train_val, random_state=random_state)\n",
        "\n",
        "train_data = X_train.join(y_train)\n",
        "val_data = X_val.join(y_val)\n",
        "test_data = X_test.join(y_test)\n",
        "\n",
        "train_data.shape, val_data.shape, test_data.shape"
      ]
    },
    {
      "cell_type": "markdown",
      "metadata": {
        "id": "XsK0DosnjFP6"
      },
      "source": [
        "เราสร้างชุดข้อมูลเพิ่มจาก `train data` ด้วย CTGAN (ระวังอย่าสร้างจาก validation หรือ test sets ไม่งั้นจะเปิด data leakage (\"โกงข้อสอบ\")"
      ]
    },
    {
      "cell_type": "code",
      "execution_count": 2,
      "metadata": {
        "colab": {
          "base_uri": "https://localhost:8080/",
          "height": 1000
        },
        "id": "Xzrdka9wjI4d",
        "outputId": "d7bfbc88-78c1-4cdd-ecf3-f6b52d7344c4"
      },
      "outputs": [
        {
          "output_type": "stream",
          "name": "stderr",
          "text": [
            "/usr/local/lib/python3.7/dist-packages/sklearn/mixture/_base.py:282: ConvergenceWarning: Initialization 1 did not converge. Try different init parameters, or increase max_iter, tol or check for degenerate data.\n",
            "  ConvergenceWarning,\n",
            "/usr/local/lib/python3.7/dist-packages/sklearn/mixture/_base.py:282: ConvergenceWarning: Initialization 1 did not converge. Try different init parameters, or increase max_iter, tol or check for degenerate data.\n",
            "  ConvergenceWarning,\n",
            "/usr/local/lib/python3.7/dist-packages/sklearn/mixture/_base.py:282: ConvergenceWarning: Initialization 1 did not converge. Try different init parameters, or increase max_iter, tol or check for degenerate data.\n",
            "  ConvergenceWarning,\n",
            "/usr/local/lib/python3.7/dist-packages/sklearn/mixture/_base.py:282: ConvergenceWarning: Initialization 1 did not converge. Try different init parameters, or increase max_iter, tol or check for degenerate data.\n",
            "  ConvergenceWarning,\n",
            "/usr/local/lib/python3.7/dist-packages/sklearn/mixture/_base.py:282: ConvergenceWarning: Initialization 1 did not converge. Try different init parameters, or increase max_iter, tol or check for degenerate data.\n",
            "  ConvergenceWarning,\n",
            "/usr/local/lib/python3.7/dist-packages/sklearn/mixture/_base.py:282: ConvergenceWarning: Initialization 1 did not converge. Try different init parameters, or increase max_iter, tol or check for degenerate data.\n",
            "  ConvergenceWarning,\n",
            "/usr/local/lib/python3.7/dist-packages/sklearn/mixture/_base.py:282: ConvergenceWarning: Initialization 1 did not converge. Try different init parameters, or increase max_iter, tol or check for degenerate data.\n",
            "  ConvergenceWarning,\n",
            "/usr/local/lib/python3.7/dist-packages/sklearn/mixture/_base.py:282: ConvergenceWarning: Initialization 1 did not converge. Try different init parameters, or increase max_iter, tol or check for degenerate data.\n",
            "  ConvergenceWarning,\n",
            "/usr/local/lib/python3.7/dist-packages/sklearn/mixture/_base.py:282: ConvergenceWarning: Initialization 1 did not converge. Try different init parameters, or increase max_iter, tol or check for degenerate data.\n",
            "  ConvergenceWarning,\n",
            "/usr/local/lib/python3.7/dist-packages/sklearn/mixture/_base.py:282: ConvergenceWarning: Initialization 1 did not converge. Try different init parameters, or increase max_iter, tol or check for degenerate data.\n",
            "  ConvergenceWarning,\n",
            "/usr/local/lib/python3.7/dist-packages/sklearn/mixture/_base.py:282: ConvergenceWarning: Initialization 1 did not converge. Try different init parameters, or increase max_iter, tol or check for degenerate data.\n",
            "  ConvergenceWarning,\n",
            "/usr/local/lib/python3.7/dist-packages/ctgan/data_transformer.py:111: SettingWithCopyWarning: \n",
            "A value is trying to be set on a copy of a slice from a DataFrame.\n",
            "Try using .loc[row_indexer,col_indexer] = value instead\n",
            "\n",
            "See the caveats in the documentation: https://pandas.pydata.org/pandas-docs/stable/user_guide/indexing.html#returning-a-view-versus-a-copy\n",
            "  data[column_name] = data[column_name].to_numpy().flatten()\n",
            "/usr/local/lib/python3.7/dist-packages/ctgan/data_transformer.py:111: SettingWithCopyWarning: \n",
            "A value is trying to be set on a copy of a slice from a DataFrame.\n",
            "Try using .loc[row_indexer,col_indexer] = value instead\n",
            "\n",
            "See the caveats in the documentation: https://pandas.pydata.org/pandas-docs/stable/user_guide/indexing.html#returning-a-view-versus-a-copy\n",
            "  data[column_name] = data[column_name].to_numpy().flatten()\n",
            "/usr/local/lib/python3.7/dist-packages/ctgan/data_transformer.py:111: SettingWithCopyWarning: \n",
            "A value is trying to be set on a copy of a slice from a DataFrame.\n",
            "Try using .loc[row_indexer,col_indexer] = value instead\n",
            "\n",
            "See the caveats in the documentation: https://pandas.pydata.org/pandas-docs/stable/user_guide/indexing.html#returning-a-view-versus-a-copy\n",
            "  data[column_name] = data[column_name].to_numpy().flatten()\n",
            "/usr/local/lib/python3.7/dist-packages/ctgan/data_transformer.py:111: SettingWithCopyWarning: \n",
            "A value is trying to be set on a copy of a slice from a DataFrame.\n",
            "Try using .loc[row_indexer,col_indexer] = value instead\n",
            "\n",
            "See the caveats in the documentation: https://pandas.pydata.org/pandas-docs/stable/user_guide/indexing.html#returning-a-view-versus-a-copy\n",
            "  data[column_name] = data[column_name].to_numpy().flatten()\n",
            "/usr/local/lib/python3.7/dist-packages/ctgan/data_transformer.py:111: SettingWithCopyWarning: \n",
            "A value is trying to be set on a copy of a slice from a DataFrame.\n",
            "Try using .loc[row_indexer,col_indexer] = value instead\n",
            "\n",
            "See the caveats in the documentation: https://pandas.pydata.org/pandas-docs/stable/user_guide/indexing.html#returning-a-view-versus-a-copy\n",
            "  data[column_name] = data[column_name].to_numpy().flatten()\n",
            "/usr/local/lib/python3.7/dist-packages/ctgan/data_transformer.py:111: SettingWithCopyWarning: \n",
            "A value is trying to be set on a copy of a slice from a DataFrame.\n",
            "Try using .loc[row_indexer,col_indexer] = value instead\n",
            "\n",
            "See the caveats in the documentation: https://pandas.pydata.org/pandas-docs/stable/user_guide/indexing.html#returning-a-view-versus-a-copy\n",
            "  data[column_name] = data[column_name].to_numpy().flatten()\n",
            "/usr/local/lib/python3.7/dist-packages/ctgan/data_transformer.py:111: SettingWithCopyWarning: \n",
            "A value is trying to be set on a copy of a slice from a DataFrame.\n",
            "Try using .loc[row_indexer,col_indexer] = value instead\n",
            "\n",
            "See the caveats in the documentation: https://pandas.pydata.org/pandas-docs/stable/user_guide/indexing.html#returning-a-view-versus-a-copy\n",
            "  data[column_name] = data[column_name].to_numpy().flatten()\n",
            "/usr/local/lib/python3.7/dist-packages/ctgan/data_transformer.py:111: SettingWithCopyWarning: \n",
            "A value is trying to be set on a copy of a slice from a DataFrame.\n",
            "Try using .loc[row_indexer,col_indexer] = value instead\n",
            "\n",
            "See the caveats in the documentation: https://pandas.pydata.org/pandas-docs/stable/user_guide/indexing.html#returning-a-view-versus-a-copy\n",
            "  data[column_name] = data[column_name].to_numpy().flatten()\n",
            "/usr/local/lib/python3.7/dist-packages/ctgan/data_transformer.py:111: SettingWithCopyWarning: \n",
            "A value is trying to be set on a copy of a slice from a DataFrame.\n",
            "Try using .loc[row_indexer,col_indexer] = value instead\n",
            "\n",
            "See the caveats in the documentation: https://pandas.pydata.org/pandas-docs/stable/user_guide/indexing.html#returning-a-view-versus-a-copy\n",
            "  data[column_name] = data[column_name].to_numpy().flatten()\n",
            "/usr/local/lib/python3.7/dist-packages/ctgan/data_transformer.py:111: SettingWithCopyWarning: \n",
            "A value is trying to be set on a copy of a slice from a DataFrame.\n",
            "Try using .loc[row_indexer,col_indexer] = value instead\n",
            "\n",
            "See the caveats in the documentation: https://pandas.pydata.org/pandas-docs/stable/user_guide/indexing.html#returning-a-view-versus-a-copy\n",
            "  data[column_name] = data[column_name].to_numpy().flatten()\n",
            "/usr/local/lib/python3.7/dist-packages/ctgan/data_transformer.py:111: SettingWithCopyWarning: \n",
            "A value is trying to be set on a copy of a slice from a DataFrame.\n",
            "Try using .loc[row_indexer,col_indexer] = value instead\n",
            "\n",
            "See the caveats in the documentation: https://pandas.pydata.org/pandas-docs/stable/user_guide/indexing.html#returning-a-view-versus-a-copy\n",
            "  data[column_name] = data[column_name].to_numpy().flatten()\n"
          ]
        },
        {
          "output_type": "execute_result",
          "data": {
            "text/plain": [
              "      recency  frequency  monetary  tenure  length_of_stay  ticket_size  \\\n",
              "3995       29         22      1663    1382            1261    60.888779   \n",
              "3996       47         12       599    1392            1129    51.005994   \n",
              "3997        1         23      1789    1390            1152    80.105392   \n",
              "3998       13         11       375    1385            1199    76.048731   \n",
              "3999       51         11       490    1242            1293    73.728424   \n",
              "\n",
              "      std_ticket_size  cv_ticket_size  avg_spend_m  avg_visit_m     avg_tte  \\\n",
              "3995        15.382944        0.317783    80.657693     1.344499   69.920620   \n",
              "3996        21.312641        0.265243    48.772437     1.017283   76.334177   \n",
              "3997        24.311495        0.235976   105.040792     1.680195   55.905254   \n",
              "3998        19.755628        0.264218    45.752929     1.087693  117.199227   \n",
              "3999        20.351191        0.302634    88.041403     1.162441   80.329692   \n",
              "\n",
              "      response  \n",
              "3995         1  \n",
              "3996         0  \n",
              "3997         0  \n",
              "3998         0  \n",
              "3999         0  "
            ],
            "text/html": [
              "\n",
              "  <div id=\"df-569ed8bc-30c7-4fc7-ad7a-0a7b1e3d3c7a\">\n",
              "    <div class=\"colab-df-container\">\n",
              "      <div>\n",
              "<style scoped>\n",
              "    .dataframe tbody tr th:only-of-type {\n",
              "        vertical-align: middle;\n",
              "    }\n",
              "\n",
              "    .dataframe tbody tr th {\n",
              "        vertical-align: top;\n",
              "    }\n",
              "\n",
              "    .dataframe thead th {\n",
              "        text-align: right;\n",
              "    }\n",
              "</style>\n",
              "<table border=\"1\" class=\"dataframe\">\n",
              "  <thead>\n",
              "    <tr style=\"text-align: right;\">\n",
              "      <th></th>\n",
              "      <th>recency</th>\n",
              "      <th>frequency</th>\n",
              "      <th>monetary</th>\n",
              "      <th>tenure</th>\n",
              "      <th>length_of_stay</th>\n",
              "      <th>ticket_size</th>\n",
              "      <th>std_ticket_size</th>\n",
              "      <th>cv_ticket_size</th>\n",
              "      <th>avg_spend_m</th>\n",
              "      <th>avg_visit_m</th>\n",
              "      <th>avg_tte</th>\n",
              "      <th>response</th>\n",
              "    </tr>\n",
              "  </thead>\n",
              "  <tbody>\n",
              "    <tr>\n",
              "      <th>3995</th>\n",
              "      <td>29</td>\n",
              "      <td>22</td>\n",
              "      <td>1663</td>\n",
              "      <td>1382</td>\n",
              "      <td>1261</td>\n",
              "      <td>60.888779</td>\n",
              "      <td>15.382944</td>\n",
              "      <td>0.317783</td>\n",
              "      <td>80.657693</td>\n",
              "      <td>1.344499</td>\n",
              "      <td>69.920620</td>\n",
              "      <td>1</td>\n",
              "    </tr>\n",
              "    <tr>\n",
              "      <th>3996</th>\n",
              "      <td>47</td>\n",
              "      <td>12</td>\n",
              "      <td>599</td>\n",
              "      <td>1392</td>\n",
              "      <td>1129</td>\n",
              "      <td>51.005994</td>\n",
              "      <td>21.312641</td>\n",
              "      <td>0.265243</td>\n",
              "      <td>48.772437</td>\n",
              "      <td>1.017283</td>\n",
              "      <td>76.334177</td>\n",
              "      <td>0</td>\n",
              "    </tr>\n",
              "    <tr>\n",
              "      <th>3997</th>\n",
              "      <td>1</td>\n",
              "      <td>23</td>\n",
              "      <td>1789</td>\n",
              "      <td>1390</td>\n",
              "      <td>1152</td>\n",
              "      <td>80.105392</td>\n",
              "      <td>24.311495</td>\n",
              "      <td>0.235976</td>\n",
              "      <td>105.040792</td>\n",
              "      <td>1.680195</td>\n",
              "      <td>55.905254</td>\n",
              "      <td>0</td>\n",
              "    </tr>\n",
              "    <tr>\n",
              "      <th>3998</th>\n",
              "      <td>13</td>\n",
              "      <td>11</td>\n",
              "      <td>375</td>\n",
              "      <td>1385</td>\n",
              "      <td>1199</td>\n",
              "      <td>76.048731</td>\n",
              "      <td>19.755628</td>\n",
              "      <td>0.264218</td>\n",
              "      <td>45.752929</td>\n",
              "      <td>1.087693</td>\n",
              "      <td>117.199227</td>\n",
              "      <td>0</td>\n",
              "    </tr>\n",
              "    <tr>\n",
              "      <th>3999</th>\n",
              "      <td>51</td>\n",
              "      <td>11</td>\n",
              "      <td>490</td>\n",
              "      <td>1242</td>\n",
              "      <td>1293</td>\n",
              "      <td>73.728424</td>\n",
              "      <td>20.351191</td>\n",
              "      <td>0.302634</td>\n",
              "      <td>88.041403</td>\n",
              "      <td>1.162441</td>\n",
              "      <td>80.329692</td>\n",
              "      <td>0</td>\n",
              "    </tr>\n",
              "  </tbody>\n",
              "</table>\n",
              "</div>\n",
              "      <button class=\"colab-df-convert\" onclick=\"convertToInteractive('df-569ed8bc-30c7-4fc7-ad7a-0a7b1e3d3c7a')\"\n",
              "              title=\"Convert this dataframe to an interactive table.\"\n",
              "              style=\"display:none;\">\n",
              "        \n",
              "  <svg xmlns=\"http://www.w3.org/2000/svg\" height=\"24px\"viewBox=\"0 0 24 24\"\n",
              "       width=\"24px\">\n",
              "    <path d=\"M0 0h24v24H0V0z\" fill=\"none\"/>\n",
              "    <path d=\"M18.56 5.44l.94 2.06.94-2.06 2.06-.94-2.06-.94-.94-2.06-.94 2.06-2.06.94zm-11 1L8.5 8.5l.94-2.06 2.06-.94-2.06-.94L8.5 2.5l-.94 2.06-2.06.94zm10 10l.94 2.06.94-2.06 2.06-.94-2.06-.94-.94-2.06-.94 2.06-2.06.94z\"/><path d=\"M17.41 7.96l-1.37-1.37c-.4-.4-.92-.59-1.43-.59-.52 0-1.04.2-1.43.59L10.3 9.45l-7.72 7.72c-.78.78-.78 2.05 0 2.83L4 21.41c.39.39.9.59 1.41.59.51 0 1.02-.2 1.41-.59l7.78-7.78 2.81-2.81c.8-.78.8-2.07 0-2.86zM5.41 20L4 18.59l7.72-7.72 1.47 1.35L5.41 20z\"/>\n",
              "  </svg>\n",
              "      </button>\n",
              "      \n",
              "  <style>\n",
              "    .colab-df-container {\n",
              "      display:flex;\n",
              "      flex-wrap:wrap;\n",
              "      gap: 12px;\n",
              "    }\n",
              "\n",
              "    .colab-df-convert {\n",
              "      background-color: #E8F0FE;\n",
              "      border: none;\n",
              "      border-radius: 50%;\n",
              "      cursor: pointer;\n",
              "      display: none;\n",
              "      fill: #1967D2;\n",
              "      height: 32px;\n",
              "      padding: 0 0 0 0;\n",
              "      width: 32px;\n",
              "    }\n",
              "\n",
              "    .colab-df-convert:hover {\n",
              "      background-color: #E2EBFA;\n",
              "      box-shadow: 0px 1px 2px rgba(60, 64, 67, 0.3), 0px 1px 3px 1px rgba(60, 64, 67, 0.15);\n",
              "      fill: #174EA6;\n",
              "    }\n",
              "\n",
              "    [theme=dark] .colab-df-convert {\n",
              "      background-color: #3B4455;\n",
              "      fill: #D2E3FC;\n",
              "    }\n",
              "\n",
              "    [theme=dark] .colab-df-convert:hover {\n",
              "      background-color: #434B5C;\n",
              "      box-shadow: 0px 1px 3px 1px rgba(0, 0, 0, 0.15);\n",
              "      filter: drop-shadow(0px 1px 2px rgba(0, 0, 0, 0.3));\n",
              "      fill: #FFFFFF;\n",
              "    }\n",
              "  </style>\n",
              "\n",
              "      <script>\n",
              "        const buttonEl =\n",
              "          document.querySelector('#df-569ed8bc-30c7-4fc7-ad7a-0a7b1e3d3c7a button.colab-df-convert');\n",
              "        buttonEl.style.display =\n",
              "          google.colab.kernel.accessAllowed ? 'block' : 'none';\n",
              "\n",
              "        async function convertToInteractive(key) {\n",
              "          const element = document.querySelector('#df-569ed8bc-30c7-4fc7-ad7a-0a7b1e3d3c7a');\n",
              "          const dataTable =\n",
              "            await google.colab.kernel.invokeFunction('convertToInteractive',\n",
              "                                                     [key], {});\n",
              "          if (!dataTable) return;\n",
              "\n",
              "          const docLinkHtml = 'Like what you see? Visit the ' +\n",
              "            '<a target=\"_blank\" href=https://colab.research.google.com/notebooks/data_table.ipynb>data table notebook</a>'\n",
              "            + ' to learn more about interactive tables.';\n",
              "          element.innerHTML = '';\n",
              "          dataTable['output_type'] = 'display_data';\n",
              "          await google.colab.output.renderOutput(dataTable, element);\n",
              "          const docLink = document.createElement('div');\n",
              "          docLink.innerHTML = docLinkHtml;\n",
              "          element.appendChild(docLink);\n",
              "        }\n",
              "      </script>\n",
              "    </div>\n",
              "  </div>\n",
              "  "
            ]
          },
          "metadata": {},
          "execution_count": 2
        }
      ],
      "source": [
        "from sdv.tabular import CTGAN\n",
        "\n",
        "#สร้างโมเดล CTGAN เพื่อเรียนรู้จากข้อมูล\n",
        "model = CTGAN()\n",
        "model.fit(train_data)\n",
        "\n",
        "#สร้างชุดข้อมูลใหม่มา 4000 ตัวอย่าง (เดิม training set มี 4,130 ตัวอย่าง)\n",
        "new_train_data = model.sample(4000)\n",
        "new_train_data.tail()"
      ]
    },
    {
      "cell_type": "code",
      "execution_count": 3,
      "metadata": {
        "colab": {
          "base_uri": "https://localhost:8080/"
        },
        "id": "hTm4wjcroTeF",
        "outputId": "3867e9aa-adaf-4957-a223-c0057923b788"
      },
      "outputs": [
        {
          "output_type": "stream",
          "name": "stderr",
          "text": [
            "/usr/local/lib/python3.7/dist-packages/sdmetrics/column_pairs/statistical/kl_divergence.py:51: SettingWithCopyWarning: \n",
            "A value is trying to be set on a copy of a slice from a DataFrame.\n",
            "Try using .loc[row_indexer,col_indexer] = value instead\n",
            "\n",
            "See the caveats in the documentation: https://pandas.pydata.org/pandas-docs/stable/user_guide/indexing.html#returning-a-view-versus-a-copy\n",
            "  real_data[pd.isna(real_data)] = 0.0\n",
            "/usr/local/lib/python3.7/dist-packages/pandas/core/frame.py:3718: SettingWithCopyWarning: \n",
            "A value is trying to be set on a copy of a slice from a DataFrame\n",
            "\n",
            "See the caveats in the documentation: https://pandas.pydata.org/pandas-docs/stable/user_guide/indexing.html#returning-a-view-versus-a-copy\n",
            "  self._where(-key, value, inplace=True)\n",
            "/usr/local/lib/python3.7/dist-packages/sdmetrics/column_pairs/statistical/kl_divergence.py:52: SettingWithCopyWarning: \n",
            "A value is trying to be set on a copy of a slice from a DataFrame.\n",
            "Try using .loc[row_indexer,col_indexer] = value instead\n",
            "\n",
            "See the caveats in the documentation: https://pandas.pydata.org/pandas-docs/stable/user_guide/indexing.html#returning-a-view-versus-a-copy\n",
            "  synthetic_data[pd.isna(synthetic_data)] = 0.0\n"
          ]
        },
        {
          "output_type": "execute_result",
          "data": {
            "text/plain": [
              "0.4485616384485334"
            ]
          },
          "metadata": {},
          "execution_count": 3
        }
      ],
      "source": [
        "#ประเมินว่าสร้างข้อมูลปลอมได้ดีแค่ไหน; ค่ายิ่งสูงยิ่งดี\n",
        "from sdv.evaluation import evaluate\n",
        "\n",
        "evaluate(train_data, new_train_data)"
      ]
    },
    {
      "cell_type": "code",
      "execution_count": 4,
      "metadata": {
        "id": "CWm-qUpdjrOY"
      },
      "outputs": [],
      "source": [
        "#สร้าง X_train_new และ y_train_new ด้วยการเพิ่มข้อมูลปลอมเข้าไป\n",
        "X_train_new = pd.concat([X_train,new_train_data.drop(columns='response')])\n",
        "y_train_new = pd.concat([y_train,new_train_data.response])"
      ]
    },
    {
      "cell_type": "code",
      "execution_count": 5,
      "metadata": {
        "id": "rp4w4klIhBEn"
      },
      "outputs": [],
      "source": [
        "#สร้างโมเดลต้นไม้ด้วย xgboost (gradient boosted trees)\n",
        "import xgboost as xgb\n",
        "\n",
        "#เทรนด้วยข้อมูลจริง\n",
        "xgb_params = {'objective': 'binary:logistic', \n",
        "              'random_state': 1024,\n",
        "              'eval_metric': 'auc',\n",
        "              'early_stopping_rounds': 10,\n",
        "              'scale_pos_weight' : (len(y_train) - sum(y_train)) / sum(y_train),\n",
        "              'max_depth': 3, \n",
        "              'booster':'gbtree',\n",
        "              }\n",
        "\n",
        "model = xgb.XGBClassifier(**xgb_params)\n",
        "model = model.fit(X_train, \n",
        "                  y_train, \n",
        "                  eval_set=[(X_val,y_val)],\n",
        "                  verbose=False)\n",
        "\n",
        "#เทรนด้วยข้อมูลจริง + ข้อมูลปลอม\n",
        "xgb_params_new = {'objective': 'binary:logistic', \n",
        "              'random_state': 1024,\n",
        "              'eval_metric': 'auc',\n",
        "              'early_stopping_rounds': 10,\n",
        "              'scale_pos_weight' : (len(y_train_new) - sum(y_train_new)) / sum(y_train_new),\n",
        "              'max_depth': 3, \n",
        "              'booster':'gbtree',\n",
        "              }\n",
        "\n",
        "model_new = xgb.XGBClassifier(**xgb_params_new)\n",
        "model_new = model_new.fit(X_train_new, \n",
        "                  y_train_new,\n",
        "                  eval_set=[(X_val,y_val)],\n",
        "                  verbose=False)"
      ]
    },
    {
      "cell_type": "markdown",
      "metadata": {
        "id": "YatXu2yZqSi6"
      },
      "source": [
        "จะเห็นได้ว่าเมื่อเพิ่มข้อมูลปลอมเข้าไปแล้ว micro-averaged F1 และ accuracy ดีขึ้น แต่ AUC แย่ลง เพราะฉะนั้นการที่เราจะเพิ่มข้อมูลปลอมเข้าไปเทรนจำเป็นต้องคำนึงถึงว่าเราต้องการวัดผลของโมเดลด้วย metric ใด"
      ]
    },
    {
      "cell_type": "code",
      "execution_count": 6,
      "metadata": {
        "colab": {
          "base_uri": "https://localhost:8080/"
        },
        "id": "DSghpFORhG2w",
        "outputId": "1d5f07f9-9a92-4476-b197-bfd42d4411bd"
      },
      "outputs": [
        {
          "output_type": "stream",
          "name": "stdout",
          "text": [
            "AUC: 0.7718458060027827\n",
            "              precision    recall  f1-score   support\n",
            "\n",
            "           0       0.95      0.71      0.81      1248\n",
            "           1       0.19      0.66      0.29       129\n",
            "\n",
            "    accuracy                           0.70      1377\n",
            "   macro avg       0.57      0.68      0.55      1377\n",
            "weighted avg       0.88      0.70      0.76      1377\n",
            "\n"
          ]
        }
      ],
      "source": [
        "#รายงานผลโมเดลเทรนบนข้อมูลจริง\n",
        "print(f'AUC: {roc_auc_score(y_test, model.predict_proba(X_test)[:,1])}')\n",
        "print(classification_report(y_test,model.predict_proba(X_test)[:,1].round()))"
      ]
    },
    {
      "cell_type": "code",
      "execution_count": 7,
      "metadata": {
        "colab": {
          "base_uri": "https://localhost:8080/"
        },
        "id": "VINSp5uOhG4r",
        "outputId": "36b232eb-c29e-4d12-e139-55ceb26b04ac"
      },
      "outputs": [
        {
          "output_type": "stream",
          "name": "stdout",
          "text": [
            "AUC: 0.733940195786126\n",
            "              precision    recall  f1-score   support\n",
            "\n",
            "           0       0.94      0.74      0.83      1248\n",
            "           1       0.19      0.57      0.28       129\n",
            "\n",
            "    accuracy                           0.73      1377\n",
            "   macro avg       0.56      0.65      0.56      1377\n",
            "weighted avg       0.87      0.73      0.78      1377\n",
            "\n"
          ]
        }
      ],
      "source": [
        "#รายงานผลโมเดลเทรนบนข้อมูลจริง+ข้อมูลปลอม\n",
        "print(f'AUC: {roc_auc_score(y_test, model_new.predict_proba(X_test)[:,1])}')\n",
        "print(classification_report(y_test,model_new.predict_proba(X_test)[:,1].round()))"
      ]
    },
    {
      "cell_type": "markdown",
      "metadata": {
        "id": "jrjCnNwOS3eE"
      },
      "source": [
        "### สร้าง Texts จาก ML Models"
      ]
    },
    {
      "cell_type": "markdown",
      "metadata": {
        "id": "dpc7DeuNERKD"
      },
      "source": [
        "สำหรับโมเดล NLP นั้นโชคดีที่ในอินเตอร์เน็ตมีข้อความมากมายให้นักวิจัยสามารถเทรนโมเดลขนาดใหญ่ได้ฟรี เราจึงมีโมเดลที่สามารถสร้างข้อความในแบบที่เราต้องการให้เลือกใช้ได้อย่างหลากหลายใน [HuggingFace Hub](https://huggingface.co/models)\n",
        "\n",
        "เทคนิคการสร้างข้อความปลอมเพื่อมาเทรนโมเดลนี้เคยถูกใช้สำหรับเทรน[โมเดลแปลภาษาไทย-อังกฤษของ VISTEC](https://airesearch.in.th/releases/machine-translation-models/) ที่สามารถทำผลงานได้ดีที่สุด ณ วันตีพิมพ์ (หาอ่านงานวิจัยได้ที่ [scb-mt-en-th-2020: A Large English-Thai Parallel Corpus](https://arxiv.org/abs/2007.03541)) โดยเราใช้โมเดล [CTRL](https://github.com/salesforce/ctrl) สร้างข้อความรีวิวสินค้าระหว่าง 1-5 ดาวเป็นภาษาอังกฤษออกมาเพื่อให้นักแปลนำไปแปลเพื่อสร้างคู่ประโยคสำหรับเทรนโมเดลอีกที (ดูรายละเอียดได้ที่ [vistec-ai/fake_reviews](https://github.com/vistec-AI/fake_reviews))\n",
        "\n",
        "แน่นอนว่าทุกวันนี้มีโมเดลที่สามารถสร้างข้อความได้แทบทุกรูปแบบ เราจะยกตัวอย่างโมเดล [GPT](https://arxiv.org/abs/2005.14165) สำหรับการสร้างรีวิวสินค้า 1 ดาวและ 5 ดาว"
      ]
    },
    {
      "cell_type": "code",
      "execution_count": null,
      "metadata": {
        "id": "K0BH4yaWLrjw"
      },
      "outputs": [],
      "source": [
        "from transformers import pipeline\n",
        "import pprint\n",
        "\n",
        "#โหลด generator สำหรับรีวิว 1 ดาว\n",
        "generator1 = pipeline(\n",
        "    \"text-generation\",\n",
        "    model=\"ehdwns1516/gpt2_review_star1\",\n",
        ")"
      ]
    },
    {
      "cell_type": "code",
      "execution_count": null,
      "metadata": {
        "id": "I-seJg3YNXCg"
      },
      "outputs": [],
      "source": [
        "context = '<|endoftext|>' #โมเดลต้องการ token พิเศษนี้นำหน้าเพื่อสร้างข้อความ\n",
        "pprint.pprint([i['generated_text'] for i in generator1(context, \n",
        "                                                      max_length = 60, #ให้แต่ละประโยคมีความยาว 60 token\n",
        "                                                      num_return_sequences=3 #สร้างมา 3 ประโยค\n",
        "                                                       )])"
      ]
    },
    {
      "cell_type": "code",
      "execution_count": null,
      "metadata": {
        "id": "6Qu5cZTHODp8"
      },
      "outputs": [],
      "source": [
        "#โหลด generator สำหรับรีวิว 1 ดาว\n",
        "generator5 = pipeline(\n",
        "    \"text-generation\",\n",
        "    model=\"ehdwns1516/gpt2_review_star5\",\n",
        ")"
      ]
    },
    {
      "cell_type": "code",
      "execution_count": null,
      "metadata": {
        "id": "4Q3YGoP6OJrm"
      },
      "outputs": [],
      "source": [
        "context = '<|endoftext|>' #โมเดลต้องการ token พิเศษนี้นำหน้าเพื่อสร้างข้อความ\n",
        "pprint.pprint([i['generated_text'] for i in generator5(context, \n",
        "                                                      max_length = 60, #ให้แต่ละประโยคมีความยาว 60 token\n",
        "                                                      num_return_sequences=3 #สร้างมา 3 ประโยค\n",
        "                                                       )])"
      ]
    },
    {
      "cell_type": "markdown",
      "metadata": {
        "id": "wXOSHy3PSy3x"
      },
      "source": [
        "### แปลชุดข้อมูลภาษาหลัก"
      ]
    },
    {
      "cell_type": "markdown",
      "metadata": {
        "id": "7Ns_0_dCstuV"
      },
      "source": [
        "อีกทางหนึ่งสำหรับการหาข้อมูลข้อความ โดยเฉพาะเป็นภาษาไทย คือคุณสามารถหาชุดข้อมูลภาษาหลัก เช่น อังกฤษหรือจีน มาแปลเป็นไทยได้ด้วยโมเดล open source เช่น `pythainlp.translate`"
      ]
    },
    {
      "cell_type": "code",
      "source": [
        "!pip install -q torch==1.8.0 #downgrade torch สำหรับแปลไทย-จีน\n",
        "\n",
        "#reset runtime เพื่อให้แน่ใจว่า package ต่างๆใช้งานได้\n",
        "exit()"
      ],
      "metadata": {
        "id": "cNbNzNoP2AO0"
      },
      "execution_count": null,
      "outputs": []
    },
    {
      "cell_type": "code",
      "execution_count": null,
      "metadata": {
        "id": "wQYf6HZYQxN7"
      },
      "outputs": [],
      "source": [
        "from pythainlp.translate import Translate\n",
        "import warnings\n",
        "warnings.filterwarnings('ignore')\n",
        "\n",
        "th2en = Translate('th', 'en')\n",
        "en2th = Translate('en', 'th')\n",
        "\n",
        "th2zh = Translate('th', 'zh')\n",
        "zh2th = Translate('zh', 'th')"
      ]
    },
    {
      "cell_type": "code",
      "execution_count": null,
      "metadata": {
        "id": "pTEnRsDuRoif"
      },
      "outputs": [],
      "source": [
        "th2en.translate(['ฉันชอบกินพิซซ่า', 'เธอไม่อยากเล่นฟุตบอล'])"
      ]
    },
    {
      "cell_type": "code",
      "execution_count": null,
      "metadata": {
        "id": "0o64mn058dwD"
      },
      "outputs": [],
      "source": [
        "en2th.translate(['I like pizza.', \"She doesn't want to play football.\"])"
      ]
    },
    {
      "cell_type": "code",
      "execution_count": null,
      "metadata": {
        "id": "EOO4rjLuTKAU"
      },
      "outputs": [],
      "source": [
        "[th2zh.translate(i) for i in ['ฉันชอบกินพิซซ่า', 'เธอไม่อยากเล่นฟุตบอล']]"
      ]
    },
    {
      "cell_type": "code",
      "execution_count": null,
      "metadata": {
        "id": "jRwPiMv08sww"
      },
      "outputs": [],
      "source": [
        "[zh2th.translate(i) for i in ['我喜欢吃披萨。', '她不想踢足球。']]"
      ]
    },
    {
      "cell_type": "markdown",
      "metadata": {
        "id": "BY5sEv0cq2IJ"
      },
      "source": [
        "### สร้าง Images จาก ML Models\n",
        "\n",
        "เช่นเดียวกับข้อมูลข้อความ โมเดลขนาดใหญ่ที่ถูกเทรนด้วยรูปภาพมหาศาลก็สามารถสร้างรูปภาพปลอมเพื่อให้คุณไปเทรนโมเดลได้เช่นกัน เช่น [DALL-E Mini](https://github.com/borisdayma/dalle-mini) ที่เป็นโมเดล open source สร้างเลียนแบบโมเดล [DALL-E](https://openai.com/blog/dall-e/) ของ [OpenAI](https://openai.com/)\n",
        "\n",
        "วิธีการสร้างรูปภาพค่อนข้างซับซ้อนและกินเวลานาน แนะนำให้ไปลองเล่นกันที่ [demo](https://huggingface.co/spaces/flax-community/dalle-mini) หรือดูรายละเอียดที่ [github repository](https://github.com/borisdayma/dalle-mini)\n",
        "\n",
        "<img src=https://github.com/ai-builders/curriculum/raw/main/images/dalle_e_toast.png width=\"700px\">\n"
      ]
    },
    {
      "cell_type": "markdown",
      "source": [
        "อีกตัวอย่างใกล้ตัวคือการใช้ Generative Adversarial Networks (GAN) เรียนรู้จากรูปที่เรามีอยู่เพื่อสร้างตัวอย่างเพิ่มขึ้น เช่น การสร้าง Anime faces จากรูปที่มีอยู่โดย [@konkuad](https://github.com/konkuad) ใน [konkuad/GANime](https://github.com/konkuad/GANime)"
      ],
      "metadata": {
        "id": "d-7BZmoOwJt1"
      }
    },
    {
      "cell_type": "code",
      "source": [
        "!rm -r GANime\n",
        "!git clone https://github.com/konkuad/GANime\n",
        "!cd GANime; pip install ."
      ],
      "metadata": {
        "id": "WsOnvu9AvsmB"
      },
      "execution_count": null,
      "outputs": []
    },
    {
      "cell_type": "code",
      "source": [
        "import torch\n",
        "from GANime.gan import GAN\n",
        "\n",
        "#initialize new model with random weights\n",
        "seed_size=128\n",
        "new_gan_model = GAN(seed_size)\n",
        "#load model trained for 100 epochs\n",
        "new_gan_model.gen.load_state_dict(torch.load('GANime/example_models/gen.pt'))\n",
        "new_gan_model.dis.load_state_dict(torch.load('GANime/example_models/dis.pt'))\n",
        "#infer generation\n",
        "generated_images = new_gan_model.generate(num_rows=8,\n",
        "               num_cols=8,\n",
        "               plot=True,\n",
        "               device='cpu',\n",
        "               return_noise=False\n",
        "              )"
      ],
      "metadata": {
        "id": "tDTgteRNv1g0"
      },
      "execution_count": null,
      "outputs": []
    },
    {
      "cell_type": "markdown",
      "metadata": {
        "id": "lSd7_36FpQxC"
      },
      "source": [
        "# Checkpoint ท้ายบท"
      ]
    },
    {
      "cell_type": "markdown",
      "metadata": {
        "id": "nlbWhnAVGpOz"
      },
      "source": [
        "## คำถามชวนคิดเกี่ยวกับบทเรียน"
      ]
    },
    {
      "cell_type": "markdown",
      "metadata": {
        "id": "gmoDJh8TGqB3"
      },
      "source": [
        "1. คุณคิดว่าปัญหาที่คุณกำลังจะแก้ด้วย ML นั้นปริมาณและคุณภาพของข้อมูลที่ใช้เทรน (Data-Centric AI) หรือประสิทธิภาพของโมเดล (Model-Centric AI) สำคัญกว่ากัน เพราะอะไร\n",
        "\n",
        "2. คุณคิดว่า open data และ open source มีข้อดี-ข้อเสียอย่างไรต่อ 1) ผู้สร้างผลงาน 2) ผู้นำผลงานไปใช้ 3) ชุมชน 4) สังคมโดยรวม\n",
        "\n",
        "3. คุณคิดว่าการใช้ข้อมูลสาธารณะจากเว็บไซต์ต่างๆมาเทรนโมเดลมีข้อควรระวังอะไรบ้าง\n",
        "\n",
        "4. การเทรนโมเดลด้วยข้อมูลที่สร้างขึ้นมาจากอีกโมเดลหนึ่ง (\"ข้อมูลปลอม\") นั้นมีข้อดี-ข้อเสียอย่างไรบ้าง"
      ]
    },
    {
      "cell_type": "markdown",
      "metadata": {
        "id": "fzKovFviehas"
      },
      "source": [
        "## สิ่งที่ควรเตรียมพร้อมสำหรับทำโครงงาน"
      ]
    },
    {
      "cell_type": "markdown",
      "metadata": {
        "id": "sQC0Vmqfh7Dn"
      },
      "source": [
        "### ☑️ ทบทวนระบบการให้คะแนนโครงงานให้เรียบร้อย\n",
        "\n",
        "AI Builders จะออกใบประกาศนียบัตรจบการศึกษาให้กับผู้เข้าร่วมโครงการที่ส่งโครงงานได้คะแนนอย่างน้อย 70 จาก 100 คะแนนตามเกณฑ์ต่อไปนี้เท่านั้น\n",
        "\n",
        "1. problem statement; เหตุผลในการแก้ปัญหาเชิงธุรกิจ/ชีวิตประจำวันด้วย machine learning - 15 คะแนน\n",
        "2. metrics and baselines; การให้เหตุผลเชื่อมโยงการแก้ปัญหากับตัวชี้วัดที่เลือก / การวัดผลเทียบกับวิธีแก้ปัญหาในปัจจุบัน - 15 คะแนน\n",
        "\n",
        "**วันนี้เราจะคิดถึง 2 ข้อนี้เป็นพิเศษ**\n",
        "\n",
        "**3. data collection and cleaning; การเก็บและทำความสะอาดข้อมูล - 15 คะแนน**\n",
        "\n",
        "\n",
        "**4. exploratory data analysis; การทำความเข้าใจข้อมูล - 20 คะแนน**\n",
        "\n",
        "\n",
        "5. modeling, validation and error analysis; การทำโมเดล, ทดสอบโมเดล และวิเคราะห์ข้อผิดพลาดของโมเดล - 20 คะแนน\n",
        "6. deployment; การนำโมเดลไปใช้แก้ปัญหาจริง - 15 คะแนน"
      ]
    },
    {
      "cell_type": "markdown",
      "metadata": {
        "id": "jQfkgDraIzfq"
      },
      "source": [
        "### ☑️ หาข้อมูลมาจากไหนดี\n",
        "\n",
        "จากแหล่งข้อมูลทั้งหมดที่กล่าวมาในบทเรียนนี้ คุณคิดว่าจะหาชุดข้อมูลจากไหนมาเทรนโมเดล"
      ]
    },
    {
      "cell_type": "markdown",
      "metadata": {
        "id": "CooO6inerF5a"
      },
      "source": [
        "### ☑️ คุณภาพของข้อมูล Labels และ Inputs\n",
        "\n",
        "ข้อมูลที่คุณได้มาจากอินเตอร์เน็ตไม่ว่าจะดาวน์โหลดชุดข้อมูลของคนอื่น, scrape เว็บไซต์, ใช้โมเดลคนอื่นสร้างขึ้นมา คุณต้องทำให้แน่ใจว่าคุณภาพมันพร้อมใช้งานทั้ง Labels และ Inputs เช่น ถ้าอยากทำโมเดลแปลภาษาไทย-จีนก็ต้องทำให้แน่ใจว่าคู่ประโยคที่เราหามามันแปลตรงกันจริงๆ เป็นต้น"
      ]
    },
    {
      "cell_type": "markdown",
      "metadata": {
        "id": "KsCHkJExek5w"
      },
      "source": [
        "### ☑️ Train-validation-test Splits สมเหตุสมผลไหม\n",
        "\n",
        "ใช้สามัญสำนึกและตรรกะในการแบ่งข้อมูลเป็น train, validation, test sets ทำให้มั่นใจว่าไม่มีตัวอย่างเดียวกันหลุดไปใน set อื่น เช่น \n",
        "\n",
        "* ในการทำ face recognition ไม่ควรมีรูปคนๆเดียวกันในมากกว่า 1 set\n",
        "\n",
        "* หากทำ time series forecasting เรียงข้อมูลจากเก่าสุดไปใหม่สุดใน `train`, `validation` และ `test` เพื่อไม่ให้โมเดลเห็นข้อมูลจากอนาคต\n",
        "\n",
        "* หากทำ product recommendation ไม่ควรมีข้อมูลของลูกค้าคนเดียวกันในมากกว่า 1 set เพราะจะทำให้เราเดาว่าเขาเป็นลูกค้าประเภทไหนได้ด้วยข้อมูลที่ไม่ควรเห็น ฯลฯ \n",
        "\n",
        "ทั้งนี้ขึ้นอยู่กับวิจารณญาณของผู้สร้างโมเดล เรียนรู้เพิ่มเติมเกี่ยวกับการ split ข้อมูลได้จาก เรียนรู้เพิ่มเติมเกี่ยวกับ metric ได้จาก [DS&AI Academy](https://www.youtube.com/playlist?list=PL1kutgc5YvC841TmatsLuj4sDKkwj95Dz)"
      ]
    }
  ],
  "metadata": {
    "accelerator": "GPU",
    "colab": {
      "collapsed_sections": [],
      "name": "02_fantastic_datasets.ipynb",
      "provenance": []
    },
    "kernelspec": {
      "display_name": "Python 3",
      "name": "python3"
    },
    "language_info": {
      "name": "python"
    },
    "widgets": {
      "application/vnd.jupyter.widget-state+json": {
        "8b9431a0496b4e2e99d6828cbbd383d5": {
          "model_module": "@jupyter-widgets/controls",
          "model_name": "HBoxModel",
          "model_module_version": "1.5.0",
          "state": {
            "_dom_classes": [],
            "_model_module": "@jupyter-widgets/controls",
            "_model_module_version": "1.5.0",
            "_model_name": "HBoxModel",
            "_view_count": null,
            "_view_module": "@jupyter-widgets/controls",
            "_view_module_version": "1.5.0",
            "_view_name": "HBoxView",
            "box_style": "",
            "children": [
              "IPY_MODEL_32cd964512824d7296be1ee145acaee5",
              "IPY_MODEL_7c972004e19a4b4d97e5424bdc2024f1",
              "IPY_MODEL_9df8ac08c66a44d08e56fb666c51ce87"
            ],
            "layout": "IPY_MODEL_2162941054fb42a5a7fdfe03a37cfe4a"
          }
        },
        "32cd964512824d7296be1ee145acaee5": {
          "model_module": "@jupyter-widgets/controls",
          "model_name": "HTMLModel",
          "model_module_version": "1.5.0",
          "state": {
            "_dom_classes": [],
            "_model_module": "@jupyter-widgets/controls",
            "_model_module_version": "1.5.0",
            "_model_name": "HTMLModel",
            "_view_count": null,
            "_view_module": "@jupyter-widgets/controls",
            "_view_module_version": "1.5.0",
            "_view_name": "HTMLView",
            "description": "",
            "description_tooltip": null,
            "layout": "IPY_MODEL_15c409c9b0dd4a6fae447492595a5b89",
            "placeholder": "​",
            "style": "IPY_MODEL_34550dd723b1428d95a901f5fbf30680",
            "value": "100%"
          }
        },
        "7c972004e19a4b4d97e5424bdc2024f1": {
          "model_module": "@jupyter-widgets/controls",
          "model_name": "FloatProgressModel",
          "model_module_version": "1.5.0",
          "state": {
            "_dom_classes": [],
            "_model_module": "@jupyter-widgets/controls",
            "_model_module_version": "1.5.0",
            "_model_name": "FloatProgressModel",
            "_view_count": null,
            "_view_module": "@jupyter-widgets/controls",
            "_view_module_version": "1.5.0",
            "_view_name": "ProgressView",
            "bar_style": "success",
            "description": "",
            "description_tooltip": null,
            "layout": "IPY_MODEL_fc8939c1b7374f4997cfe79595aac46a",
            "max": 2,
            "min": 0,
            "orientation": "horizontal",
            "style": "IPY_MODEL_b443b1344073480b8a77e77323174bec",
            "value": 2
          }
        },
        "9df8ac08c66a44d08e56fb666c51ce87": {
          "model_module": "@jupyter-widgets/controls",
          "model_name": "HTMLModel",
          "model_module_version": "1.5.0",
          "state": {
            "_dom_classes": [],
            "_model_module": "@jupyter-widgets/controls",
            "_model_module_version": "1.5.0",
            "_model_name": "HTMLModel",
            "_view_count": null,
            "_view_module": "@jupyter-widgets/controls",
            "_view_module_version": "1.5.0",
            "_view_name": "HTMLView",
            "description": "",
            "description_tooltip": null,
            "layout": "IPY_MODEL_9dce7ab3ee3643eeac9a1125d799e6b4",
            "placeholder": "​",
            "style": "IPY_MODEL_05a9447bb5374cc59e1dc6ba0c620952",
            "value": " 2/2 [00:26&lt;00:00, 13.02s/it]"
          }
        },
        "2162941054fb42a5a7fdfe03a37cfe4a": {
          "model_module": "@jupyter-widgets/base",
          "model_name": "LayoutModel",
          "model_module_version": "1.2.0",
          "state": {
            "_model_module": "@jupyter-widgets/base",
            "_model_module_version": "1.2.0",
            "_model_name": "LayoutModel",
            "_view_count": null,
            "_view_module": "@jupyter-widgets/base",
            "_view_module_version": "1.2.0",
            "_view_name": "LayoutView",
            "align_content": null,
            "align_items": null,
            "align_self": null,
            "border": null,
            "bottom": null,
            "display": null,
            "flex": null,
            "flex_flow": null,
            "grid_area": null,
            "grid_auto_columns": null,
            "grid_auto_flow": null,
            "grid_auto_rows": null,
            "grid_column": null,
            "grid_gap": null,
            "grid_row": null,
            "grid_template_areas": null,
            "grid_template_columns": null,
            "grid_template_rows": null,
            "height": null,
            "justify_content": null,
            "justify_items": null,
            "left": null,
            "margin": null,
            "max_height": null,
            "max_width": null,
            "min_height": null,
            "min_width": null,
            "object_fit": null,
            "object_position": null,
            "order": null,
            "overflow": null,
            "overflow_x": null,
            "overflow_y": null,
            "padding": null,
            "right": null,
            "top": null,
            "visibility": null,
            "width": null
          }
        },
        "15c409c9b0dd4a6fae447492595a5b89": {
          "model_module": "@jupyter-widgets/base",
          "model_name": "LayoutModel",
          "model_module_version": "1.2.0",
          "state": {
            "_model_module": "@jupyter-widgets/base",
            "_model_module_version": "1.2.0",
            "_model_name": "LayoutModel",
            "_view_count": null,
            "_view_module": "@jupyter-widgets/base",
            "_view_module_version": "1.2.0",
            "_view_name": "LayoutView",
            "align_content": null,
            "align_items": null,
            "align_self": null,
            "border": null,
            "bottom": null,
            "display": null,
            "flex": null,
            "flex_flow": null,
            "grid_area": null,
            "grid_auto_columns": null,
            "grid_auto_flow": null,
            "grid_auto_rows": null,
            "grid_column": null,
            "grid_gap": null,
            "grid_row": null,
            "grid_template_areas": null,
            "grid_template_columns": null,
            "grid_template_rows": null,
            "height": null,
            "justify_content": null,
            "justify_items": null,
            "left": null,
            "margin": null,
            "max_height": null,
            "max_width": null,
            "min_height": null,
            "min_width": null,
            "object_fit": null,
            "object_position": null,
            "order": null,
            "overflow": null,
            "overflow_x": null,
            "overflow_y": null,
            "padding": null,
            "right": null,
            "top": null,
            "visibility": null,
            "width": null
          }
        },
        "34550dd723b1428d95a901f5fbf30680": {
          "model_module": "@jupyter-widgets/controls",
          "model_name": "DescriptionStyleModel",
          "model_module_version": "1.5.0",
          "state": {
            "_model_module": "@jupyter-widgets/controls",
            "_model_module_version": "1.5.0",
            "_model_name": "DescriptionStyleModel",
            "_view_count": null,
            "_view_module": "@jupyter-widgets/base",
            "_view_module_version": "1.2.0",
            "_view_name": "StyleView",
            "description_width": ""
          }
        },
        "fc8939c1b7374f4997cfe79595aac46a": {
          "model_module": "@jupyter-widgets/base",
          "model_name": "LayoutModel",
          "model_module_version": "1.2.0",
          "state": {
            "_model_module": "@jupyter-widgets/base",
            "_model_module_version": "1.2.0",
            "_model_name": "LayoutModel",
            "_view_count": null,
            "_view_module": "@jupyter-widgets/base",
            "_view_module_version": "1.2.0",
            "_view_name": "LayoutView",
            "align_content": null,
            "align_items": null,
            "align_self": null,
            "border": null,
            "bottom": null,
            "display": null,
            "flex": null,
            "flex_flow": null,
            "grid_area": null,
            "grid_auto_columns": null,
            "grid_auto_flow": null,
            "grid_auto_rows": null,
            "grid_column": null,
            "grid_gap": null,
            "grid_row": null,
            "grid_template_areas": null,
            "grid_template_columns": null,
            "grid_template_rows": null,
            "height": null,
            "justify_content": null,
            "justify_items": null,
            "left": null,
            "margin": null,
            "max_height": null,
            "max_width": null,
            "min_height": null,
            "min_width": null,
            "object_fit": null,
            "object_position": null,
            "order": null,
            "overflow": null,
            "overflow_x": null,
            "overflow_y": null,
            "padding": null,
            "right": null,
            "top": null,
            "visibility": null,
            "width": null
          }
        },
        "b443b1344073480b8a77e77323174bec": {
          "model_module": "@jupyter-widgets/controls",
          "model_name": "ProgressStyleModel",
          "model_module_version": "1.5.0",
          "state": {
            "_model_module": "@jupyter-widgets/controls",
            "_model_module_version": "1.5.0",
            "_model_name": "ProgressStyleModel",
            "_view_count": null,
            "_view_module": "@jupyter-widgets/base",
            "_view_module_version": "1.2.0",
            "_view_name": "StyleView",
            "bar_color": null,
            "description_width": ""
          }
        },
        "9dce7ab3ee3643eeac9a1125d799e6b4": {
          "model_module": "@jupyter-widgets/base",
          "model_name": "LayoutModel",
          "model_module_version": "1.2.0",
          "state": {
            "_model_module": "@jupyter-widgets/base",
            "_model_module_version": "1.2.0",
            "_model_name": "LayoutModel",
            "_view_count": null,
            "_view_module": "@jupyter-widgets/base",
            "_view_module_version": "1.2.0",
            "_view_name": "LayoutView",
            "align_content": null,
            "align_items": null,
            "align_self": null,
            "border": null,
            "bottom": null,
            "display": null,
            "flex": null,
            "flex_flow": null,
            "grid_area": null,
            "grid_auto_columns": null,
            "grid_auto_flow": null,
            "grid_auto_rows": null,
            "grid_column": null,
            "grid_gap": null,
            "grid_row": null,
            "grid_template_areas": null,
            "grid_template_columns": null,
            "grid_template_rows": null,
            "height": null,
            "justify_content": null,
            "justify_items": null,
            "left": null,
            "margin": null,
            "max_height": null,
            "max_width": null,
            "min_height": null,
            "min_width": null,
            "object_fit": null,
            "object_position": null,
            "order": null,
            "overflow": null,
            "overflow_x": null,
            "overflow_y": null,
            "padding": null,
            "right": null,
            "top": null,
            "visibility": null,
            "width": null
          }
        },
        "05a9447bb5374cc59e1dc6ba0c620952": {
          "model_module": "@jupyter-widgets/controls",
          "model_name": "DescriptionStyleModel",
          "model_module_version": "1.5.0",
          "state": {
            "_model_module": "@jupyter-widgets/controls",
            "_model_module_version": "1.5.0",
            "_model_name": "DescriptionStyleModel",
            "_view_count": null,
            "_view_module": "@jupyter-widgets/base",
            "_view_module_version": "1.2.0",
            "_view_name": "StyleView",
            "description_width": ""
          }
        }
      }
    }
  },
  "nbformat": 4,
  "nbformat_minor": 0
}