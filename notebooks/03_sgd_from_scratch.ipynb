{
 "cells": [
  {
   "cell_type": "markdown",
   "metadata": {
    "id": "D7ExutUSGoY-"
   },
   "source": [
    "# บทที่ 3 - Stochastic Gradient Descent ตั้งแต่เริ่มต้น"
   ]
  },
  {
   "cell_type": "markdown",
   "metadata": {},
   "source": [
    "[![Open In Colab](https://colab.research.google.com/assets/colab-badge.svg)](https://colab.research.google.com/github/ai-builders/curriculum/blob/main/notebooks/03_sgd_from_scratch.ipynb)"
   ]
  },
  {
   "cell_type": "markdown",
   "metadata": {
    "id": "jUUXviwGayJP"
   },
   "source": [
    "ในบทเรียนนี้ เราจะทำการสร้างวิธีที่โมเดลของเราเรียนรู้ในบทเรียนที่แล้วๆมา เรียกว่า stochastic gradient descent ขึ้นมาเองตั้งแต่ต้นโดยใช้เพียงแค่ Pytorch สำหรับ linear algebra และการทำ partial derivatives เท่านั้น ด้วยตัวอย่างการจำแนกรูปภาพตัวเลข 3 และ 7 ออกจากกัน\n",
    "\n",
    "บทเรียนแปล-สรุปมาจาก [04_mnist_basics.ipynb](https://github.com/fastai/fastbook/blob/master/04_mnist_basics.ipynb) ของ [fastai](https://course.fast.ai/) ผู้ที่สนใจสามารถไปติดตามบทเรียนต้นทางได้ที่ [course.fast.ai](https://course.fast.ai/)"
   ]
  },
  {
   "cell_type": "code",
   "execution_count": 3,
   "metadata": {
    "colab": {
     "base_uri": "https://localhost:8080/"
    },
    "id": "6IlUoU8YGlQ7",
    "outputId": "2aae9add-1fe0-40fe-ed88-c7b83114ce47"
   },
   "outputs": [
    {
     "name": "stdout",
     "output_type": "stream",
     "text": [
      "\u001b[K     |████████████████████████████████| 720 kB 26.4 MB/s \n",
      "\u001b[K     |████████████████████████████████| 48 kB 5.5 MB/s \n",
      "\u001b[K     |████████████████████████████████| 1.2 MB 46.0 MB/s \n",
      "\u001b[K     |████████████████████████████████| 189 kB 63.3 MB/s \n",
      "\u001b[K     |████████████████████████████████| 56 kB 5.0 MB/s \n",
      "\u001b[K     |████████████████████████████████| 51 kB 310 kB/s \n",
      "\u001b[K     |████████████████████████████████| 558 kB 63.9 MB/s \n",
      "\u001b[K     |████████████████████████████████| 130 kB 55.7 MB/s \n",
      "\u001b[?25h"
     ]
    }
   ],
   "source": [
    "#ติดตั้ง fastai\n",
    "!pip install -q fastbook\n",
    "import fastbook"
   ]
  },
  {
   "cell_type": "code",
   "execution_count": 4,
   "metadata": {
    "id": "-2VyXV7kpoju"
   },
   "outputs": [],
   "source": [
    "from fastai.vision.all import *\n",
    "from fastbook import *\n",
    "import torch\n",
    "\n",
    "matplotlib.rc('image', cmap='Greys')"
   ]
  },
  {
   "cell_type": "markdown",
   "metadata": {
    "id": "gBWvqPiOpoju"
   },
   "source": [
    "# เทรนโมเดลจำแนกรูปเลข 3 และเลข 7 จาก [ชุดข้อมูล MNIST](http://yann.lecun.com/exdb/mnist/)"
   ]
  },
  {
   "cell_type": "markdown",
   "metadata": {
    "id": "_5WWrXnD6Vpj"
   },
   "source": [
    "## โหลดข้อมูลรูปเลข 3 และเลข 7"
   ]
  },
  {
   "cell_type": "code",
   "execution_count": 5,
   "metadata": {
    "colab": {
     "base_uri": "https://localhost:8080/",
     "height": 37
    },
    "id": "wkh3fHu5pojw",
    "outputId": "d204e01b-6cb2-4ad4-f8de-119b5bcf34b4"
   },
   "outputs": [
    {
     "data": {
      "text/html": [
       "\n",
       "<style>\n",
       "    /* Turns off some styling */\n",
       "    progress {\n",
       "        /* gets rid of default border in Firefox and Opera. */\n",
       "        border: none;\n",
       "        /* Needs to be in here for Safari polyfill so background images work as expected. */\n",
       "        background-size: auto;\n",
       "    }\n",
       "    .progress-bar-interrupted, .progress-bar-interrupted::-webkit-progress-bar {\n",
       "        background: #F44336;\n",
       "    }\n",
       "</style>\n"
      ],
      "text/plain": [
       "<IPython.core.display.HTML object>"
      ]
     },
     "metadata": {},
     "output_type": "display_data"
    },
    {
     "data": {
      "text/html": [
       "\n",
       "    <div>\n",
       "      <progress value='3219456' class='' max='3214948' style='width:300px; height:20px; vertical-align: middle;'></progress>\n",
       "      100.14% [3219456/3214948 00:00<00:00]\n",
       "    </div>\n",
       "    "
      ],
      "text/plain": [
       "<IPython.core.display.HTML object>"
      ]
     },
     "metadata": {},
     "output_type": "display_data"
    }
   ],
   "source": [
    "path = untar_data(URLs.MNIST_SAMPLE)"
   ]
  },
  {
   "cell_type": "code",
   "execution_count": 6,
   "metadata": {
    "colab": {
     "base_uri": "https://localhost:8080/"
    },
    "id": "Z6OjxHEPpojw",
    "outputId": "d76dc5d8-0237-45e4-9ece-b94ee12f6bbc"
   },
   "outputs": [
    {
     "data": {
      "text/plain": [
       "(#3) [Path('/root/.fastai/data/mnist_sample/valid'),Path('/root/.fastai/data/mnist_sample/train'),Path('/root/.fastai/data/mnist_sample/labels.csv')]"
      ]
     },
     "execution_count": 6,
     "metadata": {},
     "output_type": "execute_result"
    }
   ],
   "source": [
    "#แบ่งเป็น train, validation, test \n",
    "path.ls()"
   ]
  },
  {
   "cell_type": "code",
   "execution_count": 7,
   "metadata": {
    "colab": {
     "base_uri": "https://localhost:8080/"
    },
    "id": "mMmCdDscpojw",
    "outputId": "68396480-226d-41b6-e0d0-81977e28ba38"
   },
   "outputs": [
    {
     "data": {
      "text/plain": [
       "(#2) [Path('/root/.fastai/data/mnist_sample/train/3'),Path('/root/.fastai/data/mnist_sample/train/7')]"
      ]
     },
     "execution_count": 7,
     "metadata": {},
     "output_type": "execute_result"
    }
   ],
   "source": [
    "#ในแต่ละ set จะมีเลข 3 และ 7\n",
    "(path/'train').ls()"
   ]
  },
  {
   "cell_type": "code",
   "execution_count": 8,
   "metadata": {
    "colab": {
     "base_uri": "https://localhost:8080/"
    },
    "id": "EilsFTaWpojx",
    "outputId": "6da64090-f81d-46b1-ae05-86a5b3fd4187"
   },
   "outputs": [
    {
     "data": {
      "text/plain": [
       "(#6131) [Path('/root/.fastai/data/mnist_sample/train/3/10.png'),Path('/root/.fastai/data/mnist_sample/train/3/10000.png'),Path('/root/.fastai/data/mnist_sample/train/3/10011.png'),Path('/root/.fastai/data/mnist_sample/train/3/10031.png'),Path('/root/.fastai/data/mnist_sample/train/3/10034.png'),Path('/root/.fastai/data/mnist_sample/train/3/10042.png'),Path('/root/.fastai/data/mnist_sample/train/3/10052.png'),Path('/root/.fastai/data/mnist_sample/train/3/1007.png'),Path('/root/.fastai/data/mnist_sample/train/3/10074.png'),Path('/root/.fastai/data/mnist_sample/train/3/10091.png')...]"
      ]
     },
     "execution_count": 8,
     "metadata": {},
     "output_type": "execute_result"
    }
   ],
   "source": [
    "#ในละ folder 3 และ 7 จะเป็นไฟล์รูป\n",
    "threes = (path/'train'/'3').ls().sorted()\n",
    "sevens = (path/'train'/'7').ls().sorted()\n",
    "threes"
   ]
  },
  {
   "cell_type": "code",
   "execution_count": 9,
   "metadata": {
    "colab": {
     "base_uri": "https://localhost:8080/"
    },
    "id": "2nKh8v3OBG5G",
    "outputId": "bf8f9a5e-c62c-48ec-a199-83ac22bac45e"
   },
   "outputs": [
    {
     "data": {
      "text/plain": [
       "(6131, 6265)"
      ]
     },
     "execution_count": 9,
     "metadata": {},
     "output_type": "execute_result"
    }
   ],
   "source": [
    "#จำนวนรูปในแต่ละ class\n",
    "len(threes), len(sevens)"
   ]
  },
  {
   "cell_type": "code",
   "execution_count": 10,
   "metadata": {
    "colab": {
     "base_uri": "https://localhost:8080/",
     "height": 45
    },
    "id": "jJEUNNQKpojx",
    "outputId": "c84f0303-b2e4-47e5-c7bd-a823c28f4b71"
   },
   "outputs": [
    {
     "data": {
      "image/png": "[encoded data removed]",
      "text/plain": [
       "<PIL.PngImagePlugin.PngImageFile image mode=L size=28x28 at 0x7F9AFE888DD0>"
      ]
     },
     "execution_count": 10,
     "metadata": {},
     "output_type": "execute_result"
    }
   ],
   "source": [
    "im3_path = threes[6000]\n",
    "im3 = Image.open(im3_path)\n",
    "im3"
   ]
  },
  {
   "cell_type": "code",
   "execution_count": 11,
   "metadata": {
    "colab": {
     "base_uri": "https://localhost:8080/"
    },
    "id": "GBYX4Mf0BTb6",
    "outputId": "02cc967e-9295-4da6-806b-8b3e58ca3ae3"
   },
   "outputs": [
    {
     "data": {
      "text/plain": [
       "(28, 28)"
      ]
     },
     "execution_count": 11,
     "metadata": {},
     "output_type": "execute_result"
    }
   ],
   "source": [
    "#รูปขนาด 28 x 28 pixels \n",
    "array(im3).shape"
   ]
  },
  {
   "cell_type": "code",
   "execution_count": 12,
   "metadata": {
    "colab": {
     "base_uri": "https://localhost:8080/"
    },
    "id": "RZphr7qzpojx",
    "outputId": "257cba1a-9290-4a12-98f8-f3d9d5d9a2dc"
   },
   "outputs": [
    {
     "data": {
      "text/plain": [
       "array([[0, 0, 0, 0, 0, 0],\n",
       "       [0, 0, 0, 0, 0, 0],\n",
       "       [0, 0, 0, 0, 0, 0],\n",
       "       [0, 0, 0, 0, 0, 0],\n",
       "       [0, 0, 0, 0, 0, 0],\n",
       "       [0, 0, 0, 0, 0, 0]], dtype=uint8)"
      ]
     },
     "execution_count": 12,
     "metadata": {},
     "output_type": "execute_result"
    }
   ],
   "source": [
    "#เปลี่ยนจาก numpy array\n",
    "array(im3)[4:10,4:10]"
   ]
  },
  {
   "cell_type": "code",
   "execution_count": 13,
   "metadata": {
    "colab": {
     "base_uri": "https://localhost:8080/"
    },
    "id": "o52Dig-Vpojx",
    "outputId": "c2aae0e8-5e86-4eeb-88a8-180112bf9675"
   },
   "outputs": [
    {
     "data": {
      "text/plain": [
       "tensor([[0, 0, 0, 0, 0, 0],\n",
       "        [0, 0, 0, 0, 0, 0],\n",
       "        [0, 0, 0, 0, 0, 0],\n",
       "        [0, 0, 0, 0, 0, 0],\n",
       "        [0, 0, 0, 0, 0, 0],\n",
       "        [0, 0, 0, 0, 0, 0]], dtype=torch.uint8)"
      ]
     },
     "execution_count": 13,
     "metadata": {},
     "output_type": "execute_result"
    }
   ],
   "source": [
    "#เป็น torch tensor\n",
    "tensor(im3)[4:10,4:10]"
   ]
  },
  {
   "cell_type": "code",
   "execution_count": 14,
   "metadata": {
    "colab": {
     "base_uri": "https://localhost:8080/",
     "height": 394
    },
    "id": "0yZCaBRNpojy",
    "outputId": "f4d506e0-bf3b-473f-fe3d-bf17277cd1b4"
   },
   "outputs": [
    {
     "data": {
      "text/html": [
       "<style type=\"text/css\">\n",
       "#T_4fe0b_row0_col0, #T_4fe0b_row0_col1, #T_4fe0b_row0_col2, #T_4fe0b_row0_col3, #T_4fe0b_row0_col4, #T_4fe0b_row0_col5, #T_4fe0b_row0_col6, #T_4fe0b_row0_col7, #T_4fe0b_row0_col8, #T_4fe0b_row0_col9, #T_4fe0b_row0_col10, #T_4fe0b_row0_col11, #T_4fe0b_row0_col12, #T_4fe0b_row0_col13, #T_4fe0b_row0_col14, #T_4fe0b_row0_col15, #T_4fe0b_row0_col16, #T_4fe0b_row0_col17, #T_4fe0b_row1_col0, #T_4fe0b_row1_col1, #T_4fe0b_row1_col2, #T_4fe0b_row1_col3, #T_4fe0b_row1_col4, #T_4fe0b_row1_col5, #T_4fe0b_row1_col6, #T_4fe0b_row1_col7, #T_4fe0b_row1_col8, #T_4fe0b_row1_col9, #T_4fe0b_row2_col0, #T_4fe0b_row2_col1, #T_4fe0b_row2_col2, #T_4fe0b_row2_col3, #T_4fe0b_row2_col4, #T_4fe0b_row2_col5, #T_4fe0b_row2_col6, #T_4fe0b_row2_col7, #T_4fe0b_row3_col0, #T_4fe0b_row3_col1, #T_4fe0b_row3_col2, #T_4fe0b_row3_col3, #T_4fe0b_row3_col4, #T_4fe0b_row3_col5, #T_4fe0b_row4_col0, #T_4fe0b_row4_col1, #T_4fe0b_row4_col2, #T_4fe0b_row4_col3, #T_4fe0b_row4_col4, #T_4fe0b_row4_col5, #T_4fe0b_row5_col0, #T_4fe0b_row5_col1, #T_4fe0b_row5_col2, #T_4fe0b_row5_col3, #T_4fe0b_row5_col4, #T_4fe0b_row5_col5, #T_4fe0b_row5_col10, #T_4fe0b_row5_col11, #T_4fe0b_row5_col12, #T_4fe0b_row5_col17, #T_4fe0b_row6_col0, #T_4fe0b_row6_col1, #T_4fe0b_row6_col2, #T_4fe0b_row6_col3, #T_4fe0b_row6_col4, #T_4fe0b_row6_col5, #T_4fe0b_row6_col6, #T_4fe0b_row6_col7, #T_4fe0b_row6_col8, #T_4fe0b_row6_col9, #T_4fe0b_row6_col10, #T_4fe0b_row6_col16, #T_4fe0b_row6_col17, #T_4fe0b_row7_col0, #T_4fe0b_row7_col1, #T_4fe0b_row7_col2, #T_4fe0b_row7_col3, #T_4fe0b_row7_col4, #T_4fe0b_row7_col5, #T_4fe0b_row7_col6, #T_4fe0b_row7_col7, #T_4fe0b_row7_col8, #T_4fe0b_row7_col9, #T_4fe0b_row7_col16, #T_4fe0b_row7_col17, #T_4fe0b_row8_col0, #T_4fe0b_row8_col1, #T_4fe0b_row8_col2, #T_4fe0b_row8_col3, #T_4fe0b_row8_col4, #T_4fe0b_row8_col5, #T_4fe0b_row8_col6, #T_4fe0b_row8_col7, #T_4fe0b_row8_col8, #T_4fe0b_row8_col9, #T_4fe0b_row8_col15, #T_4fe0b_row8_col16, #T_4fe0b_row8_col17, #T_4fe0b_row9_col0, #T_4fe0b_row9_col1, #T_4fe0b_row9_col2, #T_4fe0b_row9_col3, #T_4fe0b_row9_col4, #T_4fe0b_row9_col5, #T_4fe0b_row9_col6, #T_4fe0b_row9_col7, #T_4fe0b_row9_col8, #T_4fe0b_row9_col14, #T_4fe0b_row9_col15, #T_4fe0b_row9_col16, #T_4fe0b_row9_col17, #T_4fe0b_row10_col0, #T_4fe0b_row10_col1, #T_4fe0b_row10_col2, #T_4fe0b_row10_col3, #T_4fe0b_row10_col4, #T_4fe0b_row10_col5, #T_4fe0b_row10_col6, #T_4fe0b_row10_col7, #T_4fe0b_row10_col8, #T_4fe0b_row10_col13, #T_4fe0b_row10_col14, #T_4fe0b_row10_col15, #T_4fe0b_row10_col16, #T_4fe0b_row10_col17 {\n",
       "  font-size: 6pt;\n",
       "  background-color: #ffffff;\n",
       "  color: #000000;\n",
       "}\n",
       "#T_4fe0b_row1_col10, #T_4fe0b_row7_col11 {\n",
       "  font-size: 6pt;\n",
       "  background-color: #ececec;\n",
       "  color: #000000;\n",
       "}\n",
       "#T_4fe0b_row1_col11 {\n",
       "  font-size: 6pt;\n",
       "  background-color: #d6d6d6;\n",
       "  color: #000000;\n",
       "}\n",
       "#T_4fe0b_row1_col12 {\n",
       "  font-size: 6pt;\n",
       "  background-color: #767676;\n",
       "  color: #f1f1f1;\n",
       "}\n",
       "#T_4fe0b_row1_col13 {\n",
       "  font-size: 6pt;\n",
       "  background-color: #363636;\n",
       "  color: #f1f1f1;\n",
       "}\n",
       "#T_4fe0b_row1_col14, #T_4fe0b_row1_col15, #T_4fe0b_row2_col11, #T_4fe0b_row2_col12, #T_4fe0b_row2_col13, #T_4fe0b_row2_col16, #T_4fe0b_row3_col9, #T_4fe0b_row3_col10, #T_4fe0b_row3_col11, #T_4fe0b_row3_col12, #T_4fe0b_row3_col16, #T_4fe0b_row3_col17, #T_4fe0b_row4_col6, #T_4fe0b_row4_col7, #T_4fe0b_row4_col8, #T_4fe0b_row4_col9, #T_4fe0b_row6_col14, #T_4fe0b_row7_col12, #T_4fe0b_row7_col13, #T_4fe0b_row8_col11, #T_4fe0b_row8_col12, #T_4fe0b_row10_col10 {\n",
       "  font-size: 6pt;\n",
       "  background-color: #000000;\n",
       "  color: #f1f1f1;\n",
       "}\n",
       "#T_4fe0b_row1_col16, #T_4fe0b_row6_col13 {\n",
       "  font-size: 6pt;\n",
       "  background-color: #080808;\n",
       "  color: #f1f1f1;\n",
       "}\n",
       "#T_4fe0b_row1_col17, #T_4fe0b_row4_col12 {\n",
       "  font-size: 6pt;\n",
       "  background-color: #e4e4e4;\n",
       "  color: #000000;\n",
       "}\n",
       "#T_4fe0b_row2_col8 {\n",
       "  font-size: 6pt;\n",
       "  background-color: #eeeeee;\n",
       "  color: #000000;\n",
       "}\n",
       "#T_4fe0b_row2_col9 {\n",
       "  font-size: 6pt;\n",
       "  background-color: #a0a0a0;\n",
       "  color: #f1f1f1;\n",
       "}\n",
       "#T_4fe0b_row2_col10 {\n",
       "  font-size: 6pt;\n",
       "  background-color: #111111;\n",
       "  color: #f1f1f1;\n",
       "}\n",
       "#T_4fe0b_row2_col14, #T_4fe0b_row2_col15, #T_4fe0b_row3_col15, #T_4fe0b_row4_col15, #T_4fe0b_row5_col15 {\n",
       "  font-size: 6pt;\n",
       "  background-color: #010101;\n",
       "  color: #f1f1f1;\n",
       "}\n",
       "#T_4fe0b_row2_col17 {\n",
       "  font-size: 6pt;\n",
       "  background-color: #1f1f1f;\n",
       "  color: #f1f1f1;\n",
       "}\n",
       "#T_4fe0b_row3_col6 {\n",
       "  font-size: 6pt;\n",
       "  background-color: #f2f2f2;\n",
       "  color: #000000;\n",
       "}\n",
       "#T_4fe0b_row3_col7 {\n",
       "  font-size: 6pt;\n",
       "  background-color: #616161;\n",
       "  color: #f1f1f1;\n",
       "}\n",
       "#T_4fe0b_row3_col8 {\n",
       "  font-size: 6pt;\n",
       "  background-color: #070707;\n",
       "  color: #f1f1f1;\n",
       "}\n",
       "#T_4fe0b_row3_col13 {\n",
       "  font-size: 6pt;\n",
       "  background-color: #353535;\n",
       "  color: #f1f1f1;\n",
       "}\n",
       "#T_4fe0b_row3_col14 {\n",
       "  font-size: 6pt;\n",
       "  background-color: #3d3d3d;\n",
       "  color: #f1f1f1;\n",
       "}\n",
       "#T_4fe0b_row4_col10 {\n",
       "  font-size: 6pt;\n",
       "  background-color: #303030;\n",
       "  color: #f1f1f1;\n",
       "}\n",
       "#T_4fe0b_row4_col11 {\n",
       "  font-size: 6pt;\n",
       "  background-color: #929292;\n",
       "  color: #f1f1f1;\n",
       "}\n",
       "#T_4fe0b_row4_col13, #T_4fe0b_row7_col15 {\n",
       "  font-size: 6pt;\n",
       "  background-color: #f8f8f8;\n",
       "  color: #000000;\n",
       "}\n",
       "#T_4fe0b_row4_col14 {\n",
       "  font-size: 6pt;\n",
       "  background-color: #9d9d9d;\n",
       "  color: #f1f1f1;\n",
       "}\n",
       "#T_4fe0b_row4_col16 {\n",
       "  font-size: 6pt;\n",
       "  background-color: #161616;\n",
       "  color: #f1f1f1;\n",
       "}\n",
       "#T_4fe0b_row4_col17 {\n",
       "  font-size: 6pt;\n",
       "  background-color: #a3a3a3;\n",
       "  color: #f1f1f1;\n",
       "}\n",
       "#T_4fe0b_row5_col6 {\n",
       "  font-size: 6pt;\n",
       "  background-color: #505050;\n",
       "  color: #f1f1f1;\n",
       "}\n",
       "#T_4fe0b_row5_col7 {\n",
       "  font-size: 6pt;\n",
       "  background-color: #232323;\n",
       "  color: #f1f1f1;\n",
       "}\n",
       "#T_4fe0b_row5_col8 {\n",
       "  font-size: 6pt;\n",
       "  background-color: #6f6f6f;\n",
       "  color: #f1f1f1;\n",
       "}\n",
       "#T_4fe0b_row5_col9 {\n",
       "  font-size: 6pt;\n",
       "  background-color: #cbcbcb;\n",
       "  color: #000000;\n",
       "}\n",
       "#T_4fe0b_row5_col13, #T_4fe0b_row9_col13 {\n",
       "  font-size: 6pt;\n",
       "  background-color: #fbfbfb;\n",
       "  color: #000000;\n",
       "}\n",
       "#T_4fe0b_row5_col14 {\n",
       "  font-size: 6pt;\n",
       "  background-color: #393939;\n",
       "  color: #f1f1f1;\n",
       "}\n",
       "#T_4fe0b_row5_col16 {\n",
       "  font-size: 6pt;\n",
       "  background-color: #636363;\n",
       "  color: #f1f1f1;\n",
       "}\n",
       "#T_4fe0b_row6_col11, #T_4fe0b_row7_col10 {\n",
       "  font-size: 6pt;\n",
       "  background-color: #fdfdfd;\n",
       "  color: #000000;\n",
       "}\n",
       "#T_4fe0b_row6_col12 {\n",
       "  font-size: 6pt;\n",
       "  background-color: #c2c2c2;\n",
       "  color: #000000;\n",
       "}\n",
       "#T_4fe0b_row6_col15 {\n",
       "  font-size: 6pt;\n",
       "  background-color: #656565;\n",
       "  color: #f1f1f1;\n",
       "}\n",
       "#T_4fe0b_row7_col14 {\n",
       "  font-size: 6pt;\n",
       "  background-color: #141414;\n",
       "  color: #f1f1f1;\n",
       "}\n",
       "#T_4fe0b_row8_col10 {\n",
       "  font-size: 6pt;\n",
       "  background-color: #c3c3c3;\n",
       "  color: #000000;\n",
       "}\n",
       "#T_4fe0b_row8_col13 {\n",
       "  font-size: 6pt;\n",
       "  background-color: #5c5c5c;\n",
       "  color: #f1f1f1;\n",
       "}\n",
       "#T_4fe0b_row8_col14 {\n",
       "  font-size: 6pt;\n",
       "  background-color: #eaeaea;\n",
       "  color: #000000;\n",
       "}\n",
       "#T_4fe0b_row9_col9 {\n",
       "  font-size: 6pt;\n",
       "  background-color: #afafaf;\n",
       "  color: #000000;\n",
       "}\n",
       "#T_4fe0b_row9_col10 {\n",
       "  font-size: 6pt;\n",
       "  background-color: #090909;\n",
       "  color: #f1f1f1;\n",
       "}\n",
       "#T_4fe0b_row9_col11 {\n",
       "  font-size: 6pt;\n",
       "  background-color: #030303;\n",
       "  color: #f1f1f1;\n",
       "}\n",
       "#T_4fe0b_row9_col12 {\n",
       "  font-size: 6pt;\n",
       "  background-color: #585858;\n",
       "  color: #f1f1f1;\n",
       "}\n",
       "#T_4fe0b_row10_col9 {\n",
       "  font-size: 6pt;\n",
       "  background-color: #757575;\n",
       "  color: #f1f1f1;\n",
       "}\n",
       "#T_4fe0b_row10_col11 {\n",
       "  font-size: 6pt;\n",
       "  background-color: #0e0e0e;\n",
       "  color: #f1f1f1;\n",
       "}\n",
       "#T_4fe0b_row10_col12 {\n",
       "  font-size: 6pt;\n",
       "  background-color: #f1f1f1;\n",
       "  color: #000000;\n",
       "}\n",
       "</style>\n",
       "<table id=\"T_4fe0b_\" class=\"dataframe\">\n",
       "  <thead>\n",
       "    <tr>\n",
       "      <th class=\"blank level0\" >&nbsp;</th>\n",
       "      <th class=\"col_heading level0 col0\" >0</th>\n",
       "      <th class=\"col_heading level0 col1\" >1</th>\n",
       "      <th class=\"col_heading level0 col2\" >2</th>\n",
       "      <th class=\"col_heading level0 col3\" >3</th>\n",
       "      <th class=\"col_heading level0 col4\" >4</th>\n",
       "      <th class=\"col_heading level0 col5\" >5</th>\n",
       "      <th class=\"col_heading level0 col6\" >6</th>\n",
       "      <th class=\"col_heading level0 col7\" >7</th>\n",
       "      <th class=\"col_heading level0 col8\" >8</th>\n",
       "      <th class=\"col_heading level0 col9\" >9</th>\n",
       "      <th class=\"col_heading level0 col10\" >10</th>\n",
       "      <th class=\"col_heading level0 col11\" >11</th>\n",
       "      <th class=\"col_heading level0 col12\" >12</th>\n",
       "      <th class=\"col_heading level0 col13\" >13</th>\n",
       "      <th class=\"col_heading level0 col14\" >14</th>\n",
       "      <th class=\"col_heading level0 col15\" >15</th>\n",
       "      <th class=\"col_heading level0 col16\" >16</th>\n",
       "      <th class=\"col_heading level0 col17\" >17</th>\n",
       "    </tr>\n",
       "  </thead>\n",
       "  <tbody>\n",
       "    <tr>\n",
       "      <th id=\"T_4fe0b_level0_row0\" class=\"row_heading level0 row0\" >0</th>\n",
       "      <td id=\"T_4fe0b_row0_col0\" class=\"data row0 col0\" >0</td>\n",
       "      <td id=\"T_4fe0b_row0_col1\" class=\"data row0 col1\" >0</td>\n",
       "      <td id=\"T_4fe0b_row0_col2\" class=\"data row0 col2\" >0</td>\n",
       "      <td id=\"T_4fe0b_row0_col3\" class=\"data row0 col3\" >0</td>\n",
       "      <td id=\"T_4fe0b_row0_col4\" class=\"data row0 col4\" >0</td>\n",
       "      <td id=\"T_4fe0b_row0_col5\" class=\"data row0 col5\" >0</td>\n",
       "      <td id=\"T_4fe0b_row0_col6\" class=\"data row0 col6\" >0</td>\n",
       "      <td id=\"T_4fe0b_row0_col7\" class=\"data row0 col7\" >0</td>\n",
       "      <td id=\"T_4fe0b_row0_col8\" class=\"data row0 col8\" >0</td>\n",
       "      <td id=\"T_4fe0b_row0_col9\" class=\"data row0 col9\" >0</td>\n",
       "      <td id=\"T_4fe0b_row0_col10\" class=\"data row0 col10\" >0</td>\n",
       "      <td id=\"T_4fe0b_row0_col11\" class=\"data row0 col11\" >0</td>\n",
       "      <td id=\"T_4fe0b_row0_col12\" class=\"data row0 col12\" >0</td>\n",
       "      <td id=\"T_4fe0b_row0_col13\" class=\"data row0 col13\" >0</td>\n",
       "      <td id=\"T_4fe0b_row0_col14\" class=\"data row0 col14\" >0</td>\n",
       "      <td id=\"T_4fe0b_row0_col15\" class=\"data row0 col15\" >0</td>\n",
       "      <td id=\"T_4fe0b_row0_col16\" class=\"data row0 col16\" >0</td>\n",
       "      <td id=\"T_4fe0b_row0_col17\" class=\"data row0 col17\" >0</td>\n",
       "    </tr>\n",
       "    <tr>\n",
       "      <th id=\"T_4fe0b_level0_row1\" class=\"row_heading level0 row1\" >1</th>\n",
       "      <td id=\"T_4fe0b_row1_col0\" class=\"data row1 col0\" >0</td>\n",
       "      <td id=\"T_4fe0b_row1_col1\" class=\"data row1 col1\" >0</td>\n",
       "      <td id=\"T_4fe0b_row1_col2\" class=\"data row1 col2\" >0</td>\n",
       "      <td id=\"T_4fe0b_row1_col3\" class=\"data row1 col3\" >0</td>\n",
       "      <td id=\"T_4fe0b_row1_col4\" class=\"data row1 col4\" >0</td>\n",
       "      <td id=\"T_4fe0b_row1_col5\" class=\"data row1 col5\" >0</td>\n",
       "      <td id=\"T_4fe0b_row1_col6\" class=\"data row1 col6\" >0</td>\n",
       "      <td id=\"T_4fe0b_row1_col7\" class=\"data row1 col7\" >0</td>\n",
       "      <td id=\"T_4fe0b_row1_col8\" class=\"data row1 col8\" >0</td>\n",
       "      <td id=\"T_4fe0b_row1_col9\" class=\"data row1 col9\" >0</td>\n",
       "      <td id=\"T_4fe0b_row1_col10\" class=\"data row1 col10\" >37</td>\n",
       "      <td id=\"T_4fe0b_row1_col11\" class=\"data row1 col11\" >67</td>\n",
       "      <td id=\"T_4fe0b_row1_col12\" class=\"data row1 col12\" >156</td>\n",
       "      <td id=\"T_4fe0b_row1_col13\" class=\"data row1 col13\" >209</td>\n",
       "      <td id=\"T_4fe0b_row1_col14\" class=\"data row1 col14\" >254</td>\n",
       "      <td id=\"T_4fe0b_row1_col15\" class=\"data row1 col15\" >255</td>\n",
       "      <td id=\"T_4fe0b_row1_col16\" class=\"data row1 col16\" >246</td>\n",
       "      <td id=\"T_4fe0b_row1_col17\" class=\"data row1 col17\" >48</td>\n",
       "    </tr>\n",
       "    <tr>\n",
       "      <th id=\"T_4fe0b_level0_row2\" class=\"row_heading level0 row2\" >2</th>\n",
       "      <td id=\"T_4fe0b_row2_col0\" class=\"data row2 col0\" >0</td>\n",
       "      <td id=\"T_4fe0b_row2_col1\" class=\"data row2 col1\" >0</td>\n",
       "      <td id=\"T_4fe0b_row2_col2\" class=\"data row2 col2\" >0</td>\n",
       "      <td id=\"T_4fe0b_row2_col3\" class=\"data row2 col3\" >0</td>\n",
       "      <td id=\"T_4fe0b_row2_col4\" class=\"data row2 col4\" >0</td>\n",
       "      <td id=\"T_4fe0b_row2_col5\" class=\"data row2 col5\" >0</td>\n",
       "      <td id=\"T_4fe0b_row2_col6\" class=\"data row2 col6\" >0</td>\n",
       "      <td id=\"T_4fe0b_row2_col7\" class=\"data row2 col7\" >0</td>\n",
       "      <td id=\"T_4fe0b_row2_col8\" class=\"data row2 col8\" >34</td>\n",
       "      <td id=\"T_4fe0b_row2_col9\" class=\"data row2 col9\" >118</td>\n",
       "      <td id=\"T_4fe0b_row2_col10\" class=\"data row2 col10\" >239</td>\n",
       "      <td id=\"T_4fe0b_row2_col11\" class=\"data row2 col11\" >253</td>\n",
       "      <td id=\"T_4fe0b_row2_col12\" class=\"data row2 col12\" >253</td>\n",
       "      <td id=\"T_4fe0b_row2_col13\" class=\"data row2 col13\" >253</td>\n",
       "      <td id=\"T_4fe0b_row2_col14\" class=\"data row2 col14\" >253</td>\n",
       "      <td id=\"T_4fe0b_row2_col15\" class=\"data row2 col15\" >254</td>\n",
       "      <td id=\"T_4fe0b_row2_col16\" class=\"data row2 col16\" >253</td>\n",
       "      <td id=\"T_4fe0b_row2_col17\" class=\"data row2 col17\" >226</td>\n",
       "    </tr>\n",
       "    <tr>\n",
       "      <th id=\"T_4fe0b_level0_row3\" class=\"row_heading level0 row3\" >3</th>\n",
       "      <td id=\"T_4fe0b_row3_col0\" class=\"data row3 col0\" >0</td>\n",
       "      <td id=\"T_4fe0b_row3_col1\" class=\"data row3 col1\" >0</td>\n",
       "      <td id=\"T_4fe0b_row3_col2\" class=\"data row3 col2\" >0</td>\n",
       "      <td id=\"T_4fe0b_row3_col3\" class=\"data row3 col3\" >0</td>\n",
       "      <td id=\"T_4fe0b_row3_col4\" class=\"data row3 col4\" >0</td>\n",
       "      <td id=\"T_4fe0b_row3_col5\" class=\"data row3 col5\" >0</td>\n",
       "      <td id=\"T_4fe0b_row3_col6\" class=\"data row3 col6\" >14</td>\n",
       "      <td id=\"T_4fe0b_row3_col7\" class=\"data row3 col7\" >175</td>\n",
       "      <td id=\"T_4fe0b_row3_col8\" class=\"data row3 col8\" >247</td>\n",
       "      <td id=\"T_4fe0b_row3_col9\" class=\"data row3 col9\" >253</td>\n",
       "      <td id=\"T_4fe0b_row3_col10\" class=\"data row3 col10\" >254</td>\n",
       "      <td id=\"T_4fe0b_row3_col11\" class=\"data row3 col11\" >253</td>\n",
       "      <td id=\"T_4fe0b_row3_col12\" class=\"data row3 col12\" >253</td>\n",
       "      <td id=\"T_4fe0b_row3_col13\" class=\"data row3 col13\" >210</td>\n",
       "      <td id=\"T_4fe0b_row3_col14\" class=\"data row3 col14\" >205</td>\n",
       "      <td id=\"T_4fe0b_row3_col15\" class=\"data row3 col15\" >254</td>\n",
       "      <td id=\"T_4fe0b_row3_col16\" class=\"data row3 col16\" >253</td>\n",
       "      <td id=\"T_4fe0b_row3_col17\" class=\"data row3 col17\" >253</td>\n",
       "    </tr>\n",
       "    <tr>\n",
       "      <th id=\"T_4fe0b_level0_row4\" class=\"row_heading level0 row4\" >4</th>\n",
       "      <td id=\"T_4fe0b_row4_col0\" class=\"data row4 col0\" >0</td>\n",
       "      <td id=\"T_4fe0b_row4_col1\" class=\"data row4 col1\" >0</td>\n",
       "      <td id=\"T_4fe0b_row4_col2\" class=\"data row4 col2\" >0</td>\n",
       "      <td id=\"T_4fe0b_row4_col3\" class=\"data row4 col3\" >0</td>\n",
       "      <td id=\"T_4fe0b_row4_col4\" class=\"data row4 col4\" >0</td>\n",
       "      <td id=\"T_4fe0b_row4_col5\" class=\"data row4 col5\" >0</td>\n",
       "      <td id=\"T_4fe0b_row4_col6\" class=\"data row4 col6\" >126</td>\n",
       "      <td id=\"T_4fe0b_row4_col7\" class=\"data row4 col7\" >253</td>\n",
       "      <td id=\"T_4fe0b_row4_col8\" class=\"data row4 col8\" >253</td>\n",
       "      <td id=\"T_4fe0b_row4_col9\" class=\"data row4 col9\" >253</td>\n",
       "      <td id=\"T_4fe0b_row4_col10\" class=\"data row4 col10\" >214</td>\n",
       "      <td id=\"T_4fe0b_row4_col11\" class=\"data row4 col11\" >130</td>\n",
       "      <td id=\"T_4fe0b_row4_col12\" class=\"data row4 col12\" >49</td>\n",
       "      <td id=\"T_4fe0b_row4_col13\" class=\"data row4 col13\" >15</td>\n",
       "      <td id=\"T_4fe0b_row4_col14\" class=\"data row4 col14\" >122</td>\n",
       "      <td id=\"T_4fe0b_row4_col15\" class=\"data row4 col15\" >254</td>\n",
       "      <td id=\"T_4fe0b_row4_col16\" class=\"data row4 col16\" >234</td>\n",
       "      <td id=\"T_4fe0b_row4_col17\" class=\"data row4 col17\" >116</td>\n",
       "    </tr>\n",
       "    <tr>\n",
       "      <th id=\"T_4fe0b_level0_row5\" class=\"row_heading level0 row5\" >5</th>\n",
       "      <td id=\"T_4fe0b_row5_col0\" class=\"data row5 col0\" >0</td>\n",
       "      <td id=\"T_4fe0b_row5_col1\" class=\"data row5 col1\" >0</td>\n",
       "      <td id=\"T_4fe0b_row5_col2\" class=\"data row5 col2\" >0</td>\n",
       "      <td id=\"T_4fe0b_row5_col3\" class=\"data row5 col3\" >0</td>\n",
       "      <td id=\"T_4fe0b_row5_col4\" class=\"data row5 col4\" >0</td>\n",
       "      <td id=\"T_4fe0b_row5_col5\" class=\"data row5 col5\" >0</td>\n",
       "      <td id=\"T_4fe0b_row5_col6\" class=\"data row5 col6\" >95</td>\n",
       "      <td id=\"T_4fe0b_row5_col7\" class=\"data row5 col7\" >223</td>\n",
       "      <td id=\"T_4fe0b_row5_col8\" class=\"data row5 col8\" >162</td>\n",
       "      <td id=\"T_4fe0b_row5_col9\" class=\"data row5 col9\" >80</td>\n",
       "      <td id=\"T_4fe0b_row5_col10\" class=\"data row5 col10\" >0</td>\n",
       "      <td id=\"T_4fe0b_row5_col11\" class=\"data row5 col11\" >0</td>\n",
       "      <td id=\"T_4fe0b_row5_col12\" class=\"data row5 col12\" >0</td>\n",
       "      <td id=\"T_4fe0b_row5_col13\" class=\"data row5 col13\" >9</td>\n",
       "      <td id=\"T_4fe0b_row5_col14\" class=\"data row5 col14\" >208</td>\n",
       "      <td id=\"T_4fe0b_row5_col15\" class=\"data row5 col15\" >254</td>\n",
       "      <td id=\"T_4fe0b_row5_col16\" class=\"data row5 col16\" >173</td>\n",
       "      <td id=\"T_4fe0b_row5_col17\" class=\"data row5 col17\" >0</td>\n",
       "    </tr>\n",
       "    <tr>\n",
       "      <th id=\"T_4fe0b_level0_row6\" class=\"row_heading level0 row6\" >6</th>\n",
       "      <td id=\"T_4fe0b_row6_col0\" class=\"data row6 col0\" >0</td>\n",
       "      <td id=\"T_4fe0b_row6_col1\" class=\"data row6 col1\" >0</td>\n",
       "      <td id=\"T_4fe0b_row6_col2\" class=\"data row6 col2\" >0</td>\n",
       "      <td id=\"T_4fe0b_row6_col3\" class=\"data row6 col3\" >0</td>\n",
       "      <td id=\"T_4fe0b_row6_col4\" class=\"data row6 col4\" >0</td>\n",
       "      <td id=\"T_4fe0b_row6_col5\" class=\"data row6 col5\" >0</td>\n",
       "      <td id=\"T_4fe0b_row6_col6\" class=\"data row6 col6\" >0</td>\n",
       "      <td id=\"T_4fe0b_row6_col7\" class=\"data row6 col7\" >0</td>\n",
       "      <td id=\"T_4fe0b_row6_col8\" class=\"data row6 col8\" >0</td>\n",
       "      <td id=\"T_4fe0b_row6_col9\" class=\"data row6 col9\" >0</td>\n",
       "      <td id=\"T_4fe0b_row6_col10\" class=\"data row6 col10\" >0</td>\n",
       "      <td id=\"T_4fe0b_row6_col11\" class=\"data row6 col11\" >5</td>\n",
       "      <td id=\"T_4fe0b_row6_col12\" class=\"data row6 col12\" >89</td>\n",
       "      <td id=\"T_4fe0b_row6_col13\" class=\"data row6 col13\" >246</td>\n",
       "      <td id=\"T_4fe0b_row6_col14\" class=\"data row6 col14\" >254</td>\n",
       "      <td id=\"T_4fe0b_row6_col15\" class=\"data row6 col15\" >173</td>\n",
       "      <td id=\"T_4fe0b_row6_col16\" class=\"data row6 col16\" >0</td>\n",
       "      <td id=\"T_4fe0b_row6_col17\" class=\"data row6 col17\" >0</td>\n",
       "    </tr>\n",
       "    <tr>\n",
       "      <th id=\"T_4fe0b_level0_row7\" class=\"row_heading level0 row7\" >7</th>\n",
       "      <td id=\"T_4fe0b_row7_col0\" class=\"data row7 col0\" >0</td>\n",
       "      <td id=\"T_4fe0b_row7_col1\" class=\"data row7 col1\" >0</td>\n",
       "      <td id=\"T_4fe0b_row7_col2\" class=\"data row7 col2\" >0</td>\n",
       "      <td id=\"T_4fe0b_row7_col3\" class=\"data row7 col3\" >0</td>\n",
       "      <td id=\"T_4fe0b_row7_col4\" class=\"data row7 col4\" >0</td>\n",
       "      <td id=\"T_4fe0b_row7_col5\" class=\"data row7 col5\" >0</td>\n",
       "      <td id=\"T_4fe0b_row7_col6\" class=\"data row7 col6\" >0</td>\n",
       "      <td id=\"T_4fe0b_row7_col7\" class=\"data row7 col7\" >0</td>\n",
       "      <td id=\"T_4fe0b_row7_col8\" class=\"data row7 col8\" >0</td>\n",
       "      <td id=\"T_4fe0b_row7_col9\" class=\"data row7 col9\" >0</td>\n",
       "      <td id=\"T_4fe0b_row7_col10\" class=\"data row7 col10\" >5</td>\n",
       "      <td id=\"T_4fe0b_row7_col11\" class=\"data row7 col11\" >38</td>\n",
       "      <td id=\"T_4fe0b_row7_col12\" class=\"data row7 col12\" >253</td>\n",
       "      <td id=\"T_4fe0b_row7_col13\" class=\"data row7 col13\" >253</td>\n",
       "      <td id=\"T_4fe0b_row7_col14\" class=\"data row7 col14\" >237</td>\n",
       "      <td id=\"T_4fe0b_row7_col15\" class=\"data row7 col15\" >15</td>\n",
       "      <td id=\"T_4fe0b_row7_col16\" class=\"data row7 col16\" >0</td>\n",
       "      <td id=\"T_4fe0b_row7_col17\" class=\"data row7 col17\" >0</td>\n",
       "    </tr>\n",
       "    <tr>\n",
       "      <th id=\"T_4fe0b_level0_row8\" class=\"row_heading level0 row8\" >8</th>\n",
       "      <td id=\"T_4fe0b_row8_col0\" class=\"data row8 col0\" >0</td>\n",
       "      <td id=\"T_4fe0b_row8_col1\" class=\"data row8 col1\" >0</td>\n",
       "      <td id=\"T_4fe0b_row8_col2\" class=\"data row8 col2\" >0</td>\n",
       "      <td id=\"T_4fe0b_row8_col3\" class=\"data row8 col3\" >0</td>\n",
       "      <td id=\"T_4fe0b_row8_col4\" class=\"data row8 col4\" >0</td>\n",
       "      <td id=\"T_4fe0b_row8_col5\" class=\"data row8 col5\" >0</td>\n",
       "      <td id=\"T_4fe0b_row8_col6\" class=\"data row8 col6\" >0</td>\n",
       "      <td id=\"T_4fe0b_row8_col7\" class=\"data row8 col7\" >0</td>\n",
       "      <td id=\"T_4fe0b_row8_col8\" class=\"data row8 col8\" >0</td>\n",
       "      <td id=\"T_4fe0b_row8_col9\" class=\"data row8 col9\" >0</td>\n",
       "      <td id=\"T_4fe0b_row8_col10\" class=\"data row8 col10\" >89</td>\n",
       "      <td id=\"T_4fe0b_row8_col11\" class=\"data row8 col11\" >253</td>\n",
       "      <td id=\"T_4fe0b_row8_col12\" class=\"data row8 col12\" >253</td>\n",
       "      <td id=\"T_4fe0b_row8_col13\" class=\"data row8 col13\" >180</td>\n",
       "      <td id=\"T_4fe0b_row8_col14\" class=\"data row8 col14\" >40</td>\n",
       "      <td id=\"T_4fe0b_row8_col15\" class=\"data row8 col15\" >0</td>\n",
       "      <td id=\"T_4fe0b_row8_col16\" class=\"data row8 col16\" >0</td>\n",
       "      <td id=\"T_4fe0b_row8_col17\" class=\"data row8 col17\" >0</td>\n",
       "    </tr>\n",
       "    <tr>\n",
       "      <th id=\"T_4fe0b_level0_row9\" class=\"row_heading level0 row9\" >9</th>\n",
       "      <td id=\"T_4fe0b_row9_col0\" class=\"data row9 col0\" >0</td>\n",
       "      <td id=\"T_4fe0b_row9_col1\" class=\"data row9 col1\" >0</td>\n",
       "      <td id=\"T_4fe0b_row9_col2\" class=\"data row9 col2\" >0</td>\n",
       "      <td id=\"T_4fe0b_row9_col3\" class=\"data row9 col3\" >0</td>\n",
       "      <td id=\"T_4fe0b_row9_col4\" class=\"data row9 col4\" >0</td>\n",
       "      <td id=\"T_4fe0b_row9_col5\" class=\"data row9 col5\" >0</td>\n",
       "      <td id=\"T_4fe0b_row9_col6\" class=\"data row9 col6\" >0</td>\n",
       "      <td id=\"T_4fe0b_row9_col7\" class=\"data row9 col7\" >0</td>\n",
       "      <td id=\"T_4fe0b_row9_col8\" class=\"data row9 col8\" >0</td>\n",
       "      <td id=\"T_4fe0b_row9_col9\" class=\"data row9 col9\" >106</td>\n",
       "      <td id=\"T_4fe0b_row9_col10\" class=\"data row9 col10\" >246</td>\n",
       "      <td id=\"T_4fe0b_row9_col11\" class=\"data row9 col11\" >250</td>\n",
       "      <td id=\"T_4fe0b_row9_col12\" class=\"data row9 col12\" >183</td>\n",
       "      <td id=\"T_4fe0b_row9_col13\" class=\"data row9 col13\" >9</td>\n",
       "      <td id=\"T_4fe0b_row9_col14\" class=\"data row9 col14\" >0</td>\n",
       "      <td id=\"T_4fe0b_row9_col15\" class=\"data row9 col15\" >0</td>\n",
       "      <td id=\"T_4fe0b_row9_col16\" class=\"data row9 col16\" >0</td>\n",
       "      <td id=\"T_4fe0b_row9_col17\" class=\"data row9 col17\" >0</td>\n",
       "    </tr>\n",
       "    <tr>\n",
       "      <th id=\"T_4fe0b_level0_row10\" class=\"row_heading level0 row10\" >10</th>\n",
       "      <td id=\"T_4fe0b_row10_col0\" class=\"data row10 col0\" >0</td>\n",
       "      <td id=\"T_4fe0b_row10_col1\" class=\"data row10 col1\" >0</td>\n",
       "      <td id=\"T_4fe0b_row10_col2\" class=\"data row10 col2\" >0</td>\n",
       "      <td id=\"T_4fe0b_row10_col3\" class=\"data row10 col3\" >0</td>\n",
       "      <td id=\"T_4fe0b_row10_col4\" class=\"data row10 col4\" >0</td>\n",
       "      <td id=\"T_4fe0b_row10_col5\" class=\"data row10 col5\" >0</td>\n",
       "      <td id=\"T_4fe0b_row10_col6\" class=\"data row10 col6\" >0</td>\n",
       "      <td id=\"T_4fe0b_row10_col7\" class=\"data row10 col7\" >0</td>\n",
       "      <td id=\"T_4fe0b_row10_col8\" class=\"data row10 col8\" >0</td>\n",
       "      <td id=\"T_4fe0b_row10_col9\" class=\"data row10 col9\" >157</td>\n",
       "      <td id=\"T_4fe0b_row10_col10\" class=\"data row10 col10\" >254</td>\n",
       "      <td id=\"T_4fe0b_row10_col11\" class=\"data row10 col11\" >241</td>\n",
       "      <td id=\"T_4fe0b_row10_col12\" class=\"data row10 col12\" >30</td>\n",
       "      <td id=\"T_4fe0b_row10_col13\" class=\"data row10 col13\" >0</td>\n",
       "      <td id=\"T_4fe0b_row10_col14\" class=\"data row10 col14\" >0</td>\n",
       "      <td id=\"T_4fe0b_row10_col15\" class=\"data row10 col15\" >0</td>\n",
       "      <td id=\"T_4fe0b_row10_col16\" class=\"data row10 col16\" >0</td>\n",
       "      <td id=\"T_4fe0b_row10_col17\" class=\"data row10 col17\" >0</td>\n",
       "    </tr>\n",
       "  </tbody>\n",
       "</table>\n"
      ],
      "text/plain": [
       "<pandas.io.formats.style.Styler at 0x7f9afe7c5c50>"
      ]
     },
     "execution_count": 14,
     "metadata": {},
     "output_type": "execute_result"
    }
   ],
   "source": [
    "im3_t = tensor(im3)\n",
    "df = pd.DataFrame(im3_t[4:15,4:22])\n",
    "df.style.set_properties(**{'font-size':'6pt'}).background_gradient('Greys')"
   ]
  },
  {
   "cell_type": "markdown",
   "metadata": {
    "id": "jMdNhmiXpojy"
   },
   "source": [
    "## วิธีที่ง่ายที่สุด: ดูว่ามี pixel เหมือนกันแค่ไหน"
   ]
  },
  {
   "cell_type": "markdown",
   "metadata": {
    "id": "MqYq_GbFT7XA"
   },
   "source": [
    "สมมุติเราไม่ทำ ML อะไรเลย แต่เราพยามสร้างกฎแบบ Rule-based Systems โดยบอกว่า \"รูปที่มี pixels ใกล้เคียงกับ pixels เฉลี่ยของเลข 3 และ 7 มากกว่า ให้ถือว่าเป็นเลขนั้น\""
   ]
  },
  {
   "cell_type": "code",
   "execution_count": 15,
   "metadata": {
    "colab": {
     "base_uri": "https://localhost:8080/"
    },
    "id": "JDsXZWi8pojy",
    "outputId": "deb4fb4e-a3dd-44ce-d5c3-93272004588b"
   },
   "outputs": [
    {
     "data": {
      "text/plain": [
       "(6131, 6265)"
      ]
     },
     "execution_count": 15,
     "metadata": {},
     "output_type": "execute_result"
    }
   ],
   "source": [
    "seven_tensors = [tensor(Image.open(o)) for o in sevens]\n",
    "three_tensors = [tensor(Image.open(o)) for o in threes]\n",
    "len(three_tensors),len(seven_tensors)"
   ]
  },
  {
   "cell_type": "code",
   "execution_count": 16,
   "metadata": {
    "colab": {
     "base_uri": "https://localhost:8080/",
     "height": 85
    },
    "id": "9h_vpbbvpojy",
    "outputId": "cadff4bb-f297-4f52-e3ec-17508f92f686"
   },
   "outputs": [
    {
     "data": {
      "image/png": "[encoded data removed]",
      "text/plain": [
       "<Figure size 72x72 with 1 Axes>"
      ]
     },
     "metadata": {
      "needs_background": "light"
     },
     "output_type": "display_data"
    }
   ],
   "source": [
    "show_image(three_tensors[1]);"
   ]
  },
  {
   "cell_type": "code",
   "execution_count": 17,
   "metadata": {
    "colab": {
     "base_uri": "https://localhost:8080/"
    },
    "id": "D5B7mZNspojy",
    "outputId": "bc93149a-adf0-42f7-fe24-bd1dc286b5e9"
   },
   "outputs": [
    {
     "data": {
      "text/plain": [
       "(torch.Size([6131, 28, 28]), torch.Size([6265, 28, 28]))"
      ]
     },
     "execution_count": 17,
     "metadata": {},
     "output_type": "execute_result"
    }
   ],
   "source": [
    "#เรามัดเลข 3 และ 7 ทั้งหมดรวมกันตามคลาสแล้วหารมันด้วย 255 เพื่อให้ได้ค่าระหว่าง 0 และ 1\n",
    "stacked_sevens = torch.stack(seven_tensors).float()/255\n",
    "stacked_threes = torch.stack(three_tensors).float()/255\n",
    "stacked_threes.shape, stacked_sevens.shape"
   ]
  },
  {
   "cell_type": "code",
   "execution_count": 18,
   "metadata": {
    "colab": {
     "base_uri": "https://localhost:8080/"
    },
    "id": "K4mmFyngpojz",
    "outputId": "4b1ba479-b693-4f5a-bcd3-260a3283ed07"
   },
   "outputs": [
    {
     "data": {
      "text/plain": [
       "3"
      ]
     },
     "execution_count": 18,
     "metadata": {},
     "output_type": "execute_result"
    }
   ],
   "source": [
    "len(stacked_threes.shape)"
   ]
  },
  {
   "cell_type": "code",
   "execution_count": 19,
   "metadata": {
    "colab": {
     "base_uri": "https://localhost:8080/"
    },
    "id": "Jck_enHBpojz",
    "outputId": "1bc5de1f-50f5-45cd-ed75-65f44ac5c8fe"
   },
   "outputs": [
    {
     "data": {
      "text/plain": [
       "3"
      ]
     },
     "execution_count": 19,
     "metadata": {},
     "output_type": "execute_result"
    }
   ],
   "source": [
    "stacked_threes.ndim"
   ]
  },
  {
   "cell_type": "code",
   "execution_count": 20,
   "metadata": {
    "colab": {
     "base_uri": "https://localhost:8080/",
     "height": 103
    },
    "id": "cxcx0MIlg-fI",
    "outputId": "0cf1655d-5ce7-4044-b1f5-b36dd0a93b3b"
   },
   "outputs": [
    {
     "data": {
      "text/plain": [
       "<matplotlib.axes._subplots.AxesSubplot at 0x7f9afe078bd0>"
      ]
     },
     "execution_count": 20,
     "metadata": {},
     "output_type": "execute_result"
    },
    {
     "data": {
      "image/png": "[encoded data removed]",
      "text/plain": [
       "<Figure size 72x72 with 1 Axes>"
      ]
     },
     "metadata": {
      "needs_background": "light"
     },
     "output_type": "display_data"
    }
   ],
   "source": [
    "#เลข 3 ที่ index 0\n",
    "show_image(stacked_threes[0,:,:])"
   ]
  },
  {
   "cell_type": "code",
   "execution_count": 21,
   "metadata": {
    "colab": {
     "base_uri": "https://localhost:8080/",
     "height": 85
    },
    "id": "2Es3hPcXpojz",
    "outputId": "14820e4c-7b0d-42b4-cb01-fe33175307c2"
   },
   "outputs": [
    {
     "data": {
      "image/png": "[encoded data removed]",
      "text/plain": [
       "<Figure size 72x72 with 1 Axes>"
      ]
     },
     "metadata": {
      "needs_background": "light"
     },
     "output_type": "display_data"
    }
   ],
   "source": [
    "#เลข 3 โดยเฉลี่ย\n",
    "mean3 = stacked_threes.mean(0)\n",
    "show_image(mean3);"
   ]
  },
  {
   "cell_type": "code",
   "execution_count": 22,
   "metadata": {
    "colab": {
     "base_uri": "https://localhost:8080/",
     "height": 85
    },
    "id": "ambkeHzzpojz",
    "outputId": "2ef89ced-bead-4371-ff36-d472f5fa0121"
   },
   "outputs": [
    {
     "data": {
      "image/png": "[encoded data removed]",
      "text/plain": [
       "<Figure size 72x72 with 1 Axes>"
      ]
     },
     "metadata": {
      "needs_background": "light"
     },
     "output_type": "display_data"
    }
   ],
   "source": [
    "#เลข 7 โดยเฉลี่ย\n",
    "mean7 = stacked_sevens.mean(0)\n",
    "show_image(mean7);"
   ]
  },
  {
   "cell_type": "code",
   "execution_count": 23,
   "metadata": {
    "colab": {
     "base_uri": "https://localhost:8080/",
     "height": 85
    },
    "id": "aKESuqYHpojz",
    "outputId": "fc68b38d-ba24-4c02-9b92-154e5e4908f9"
   },
   "outputs": [
    {
     "data": {
      "image/png": "[encoded data removed]",
      "text/plain": [
       "<Figure size 72x72 with 1 Axes>"
      ]
     },
     "metadata": {
      "needs_background": "light"
     },
     "output_type": "display_data"
    }
   ],
   "source": [
    "#เลข 3 อันที่ 125\n",
    "a_3 = stacked_threes[125]\n",
    "show_image(a_3);"
   ]
  },
  {
   "cell_type": "markdown",
   "metadata": {
    "id": "k4Rm7EZjU-Gb"
   },
   "source": [
    "เราจะเห็นได้ว่าหากเราคำนวน mean absolute error และ mean squared error ของแต่ละ pixel ระหว่าง \"เลข 3 อันที่ 125\" กับ \"เลข 3 โดยเฉลี่ย\" และ \"เลข 7 โดยเฉลี่ย\" เราจะเห็นกว่าค่าของ \"เลข 3 อันที่ 125\" กับ \"เลข 3 โดยเฉลี่ย\" มีค่าน้อยกว่า และในกรณีนี้ระบบ (ที่ไม่ใช่ ML) ของเราจะทำนายถูกว่า \"เลข 3 อันที่ 125\" คือเลข 3"
   ]
  },
  {
   "cell_type": "code",
   "execution_count": 24,
   "metadata": {
    "colab": {
     "base_uri": "https://localhost:8080/"
    },
    "id": "JbfdH2zWpoj0",
    "outputId": "68513061-cf01-4337-adba-950be0372b4b"
   },
   "outputs": [
    {
     "data": {
      "text/plain": [
       "(tensor(0.1259), tensor(0.2290))"
      ]
     },
     "execution_count": 24,
     "metadata": {},
     "output_type": "execute_result"
    }
   ],
   "source": [
    "#ความห่างระหว่า \"เลข 3 อันที่ 125\" กับ \"เลข 3 โดยเฉลี่ย\"\n",
    "dist_3_abs = (a_3 - mean3).abs().mean()\n",
    "dist_3_sqr = ((a_3 - mean3)**2).mean().sqrt()\n",
    "dist_3_abs,dist_3_sqr"
   ]
  },
  {
   "cell_type": "code",
   "execution_count": 25,
   "metadata": {
    "colab": {
     "base_uri": "https://localhost:8080/"
    },
    "id": "s5xmB8f1poj0",
    "outputId": "d9967f38-5193-4528-b890-5de8e16a42a8"
   },
   "outputs": [
    {
     "data": {
      "text/plain": [
       "(tensor(0.1836), tensor(0.3390))"
      ]
     },
     "execution_count": 25,
     "metadata": {},
     "output_type": "execute_result"
    }
   ],
   "source": [
    "#ความห่างระหว่า \"เลข 3 อันที่ 125\" กับ \"เลข 7 โดยเฉลี่ย\"\n",
    "dist_7_abs = (a_3 - mean7).abs().mean()\n",
    "dist_7_sqr = ((a_3 - mean7)**2).mean().sqrt()\n",
    "dist_7_abs,dist_7_sqr"
   ]
  },
  {
   "cell_type": "code",
   "execution_count": 26,
   "metadata": {
    "colab": {
     "base_uri": "https://localhost:8080/"
    },
    "id": "lDlxHuO8Vazc",
    "outputId": "a20160f4-2575-47c5-a8dc-bb5169feb261"
   },
   "outputs": [
    {
     "data": {
      "text/plain": [
       "(tensor(0.1836), tensor(0.3390))"
      ]
     },
     "execution_count": 26,
     "metadata": {},
     "output_type": "execute_result"
    }
   ],
   "source": [
    "#ใช้ function ของ pytorch คิดก็ได้\n",
    "F.l1_loss(a_3.float(), mean7), F.mse_loss(a_3, mean7).sqrt()"
   ]
  },
  {
   "cell_type": "markdown",
   "metadata": {
    "id": "4Lx6GAdSVgD2"
   },
   "source": [
    "เรื่องน่าคิดถึงความแตกต่างระหว่าง mean squared error และ mean absolute error"
   ]
  },
  {
   "cell_type": "code",
   "execution_count": 27,
   "metadata": {
    "colab": {
     "base_uri": "https://localhost:8080/"
    },
    "id": "IcAtO7IwDzUp",
    "outputId": "cb2fc2a2-cf78-4ada-895d-29ab5a4e3cbb"
   },
   "outputs": [
    {
     "data": {
      "text/plain": [
       "(1.1666666269302368, 1.1902379989624023)"
      ]
     },
     "execution_count": 27,
     "metadata": {},
     "output_type": "execute_result"
    }
   ],
   "source": [
    "a = torch.tensor([1, 2, 3]).float()\n",
    "b = torch.tensor([2.,3.,4.5])\n",
    "c = torch.tensor([2.,3.,40.])\n",
    "\n",
    "#mse และ mae ไม่ต่างกันเท่าไหร่สำหรับ a และ b\n",
    "(a-b).abs().mean().item(), \\\n",
    "((a-b)**2).mean().sqrt().item(),"
   ]
  },
  {
   "cell_type": "code",
   "execution_count": 28,
   "metadata": {
    "colab": {
     "base_uri": "https://localhost:8080/"
    },
    "id": "y5zmXGk2poj0",
    "outputId": "96a206ec-10da-4054-8de4-13e538559074"
   },
   "outputs": [
    {
     "data": {
      "text/plain": [
       "(13.0, 21.3775577545166)"
      ]
     },
     "execution_count": 28,
     "metadata": {},
     "output_type": "execute_result"
    }
   ],
   "source": [
    "#mse และ mae ต่างกันเกือบเท่าตัวสำหรับ a และ c\n",
    "(a-c).abs().mean().item(),\\\n",
    "((a-c)**2).mean().sqrt().item()"
   ]
  },
  {
   "cell_type": "markdown",
   "metadata": {
    "id": "ErTcHuGkpoj4"
   },
   "source": [
    "## Stochastic Gradient Descent (SGD)"
   ]
  },
  {
   "cell_type": "markdown",
   "metadata": {
    "id": "XTAhc8bJWi6y"
   },
   "source": [
    "หากยังจำได้จากบทที่ 1 เราเรียนรู้ว่าเราจะคำนวณ `Gradients` จาก `Loss` แล้วให้ Optimizer ทำหน้าที่ update `Weights` ในบทเรียนนี้เราจะมาเรียนรู้ขั้นตอนเหล่านี้กัน"
   ]
  },
  {
   "cell_type": "markdown",
   "metadata": {
    "id": "V9fzeVckWhP9"
   },
   "source": [
    "<img src=https://github.com/ai-builders/curriculum/raw/main/images/training_loop50.png width=\"700px\">"
   ]
  },
  {
   "cell_type": "markdown",
   "metadata": {
    "id": "OISepsl-poj5"
   },
   "source": [
    "### คำนวณ Gradients เพื่อทำ Backpropagation"
   ]
  },
  {
   "cell_type": "markdown",
   "metadata": {
    "id": "_9WrHtiu0ScN"
   },
   "source": [
    "หากคุณยังไม่เคยเรียนเกี่ยวกับ [partial derivative](https://en.wikipedia.org/wiki/Partial_derivative) และ [chain rule](https://www.khanacademy.org/math/ap-calculus-ab/ab-differentiation-2-new/ab-3-1a/a/chain-rule-review) ในชั้นเรียนมัธยมปลาย คุณอาจจะไม่จำเป็นต้องเข้าใจเนื้อหาส่วนนี้ทั้งหมดก็ได้ ใจความสำคัญคือเราสามารถปรับแต่ง `Weights` ได้ด้วย `Gradients` ที่ถูกคำนวณมาจาก `Loss` เพื่อให้ได้ `Loss` ที่น้อยที่สุดเท่าที่จะทำได้ใน iteration ต่อๆไป"
   ]
  },
  {
   "cell_type": "markdown",
   "metadata": {
    "id": "tP7xMjbi6er4"
   },
   "source": [
    "ตัวอย่างการทำ Backpropagation อย่างง่ายจาก [cs231n](https://cs231n.github.io/optimization-2/#backprop)\n",
    "\n",
    "Independent variables:\n",
    "(เราอาจจะคิดว่า `x, y, z` เป็น `Inputs` หรือ `Weights` สำหรับโมเดลก็ได้)\n",
    "\\begin{align}\n",
    "x & = -2 \\\\\n",
    "y & = 5 \\\\\n",
    "z & = -4 \\\\\n",
    "\\end{align}\n",
    "\n",
    "Dependent variables: \n",
    "(`q` และ `f` คือฟังชั่นอะไรบางอย่าง เช่น `Loss Function` ของโมเดลก็ได้)\n",
    "\n",
    "ถ้าแทนค่า `x, y, z` เข้าไปในฟังชั่น `q, f` จะได้\n",
    "\n",
    "\\begin{align}\n",
    "q & = x+y = -2+5 = 3\\\\\n",
    "f & = q*z = 3*-4 = -12\n",
    "\\end{align}\n",
    "\n",
    "การทำแบบนี้เปรียบเสมือนการเปลี่ยน `Inputs` เป็น `Predictions` ด้วย `Weights` เรียกว่า `Forward Pass`\n",
    "\n",
    "หลังจากนั้น เราสามารถคำนวณหา `Gradients` ซึ่งโดยทั่วไปแล้วหมายถึงค่าอัตราการเปลี่ยนแปลงของฟังชั่นท้ายสุด (ในที่นี้คือ `f`) เทียบกับตัวแปรแรกสุด (ในที่นี้คือ `x, y, z`) ได้แก่ $\\frac{df}{dx}$, $\\frac{df}{dy}$, $\\frac{df}{dz}$ เราสามารถหาสิ่งนี้ด้วยการหา [partial derivative](https://en.wikipedia.org/wiki/Partial_derivative) และ [chain rule](https://www.khanacademy.org/math/ap-calculus-ab/ab-differentiation-2-new/ab-3-1a/a/chain-rule-review) เรียกว่า `Backward Pass`\n",
    "\n",
    "\\begin{align}\n",
    "\\frac{df}{dq} & = z = -4\\\\\n",
    "\\frac{dq}{dx} & = 1\\\\\n",
    "\\frac{df}{dx} & = \\frac{df}{dq} * \\frac{dq}{dx}\\\\\n",
    "& = -4*1\\\\\n",
    "& = -4\\\\\n",
    "\\end{align}\n",
    "\n"
   ]
  },
  {
   "cell_type": "code",
   "execution_count": 29,
   "metadata": {
    "colab": {
     "base_uri": "https://localhost:8080/"
    },
    "id": "VXdDIlJl6jYC",
    "outputId": "326dcf7c-8210-49c7-918f-e4067ee240ab"
   },
   "outputs": [
    {
     "data": {
      "text/plain": [
       "(-4.0, -4.0)"
      ]
     },
     "execution_count": 29,
     "metadata": {},
     "output_type": "execute_result"
    }
   ],
   "source": [
    "# set some inputs\n",
    "x = -2; y = 5; z = -4\n",
    "\n",
    "# perform the forward pass\n",
    "q = x + y # q becomes 3\n",
    "f = q * z # f becomes -12\n",
    "\n",
    "# perform the backward pass (backpropagation) in reverse order:\n",
    "# first backprop through f = q * z\n",
    "dfdz = q # df/dz = q, so gradient on z becomes 3\n",
    "dfdq = z # df/dq = z, so gradient on q becomes -4\n",
    "# now backprop through q = x + y\n",
    "dfdx = 1.0 * dfdq # dq/dx = 1. And the multiplication here is the chain rule!\n",
    "dfdy = 1.0 * dfdq # dq/dy = 1\n",
    "\n",
    "dfdx, dfdy"
   ]
  },
  {
   "cell_type": "markdown",
   "metadata": {
    "id": "kt9JIcVZ3CuU"
   },
   "source": [
    "Pytorch สามารถทำ `Backward Pass` ให้เราโดยอัตโนมัติด้วยฟังชั่น Autograd โดยที่เราไม่ต้องคิด partial derivative เอง ผลข้างเคียงอีกอย่างคือเราสามารถใช้ Pytorch ช่วยทำการบ้านวิชาแคลคูลัสเวลาเราหา derivative ที่ยากเกินไปไม่ออกได้อีกด้วย"
   ]
  },
  {
   "cell_type": "code",
   "execution_count": 30,
   "metadata": {
    "colab": {
     "base_uri": "https://localhost:8080/"
    },
    "id": "SWg90ZHApoj6",
    "outputId": "96fde65e-54bc-43c4-a8e1-e4217f5441c1"
   },
   "outputs": [
    {
     "data": {
      "text/plain": [
       "tensor([ 3.,  4., 10.], requires_grad=True)"
      ]
     },
     "execution_count": 30,
     "metadata": {},
     "output_type": "execute_result"
    }
   ],
   "source": [
    "xt = torch.tensor([3.,4.,10.]).requires_grad_()\n",
    "xt"
   ]
  },
  {
   "cell_type": "code",
   "execution_count": 31,
   "metadata": {
    "colab": {
     "base_uri": "https://localhost:8080/"
    },
    "id": "WpM1Q5nApoj6",
    "outputId": "f969c1d9-e911-4bf7-9622-2bf843b63be3"
   },
   "outputs": [
    {
     "data": {
      "text/plain": [
       "tensor(125., grad_fn=<SumBackward0>)"
      ]
     },
     "execution_count": 31,
     "metadata": {},
     "output_type": "execute_result"
    }
   ],
   "source": [
    "#ฟังชั่น f(x) = (x1^2 + x2^2 +...+xn^2)\n",
    "def f(x): return (x**2).sum()\n",
    "\n",
    "yt = f(xt) #ใส่ 3, 4, 10 เข้าไปได้ 3^2+4^2+10^2 = 125\n",
    "yt"
   ]
  },
  {
   "cell_type": "code",
   "execution_count": 32,
   "metadata": {
    "colab": {
     "base_uri": "https://localhost:8080/"
    },
    "id": "POJB2ewmpoj6",
    "outputId": "de1feba8-9f02-4654-8622-11a1b4b30b51"
   },
   "outputs": [
    {
     "data": {
      "text/plain": [
       "tensor([ 6.,  8., 20.])"
      ]
     },
     "execution_count": 32,
     "metadata": {},
     "output_type": "execute_result"
    }
   ],
   "source": [
    "#ถ้าคิดด้วยมือ df(x)/dx = 2x \n",
    "#สำหรับ x1=3, x2=4, x3=10 ก็จะเป็น \n",
    "#df(x1)/dx1 = 6, df(x2)/dx2 = 8, df(x3)/dx3 = 20\n",
    "\n",
    "#ใช้ autograd หา df(x1)/dx1, df(x2)/dx2, df(x3)/dx3\n",
    "yt.backward()\n",
    "xt.grad"
   ]
  },
  {
   "cell_type": "markdown",
   "metadata": {
    "id": "mHHqwvz2poj_"
   },
   "source": [
    "## สร้าง Loss Function สำหรับจำแนกรูปเลข 3 และเลข 7"
   ]
  },
  {
   "cell_type": "markdown",
   "metadata": {
    "id": "U0EQ6WD4zEf0"
   },
   "source": [
    "#### สร้าง X และ y"
   ]
  },
  {
   "cell_type": "markdown",
   "metadata": {
    "id": "t2aoyhac4ZrI"
   },
   "source": [
    "จัดการ `Inputs` คือรูปตัวเลข 28x28 pixels และ `Labels` คือ `1 ถ้าเป็นเลข 3` และ `0 ถ้าเป็นเลข 7`"
   ]
  },
  {
   "cell_type": "code",
   "execution_count": 33,
   "metadata": {
    "id": "-4LTBmPcpoj_"
   },
   "outputs": [],
   "source": [
    "train_x = torch.cat([stacked_threes, stacked_sevens]).view(-1, 28*28)"
   ]
  },
  {
   "cell_type": "code",
   "execution_count": 34,
   "metadata": {
    "colab": {
     "base_uri": "https://localhost:8080/"
    },
    "id": "Q5bU0JpipokA",
    "outputId": "fa8b6406-e3a7-4721-fef1-218c6e38fbf7"
   },
   "outputs": [
    {
     "data": {
      "text/plain": [
       "(torch.Size([12396, 784]), torch.Size([12396, 1]))"
      ]
     },
     "execution_count": 34,
     "metadata": {},
     "output_type": "execute_result"
    }
   ],
   "source": [
    "train_y = tensor([1]*len(threes) + [0]*len(sevens)).unsqueeze(1)\n",
    "train_x.shape,train_y.shape"
   ]
  },
  {
   "cell_type": "code",
   "execution_count": 35,
   "metadata": {
    "colab": {
     "base_uri": "https://localhost:8080/"
    },
    "id": "rkavLIe1IcmD",
    "outputId": "10446b01-f0b3-470d-cdcd-fb1752c76a8e"
   },
   "outputs": [
    {
     "data": {
      "text/plain": [
       "[(1, 4), (2, 5), (3, 6)]"
      ]
     },
     "execution_count": 35,
     "metadata": {},
     "output_type": "execute_result"
    }
   ],
   "source": [
    "#เราสามารถนำ iterables สองอันมาต่อกันแบบนี้ได้ด้วย zip\n",
    "a = [1,2,3]\n",
    "b = [4,5,6]\n",
    "list(zip(a,b))"
   ]
  },
  {
   "cell_type": "code",
   "execution_count": 36,
   "metadata": {
    "colab": {
     "base_uri": "https://localhost:8080/"
    },
    "id": "08BIemoApokA",
    "outputId": "1ed03c6d-72af-4ff9-cb58-11251e7790e6"
   },
   "outputs": [
    {
     "data": {
      "text/plain": [
       "(torch.Size([784]), torch.Size([1]))"
      ]
     },
     "execution_count": 36,
     "metadata": {},
     "output_type": "execute_result"
    }
   ],
   "source": [
    "dset = list(zip(train_x,train_y))\n",
    "example = dset[0]\n",
    "\n",
    "#คู่ Inputs　และ Labels\n",
    "example[0].shape, example[1].shape"
   ]
  },
  {
   "cell_type": "code",
   "execution_count": 37,
   "metadata": {
    "id": "Y6ImID5ApokA"
   },
   "outputs": [],
   "source": [
    "#สร้าง validation set ในแบบเดียวกัน\n",
    "valid_3_tens = torch.stack([tensor(Image.open(o)) \n",
    "                            for o in (path/'valid'/'3').ls()])\n",
    "valid_3_tens = valid_3_tens.float()/255\n",
    "valid_7_tens = torch.stack([tensor(Image.open(o)) \n",
    "                            for o in (path/'valid'/'7').ls()])\n",
    "valid_7_tens = valid_7_tens.float()/255\n",
    "\n",
    "valid_x = torch.cat([valid_3_tens, valid_7_tens]).view(-1, 28*28)\n",
    "valid_y = tensor([1]*len(valid_3_tens) + [0]*len(valid_7_tens)).unsqueeze(1)\n",
    "valid_dset = list(zip(valid_x,valid_y))"
   ]
  },
  {
   "cell_type": "markdown",
   "metadata": {
    "id": "RR1v1Z2tzHmo"
   },
   "source": [
    "#### Initiate `Weights`"
   ]
  },
  {
   "cell_type": "markdown",
   "metadata": {
    "id": "7slIAUaOI0_d"
   },
   "source": [
    "สมมุติว่าเราจะใช้ architecture สุดเรียบง่าย แค่คูณค่า pixels ของรูป `Inputs` ด้วย `W` และบวกด้วย `b`\n",
    "\n",
    "$$prediction = \\Sigma(xW^T) + b$$\n",
    "\n",
    "เราสามารถเริ่มตั้ง `Weights` เป็นการ random จาก standard normal distribution"
   ]
  },
  {
   "cell_type": "code",
   "execution_count": 62,
   "metadata": {
    "id": "WQ9vpYHIpokA"
   },
   "outputs": [],
   "source": [
    "def init_params(size, std=1.0): return (torch.randn(size)*std).requires_grad_()"
   ]
  },
  {
   "cell_type": "code",
   "execution_count": 88,
   "metadata": {
    "colab": {
     "base_uri": "https://localhost:8080/"
    },
    "id": "itXv1TZ9pokA",
    "outputId": "50f3e5d0-626e-4633-a395-92a02991d36f"
   },
   "outputs": [
    {
     "data": {
      "text/plain": [
       "torch.Size([784, 1])"
      ]
     },
     "execution_count": 88,
     "metadata": {},
     "output_type": "execute_result"
    }
   ],
   "source": [
    "#Inputs มี dimension (batch_size, 28*28)\n",
    "#เพราะงั้นถ้าเราจะคูณรายตัว (element-wise multiplication) ด้วย W^T, W ต้องมี dimension (28*28,1)\n",
    "weights = init_params((28*28,1))\n",
    "weights.shape"
   ]
  },
  {
   "cell_type": "code",
   "execution_count": 103,
   "metadata": {
    "colab": {
     "base_uri": "https://localhost:8080/"
    },
    "id": "7Ef5fK0KpokA",
    "outputId": "767be632-37cc-4583-b733-0d8c382d6ffb"
   },
   "outputs": [
    {
     "data": {
      "text/plain": [
       "tensor([0.6971], requires_grad=True)"
      ]
     },
     "execution_count": 103,
     "metadata": {},
     "output_type": "execute_result"
    }
   ],
   "source": [
    "#bias มีแค่ (1) dimension แล้วจะถูก broadcast ไปทุก dimension ของ batch size เอง\n",
    "# (1) -> (batch_size,1)\n",
    "bias = init_params(1)\n",
    "bias"
   ]
  },
  {
   "cell_type": "code",
   "execution_count": 104,
   "metadata": {
    "colab": {
     "base_uri": "https://localhost:8080/"
    },
    "id": "pnMvUz7kFoIU",
    "outputId": "903243e1-5149-4c37-c02c-554d8a5fe665"
   },
   "outputs": [
    {
     "data": {
      "text/plain": [
       "(torch.Size([784, 1]),\n",
       " torch.Size([1]),\n",
       " torch.Size([12396, 784]),\n",
       " torch.Size([784]))"
      ]
     },
     "execution_count": 104,
     "metadata": {},
     "output_type": "execute_result"
    }
   ],
   "source": [
    "weights.shape, bias.shape, train_x.shape, train_x[7].shape"
   ]
  },
  {
   "cell_type": "markdown",
   "metadata": {
    "id": "KXK2LAZqzLYk"
   },
   "source": [
    "#### Forward Pass"
   ]
  },
  {
   "cell_type": "code",
   "execution_count": 105,
   "metadata": {
    "colab": {
     "base_uri": "https://localhost:8080/"
    },
    "id": "S9md33qTEu6n",
    "outputId": "4b257356-e622-40c9-ea2c-aac1966e4fcb"
   },
   "outputs": [
    {
     "data": {
      "text/plain": [
       "tensor([[0.5587]], grad_fn=<AddBackward0>)"
      ]
     },
     "execution_count": 105,
     "metadata": {},
     "output_type": "execute_result"
    }
   ],
   "source": [
    "#คำนวณ forward pass สำหรับตัวอย่าง 7\n",
    "(train_x[7]*weights.T).sum(1)[:,None] + bias"
   ]
  },
  {
   "cell_type": "code",
   "execution_count": 106,
   "metadata": {
    "colab": {
     "base_uri": "https://localhost:8080/"
    },
    "id": "22qYPEQDEwjC",
    "outputId": "a4b12d0c-c2fa-435b-ae26-611940166c7e"
   },
   "outputs": [
    {
     "data": {
      "text/plain": [
       "tensor([[ 7.6066],\n",
       "        [22.2802],\n",
       "        [ 9.7072],\n",
       "        ...,\n",
       "        [ 8.1622],\n",
       "        [ 9.2091],\n",
       "        [-0.7656]], grad_fn=<AddBackward0>)"
      ]
     },
     "execution_count": 106,
     "metadata": {},
     "output_type": "execute_result"
    }
   ],
   "source": [
    "#คำนวณ forward pass สำหรับทุกตัวอย่าง\n",
    "(train_x*weights.T).sum(1)[:,None] + bias"
   ]
  },
  {
   "cell_type": "code",
   "execution_count": 107,
   "metadata": {
    "colab": {
     "base_uri": "https://localhost:8080/"
    },
    "id": "I65On42BpokB",
    "outputId": "3c2f1528-6aae-4999-ee30-c086090ea535"
   },
   "outputs": [
    {
     "data": {
      "text/plain": [
       "tensor([[ 7.6066],\n",
       "        [22.2802],\n",
       "        [ 9.7072],\n",
       "        ...,\n",
       "        [ 8.1622],\n",
       "        [ 9.2091],\n",
       "        [-0.7656]], grad_fn=<AddBackward0>)"
      ]
     },
     "execution_count": 107,
     "metadata": {},
     "output_type": "execute_result"
    }
   ],
   "source": [
    "#เขียนเป็นฟังชั่น; @ คือ matrix multiplication ใน pytorch\n",
    "def linear1(xb): return xb@weights + bias\n",
    "preds = linear1(train_x)\n",
    "preds"
   ]
  },
  {
   "cell_type": "markdown",
   "metadata": {
    "id": "XJKeTmrPzOr3"
   },
   "source": [
    "#### Metric ใช้ Accuracy"
   ]
  },
  {
   "cell_type": "code",
   "execution_count": 111,
   "metadata": {
    "colab": {
     "base_uri": "https://localhost:8080/"
    },
    "id": "SLnbggPopokB",
    "outputId": "e41a9fc7-78f5-4d9e-f46d-b9e08a62eaf9"
   },
   "outputs": [
    {
     "data": {
      "text/plain": [
       "tensor([[ True],\n",
       "        [ True],\n",
       "        [ True],\n",
       "        ...,\n",
       "        [False],\n",
       "        [False],\n",
       "        [ True]])"
      ]
     },
     "execution_count": 111,
     "metadata": {},
     "output_type": "execute_result"
    }
   ],
   "source": [
    "#ถ้าสมมุติว่า Predictions >0 ให้ทายเป็น 1 (เลข 3)\n",
    "corrects = (preds>0.0).float() == train_y\n",
    "corrects"
   ]
  },
  {
   "cell_type": "code",
   "execution_count": 112,
   "metadata": {
    "colab": {
     "base_uri": "https://localhost:8080/"
    },
    "id": "5DVZlAVzJqbV",
    "outputId": "60c481ad-1b1b-40a8-e74c-0fff4962eda5"
   },
   "outputs": [
    {
     "data": {
      "text/plain": [
       "Counter({0.0: 647, 1.0: 11749})"
      ]
     },
     "execution_count": 112,
     "metadata": {},
     "output_type": "execute_result"
    }
   ],
   "source": [
    "from collections import Counter\n",
    "Counter((preds>0.0).float().numpy()[:,0])"
   ]
  },
  {
   "cell_type": "code",
   "execution_count": 115,
   "metadata": {
    "colab": {
     "base_uri": "https://localhost:8080/"
    },
    "id": "CiSVOFonpokB",
    "outputId": "8a2b8106-f5f1-4b7f-dab9-4dae99c5bf88"
   },
   "outputs": [
    {
     "data": {
      "text/plain": [
       "0.5121006965637207"
      ]
     },
     "execution_count": 115,
     "metadata": {},
     "output_type": "execute_result"
    }
   ],
   "source": [
    "#จะเห็นได้ว่ามันถูกเครื่องๆ (เพราะเราเดาสุ่มด้วย weights ที่สุ่มมา)\n",
    "corrects.float().mean().item()"
   ]
  },
  {
   "cell_type": "code",
   "execution_count": 116,
   "metadata": {
    "id": "RwkizTBqpokC"
   },
   "outputs": [],
   "source": [
    "#ถ้าเราเปลี่ยน weights เล็กน้อย\n",
    "with torch.no_grad():\n",
    "    weights *= 5.0001\n",
    "    bias+=10"
   ]
  },
  {
   "cell_type": "code",
   "execution_count": 118,
   "metadata": {
    "colab": {
     "base_uri": "https://localhost:8080/"
    },
    "id": "d5Kv_vFrpokC",
    "outputId": "11814646-8f8b-44ed-eb89-9a6deed931ef"
   },
   "outputs": [
    {
     "data": {
      "text/plain": [
       "0.5012907385826111"
      ]
     },
     "execution_count": 118,
     "metadata": {},
     "output_type": "execute_result"
    }
   ],
   "source": [
    "#ความแม่นยำก็เปลี่ยนนิดนึง\n",
    "preds = linear1(train_x)\n",
    "((preds>0.0).float() == train_y).float().mean().item()"
   ]
  },
  {
   "cell_type": "markdown",
   "metadata": {
    "id": "PTOZYvLRy-Vz"
   },
   "source": [
    "#### Loss Function อย่างง่าย"
   ]
  },
  {
   "cell_type": "code",
   "execution_count": 120,
   "metadata": {
    "id": "w7wVT8TjpokC"
   },
   "outputs": [],
   "source": [
    "trgts  = tensor([1,0,1])\n",
    "prds   = tensor([0.9, 0.4, 0.2])"
   ]
  },
  {
   "cell_type": "code",
   "execution_count": 121,
   "metadata": {
    "id": "9HgV5HQppokC"
   },
   "outputs": [],
   "source": [
    "#loss function ที่จะเป็นจะเป็น Predictions ของ class ที่ผิด\n",
    "#เพราะงั้นยิ่งทาย class ที่ผิดแบบมั่นใจมาก Loss ก็จะยิ่งสูง\n",
    "def mnist_loss(predictions, targets):\n",
    "    return torch.where(targets==1, 1-predictions, predictions).mean()"
   ]
  },
  {
   "cell_type": "code",
   "execution_count": 122,
   "metadata": {
    "colab": {
     "base_uri": "https://localhost:8080/"
    },
    "id": "5xGnIzeHpokC",
    "outputId": "f6f63235-c18f-4fb3-ce36-ecb7a1b332d0"
   },
   "outputs": [
    {
     "data": {
      "text/plain": [
       "tensor([0.1000, 0.4000, 0.8000])"
      ]
     },
     "execution_count": 122,
     "metadata": {},
     "output_type": "execute_result"
    }
   ],
   "source": [
    "#if target == 1, loss is how far it is from 1\n",
    "#if target == 0, loss is how far it is from 0\n",
    "torch.where(trgts==1, 1-prds, prds)"
   ]
  },
  {
   "cell_type": "code",
   "execution_count": 123,
   "metadata": {
    "colab": {
     "base_uri": "https://localhost:8080/"
    },
    "id": "dhQH45dYpokC",
    "outputId": "6eb43351-b5a6-4092-b7ac-ccc2ad266ce3"
   },
   "outputs": [
    {
     "data": {
      "text/plain": [
       "tensor(0.4333)"
      ]
     },
     "execution_count": 123,
     "metadata": {},
     "output_type": "execute_result"
    }
   ],
   "source": [
    "mnist_loss(prds,trgts)"
   ]
  },
  {
   "cell_type": "code",
   "execution_count": 125,
   "metadata": {
    "colab": {
     "base_uri": "https://localhost:8080/"
    },
    "id": "uiUjD7aJpokD",
    "outputId": "63c11348-6649-4688-f672-032837dbd862"
   },
   "outputs": [
    {
     "data": {
      "text/plain": [
       "tensor(0.2333)"
      ]
     },
     "execution_count": 125,
     "metadata": {},
     "output_type": "execute_result"
    }
   ],
   "source": [
    "#ถ้าทายแม่นขึ้น loss ก็ลดลง\n",
    "mnist_loss(tensor([0.9, 0.4, 0.8]), trgts)"
   ]
  },
  {
   "cell_type": "markdown",
   "metadata": {
    "id": "dqsrmegupokD"
   },
   "source": [
    "### Activation Function - Sigmoid"
   ]
  },
  {
   "cell_type": "markdown",
   "metadata": {
    "id": "-0DXOc8w0YeU"
   },
   "source": [
    "ปัญหาอย่างนึงของเราตอนนี้คือโมเดลเราให้ค่า `Predictions` เป็นจำนวนจริง แต่ `Loss Function` ของเราต้องการค่าระหว่าง 0 ถึง 1 เราจึงใช้ `Activation Function` ที่ชื่อ Sigmoid เพื่อเปลี่ยนให้ตัวเลขอยู่ระหว่าง 0 ถึง 1\n",
    "\n",
    "`Activation Function` นั้นมีมากมายหลายประเภท ที่นิยมใช้ เช่น [ReLU](https://en.wikipedia.org/wiki/Rectifier_(neural_networks))(x) - ฟังชั่นที่บอกว่าถ้าน้อยกว่า 0 ให้เป็น นอกนั้นเป็น x, [tanh](https://mathworld.wolfram.com/HyperbolicTangent.html)(x) - ฟังชั่นที่เปลี่ยนค่าจำนวนจริงให้อยู่ระหว่าง -1 และ 1 เป็นต้น อ่านเพิ่มเกี่ยวกับ [Activation Functions](https://en.wikipedia.org/wiki/Activation_function)"
   ]
  },
  {
   "cell_type": "code",
   "execution_count": 126,
   "metadata": {
    "id": "sQIUTk5ZpokD"
   },
   "outputs": [],
   "source": [
    "def sigmoid(x): return 1/(1+torch.exp(-x))"
   ]
  },
  {
   "cell_type": "code",
   "execution_count": 127,
   "metadata": {
    "colab": {
     "base_uri": "https://localhost:8080/",
     "height": 340
    },
    "id": "TY9tdedYpokD",
    "outputId": "966a16d1-0eb5-42b7-d056-08c80a35909a"
   },
   "outputs": [
    {
     "name": "stderr",
     "output_type": "stream",
     "text": [
      "/usr/local/lib/python3.7/dist-packages/fastbook/__init__.py:74: UserWarning: Not providing a value for linspace's steps is deprecated and will throw a runtime error in a future release. This warning will appear only once per process. (Triggered internally at  ../aten/src/ATen/native/RangeFactories.cpp:23.)\n",
      "  x = torch.linspace(min,max)\n"
     ]
    },
    {
     "data": {
      "image/png": "[encoded data removed]",
      "text/plain": [
       "<Figure size 432x288 with 1 Axes>"
      ]
     },
     "metadata": {
      "needs_background": "light"
     },
     "output_type": "display_data"
    }
   ],
   "source": [
    "plot_function(torch.sigmoid, title='Sigmoid', min=-4, max=4)"
   ]
  },
  {
   "cell_type": "code",
   "execution_count": 129,
   "metadata": {
    "id": "htbxxyxlpokD"
   },
   "outputs": [],
   "source": [
    "def mnist_loss(predictions, targets):\n",
    "    predictions = predictions.sigmoid() #ใส่ sigmoid ไป; pytorch tensor มี built-in function ให้แล้ว\n",
    "    return torch.where(targets==1, 1-predictions, predictions).mean()"
   ]
  },
  {
   "cell_type": "markdown",
   "metadata": {
    "id": "UUxkL3_2pokD"
   },
   "source": [
    "### SGD and Mini-Batches"
   ]
  },
  {
   "cell_type": "markdown",
   "metadata": {
    "id": "rxCnTrNRInAz"
   },
   "source": [
    "หลายครั้งข้อมูลทั้งชุดของเราใหญ่เกินไปที่จะใส่เข้าไปใน memory ของเครื่อง เราจึงต้องใส่เข้าไปทีละ batch ด้วย `DataLoader`"
   ]
  },
  {
   "cell_type": "code",
   "execution_count": 132,
   "metadata": {
    "colab": {
     "base_uri": "https://localhost:8080/"
    },
    "id": "2-twSiAspokD",
    "outputId": "f22c96c8-2188-4b31-c97a-2eccb24f46c7"
   },
   "outputs": [
    {
     "data": {
      "text/plain": [
       "[tensor([ 8,  9,  5, 11,  4]),\n",
       " tensor([ 7, 13, 14,  2,  3]),\n",
       " tensor([ 6, 12, 10,  1,  0])]"
      ]
     },
     "execution_count": 132,
     "metadata": {},
     "output_type": "execute_result"
    }
   ],
   "source": [
    "#ทดลองใช้ Dataloader สุ่มตัวเลขจาก 0-14; batch ละ 5 ตัวอย่าง; ให้สุ่มด้วย\n",
    "coll = range(15)\n",
    "dl = DataLoader(coll, batch_size=5, shuffle=True)\n",
    "list(dl)"
   ]
  },
  {
   "cell_type": "code",
   "execution_count": 133,
   "metadata": {
    "colab": {
     "base_uri": "https://localhost:8080/"
    },
    "id": "7W43iIU_pokE",
    "outputId": "8cedff83-1aa4-458d-b8e2-0372eb1520d5"
   },
   "outputs": [
    {
     "data": {
      "text/plain": [
       "(#26) [(0, 'a'),(1, 'b'),(2, 'c'),(3, 'd'),(4, 'e'),(5, 'f'),(6, 'g'),(7, 'h'),(8, 'i'),(9, 'j')...]"
      ]
     },
     "execution_count": 133,
     "metadata": {},
     "output_type": "execute_result"
    }
   ],
   "source": [
    "#สมมุติเรามี DataSet　แบบนี้\n",
    "ds = L(enumerate(string.ascii_lowercase))\n",
    "ds"
   ]
  },
  {
   "cell_type": "code",
   "execution_count": 134,
   "metadata": {
    "colab": {
     "base_uri": "https://localhost:8080/"
    },
    "id": "GOccHc_rpokE",
    "outputId": "f9664233-48a4-4f7d-f5ef-5be94f04a9de"
   },
   "outputs": [
    {
     "data": {
      "text/plain": [
       "[(tensor([19, 14,  0, 24, 20, 12]), ('t', 'o', 'a', 'y', 'u', 'm')),\n",
       " (tensor([23,  8,  9,  3, 16,  6]), ('x', 'i', 'j', 'd', 'q', 'g')),\n",
       " (tensor([ 4,  7,  1, 13,  2, 22]), ('e', 'h', 'b', 'n', 'c', 'w')),\n",
       " (tensor([ 5, 17, 18, 10, 11, 15]), ('f', 'r', 's', 'k', 'l', 'p')),\n",
       " (tensor([25, 21]), ('z', 'v'))]"
      ]
     },
     "execution_count": 134,
     "metadata": {},
     "output_type": "execute_result"
    }
   ],
   "source": [
    "#ก็ใส่เข้าไปใน dataloader ได้เช่นกัน\n",
    "dl = DataLoader(ds, batch_size=6, shuffle=True)\n",
    "list(dl)"
   ]
  },
  {
   "cell_type": "markdown",
   "metadata": {
    "id": "tvWlUYU8pokE"
   },
   "source": [
    "## Putting It All Together"
   ]
  },
  {
   "cell_type": "markdown",
   "metadata": {
    "id": "fjUk_EOS0deu"
   },
   "source": [
    "#### Initialize weights"
   ]
  },
  {
   "cell_type": "code",
   "execution_count": 186,
   "metadata": {
    "id": "lK9dlPP4pokE"
   },
   "outputs": [],
   "source": [
    "weights = init_params((28*28,1))\n",
    "bias = init_params(1)"
   ]
  },
  {
   "cell_type": "markdown",
   "metadata": {
    "id": "L4ejZTDi0fds"
   },
   "source": [
    "#### Initialize dataloader"
   ]
  },
  {
   "cell_type": "code",
   "execution_count": 169,
   "metadata": {
    "colab": {
     "base_uri": "https://localhost:8080/"
    },
    "id": "XesYQeEUpokE",
    "outputId": "fc6aab3d-26af-4611-ea8d-bcb308310b41"
   },
   "outputs": [
    {
     "data": {
      "text/plain": [
       "(torch.Size([256, 784]), torch.Size([256, 1]))"
      ]
     },
     "execution_count": 169,
     "metadata": {},
     "output_type": "execute_result"
    }
   ],
   "source": [
    "#สร้าง dataloader สำหรับ train\n",
    "dl = DataLoader(dset, batch_size=256, shuffle=True)\n",
    "xb,yb = first(dl)\n",
    "xb.shape,yb.shape"
   ]
  },
  {
   "cell_type": "code",
   "execution_count": 170,
   "metadata": {
    "id": "hlw0qizVpokE"
   },
   "outputs": [],
   "source": [
    "#เราจะไม่ shuffle validation set\n",
    "valid_dl = DataLoader(valid_dset, batch_size=256, shuffle=False)"
   ]
  },
  {
   "cell_type": "code",
   "execution_count": 171,
   "metadata": {
    "colab": {
     "base_uri": "https://localhost:8080/"
    },
    "id": "opSgyb70pokF",
    "outputId": "eac98990-8410-46e5-8356-68c03c412118"
   },
   "outputs": [
    {
     "data": {
      "text/plain": [
       "torch.Size([4, 784])"
      ]
     },
     "execution_count": 171,
     "metadata": {},
     "output_type": "execute_result"
    }
   ],
   "source": [
    "#(batch size, 28*28)\n",
    "batch = train_x[:4]\n",
    "batch.shape"
   ]
  },
  {
   "cell_type": "markdown",
   "metadata": {
    "id": "d_OZXa2l0iwq"
   },
   "source": [
    "#### Forward pass"
   ]
  },
  {
   "cell_type": "code",
   "execution_count": 196,
   "metadata": {
    "colab": {
     "base_uri": "https://localhost:8080/"
    },
    "id": "IQ5eVzE5pokF",
    "outputId": "91143405-c419-41be-ffa8-1f485be9b9ef"
   },
   "outputs": [
    {
     "data": {
      "text/plain": [
       "torch.Size([256, 1])"
      ]
     },
     "execution_count": 196,
     "metadata": {},
     "output_type": "execute_result"
    }
   ],
   "source": [
    "def linear1(xb): return xb@weights + bias\n",
    "preds = linear1(xb)\n",
    "preds.shape"
   ]
  },
  {
   "cell_type": "markdown",
   "metadata": {
    "id": "P0dawUHM0kpf"
   },
   "source": [
    "#### Calculate loss"
   ]
  },
  {
   "cell_type": "code",
   "execution_count": 197,
   "metadata": {
    "colab": {
     "base_uri": "https://localhost:8080/"
    },
    "id": "_zK9HJE7pokF",
    "outputId": "84527bdf-28f4-4a64-86a5-17ad6c3c08ec"
   },
   "outputs": [
    {
     "data": {
      "text/plain": [
       "tensor(0.2793, grad_fn=<MeanBackward0>)"
      ]
     },
     "execution_count": 197,
     "metadata": {},
     "output_type": "execute_result"
    }
   ],
   "source": [
    "def mnist_loss(predictions, targets):\n",
    "    predictions = predictions.sigmoid()\n",
    "    return torch.where(targets==1, 1-predictions, predictions).mean()\n",
    "loss = mnist_loss(preds, xb)\n",
    "loss"
   ]
  },
  {
   "cell_type": "markdown",
   "metadata": {
    "id": "tMIHxJcw0mW5"
   },
   "source": [
    "#### Backward pass - get gradients and update weights"
   ]
  },
  {
   "cell_type": "code",
   "execution_count": 198,
   "metadata": {
    "colab": {
     "base_uri": "https://localhost:8080/"
    },
    "id": "lMdSQrorpokF",
    "outputId": "30ef9ce3-f371-434e-8598-f81970ce1cbf"
   },
   "outputs": [
    {
     "data": {
      "text/plain": [
       "(torch.Size([784, 1]), tensor(0.0098), tensor([0.0854]))"
      ]
     },
     "execution_count": 198,
     "metadata": {},
     "output_type": "execute_result"
    }
   ],
   "source": [
    "loss.backward()\n",
    "weights.grad.shape,weights.grad.mean(), bias.grad"
   ]
  },
  {
   "cell_type": "code",
   "execution_count": 199,
   "metadata": {
    "id": "K4x5HLp4pokF"
   },
   "outputs": [],
   "source": [
    "#คำนวณ gradient ด้วย .backward()\n",
    "def calc_grad(xb, yb, model):\n",
    "    preds = model(xb)\n",
    "    loss = mnist_loss(preds, yb)\n",
    "    loss.backward()"
   ]
  },
  {
   "cell_type": "code",
   "execution_count": 217,
   "metadata": {
    "colab": {
     "base_uri": "https://localhost:8080/"
    },
    "id": "CZzqYNtgpokF",
    "outputId": "433c868f-f1d4-449f-a127-7187ec620785"
   },
   "outputs": [
    {
     "data": {
      "text/plain": [
       "(tensor(-3.8863e-05), tensor([-0.0003]))"
      ]
     },
     "execution_count": 217,
     "metadata": {},
     "output_type": "execute_result"
    }
   ],
   "source": [
    "calc_grad(batch, train_y[:4], linear1)\n",
    "weights.grad.mean(),bias.grad"
   ]
  },
  {
   "cell_type": "code",
   "execution_count": 218,
   "metadata": {
    "colab": {
     "base_uri": "https://localhost:8080/"
    },
    "id": "R5yY7Az-pokF",
    "outputId": "ffe44369-ddd7-42fe-f61d-37ed1101133f"
   },
   "outputs": [
    {
     "data": {
      "text/plain": [
       "(tensor(-4.2396e-05), tensor([-0.0003]))"
      ]
     },
     "execution_count": 218,
     "metadata": {},
     "output_type": "execute_result"
    }
   ],
   "source": [
    "calc_grad(batch, train_y[:4], linear1)\n",
    "weights.grad.mean(),bias.grad"
   ]
  },
  {
   "cell_type": "code",
   "execution_count": 219,
   "metadata": {
    "id": "R-Bzu26wpokG"
   },
   "outputs": [],
   "source": [
    "#เราจำเป็นต้อง reset gradients เพื่อไม่ให้มันบวกเพิ่มขึ้นเรือ่ยๆ\n",
    "weights.grad.zero_();\n",
    "bias.grad.zero_();"
   ]
  },
  {
   "cell_type": "code",
   "execution_count": 232,
   "metadata": {
    "id": "gKkqYbaqpokG"
   },
   "outputs": [],
   "source": [
    "#เทรน 1 epoch\n",
    "def train_epoch(model, lr, params):\n",
    "    #โยนทุก batch ให้โมเดลที่ละ batch จนหมด\n",
    "    for xb,yb in dl:\n",
    "        #คำนวน loss และ gradients\n",
    "        calc_grad(xb, yb, model)\n",
    "        #เปลี่ยน weights ด้วย gradient * learning rate (lr)\n",
    "        for p in params:\n",
    "            p.data -= p.grad*lr\n",
    "            p.grad.zero_()"
   ]
  },
  {
   "cell_type": "code",
   "execution_count": 233,
   "metadata": {
    "colab": {
     "base_uri": "https://localhost:8080/"
    },
    "id": "2XWh1J1ppokG",
    "outputId": "5d18d3ee-0fa7-4394-f366-86a8f68351a2"
   },
   "outputs": [
    {
     "data": {
      "text/plain": [
       "tensor(0.3438)"
      ]
     },
     "execution_count": 233,
     "metadata": {},
     "output_type": "execute_result"
    }
   ],
   "source": [
    "#คิด accuracy\n",
    "((preds>0.0).float() == yb).float().mean()"
   ]
  },
  {
   "cell_type": "markdown",
   "metadata": {
    "id": "4ZfrHoey0w2z"
   },
   "source": [
    "###  Calculate metric (accuracy in this case)"
   ]
  },
  {
   "cell_type": "code",
   "execution_count": 234,
   "metadata": {
    "id": "5QPI55L4pokG"
   },
   "outputs": [],
   "source": [
    "def batch_accuracy(xb, yb):\n",
    "    preds = xb.sigmoid()\n",
    "    correct = (preds>0.5) == yb\n",
    "    return correct.float().mean()"
   ]
  },
  {
   "cell_type": "code",
   "execution_count": 235,
   "metadata": {
    "colab": {
     "base_uri": "https://localhost:8080/"
    },
    "id": "8UVCx6RApokG",
    "outputId": "29839e53-a855-4967-b6f1-e4edc8d51571"
   },
   "outputs": [
    {
     "data": {
      "text/plain": [
       "tensor(0.)"
      ]
     },
     "execution_count": 235,
     "metadata": {},
     "output_type": "execute_result"
    }
   ],
   "source": [
    "batch_accuracy(linear1(batch), train_y[:4])"
   ]
  },
  {
   "cell_type": "code",
   "execution_count": 236,
   "metadata": {
    "id": "GbJQiOgIpokG"
   },
   "outputs": [],
   "source": [
    "#ทำการ validate ด้วย validation set\n",
    "def validate_epoch(model):\n",
    "    accs = [batch_accuracy(model(xb), yb) for xb,yb in valid_dl]\n",
    "    return round(torch.stack(accs).mean().item(), 4)"
   ]
  },
  {
   "cell_type": "code",
   "execution_count": 237,
   "metadata": {
    "colab": {
     "base_uri": "https://localhost:8080/"
    },
    "id": "txrLkdJQpokH",
    "outputId": "83acd8ad-c9dd-4852-d105-fe35af5c3f3b"
   },
   "outputs": [
    {
     "data": {
      "text/plain": [
       "0.3447"
      ]
     },
     "execution_count": 237,
     "metadata": {},
     "output_type": "execute_result"
    }
   ],
   "source": [
    "validate_epoch(linear1)"
   ]
  },
  {
   "cell_type": "code",
   "execution_count": 238,
   "metadata": {
    "colab": {
     "base_uri": "https://localhost:8080/"
    },
    "id": "HRIapIkfpokH",
    "outputId": "f26dd6f4-c57f-481a-dcc1-b8199c3803ad"
   },
   "outputs": [
    {
     "data": {
      "text/plain": [
       "0.714"
      ]
     },
     "execution_count": 238,
     "metadata": {},
     "output_type": "execute_result"
    }
   ],
   "source": [
    "#เทรนไป 1 epoch; accuracy เพิ่มเกือบเท่าตัว!\n",
    "lr = 1.\n",
    "\n",
    "params = weights, bias\n",
    "train_epoch(linear1, lr, params)\n",
    "validate_epoch(linear1)"
   ]
  },
  {
   "cell_type": "code",
   "execution_count": 239,
   "metadata": {
    "colab": {
     "base_uri": "https://localhost:8080/"
    },
    "id": "hvBUTwULpokH",
    "outputId": "20f9b9df-8efb-4ead-baee-9e644f908d79"
   },
   "outputs": [
    {
     "name": "stdout",
     "output_type": "stream",
     "text": [
      "0.9068 0.9328 0.947 0.9569 0.9603 0.9618 0.9613 0.9627 0.9642 0.9677 0.9686 0.9696 0.9701 0.9706 0.972 0.972 0.973 0.973 0.9735 0.974 "
     ]
    }
   ],
   "source": [
    "#เทรนไป 20 epoch; ทายถูกเกือบหมด\n",
    "for i in range(20):\n",
    "    train_epoch(linear1, lr, params)\n",
    "    print(validate_epoch(linear1), end=' ')"
   ]
  },
  {
   "cell_type": "markdown",
   "metadata": {
    "id": "uVt65caepokH"
   },
   "source": [
    "### Optimizer as a class"
   ]
  },
  {
   "cell_type": "markdown",
   "metadata": {
    "id": "gyvY33oqMdZk"
   },
   "source": [
    "หลายครั้งเรารวบรวมหน้าที่การ update weights มาเป็น class ชื่อ optimizer"
   ]
  },
  {
   "cell_type": "code",
   "execution_count": 240,
   "metadata": {
    "colab": {
     "base_uri": "https://localhost:8080/"
    },
    "id": "ETZ0sdlXpokH",
    "outputId": "5be434b1-64b6-4080-de5b-51216745e07b"
   },
   "outputs": [
    {
     "data": {
      "text/plain": [
       "Linear(in_features=784, out_features=1, bias=True)"
      ]
     },
     "execution_count": 240,
     "metadata": {},
     "output_type": "execute_result"
    }
   ],
   "source": [
    "#nn.Linear ก็คือฟังชั่นที่ x*W.T + b เราเขียนเมื่อกี้เลย\n",
    "linear_model = nn.Linear(28*28,1, bias=True)\n",
    "linear_model"
   ]
  },
  {
   "cell_type": "code",
   "execution_count": 242,
   "metadata": {
    "colab": {
     "base_uri": "https://localhost:8080/"
    },
    "id": "Op_9VxfipokH",
    "outputId": "6096f6bb-ffd3-4f4b-8c6b-46412d73cd1a"
   },
   "outputs": [
    {
     "data": {
      "text/plain": [
       "(torch.Size([1, 784]), torch.Size([1]))"
      ]
     },
     "execution_count": 242,
     "metadata": {},
     "output_type": "execute_result"
    }
   ],
   "source": [
    "w,b = linear_model.parameters()\n",
    "w.shape,b.shape"
   ]
  },
  {
   "cell_type": "code",
   "execution_count": 243,
   "metadata": {
    "id": "HDPzEqO-pokI"
   },
   "outputs": [],
   "source": [
    "#optimizer　แบบง่ายที่สุด\n",
    "class BasicOptim:\n",
    "    def __init__(self,params,lr): \n",
    "        self.params,self.lr = list(params),lr\n",
    "\n",
    "    #step ทำการ update weights\n",
    "    def step(self, *args, **kwargs):\n",
    "        for p in self.params: p.data -= p.grad.data * self.lr\n",
    "\n",
    "    #zero grad เพื่อทำการรีเซต gradients\n",
    "    def zero_grad(self, *args, **kwargs):\n",
    "        for p in self.params: p.grad = None"
   ]
  },
  {
   "cell_type": "code",
   "execution_count": 244,
   "metadata": {
    "id": "UIAhC389pokI"
   },
   "outputs": [],
   "source": [
    "opt = BasicOptim(linear_model.parameters(), lr)"
   ]
  },
  {
   "cell_type": "code",
   "execution_count": 245,
   "metadata": {
    "id": "zNokDJCupokI"
   },
   "outputs": [],
   "source": [
    "def train_epoch(model):\n",
    "    for xb,yb in dl:\n",
    "        calc_grad(xb, yb, model)\n",
    "        #เปลี่ยนโค้ดเป็น optimizer แทน\n",
    "        opt.step()\n",
    "        opt.zero_grad()"
   ]
  },
  {
   "cell_type": "code",
   "execution_count": 246,
   "metadata": {
    "colab": {
     "base_uri": "https://localhost:8080/"
    },
    "id": "pUr7KQecpokI",
    "outputId": "0515d9ee-847a-497e-8f13-20fe853d9548"
   },
   "outputs": [
    {
     "data": {
      "text/plain": [
       "0.3604"
      ]
     },
     "execution_count": 246,
     "metadata": {},
     "output_type": "execute_result"
    }
   ],
   "source": [
    "validate_epoch(linear_model)"
   ]
  },
  {
   "cell_type": "code",
   "execution_count": 247,
   "metadata": {
    "id": "wQptVRJfpokI"
   },
   "outputs": [],
   "source": [
    "def train_model(model, epochs):\n",
    "    for i in range(epochs):\n",
    "        train_epoch(model)\n",
    "        print(validate_epoch(model), end=' ')"
   ]
  },
  {
   "cell_type": "code",
   "execution_count": 248,
   "metadata": {
    "colab": {
     "base_uri": "https://localhost:8080/"
    },
    "id": "kRbgjPURpokI",
    "outputId": "e95b776d-8a7c-46e5-b56e-b596a5237fce"
   },
   "outputs": [
    {
     "name": "stdout",
     "output_type": "stream",
     "text": [
      "0.9702 0.9745 0.9765 0.9785 0.9794 0.9789 0.9789 0.9799 0.9794 0.9799 0.9809 0.9809 0.9814 0.9819 0.9819 0.9819 0.9824 0.9819 0.9829 0.9829 "
     ]
    }
   ],
   "source": [
    "#ได้ผลดีเหมือนเดิม\n",
    "train_model(linear_model, 20)"
   ]
  },
  {
   "cell_type": "markdown",
   "metadata": {
    "id": "rBjvWLYwNII8"
   },
   "source": [
    "## ทำงานง่ายขึ้นด้วย PyTorch"
   ]
  },
  {
   "cell_type": "markdown",
   "metadata": {
    "id": "60qaqoMbNMA4"
   },
   "source": [
    "Pytorch ได้ทำการเปลี่ยนฟังชั่นและ class ต่างๆที่เราใช้งานเป็นฟังชั่นพื้นฐานของ package ให้เราเรียกใช้ได้"
   ]
  },
  {
   "cell_type": "code",
   "execution_count": 249,
   "metadata": {
    "colab": {
     "base_uri": "https://localhost:8080/"
    },
    "id": "DY1kWv7lpokI",
    "outputId": "1da51068-8204-48d0-b3cb-10136c208ec5"
   },
   "outputs": [
    {
     "name": "stdout",
     "output_type": "stream",
     "text": [
      "0.9696 0.9741 0.976 0.977 0.977 0.978 0.9775 0.9789 0.9794 0.9799 0.9804 0.9794 0.9794 0.9804 0.9804 0.9799 0.9799 0.9814 0.9809 0.9804 "
     ]
    }
   ],
   "source": [
    "linear_model = nn.Linear(28*28,1,bias=False) #เหมือนกับ init_weights และการคูณ matrix ที่เราเพิ่งทำไป\n",
    "opt = SGD(linear_model.parameters(), lr) #เหมือนกับ BasicOptim ที่เราเพิ่งทำไป\n",
    "\n",
    "#เทรนโมเดลได้ผลดีเหมือนเดิม\n",
    "train_model(linear_model, 20)"
   ]
  },
  {
   "cell_type": "markdown",
   "metadata": {
    "id": "6ctjZxC3Nxi8"
   },
   "source": [
    "## ใช้ fastai ให้สะดวกยิ่งขึ้น"
   ]
  },
  {
   "cell_type": "code",
   "execution_count": 250,
   "metadata": {
    "id": "jtzVcFkxpokJ"
   },
   "outputs": [],
   "source": [
    "dls = DataLoaders(dl, valid_dl)\n",
    "#รวมทุกอย่างเข้าด้วยกันด้วย class Learner\n",
    "learn = Learner(dls, nn.Linear(28*28,1), opt_func=SGD,\n",
    "                loss_func=mnist_loss, metrics=batch_accuracy)"
   ]
  },
  {
   "cell_type": "code",
   "execution_count": 251,
   "metadata": {
    "colab": {
     "base_uri": "https://localhost:8080/",
     "height": 676
    },
    "id": "0WcORvumpokJ",
    "outputId": "e0988105-59a7-4c16-9d8a-466003017eb5"
   },
   "outputs": [
    {
     "data": {
      "text/html": [
       "\n",
       "<style>\n",
       "    /* Turns off some styling */\n",
       "    progress {\n",
       "        /* gets rid of default border in Firefox and Opera. */\n",
       "        border: none;\n",
       "        /* Needs to be in here for Safari polyfill so background images work as expected. */\n",
       "        background-size: auto;\n",
       "    }\n",
       "    .progress-bar-interrupted, .progress-bar-interrupted::-webkit-progress-bar {\n",
       "        background: #F44336;\n",
       "    }\n",
       "</style>\n"
      ],
      "text/plain": [
       "<IPython.core.display.HTML object>"
      ]
     },
     "metadata": {},
     "output_type": "display_data"
    },
    {
     "data": {
      "text/html": [
       "<table border=\"1\" class=\"dataframe\">\n",
       "  <thead>\n",
       "    <tr style=\"text-align: left;\">\n",
       "      <th>epoch</th>\n",
       "      <th>train_loss</th>\n",
       "      <th>valid_loss</th>\n",
       "      <th>batch_accuracy</th>\n",
       "      <th>time</th>\n",
       "    </tr>\n",
       "  </thead>\n",
       "  <tbody>\n",
       "    <tr>\n",
       "      <td>0</td>\n",
       "      <td>0.057238</td>\n",
       "      <td>0.041364</td>\n",
       "      <td>0.970559</td>\n",
       "      <td>00:00</td>\n",
       "    </tr>\n",
       "    <tr>\n",
       "      <td>1</td>\n",
       "      <td>0.040398</td>\n",
       "      <td>0.034219</td>\n",
       "      <td>0.975466</td>\n",
       "      <td>00:00</td>\n",
       "    </tr>\n",
       "    <tr>\n",
       "      <td>2</td>\n",
       "      <td>0.031890</td>\n",
       "      <td>0.031548</td>\n",
       "      <td>0.975957</td>\n",
       "      <td>00:00</td>\n",
       "    </tr>\n",
       "    <tr>\n",
       "      <td>3</td>\n",
       "      <td>0.027781</td>\n",
       "      <td>0.029428</td>\n",
       "      <td>0.977429</td>\n",
       "      <td>00:00</td>\n",
       "    </tr>\n",
       "    <tr>\n",
       "      <td>4</td>\n",
       "      <td>0.025407</td>\n",
       "      <td>0.028166</td>\n",
       "      <td>0.977920</td>\n",
       "      <td>00:00</td>\n",
       "    </tr>\n",
       "    <tr>\n",
       "      <td>5</td>\n",
       "      <td>0.023545</td>\n",
       "      <td>0.026728</td>\n",
       "      <td>0.979392</td>\n",
       "      <td>00:00</td>\n",
       "    </tr>\n",
       "    <tr>\n",
       "      <td>6</td>\n",
       "      <td>0.022274</td>\n",
       "      <td>0.026164</td>\n",
       "      <td>0.978410</td>\n",
       "      <td>00:00</td>\n",
       "    </tr>\n",
       "    <tr>\n",
       "      <td>7</td>\n",
       "      <td>0.021285</td>\n",
       "      <td>0.025303</td>\n",
       "      <td>0.979392</td>\n",
       "      <td>00:00</td>\n",
       "    </tr>\n",
       "    <tr>\n",
       "      <td>8</td>\n",
       "      <td>0.020478</td>\n",
       "      <td>0.024779</td>\n",
       "      <td>0.978901</td>\n",
       "      <td>00:00</td>\n",
       "    </tr>\n",
       "    <tr>\n",
       "      <td>9</td>\n",
       "      <td>0.019747</td>\n",
       "      <td>0.024561</td>\n",
       "      <td>0.980373</td>\n",
       "      <td>00:00</td>\n",
       "    </tr>\n",
       "    <tr>\n",
       "      <td>10</td>\n",
       "      <td>0.019739</td>\n",
       "      <td>0.024287</td>\n",
       "      <td>0.980373</td>\n",
       "      <td>00:00</td>\n",
       "    </tr>\n",
       "    <tr>\n",
       "      <td>11</td>\n",
       "      <td>0.019199</td>\n",
       "      <td>0.023361</td>\n",
       "      <td>0.979882</td>\n",
       "      <td>00:00</td>\n",
       "    </tr>\n",
       "    <tr>\n",
       "      <td>12</td>\n",
       "      <td>0.018602</td>\n",
       "      <td>0.022802</td>\n",
       "      <td>0.980864</td>\n",
       "      <td>00:00</td>\n",
       "    </tr>\n",
       "    <tr>\n",
       "      <td>13</td>\n",
       "      <td>0.018049</td>\n",
       "      <td>0.022669</td>\n",
       "      <td>0.980864</td>\n",
       "      <td>00:00</td>\n",
       "    </tr>\n",
       "    <tr>\n",
       "      <td>14</td>\n",
       "      <td>0.017765</td>\n",
       "      <td>0.022454</td>\n",
       "      <td>0.981845</td>\n",
       "      <td>00:00</td>\n",
       "    </tr>\n",
       "    <tr>\n",
       "      <td>15</td>\n",
       "      <td>0.017472</td>\n",
       "      <td>0.022046</td>\n",
       "      <td>0.981354</td>\n",
       "      <td>00:00</td>\n",
       "    </tr>\n",
       "    <tr>\n",
       "      <td>16</td>\n",
       "      <td>0.017703</td>\n",
       "      <td>0.022397</td>\n",
       "      <td>0.981354</td>\n",
       "      <td>00:00</td>\n",
       "    </tr>\n",
       "    <tr>\n",
       "      <td>17</td>\n",
       "      <td>0.017360</td>\n",
       "      <td>0.021773</td>\n",
       "      <td>0.982336</td>\n",
       "      <td>00:00</td>\n",
       "    </tr>\n",
       "    <tr>\n",
       "      <td>18</td>\n",
       "      <td>0.016990</td>\n",
       "      <td>0.021565</td>\n",
       "      <td>0.982336</td>\n",
       "      <td>00:00</td>\n",
       "    </tr>\n",
       "    <tr>\n",
       "      <td>19</td>\n",
       "      <td>0.016655</td>\n",
       "      <td>0.021336</td>\n",
       "      <td>0.981845</td>\n",
       "      <td>00:00</td>\n",
       "    </tr>\n",
       "  </tbody>\n",
       "</table>"
      ],
      "text/plain": [
       "<IPython.core.display.HTML object>"
      ]
     },
     "metadata": {},
     "output_type": "display_data"
    }
   ],
   "source": [
    "learn.fit(20, lr=lr)"
   ]
  },
  {
   "cell_type": "markdown",
   "metadata": {
    "id": "H_UoKZ24pokJ"
   },
   "source": [
    "## สร้าง Architecture ที่ Deep ขึ้น"
   ]
  },
  {
   "cell_type": "code",
   "execution_count": 252,
   "metadata": {
    "id": "4s1EGNszpokK"
   },
   "outputs": [],
   "source": [
    "#แทนที่จะทำ matrix multipilcation + bias ครั้งเดียว เราใส่ ReLU activation ไปเพิ่ม\n",
    "def simple_net(xb): \n",
    "    res = xb@w1 + b1\n",
    "    res = res.max(tensor(0.0)) #นี่คือ relu\n",
    "    res = res@w2 + b2 #แล้วทำ matrix multiplication + bias อีกรอบ\n",
    "    return res"
   ]
  },
  {
   "cell_type": "code",
   "execution_count": 253,
   "metadata": {
    "id": "bKDW0LWlpokK"
   },
   "outputs": [],
   "source": [
    "w1 = init_params((28*28,30))\n",
    "b1 = init_params(30)\n",
    "w2 = init_params((30,1))\n",
    "b2 = init_params(1)"
   ]
  },
  {
   "cell_type": "code",
   "execution_count": 254,
   "metadata": {
    "colab": {
     "base_uri": "https://localhost:8080/",
     "height": 268
    },
    "id": "Fza6OpHHpokK",
    "outputId": "55ede7e1-b109-4bd7-ba79-bdb62f172b02"
   },
   "outputs": [
    {
     "data": {
      "image/png": "[encoded data removed]",
      "text/plain": [
       "<Figure size 432x288 with 1 Axes>"
      ]
     },
     "metadata": {
      "needs_background": "light"
     },
     "output_type": "display_data"
    }
   ],
   "source": [
    "plot_function(F.relu)"
   ]
  },
  {
   "cell_type": "code",
   "execution_count": 255,
   "metadata": {
    "id": "QyuXxFphpokK"
   },
   "outputs": [],
   "source": [
    "#แน่นอนว่าอ่านง่ายกว่าถ้าใช้ pytorch แทนที่จะเขียนฟังชั่นเอง\n",
    "simple_net = nn.Sequential(\n",
    "    nn.Linear(28*28,30),\n",
    "    nn.ReLU(),\n",
    "    nn.Linear(30,1)\n",
    ")"
   ]
  },
  {
   "cell_type": "code",
   "execution_count": 256,
   "metadata": {
    "id": "94urzFOSpokK"
   },
   "outputs": [],
   "source": [
    "learn = Learner(dls, simple_net, opt_func=SGD,\n",
    "                loss_func=mnist_loss, metrics=batch_accuracy)"
   ]
  },
  {
   "cell_type": "code",
   "execution_count": 257,
   "metadata": {
    "colab": {
     "base_uri": "https://localhost:8080/",
     "height": 1000
    },
    "id": "Z8WM5ImkpokK",
    "outputId": "4773537c-6e5c-410a-e839-14181e3a192d"
   },
   "outputs": [
    {
     "data": {
      "text/html": [
       "\n",
       "<style>\n",
       "    /* Turns off some styling */\n",
       "    progress {\n",
       "        /* gets rid of default border in Firefox and Opera. */\n",
       "        border: none;\n",
       "        /* Needs to be in here for Safari polyfill so background images work as expected. */\n",
       "        background-size: auto;\n",
       "    }\n",
       "    .progress-bar-interrupted, .progress-bar-interrupted::-webkit-progress-bar {\n",
       "        background: #F44336;\n",
       "    }\n",
       "</style>\n"
      ],
      "text/plain": [
       "<IPython.core.display.HTML object>"
      ]
     },
     "metadata": {},
     "output_type": "display_data"
    },
    {
     "data": {
      "text/html": [
       "<table border=\"1\" class=\"dataframe\">\n",
       "  <thead>\n",
       "    <tr style=\"text-align: left;\">\n",
       "      <th>epoch</th>\n",
       "      <th>train_loss</th>\n",
       "      <th>valid_loss</th>\n",
       "      <th>batch_accuracy</th>\n",
       "      <th>time</th>\n",
       "    </tr>\n",
       "  </thead>\n",
       "  <tbody>\n",
       "    <tr>\n",
       "      <td>0</td>\n",
       "      <td>0.201971</td>\n",
       "      <td>0.084863</td>\n",
       "      <td>0.964671</td>\n",
       "      <td>00:00</td>\n",
       "    </tr>\n",
       "    <tr>\n",
       "      <td>1</td>\n",
       "      <td>0.099862</td>\n",
       "      <td>0.053445</td>\n",
       "      <td>0.967125</td>\n",
       "      <td>00:00</td>\n",
       "    </tr>\n",
       "    <tr>\n",
       "      <td>2</td>\n",
       "      <td>0.063457</td>\n",
       "      <td>0.044292</td>\n",
       "      <td>0.970069</td>\n",
       "      <td>00:00</td>\n",
       "    </tr>\n",
       "    <tr>\n",
       "      <td>3</td>\n",
       "      <td>0.046691</td>\n",
       "      <td>0.039799</td>\n",
       "      <td>0.970559</td>\n",
       "      <td>00:00</td>\n",
       "    </tr>\n",
       "    <tr>\n",
       "      <td>4</td>\n",
       "      <td>0.038784</td>\n",
       "      <td>0.036757</td>\n",
       "      <td>0.972522</td>\n",
       "      <td>00:00</td>\n",
       "    </tr>\n",
       "    <tr>\n",
       "      <td>5</td>\n",
       "      <td>0.033928</td>\n",
       "      <td>0.034791</td>\n",
       "      <td>0.972522</td>\n",
       "      <td>00:00</td>\n",
       "    </tr>\n",
       "    <tr>\n",
       "      <td>6</td>\n",
       "      <td>0.030335</td>\n",
       "      <td>0.033378</td>\n",
       "      <td>0.973013</td>\n",
       "      <td>00:00</td>\n",
       "    </tr>\n",
       "    <tr>\n",
       "      <td>7</td>\n",
       "      <td>0.028198</td>\n",
       "      <td>0.031829</td>\n",
       "      <td>0.975466</td>\n",
       "      <td>00:00</td>\n",
       "    </tr>\n",
       "    <tr>\n",
       "      <td>8</td>\n",
       "      <td>0.026769</td>\n",
       "      <td>0.030901</td>\n",
       "      <td>0.974975</td>\n",
       "      <td>00:00</td>\n",
       "    </tr>\n",
       "    <tr>\n",
       "      <td>9</td>\n",
       "      <td>0.025149</td>\n",
       "      <td>0.030088</td>\n",
       "      <td>0.974975</td>\n",
       "      <td>00:00</td>\n",
       "    </tr>\n",
       "    <tr>\n",
       "      <td>10</td>\n",
       "      <td>0.024689</td>\n",
       "      <td>0.029290</td>\n",
       "      <td>0.975957</td>\n",
       "      <td>00:00</td>\n",
       "    </tr>\n",
       "    <tr>\n",
       "      <td>11</td>\n",
       "      <td>0.024279</td>\n",
       "      <td>0.028769</td>\n",
       "      <td>0.975466</td>\n",
       "      <td>00:00</td>\n",
       "    </tr>\n",
       "    <tr>\n",
       "      <td>12</td>\n",
       "      <td>0.023255</td>\n",
       "      <td>0.027909</td>\n",
       "      <td>0.976448</td>\n",
       "      <td>00:00</td>\n",
       "    </tr>\n",
       "    <tr>\n",
       "      <td>13</td>\n",
       "      <td>0.022221</td>\n",
       "      <td>0.027352</td>\n",
       "      <td>0.976448</td>\n",
       "      <td>00:00</td>\n",
       "    </tr>\n",
       "    <tr>\n",
       "      <td>14</td>\n",
       "      <td>0.021722</td>\n",
       "      <td>0.026784</td>\n",
       "      <td>0.976448</td>\n",
       "      <td>00:00</td>\n",
       "    </tr>\n",
       "    <tr>\n",
       "      <td>15</td>\n",
       "      <td>0.020742</td>\n",
       "      <td>0.026248</td>\n",
       "      <td>0.977429</td>\n",
       "      <td>00:00</td>\n",
       "    </tr>\n",
       "    <tr>\n",
       "      <td>16</td>\n",
       "      <td>0.020520</td>\n",
       "      <td>0.025757</td>\n",
       "      <td>0.978901</td>\n",
       "      <td>00:00</td>\n",
       "    </tr>\n",
       "    <tr>\n",
       "      <td>17</td>\n",
       "      <td>0.020088</td>\n",
       "      <td>0.025452</td>\n",
       "      <td>0.978410</td>\n",
       "      <td>00:00</td>\n",
       "    </tr>\n",
       "    <tr>\n",
       "      <td>18</td>\n",
       "      <td>0.019252</td>\n",
       "      <td>0.025185</td>\n",
       "      <td>0.978410</td>\n",
       "      <td>00:00</td>\n",
       "    </tr>\n",
       "    <tr>\n",
       "      <td>19</td>\n",
       "      <td>0.019314</td>\n",
       "      <td>0.025037</td>\n",
       "      <td>0.978901</td>\n",
       "      <td>00:00</td>\n",
       "    </tr>\n",
       "    <tr>\n",
       "      <td>20</td>\n",
       "      <td>0.019119</td>\n",
       "      <td>0.024581</td>\n",
       "      <td>0.978410</td>\n",
       "      <td>00:00</td>\n",
       "    </tr>\n",
       "    <tr>\n",
       "      <td>21</td>\n",
       "      <td>0.018715</td>\n",
       "      <td>0.024080</td>\n",
       "      <td>0.978410</td>\n",
       "      <td>00:00</td>\n",
       "    </tr>\n",
       "    <tr>\n",
       "      <td>22</td>\n",
       "      <td>0.018939</td>\n",
       "      <td>0.023808</td>\n",
       "      <td>0.978410</td>\n",
       "      <td>00:00</td>\n",
       "    </tr>\n",
       "    <tr>\n",
       "      <td>23</td>\n",
       "      <td>0.018436</td>\n",
       "      <td>0.023563</td>\n",
       "      <td>0.978410</td>\n",
       "      <td>00:00</td>\n",
       "    </tr>\n",
       "    <tr>\n",
       "      <td>24</td>\n",
       "      <td>0.018533</td>\n",
       "      <td>0.023074</td>\n",
       "      <td>0.978901</td>\n",
       "      <td>00:00</td>\n",
       "    </tr>\n",
       "    <tr>\n",
       "      <td>25</td>\n",
       "      <td>0.018065</td>\n",
       "      <td>0.023019</td>\n",
       "      <td>0.979882</td>\n",
       "      <td>00:00</td>\n",
       "    </tr>\n",
       "    <tr>\n",
       "      <td>26</td>\n",
       "      <td>0.017894</td>\n",
       "      <td>0.022776</td>\n",
       "      <td>0.979882</td>\n",
       "      <td>00:00</td>\n",
       "    </tr>\n",
       "    <tr>\n",
       "      <td>27</td>\n",
       "      <td>0.017287</td>\n",
       "      <td>0.022701</td>\n",
       "      <td>0.980864</td>\n",
       "      <td>00:00</td>\n",
       "    </tr>\n",
       "    <tr>\n",
       "      <td>28</td>\n",
       "      <td>0.017405</td>\n",
       "      <td>0.022514</td>\n",
       "      <td>0.981354</td>\n",
       "      <td>00:00</td>\n",
       "    </tr>\n",
       "    <tr>\n",
       "      <td>29</td>\n",
       "      <td>0.017315</td>\n",
       "      <td>0.022108</td>\n",
       "      <td>0.980864</td>\n",
       "      <td>00:00</td>\n",
       "    </tr>\n",
       "    <tr>\n",
       "      <td>30</td>\n",
       "      <td>0.016765</td>\n",
       "      <td>0.022043</td>\n",
       "      <td>0.981354</td>\n",
       "      <td>00:00</td>\n",
       "    </tr>\n",
       "    <tr>\n",
       "      <td>31</td>\n",
       "      <td>0.016790</td>\n",
       "      <td>0.021832</td>\n",
       "      <td>0.981354</td>\n",
       "      <td>00:00</td>\n",
       "    </tr>\n",
       "    <tr>\n",
       "      <td>32</td>\n",
       "      <td>0.016587</td>\n",
       "      <td>0.021730</td>\n",
       "      <td>0.981845</td>\n",
       "      <td>00:00</td>\n",
       "    </tr>\n",
       "    <tr>\n",
       "      <td>33</td>\n",
       "      <td>0.015950</td>\n",
       "      <td>0.021304</td>\n",
       "      <td>0.981354</td>\n",
       "      <td>00:00</td>\n",
       "    </tr>\n",
       "    <tr>\n",
       "      <td>34</td>\n",
       "      <td>0.015897</td>\n",
       "      <td>0.021351</td>\n",
       "      <td>0.982336</td>\n",
       "      <td>00:00</td>\n",
       "    </tr>\n",
       "    <tr>\n",
       "      <td>35</td>\n",
       "      <td>0.016121</td>\n",
       "      <td>0.021057</td>\n",
       "      <td>0.981845</td>\n",
       "      <td>00:00</td>\n",
       "    </tr>\n",
       "    <tr>\n",
       "      <td>36</td>\n",
       "      <td>0.016024</td>\n",
       "      <td>0.020962</td>\n",
       "      <td>0.981845</td>\n",
       "      <td>00:00</td>\n",
       "    </tr>\n",
       "    <tr>\n",
       "      <td>37</td>\n",
       "      <td>0.015987</td>\n",
       "      <td>0.020956</td>\n",
       "      <td>0.982336</td>\n",
       "      <td>00:00</td>\n",
       "    </tr>\n",
       "    <tr>\n",
       "      <td>38</td>\n",
       "      <td>0.015544</td>\n",
       "      <td>0.020772</td>\n",
       "      <td>0.982336</td>\n",
       "      <td>00:00</td>\n",
       "    </tr>\n",
       "    <tr>\n",
       "      <td>39</td>\n",
       "      <td>0.015544</td>\n",
       "      <td>0.020369</td>\n",
       "      <td>0.982336</td>\n",
       "      <td>00:00</td>\n",
       "    </tr>\n",
       "  </tbody>\n",
       "</table>"
      ],
      "text/plain": [
       "<IPython.core.display.HTML object>"
      ]
     },
     "metadata": {},
     "output_type": "display_data"
    }
   ],
   "source": [
    "learn.fit(40, 0.1)"
   ]
  },
  {
   "cell_type": "code",
   "execution_count": 258,
   "metadata": {
    "colab": {
     "base_uri": "https://localhost:8080/",
     "height": 268
    },
    "id": "Q0d__m-FpokL",
    "outputId": "846b03cf-5b37-45f8-ef7b-cbe4691e0b7a"
   },
   "outputs": [
    {
     "data": {
      "image/png": "[encoded data removed]",
      "text/plain": [
       "<Figure size 432x288 with 1 Axes>"
      ]
     },
     "metadata": {
      "needs_background": "light"
     },
     "output_type": "display_data"
    }
   ],
   "source": [
    "#ดู accuracy เพิ่มขึ้นเรื่อยๆ\n",
    "plt.plot(L(learn.recorder.values).itemgot(2));"
   ]
  },
  {
   "cell_type": "code",
   "execution_count": 259,
   "metadata": {
    "colab": {
     "base_uri": "https://localhost:8080/"
    },
    "id": "-pnmg5QqpokL",
    "outputId": "91382f1d-566d-4cfb-82d9-70e7696a4498"
   },
   "outputs": [
    {
     "data": {
      "text/plain": [
       "0.98233562707901"
      ]
     },
     "execution_count": 259,
     "metadata": {},
     "output_type": "execute_result"
    }
   ],
   "source": [
    "learn.recorder.values[-1][2]"
   ]
  },
  {
   "cell_type": "markdown",
   "metadata": {
    "id": "fQQNpNZ-pokL"
   },
   "source": [
    "## ไปให้ Deep กว่านั้นอีก"
   ]
  },
  {
   "cell_type": "markdown",
   "metadata": {
    "id": "jq3YclVaOjCk"
   },
   "source": [
    "แทนที่เราจะใช้ Architecture ง่ายๆที่เราคิดขึ้นเอง เรามาลองใช้ Architecture ที่ซับซ้อนขึ้นอย่าง `resnet18` กัน"
   ]
  },
  {
   "cell_type": "code",
   "execution_count": 260,
   "metadata": {
    "colab": {
     "base_uri": "https://localhost:8080/",
     "height": 80
    },
    "id": "LB3qg01jpokL",
    "outputId": "93503072-abe0-4fb1-a2d0-ff79af9e72fa"
   },
   "outputs": [
    {
     "data": {
      "text/html": [
       "\n",
       "<style>\n",
       "    /* Turns off some styling */\n",
       "    progress {\n",
       "        /* gets rid of default border in Firefox and Opera. */\n",
       "        border: none;\n",
       "        /* Needs to be in here for Safari polyfill so background images work as expected. */\n",
       "        background-size: auto;\n",
       "    }\n",
       "    .progress-bar-interrupted, .progress-bar-interrupted::-webkit-progress-bar {\n",
       "        background: #F44336;\n",
       "    }\n",
       "</style>\n"
      ],
      "text/plain": [
       "<IPython.core.display.HTML object>"
      ]
     },
     "metadata": {},
     "output_type": "display_data"
    },
    {
     "data": {
      "text/html": [
       "<table border=\"1\" class=\"dataframe\">\n",
       "  <thead>\n",
       "    <tr style=\"text-align: left;\">\n",
       "      <th>epoch</th>\n",
       "      <th>train_loss</th>\n",
       "      <th>valid_loss</th>\n",
       "      <th>accuracy</th>\n",
       "      <th>time</th>\n",
       "    </tr>\n",
       "  </thead>\n",
       "  <tbody>\n",
       "    <tr>\n",
       "      <td>0</td>\n",
       "      <td>0.112140</td>\n",
       "      <td>0.021877</td>\n",
       "      <td>0.995093</td>\n",
       "      <td>00:31</td>\n",
       "    </tr>\n",
       "  </tbody>\n",
       "</table>"
      ],
      "text/plain": [
       "<IPython.core.display.HTML object>"
      ]
     },
     "metadata": {},
     "output_type": "display_data"
    }
   ],
   "source": [
    "dls = ImageDataLoaders.from_folder(path)\n",
    "learn = cnn_learner(dls, resnet18, pretrained=False,\n",
    "                    loss_func=F.cross_entropy, metrics=accuracy)\n",
    "\n",
    "#เทรนแค่ epoch เดียวก็ดีกว่าเทรน 20-40 epoch เมื่อกี้แล้ว\n",
    "learn.fit_one_cycle(1, 0.1)"
   ]
  },
  {
   "cell_type": "markdown",
   "metadata": {
    "id": "uxfYQcZfJEsN"
   },
   "source": [
    "# Checkpoint ท้ายบท"
   ]
  },
  {
   "cell_type": "markdown",
   "metadata": {
    "id": "wB1TBtie2VPG"
   },
   "source": [
    "### ☑️ ดูวิดีโอ [3Blue1Brown](https://www.youtube.com/watch?v=IHZwWFHWa-w) เกี่ยวกับ SGD (มีซับไทย)\n",
    "\n",
    "วิดีโอนี้จะอธิบายการทำงานของ SGD ใน Neural Networks ที่เราเรียนกันในบทที่ 1 และ 3 ด้วยกราฟฟิคที่สวยงาม ช่วยเพิ่มความเข้าใจได้มากยิ่งขึ้น\n",
    "\n",
    "Youtube Link: [https://www.youtube.com/watch?v=IHZwWFHWa-w](https://www.youtube.com/watch?v=IHZwWFHWa-w)"
   ]
  },
  {
   "cell_type": "markdown",
   "metadata": {
    "id": "4a0-VMv6Pau1"
   },
   "source": [
    "## คำถามชวนคิดเกี่ยวกับบทเรียน"
   ]
  },
  {
   "cell_type": "markdown",
   "metadata": {
    "id": "t_NIkQBMPgEh"
   },
   "source": [
    "1. เราได้เรียนรู้การทำงานเกือบทุกส่วนของ ML Models ในบทเรียนนี้ คุณคิดว่าสำหรับโครงงานของคุณ การปรับแต่งส่วนไหนของโมเดลจะทำให้ได้ผลดีเพิ่มขึ้นมากที่สุด\n",
    "\n",
    "2. คุณคิดว่าการ initialize weights มีผลต่อคุณภาพของโมเดลที่ถูกเทรนหรือไม่ หากไม่ใช้ weights แบบสุ่ม เราควรใช้ weights อะไรในการเริ่มเทรนโมเดล\n",
    "\n",
    "3. Loss กับ Metric ต่างกันอย่างไร ทำไมคุณคิดว่าเราถึงเทรนโมเดลเพื่อให้ได้ Loss ที่ดีที่สุด แต่กลับวัดผลมันด้วย Metric\n",
    "\n",
    "4. คุณคิดว่า `Activation Function` มีความสำคัญอย่างไรกับประสิทธิภาพของโมเดล ML เราควรเลือกใช้อันไหนในกรณีไหน\n",
    "\n",
    "5. คุณคิดว่าทำไม Architecture อย่าง resnet18 ถึงทำได้ดีกว่า Architecture ที่เราสร้างขึ้นมาเองง่ายๆ ทั้งที่เทรนแค่ 1 epoch เทียบกับที่เราเทรนถึง 20-40 epochs\n",
    "\n",
    "6. คุณคิดว่ามีการ update weights ที่ดีกว่าเอา gradients มาลบไปทีละ iteration อย่างที่เราทำหรือไม่ คิดว่าวิธีไหนบ้าง หรือเป็นไปได้ไหมที่เราจะเทรนโมเดลโดยไม่ใช้ backpropagation กล่าวคือ update weights โดยไม่ใช้ gradients\n",
    "\n",
    "\n",
    "\n",
    "\n"
   ]
  },
  {
   "cell_type": "markdown",
   "metadata": {
    "id": "HeM7xTrJPc8w"
   },
   "source": [
    "## สิ่งที่ควรเตรียมพร้อมสำหรับทำโครงงาน"
   ]
  },
  {
   "cell_type": "markdown",
   "metadata": {
    "id": "oPvpAnmLJGgU"
   },
   "source": [
    "### ☑️ ทบทวนระบบการให้คะแนนโครงงานให้เรียบร้อย\n",
    "\n",
    "AI Builders จะออกใบประกาศนียบัตรจบการศึกษาให้กับผู้เข้าร่วมโครงการที่ส่งโครงงานได้คะแนนอย่างน้อย 70 จาก 100 คะแนนตามเกณฑ์ต่อไปนี้เท่านั้น\n",
    "\n",
    "1. problem statement; เหตุผลในการแก้ปัญหาเชิงธุรกิจ/ชีวิตประจำวันด้วย machine learning - 15 คะแนน\n",
    "2. metrics and baselines; การให้เหตุผลเชื่อมโยงการแก้ปัญหากับตัวชี้วัดที่เลือก / การวัดผลเทียบกับวิธีแก้ปัญหาในปัจจุบัน - 15 คะแนน\n",
    "3. data collection and cleaning; การเก็บและทำความสะอาดข้อมูล - 15 คะแนน\n",
    "\n",
    "**วันนี้เราจะคิดถึง 2 ข้อนี้เป็นพิเศษ**\n",
    "\n",
    "**4. exploratory data analysis; การทำความเข้าใจข้อมูล - 20 คะแนน**\n",
    "\n",
    "**5. modeling, validation and error analysis; การทำโมเดล, ทดสอบโมเดล และวิเคราะห์ข้อผิดพลาดของโมเดล - 20 คะแนน**\n",
    "\n",
    "6. deployment; การนำโมเดลไปใช้แก้ปัญหาจริง - 15 คะแนน"
   ]
  },
  {
   "cell_type": "markdown",
   "metadata": {
    "id": "9u8rUq1uPSuE"
   },
   "source": [
    "### ☑️ เข้าใจชุดข้อมูล\n",
    "\n",
    "คุณรู้เกี่ยวกับ labels ที่คุณกำลังทำนายแค่ไหน \n",
    "* ถ้าเป็น classification มันมี labels กี่ประเภท (class) แต่ละตัวอย่างเป็นได้มากกว่าหนึ่งประเภท (multi-label) หรือได้แค่ประเภทเดียว (multi-class) \n",
    "* ถ้าเป็น regression แล้ว labels ของคุณกระจายตัวยังไง\n",
    "* คุณมีตัวอย่างพอในแต่ละ class ให้โมเดลเรียนรู้หรือเปล่า\n",
    "\n",
    "features ของคุณหน้าตาเป็นอย่างไร\n",
    "\n",
    "* ถ้าเป็นรูปภาพ เป็นรูปจากมุมมองเดียวหรือหลายมุมมอง ขนาดรูป-ความละเอียดเท่ากันไหม\n",
    "* ถ้าเป็นข้อความ การกระจายตัวของคำเป็นยังไง ทั้ง word count และ tfidf; คำที่เกิดบ่อยๆในแต่ละ labels คืออะไร\n",
    "* ถ้าเป็นข้อมูลตาราง การกระจายตัวของ feature ที่เป็นตัวเลข (numerical) และประเภท (categorical) เป็นอย่างไรบ้าง ลองหา correlation ระหว่าง features ด้วยกัน และ feature กับ labels ดูว่ามีอะไรน่าสนใจไหม\n",
    "\n"
   ]
  },
  {
   "cell_type": "markdown",
   "metadata": {
    "id": "xcPUWlA9JGio"
   },
   "source": [
    "### ☑️ เทรนโมเดลแรกให้จบจนเห็นผลลัพธ์เร็วที่สุดเท่าที่จะทำได้\n",
    "\n",
    "แน่นอนว่าการทำความสะอาดข้อมูลและการทำความเข้าใจข้อมูลเป็นสิ่งสำคัญ (คะแนนรวม 15+20=35) แต่วิธีที่ดีที่สุดที่จะรู้ว่าโมเดลของเราทำได้ดีแค่ไหนคือการลองเทรนไปเลยทั้งๆที่ไม่ต้องทำอะไรกับข้อมูลมาก หลังจากนั้นเราอาจจะมาไล่ดูข้อผิดพลาดของโมเดลเพื่อให้มีไอเดียในการจัดการข้อมูลและโมเดลต่อไปได้ \n",
    "\n",
    "คุณอาจจะคิดว่าการสร้าง ML model มีขั้นตอนแบบนี้:\n",
    "\n",
    "<img src=https://github.com/ai-builders/curriculum/raw/main/images/ml_what_you_think_it_is.png width=\"500px\">\n",
    "\n",
    "แต่จริงๆแล้วมันคือแบบนี้:\n",
    "\n",
    "<img src=https://github.com/ai-builders/curriculum/raw/main/images/ml_what_it_really_is.png width=\"500px\">\n",
    "\n",
    "เพราะฉะนั้นอย่ากลัวที่จะลองทำให้ครบขั้นตอนก่อนแล้วจึงย้อนกลับไปกลับมาเพื่อทำใหม่ให้ดียิ่งขึ้น"
   ]
  }
 ],
 "metadata": {
  "accelerator": "GPU",
  "colab": {
   "collapsed_sections": [],
   "name": "03_sgd_from_scratch.ipynb",
   "provenance": [],
   "toc_visible": true
  },
  "jupytext": {
   "split_at_heading": true
  },
  "kernelspec": {
   "display_name": "conda_amazonei_pytorch_latest_p36",
   "language": "python",
   "name": "conda_amazonei_pytorch_latest_p36"
  },
  "language_info": {
   "codemirror_mode": {
    "name": "ipython",
    "version": 3
   },
   "file_extension": ".py",
   "mimetype": "text/x-python",
   "name": "python",
   "nbconvert_exporter": "python",
   "pygments_lexer": "ipython3",
   "version": "3.6.13"
  }
 },
 "nbformat": 4,
 "nbformat_minor": 4
}
